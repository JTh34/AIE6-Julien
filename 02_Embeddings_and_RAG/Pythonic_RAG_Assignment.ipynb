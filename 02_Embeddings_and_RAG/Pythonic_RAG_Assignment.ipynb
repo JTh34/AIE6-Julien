{
 "cells": [
  {
   "cell_type": "markdown",
   "metadata": {
    "id": "lElF3o5PR6ys"
   },
   "source": [
    "# Your First RAG Application\n",
    "\n",
    "In this notebook, we'll walk you through each of the components that are involved in a simple RAG application.\n",
    "\n",
    "We won't be leveraging any fancy tools, just the OpenAI Python SDK, Numpy, and some classic Python.\n",
    "\n",
    "> NOTE: This was done with Python 3.11.4.\n",
    "\n",
    "> NOTE: There might be [compatibility issues](https://github.com/wandb/wandb/issues/7683) if you're on NVIDIA driver >552.44 As an interim solution - you can rollback your drivers to the 552.44."
   ]
  },
  {
   "cell_type": "markdown",
   "metadata": {
    "id": "5CtcL8P8R6yt"
   },
   "source": [
    "## Table of Contents:\n",
    "\n",
    "- Task 1: Imports and Utilities\n",
    "- Task 2: Documents\n",
    "- Task 3: Embeddings and Vectors\n",
    "- Task 4: Prompts\n",
    "- Task 5: Retrieval Augmented Generation\n",
    "  - 🚧 Activity #1: Augment RAG"
   ]
  },
  {
   "cell_type": "markdown",
   "metadata": {
    "id": "1Dz6GYilR6yt"
   },
   "source": [
    "Let's look at a rather complicated looking visual representation of a basic RAG application.\n",
    "\n",
    "<img src=\"https://i.imgur.com/vD8b016.png\" />"
   ]
  },
  {
   "cell_type": "markdown",
   "metadata": {
    "id": "PjmC0KFtR6yt"
   },
   "source": [
    "## Task 1: Imports and Utility\n",
    "\n",
    "We're just doing some imports and enabling `async` to work within the Jupyter environment here, nothing too crazy!"
   ]
  },
  {
   "cell_type": "code",
   "execution_count": 1,
   "metadata": {
    "id": "Z1dyrG4hR6yt"
   },
   "outputs": [],
   "source": [
    "from aimakerspace.text_utils import TextFileLoader, CharacterTextSplitter\n",
    "from aimakerspace.vectordatabase import VectorDatabase\n",
    "import asyncio"
   ]
  },
  {
   "cell_type": "code",
   "execution_count": 2,
   "metadata": {
    "id": "9OrFZRnER6yt"
   },
   "outputs": [],
   "source": [
    "import nest_asyncio\n",
    "nest_asyncio.apply()"
   ]
  },
  {
   "cell_type": "markdown",
   "metadata": {
    "id": "M0jGnpQsR6yu"
   },
   "source": [
    "## Task 2: Documents\n",
    "\n",
    "We'll be concerning ourselves with this part of the flow in the following section:\n",
    "\n",
    "<img src=\"https://i.imgur.com/jTm9gjk.png\" />"
   ]
  },
  {
   "cell_type": "markdown",
   "metadata": {
    "id": "-SFPWvRUR6yu"
   },
   "source": [
    "### Loading Source Documents\n",
    "\n",
    "So, first things first, we need some documents to work with.\n",
    "\n",
    "While we could work directly with the `.txt` files (or whatever file-types you wanted to extend this to) we can instead do some batch processing of those documents at the beginning in order to store them in a more machine compatible format.\n",
    "\n",
    "In this case, we're going to parse our text file into a single document in memory.\n",
    "\n",
    "Let's look at the relevant bits of the `TextFileLoader` class:\n",
    "\n",
    "```python\n",
    "def load_file(self):\n",
    "        with open(self.path, \"r\", encoding=self.encoding) as f:\n",
    "            self.documents.append(f.read())\n",
    "```\n",
    "\n",
    "We're simply loading the document using the built in `open` method, and storing that output in our `self.documents` list.\n",
    "\n",
    "> NOTE: We're using blogs from PMarca (Marc Andreessen) as our sample data. This data is largely irrelevant as we want to focus on the mechanisms of RAG, which includes out data's shape and quality - but not specifically what the contents of the data are. \n"
   ]
  },
  {
   "cell_type": "code",
   "execution_count": 3,
   "metadata": {
    "colab": {
     "base_uri": "https://localhost:8080/"
    },
    "id": "Ia2sUEuGR6yu",
    "outputId": "84937ecc-c35f-4c4a-a4ab-9da72625954c"
   },
   "outputs": [
    {
     "data": {
      "text/plain": [
       "1"
      ]
     },
     "execution_count": 3,
     "metadata": {},
     "output_type": "execute_result"
    }
   ],
   "source": [
    "text_loader = TextFileLoader(\"data/PMarcaBlogs.txt\")\n",
    "documents = text_loader.load_documents()\n",
    "len(documents)"
   ]
  },
  {
   "cell_type": "code",
   "execution_count": 4,
   "metadata": {
    "colab": {
     "base_uri": "https://localhost:8080/"
    },
    "id": "bV-tj5WFR6yu",
    "outputId": "674eb315-1ff3-4597-bcf5-38ece0a812ac"
   },
   "outputs": [
    {
     "name": "stdout",
     "output_type": "stream",
     "text": [
      "\n",
      "The Pmarca Blog Archives\n",
      "(select posts from 2007-2009)\n",
      "Marc Andreessen\n",
      "copyright: Andreessen Horow\n"
     ]
    }
   ],
   "source": [
    "print(documents[0][:100])"
   ]
  },
  {
   "cell_type": "markdown",
   "metadata": {
    "id": "nHlTvCzYR6yu"
   },
   "source": [
    "### Splitting Text Into Chunks\n",
    "\n",
    "As we can see, there is one massive document.\n",
    "\n",
    "We'll want to chunk the document into smaller parts so it's easier to pass the most relevant snippets to the LLM.\n",
    "\n",
    "There is no fixed way to split/chunk documents - and you'll need to rely on some intuition as well as knowing your data *very* well in order to build the most robust system.\n",
    "\n",
    "For this toy example, we'll just split blindly on length.\n",
    "\n",
    ">There's an opportunity to clear up some terminology here, for this course we will be stick to the following:\n",
    ">\n",
    ">- \"source documents\" : The `.txt`, `.pdf`, `.html`, ..., files that make up the files and information we start with in its raw format\n",
    ">- \"document(s)\" : single (or more) text object(s)\n",
    ">- \"corpus\" : the combination of all of our documents"
   ]
  },
  {
   "cell_type": "markdown",
   "metadata": {
    "id": "2G6Voc0jR6yv"
   },
   "source": [
    "As you can imagine (though it's not specifically true in this toy example) the idea of splitting documents is to break them into managable sized chunks that retain the most relevant local context."
   ]
  },
  {
   "cell_type": "code",
   "execution_count": 5,
   "metadata": {
    "colab": {
     "base_uri": "https://localhost:8080/"
    },
    "id": "UMC4tsEmR6yv",
    "outputId": "08689c0b-57cd-4040-942a-8193e997f5cb"
   },
   "outputs": [
    {
     "data": {
      "text/plain": [
       "373"
      ]
     },
     "execution_count": 5,
     "metadata": {},
     "output_type": "execute_result"
    }
   ],
   "source": [
    "text_splitter = CharacterTextSplitter()\n",
    "split_documents = text_splitter.split_texts(documents)\n",
    "len(split_documents)"
   ]
  },
  {
   "cell_type": "markdown",
   "metadata": {
    "id": "W2wKT0WLR6yv"
   },
   "source": [
    "Let's take a look at some of the documents we've managed to split."
   ]
  },
  {
   "cell_type": "code",
   "execution_count": 6,
   "metadata": {
    "colab": {
     "base_uri": "https://localhost:8080/"
    },
    "id": "vcYMwWJoR6yv",
    "outputId": "20d69876-feca-4826-b4be-32915276987a"
   },
   "outputs": [
    {
     "data": {
      "text/plain": [
       "['\\ufeff\\nThe Pmarca Blog Archives\\n(select posts from 2007-2009)\\nMarc Andreessen\\ncopyright: Andreessen Horowitz\\ncover design: Jessica Hagy\\nproduced using: Pressbooks\\nContents\\nTHE PMARCA GUIDE TO STARTUPS\\nPart 1: Why not to do a startup 2\\nPart 2: When the VCs say \"no\" 10\\nPart 3: \"But I don\\'t know any VCs!\" 18\\nPart 4: The only thing that matters 25\\nPart 5: The Moby Dick theory of big companies 33\\nPart 6: How much funding is too little? Too much? 41\\nPart 7: Why a startup\\'s initial business plan doesn\\'t\\nmatter that much\\n49\\nTHE PMARCA GUIDE TO HIRING\\nPart 8: Hiring, managing, promoting, and Dring\\nexecutives\\n54\\nPart 9: How to hire a professional CEO 68\\nHow to hire the best people you\\'ve ever worked\\nwith\\n69\\nTHE PMARCA GUIDE TO BIG COMPANIES\\nPart 1: Turnaround! 82\\nPart 2: Retaining great people 86\\nTHE PMARCA GUIDE TO CAREER, PRODUCTIVITY,\\nAND SOME OTHER THINGS\\nIntroduction 97\\nPart 1: Opportunity 99\\nPart 2: Skills and education 107\\nPart 3: Where to go and why 120\\nThe Pmarca Guide to Personal Productivi']"
      ]
     },
     "execution_count": 6,
     "metadata": {},
     "output_type": "execute_result"
    }
   ],
   "source": [
    "split_documents[0:1]"
   ]
  },
  {
   "cell_type": "markdown",
   "metadata": {
    "id": "HOU-RFP_R6yv"
   },
   "source": [
    "## Task 3: Embeddings and Vectors\n",
    "\n",
    "Next, we have to convert our corpus into a \"machine readable\" format as we explored in the Embedding Primer notebook.\n",
    "\n",
    "Today, we're going to talk about the actual process of creating, and then storing, these embeddings, and how we can leverage that to intelligently add context to our queries."
   ]
  },
  {
   "cell_type": "markdown",
   "metadata": {},
   "source": [
    "### OpenAI API Key\n",
    "\n",
    "In order to access OpenAI's APIs, we'll need to provide our OpenAI API Key!\n",
    "\n",
    "You can work through the folder \"OpenAI API Key Setup\" for more information on this process if you don't already have an API Key!"
   ]
  },
  {
   "cell_type": "code",
   "execution_count": 7,
   "metadata": {},
   "outputs": [],
   "source": [
    "import os\n",
    "import openai\n",
    "from getpass import getpass\n",
    "\n",
    "openai.api_key = getpass(\"OpenAI API Key: \")\n",
    "os.environ[\"OPENAI_API_KEY\"] = openai.api_key"
   ]
  },
  {
   "cell_type": "markdown",
   "metadata": {},
   "source": [
    "### Vector Database\n",
    "\n",
    "Let's set up our vector database to hold all our documents and their embeddings!"
   ]
  },
  {
   "cell_type": "markdown",
   "metadata": {
    "id": "kDQrfAR1R6yv"
   },
   "source": [
    "While this is all baked into 1 call - we can look at some of the code that powers this process to get a better understanding:\n",
    "\n",
    "Let's look at our `VectorDatabase().__init__()`:\n",
    "\n",
    "```python\n",
    "def __init__(self, embedding_model: EmbeddingModel = None):\n",
    "        self.vectors = defaultdict(np.array)\n",
    "        self.embedding_model = embedding_model or EmbeddingModel()\n",
    "```\n",
    "\n",
    "As you can see - our vectors are merely stored as a dictionary of `np.array` objects.\n",
    "\n",
    "Secondly, our `VectorDatabase()` has a default `EmbeddingModel()` which is a wrapper for OpenAI's `text-embedding-3-small` model.\n",
    "\n",
    "> **Quick Info About `text-embedding-3-small`**:\n",
    "> - It has a context window of **8191** tokens\n",
    "> - It returns vectors with dimension **1536**"
   ]
  },
  {
   "cell_type": "markdown",
   "metadata": {
    "id": "L273pRdeR6yv"
   },
   "source": [
    "#### ❓Question #1:\n",
    "\n",
    "The default embedding dimension of `text-embedding-3-small` is 1536, as noted above. \n",
    "\n",
    "1. Is there any way to modify this dimension?\n",
    "2. What technique does OpenAI use to achieve this?\n",
    "\n",
    "> NOTE: Check out this [API documentation](https://platform.openai.com/docs/api-reference/embeddings/create) for the answer to question #1, and [this documentation](https://platform.openai.com/docs/guides/embeddings/use-cases) for an answer to question #2!"
   ]
  },
  {
   "cell_type": "markdown",
   "metadata": {},
   "source": [
    "🔬 ANSWER #1\n",
    "1. Indeed, it is possible with the `text-embedding-3-small` model (and for its big brother `text-embedding-3-large` too) to reduce this dimension.\n",
    "\n",
    "2. OpenAI succeeds in doing this thanks to the MRL (Matryoshka Representation Learning) technique. \n",
    "MRL allows the generation of high-dimensional embeddings containing nested representations of variable sizes that can be dynamically truncated (taking care to do L2 normalization) as needed while retaining their semantic properties. \n",
    "This innovative technique allows to be adapt the size of the embedding to the chosen vector store vector size.\n",
    "This size reduction also significantly reduces the computational and storage costs of embeddings, all without any significant loss of performance. This is quite a feat !"
   ]
  },
  {
   "cell_type": "markdown",
   "metadata": {
    "id": "w5FZY7K3R6yv"
   },
   "source": [
    "We can call the `async_get_embeddings` method of our `EmbeddingModel()` on a list of `str` and receive a list of `float` back!\n",
    "\n",
    "```python\n",
    "async def async_get_embeddings(self, list_of_text: List[str]) -> List[List[float]]:\n",
    "        return await aget_embeddings(\n",
    "            list_of_text=list_of_text, engine=self.embeddings_model_name\n",
    "        )\n",
    "```"
   ]
  },
  {
   "cell_type": "markdown",
   "metadata": {
    "id": "cSct6X0aR6yv"
   },
   "source": [
    "We cast those to `np.array` when we build our `VectorDatabase()`:\n",
    "\n",
    "```python\n",
    "async def abuild_from_list(self, list_of_text: List[str]) -> \"VectorDatabase\":\n",
    "        embeddings = await self.embedding_model.async_get_embeddings(list_of_text)\n",
    "        for text, embedding in zip(list_of_text, embeddings):\n",
    "            self.insert(text, np.array(embedding))\n",
    "        return self\n",
    "```\n",
    "\n",
    "And that's all we need to do!"
   ]
  },
  {
   "cell_type": "code",
   "execution_count": 8,
   "metadata": {
    "id": "O4KoLbVDR6yv"
   },
   "outputs": [
    {
     "name": "stdout",
     "output_type": "stream",
     "text": [
      "Using text-embedding-3-small with None dimensions\n"
     ]
    }
   ],
   "source": [
    "vector_db = VectorDatabase()\n",
    "vector_db = asyncio.run(vector_db.abuild_from_list(split_documents))"
   ]
  },
  {
   "cell_type": "markdown",
   "metadata": {
    "id": "SSZwaGvpR6yv"
   },
   "source": [
    "#### ❓Question #2:\n",
    "\n",
    "What are the benefits of using an `async` approach to collecting our embeddings?\n",
    "\n",
    "> NOTE: Determining the core difference between `async` and `sync` will be useful! If you get stuck - ask ChatGPT!"
   ]
  },
  {
   "cell_type": "markdown",
   "metadata": {},
   "source": [
    "🔬 ANSWER #2\n",
    "\n",
    "In synchronous programming, operations are executed one after the other. Each task must be completed before the next can begin. \n",
    "\n",
    "In asynchronous programming, operations can execute independently of each other without blocking the main program. The program can launch a task and continue executing while that task runs in the background. \n",
    "\n",
    "Benefits of the asynchronous approach to collecting our embeddings:\n",
    "\n",
    "1. Increased efficiency: \n",
    "When collecting embeddings for many documents, multiple requests can be sent simultaneously to the OpenAI API, without waiting for each individual request to complete.\n",
    "\n",
    "2. Reduced Wait Time: In the code, the texts are divided into batches and processes them in parallel, which allows for concurrent request processing.\n",
    "\n",
    "3. Better Resource Management: While the API processes an embedding request, the machine's CPU is not blocked and can perform other tasks.\n",
    "\n",
    "4. Scalability: The asynchronous method is advantageous for large and/or numerous documents to process into embeddings.\n",
    "\n",
    "5. Optimized Rate Limit Management: The batch approach allows for better compliance with API limits."
   ]
  },
  {
   "cell_type": "markdown",
   "metadata": {
    "id": "nRBdIt-xR6yw"
   },
   "source": [
    "So, to review what we've done so far in natural language:\n",
    "\n",
    "1. We load source documents\n",
    "2. We split those source documents into smaller chunks (documents)\n",
    "3. We send each of those documents to the `text-embedding-3-small` OpenAI API endpoint\n",
    "4. We store each of the text representations with the vector representations as keys/values in a dictionary"
   ]
  },
  {
   "cell_type": "markdown",
   "metadata": {
    "id": "4-vWANZyR6yw"
   },
   "source": [
    "### Semantic Similarity\n",
    "\n",
    "The next step is to be able to query our `VectorDatabase()` with a `str` and have it return to us vectors and text that is most relevant from our corpus.\n",
    "\n",
    "We're going to use the following process to achieve this in our toy example:\n",
    "\n",
    "1. We need to embed our query with the same `EmbeddingModel()` as we used to construct our `VectorDatabase()`\n",
    "2. We loop through every vector in our `VectorDatabase()` and use a distance measure to compare how related they are\n",
    "3. We return a list of the top `k` closest vectors, with their text representations\n",
    "\n",
    "There's some very heavy optimization that can be done at each of these steps - but let's just focus on the basic pattern in this notebook.\n",
    "\n",
    "> We are using [cosine similarity](https://www.engati.com/glossary/cosine-similarity) as a distance metric in this example - but there are many many distance metrics you could use - like [these](https://flavien-vidal.medium.com/similarity-distances-for-natural-language-processing-16f63cd5ba55)\n",
    "\n",
    "> We are using a rather inefficient way of calculating relative distance between the query vector and all other vectors - there are more advanced approaches that are much more efficient, like [ANN](https://towardsdatascience.com/comprehensive-guide-to-approximate-nearest-neighbors-algorithms-8b94f057d6b6)"
   ]
  },
  {
   "cell_type": "code",
   "execution_count": 9,
   "metadata": {
    "colab": {
     "base_uri": "https://localhost:8080/"
    },
    "id": "76d96uavR6yw",
    "outputId": "bbfccc31-20a2-41c7-c14d-46554a43ed2d"
   },
   "outputs": [
    {
     "data": {
      "text/plain": [
       "[('ordingly.\\nSeventh, when hiring the executive to run your former specialty, be\\ncareful you don’t hire someone weak on purpose.\\nThis sounds silly, but you wouldn’t believe how oaen it happens.\\nThe CEO who used to be a product manager who has a weak\\nproduct management executive. The CEO who used to be in\\nsales who has a weak sales executive. The CEO who used to be\\nin marketing who has a weak marketing executive.\\nI call this the “Michael Eisner Memorial Weak Executive Problem” — aaer the CEO of Disney who had previously been a brilliant TV network executive. When he bought ABC at Disney, it\\npromptly fell to fourth place. His response? “If I had an extra\\ntwo days a week, I could turn around ABC myself.” Well, guess\\nwhat, he didn’t have an extra two days a week.\\nA CEO — or a startup founder — oaen has a hard time letting\\ngo of the function that brought him to the party. The result: you\\nhire someone weak into the executive role for that function so\\nthat you can continue to be “the man” — cons',\n",
       "  np.float64(0.6538563767462544)),\n",
       " ('m. They have areas where they are truly deXcient in judgment or skill set. That’s just life. Almost nobody is brilliant\\nat everything. When hiring and when Hring executives, you\\nmust therefore focus on strength rather than lack of weakness. Everybody has severe weaknesses even if you can’t see\\nthem yet. When managing, it’s oaen useful to micromanage and\\nto provide remedial training around these weaknesses. Doing so\\nmay make the diWerence between an executive succeeding or\\nfailing.\\nFor example, you might have a brilliant engineering executive\\nwho generates excellent team loyalty, has terriXc product judgment and makes the trains run on time. This same executive\\nmay be very poor at relating to the other functions in the company. She may generate far more than her share of cross-functional conYicts, cut herself oW from critical information, and\\nsigniXcantly impede your ability to sell and market eWectively.\\nYour alternatives are:\\n(a) Macro-manage and give her an annual or quarterly object',\n",
       "  np.float64(0.5036025314515592)),\n",
       " ('ed?\\nIn reality — as opposed to Marc’s warped view of reality — it will\\nbe extremely helpful for Marc [if he were actually the CEO,\\nwhich he is not] to meet with the new head of engineering daily\\nwhen she comes on board and review all of her thinking and\\ndecisions. This level of micromanagement will accelerate her\\ntraining and improve her long-term eWectiveness. It will make\\nher seem smarter to the rest of the organization which will build\\ncredibility and conXdence while she comes up to speed. Micromanaging new executives is generally a good idea for a limited\\nperiod of time.\\nHowever, that is not the only time that it makes sense to micro66 The Pmarca Blog Archives\\nmanage executives. It turns out that just about every executive\\nin the world has a few things that are seriously wrong with\\nthem. They have areas where they are truly deXcient in judgment or skill set. That’s just life. Almost nobody is brilliant\\nat everything. When hiring and when Hring executives, you\\nmust therefore focus o',\n",
       "  np.float64(0.4814102594977529))]"
      ]
     },
     "execution_count": 9,
     "metadata": {},
     "output_type": "execute_result"
    }
   ],
   "source": [
    "vector_db.search_by_text(\"What is the Michael Eisner Memorial Weak Executive Problem?\", k=3)"
   ]
  },
  {
   "cell_type": "markdown",
   "metadata": {
    "id": "TehsfIiKR6yw"
   },
   "source": [
    "## Task 4: Prompts\n",
    "\n",
    "In the following section, we'll be looking at the role of prompts - and how they help us to guide our application in the right direction.\n",
    "\n",
    "In this notebook, we're going to rely on the idea of \"zero-shot in-context learning\".\n",
    "\n",
    "This is a lot of words to say: \"We will ask it to perform our desired task in the prompt, and provide no examples.\""
   ]
  },
  {
   "cell_type": "markdown",
   "metadata": {
    "id": "yXpA0UveR6yw"
   },
   "source": [
    "### XYZRolePrompt\n",
    "\n",
    "Before we do that, let's stop and think a bit about how OpenAI's chat models work.\n",
    "\n",
    "We know they have roles - as is indicated in the following API [documentation](https://platform.openai.com/docs/api-reference/chat/create#chat/create-messages)\n",
    "\n",
    "There are three roles, and they function as follows (taken directly from [OpenAI](https://platform.openai.com/docs/guides/gpt/chat-completions-api)):\n",
    "\n",
    "- `{\"role\" : \"system\"}` : The system message helps set the behavior of the assistant. For example, you can modify the personality of the assistant or provide specific instructions about how it should behave throughout the conversation. However note that the system message is optional and the model’s behavior without a system message is likely to be similar to using a generic message such as \"You are a helpful assistant.\"\n",
    "- `{\"role\" : \"user\"}` : The user messages provide requests or comments for the assistant to respond to.\n",
    "- `{\"role\" : \"assistant\"}` : Assistant messages store previous assistant responses, but can also be written by you to give examples of desired behavior.\n",
    "\n",
    "The main idea is this:\n",
    "\n",
    "1. You start with a system message that outlines how the LLM should respond, what kind of behaviours you can expect from it, and more\n",
    "2. Then, you can provide a few examples in the form of \"assistant\"/\"user\" pairs\n",
    "3. Then, you prompt the model with the true \"user\" message.\n",
    "\n",
    "In this example, we'll be forgoing the 2nd step for simplicities sake."
   ]
  },
  {
   "cell_type": "markdown",
   "metadata": {
    "id": "gdZ2KWKSR6yw"
   },
   "source": [
    "#### Utility Functions\n",
    "\n",
    "You'll notice that we're using some utility functions from the `aimakerspace` module - let's take a peek at these and see what they're doing!"
   ]
  },
  {
   "cell_type": "markdown",
   "metadata": {
    "id": "GFbeJDDsR6yw"
   },
   "source": [
    "##### XYZRolePrompt"
   ]
  },
  {
   "cell_type": "markdown",
   "metadata": {
    "id": "5mojJSE3R6yw"
   },
   "source": [
    "Here we have our `system`, `user`, and `assistant` role prompts.\n",
    "\n",
    "Let's take a peek at what they look like:\n",
    "\n",
    "```python\n",
    "class BasePrompt:\n",
    "    def __init__(self, prompt):\n",
    "        \"\"\"\n",
    "        Initializes the BasePrompt object with a prompt template.\n",
    "\n",
    "        :param prompt: A string that can contain placeholders within curly braces\n",
    "        \"\"\"\n",
    "        self.prompt = prompt\n",
    "        self._pattern = re.compile(r\"\\{([^}]+)\\}\")\n",
    "\n",
    "    def format_prompt(self, **kwargs):\n",
    "        \"\"\"\n",
    "        Formats the prompt string using the keyword arguments provided.\n",
    "\n",
    "        :param kwargs: The values to substitute into the prompt string\n",
    "        :return: The formatted prompt string\n",
    "        \"\"\"\n",
    "        matches = self._pattern.findall(self.prompt)\n",
    "        return self.prompt.format(**{match: kwargs.get(match, \"\") for match in matches})\n",
    "\n",
    "    def get_input_variables(self):\n",
    "        \"\"\"\n",
    "        Gets the list of input variable names from the prompt string.\n",
    "\n",
    "        :return: List of input variable names\n",
    "        \"\"\"\n",
    "        return self._pattern.findall(self.prompt)\n",
    "```\n",
    "\n",
    "Then we have our `RolePrompt` which laser focuses us on the role pattern found in most API endpoints for LLMs.\n",
    "\n",
    "```python\n",
    "class RolePrompt(BasePrompt):\n",
    "    def __init__(self, prompt, role: str):\n",
    "        \"\"\"\n",
    "        Initializes the RolePrompt object with a prompt template and a role.\n",
    "\n",
    "        :param prompt: A string that can contain placeholders within curly braces\n",
    "        :param role: The role for the message ('system', 'user', or 'assistant')\n",
    "        \"\"\"\n",
    "        super().__init__(prompt)\n",
    "        self.role = role\n",
    "\n",
    "    def create_message(self, **kwargs):\n",
    "        \"\"\"\n",
    "        Creates a message dictionary with a role and a formatted message.\n",
    "\n",
    "        :param kwargs: The values to substitute into the prompt string\n",
    "        :return: Dictionary containing the role and the formatted message\n",
    "        \"\"\"\n",
    "        return {\"role\": self.role, \"content\": self.format_prompt(**kwargs)}\n",
    "```\n",
    "\n",
    "We'll look at how the `SystemRolePrompt` is constructed to get a better idea of how that extension works:\n",
    "\n",
    "```python\n",
    "class SystemRolePrompt(RolePrompt):\n",
    "    def __init__(self, prompt: str):\n",
    "        super().__init__(prompt, \"system\")\n",
    "```\n",
    "\n",
    "That pattern is repeated for our `UserRolePrompt` and our `AssistantRolePrompt` as well."
   ]
  },
  {
   "cell_type": "markdown",
   "metadata": {
    "id": "D361R6sMR6yw"
   },
   "source": [
    "##### ChatOpenAI"
   ]
  },
  {
   "cell_type": "markdown",
   "metadata": {
    "id": "HJVQ2Pm8R6yw"
   },
   "source": [
    "Next we have our model, which is converted to a format analagous to libraries like LangChain and LlamaIndex.\n",
    "\n",
    "Let's take a peek at how that is constructed:\n",
    "\n",
    "```python\n",
    "class ChatOpenAI:\n",
    "    def __init__(self, model_name: str = \"gpt-4o-mini\"):\n",
    "        self.model_name = model_name\n",
    "        self.openai_api_key = os.getenv(\"OPENAI_API_KEY\")\n",
    "        if self.openai_api_key is None:\n",
    "            raise ValueError(\"OPENAI_API_KEY is not set\")\n",
    "\n",
    "    def run(self, messages, text_only: bool = True):\n",
    "        if not isinstance(messages, list):\n",
    "            raise ValueError(\"messages must be a list\")\n",
    "\n",
    "        openai.api_key = self.openai_api_key\n",
    "        response = openai.ChatCompletion.create(\n",
    "            model=self.model_name, messages=messages\n",
    "        )\n",
    "\n",
    "        if text_only:\n",
    "            return response.choices[0].message.content\n",
    "\n",
    "        return response\n",
    "```"
   ]
  },
  {
   "cell_type": "markdown",
   "metadata": {
    "id": "qCU7FfhIR6yw"
   },
   "source": [
    "#### ❓ Question #3:\n",
    "\n",
    "When calling the OpenAI API - are there any ways we can achieve more reproducible outputs?\n",
    "\n",
    "> NOTE: Check out [this section](https://platform.openai.com/docs/guides/text-generation/) of the OpenAI documentation for the answer!"
   ]
  },
  {
   "cell_type": "markdown",
   "metadata": {},
   "source": [
    "🔬 ANSWER #3\n",
    "\n",
    "By definition, LLMs produce non-deterministic results because they are trained to predict the next most likely token.\n",
    "\n",
    "Setting the temperature parameter to 0, give the promess of eliminating the variability (since temperature = 0, this means no longer using a softmax at the logit output, but directly choosing the argmax, i.e. THE most probable token)\n",
    "But, as the OpenAI documentation states: \"Setting the temperature to 0 will make the outputs mostly deterministic, but a small amount of variability may remain.\"\n",
    "\n",
    "OpenAI has then introduced the `seed` parameter, a feature that significantly improves output reproducibility. This parameter allows you to associate a specific user input with a specific LLM response.\n",
    "\n",
    "You will obtain reproducible output, by:\n",
    "1. Setting the same `seed`\n",
    "2. Keeping all other parameters (prompt, temperature, top_p, etc.) exactly the same\n",
    "3. Monitoring the `system_fingerprint` field in the response\n",
    "( this field indicates whether OpenAI backend configuration has changed, what happens frequently)"
   ]
  },
  {
   "cell_type": "markdown",
   "metadata": {
    "id": "c5wcjMLCR6yw"
   },
   "source": [
    "### Creating and Prompting OpenAI's `gpt-4o-mini`!\n",
    "\n",
    "Let's tie all these together and use it to prompt `gpt-4o-mini`!"
   ]
  },
  {
   "cell_type": "code",
   "execution_count": 10,
   "metadata": {
    "id": "WIfpIot7R6yw"
   },
   "outputs": [],
   "source": [
    "from aimakerspace.openai_utils.prompts import (\n",
    "    UserRolePrompt,\n",
    "    SystemRolePrompt,\n",
    "    AssistantRolePrompt,\n",
    ")\n",
    "\n",
    "from aimakerspace.openai_utils.chatmodel import ChatOpenAI\n",
    "\n",
    "chat_openai = ChatOpenAI()\n",
    "user_prompt_template = \"{content}\"\n",
    "user_role_prompt = UserRolePrompt(user_prompt_template)\n",
    "system_prompt_template = (\n",
    "    \"You are an expert in {expertise}, you always answer in a kind way.\"\n",
    ")\n",
    "system_role_prompt = SystemRolePrompt(system_prompt_template)\n",
    "\n",
    "messages = [\n",
    "    system_role_prompt.create_message(expertise=\"Python\"),\n",
    "    user_role_prompt.create_message(\n",
    "        content=\"What is the best way to write a loop?\"\n",
    "    ),\n",
    "]\n",
    "\n",
    "response = chat_openai.run(messages)"
   ]
  },
  {
   "cell_type": "code",
   "execution_count": 11,
   "metadata": {
    "colab": {
     "base_uri": "https://localhost:8080/"
    },
    "id": "dHo7lssNR6yw",
    "outputId": "1d3823fa-bb6b-45f6-ddba-b41686388324"
   },
   "outputs": [
    {
     "name": "stdout",
     "output_type": "stream",
     "text": [
      "The best way to write a loop in Python largely depends on the specific task you're trying to accomplish. However, I can share some general tips and common patterns that are considered best practices:\n",
      "\n",
      "### 1. Use a `for` loop for Iteration\n",
      "If you're iterating over a sequence (like a list, tuple, or string), using a `for` loop is often best practice.\n",
      "\n",
      "```python\n",
      "# Example of a for loop\n",
      "fruits = ['apple', 'banana', 'cherry']\n",
      "for fruit in fruits:\n",
      "    print(fruit)\n",
      "```\n",
      "\n",
      "### 2. Use a `while` loop when the number of iterations is not known\n",
      "A `while` loop is suitable when the condition needs to be evaluated before each iteration.\n",
      "\n",
      "```python\n",
      "# Example of a while loop\n",
      "count = 0\n",
      "while count < 5:\n",
      "    print(count)\n",
      "    count += 1\n",
      "```\n",
      "\n",
      "### 3. Use `enumerate()` for Index and Value\n",
      "If you need both the index and the value in a `for` loop, use `enumerate()`.\n",
      "\n",
      "```python\n",
      "# Using enumerate\n",
      "for index, fruit in enumerate(fruits):\n",
      "    print(f\"{index}: {fruit}\")\n",
      "```\n",
      "\n",
      "### 4. List Comprehensions for Simple Loops\n",
      "When you need to create a new list by performing an operation on each item in an existing list, a list comprehension is often more readable.\n",
      "\n",
      "```python\n",
      "# Example of a list comprehension\n",
      "squared_numbers = [x**2 for x in range(10)]\n",
      "print(squared_numbers)\n",
      "```\n",
      "\n",
      "### 5. Avoid Modifying the List While Iterating\n",
      "It's generally not advisable to change the list you're iterating over, as it can lead to unexpected behavior. If you need to modify the list, consider iterating over a copy.\n",
      "\n",
      "```python\n",
      "# Avoid modifying the list directly while iterating\n",
      "original_list = [1, 2, 3, 4]\n",
      "for item in original_list[:]:  # iterating over a copy\n",
      "    if item % 2 == 0:\n",
      "        original_list.remove(item)\n",
      "print(original_list)\n",
      "```\n",
      "\n",
      "### 6. Use `break` and `continue` Judiciously\n",
      "- `break` can be used to exit the loop early.\n",
      "- `continue` can skip the current iteration and proceed to the next one.\n",
      "\n",
      "```python\n",
      "for number in range(10):\n",
      "    if number == 5:\n",
      "        break  # exits the loop when number is 5\n",
      "    print(number)\n",
      "```\n",
      "\n",
      "### 7. Be Mindful of Performance\n",
      "If you're dealing with large datasets, consider using optimized functions from libraries like NumPy or pandas instead of writing loops in pure Python.\n",
      "\n",
      "Each of these patterns has its place, so choosing the right one depends on the specific context of your problem. If you have a specific use case in mind, feel free to share it, and I can provide more tailored guidance!\n"
     ]
    }
   ],
   "source": [
    "print(response)"
   ]
  },
  {
   "cell_type": "markdown",
   "metadata": {
    "id": "r2nxxhB2R6yy"
   },
   "source": [
    "## Task 5: Retrieval Augmented Generation\n",
    "\n",
    "Now we can create a RAG prompt - which will help our system behave in a way that makes sense!\n",
    "\n",
    "There is much you could do here, many tweaks and improvements to be made!"
   ]
  },
  {
   "cell_type": "code",
   "execution_count": 12,
   "metadata": {
    "id": "D1hamzGaR6yy"
   },
   "outputs": [],
   "source": [
    "RAG_PROMPT_TEMPLATE = \"\"\" \\\n",
    "Use the provided context to answer the user's query.\n",
    "\n",
    "You may not answer the user's query unless there is specific context in the following text.\n",
    "\n",
    "If you do not know the answer, or cannot answer, please respond with \"I don't know\".\n",
    "\"\"\"\n",
    "\n",
    "rag_prompt = SystemRolePrompt(RAG_PROMPT_TEMPLATE)\n",
    "\n",
    "USER_PROMPT_TEMPLATE = \"\"\" \\\n",
    "Context:\n",
    "{context}\n",
    "\n",
    "User Query:\n",
    "{user_query}\n",
    "\"\"\"\n",
    "\n",
    "\n",
    "user_prompt = UserRolePrompt(USER_PROMPT_TEMPLATE)\n",
    "\n",
    "class RetrievalAugmentedQAPipeline:\n",
    "    def __init__(self, llm: ChatOpenAI(), vector_db_retriever: VectorDatabase) -> None:\n",
    "        self.llm = llm\n",
    "        self.vector_db_retriever = vector_db_retriever\n",
    "\n",
    "    def run_pipeline(self, user_query: str) -> str:\n",
    "        context_list = self.vector_db_retriever.search_by_text(user_query, k=4)\n",
    "\n",
    "        context_prompt = \"\"\n",
    "        for context in context_list:\n",
    "            context_prompt += context[0] + \"\\n\"\n",
    "\n",
    "        formatted_system_prompt = rag_prompt.create_message()\n",
    "\n",
    "        formatted_user_prompt = user_prompt.create_message(user_query=user_query, context=context_prompt)\n",
    "\n",
    "        return {\"response\" : self.llm.run([formatted_system_prompt, formatted_user_prompt]), \"context\" : context_list}"
   ]
  },
  {
   "cell_type": "markdown",
   "metadata": {
    "id": "zZIJI19uR6yz"
   },
   "source": [
    "#### ❓ Question #4:\n",
    "\n",
    "What prompting strategies could you use to make the LLM have a more thoughtful, detailed response?\n",
    "\n",
    "What is that strategy called?\n",
    "\n",
    "> NOTE: You can look through [\"Accessing GPT-3.5-turbo Like a Developer\"](https://colab.research.google.com/drive/1mOzbgf4a2SP5qQj33ZxTz2a01-5eXqk2?usp=sharing) for an answer to this question if you get stuck!"
   ]
  },
  {
   "cell_type": "markdown",
   "metadata": {},
   "source": [
    "🔬 ANSWER #4\n",
    "1. Chain-of-Thought Prompting : The model is explicitly asked to reason step by step before providing a final answer. This encourages it to develop more logical, nuanced, and even critical reasoning, rather than providing an immediate and superficial answer.\n",
    "\n",
    "2. Few-Shot Prompting:  Several examples of questions and expected answers are provided directly in the prompt. These examples serve as a model to guide the LLM toward the desired style, level of detail, and response logic.\n",
    "\n",
    "3. Self-Ask Prompting (Socratic Prompting) : The model is encouraged to ask its own sub-questions before producing an answer. This encourages more analytical reasoning, much like an expert human would when faced with a difficult task.\n",
    "\n",
    "and the magic becomes extraordinary, when you combine all these techniques with each other! 🚀"
   ]
  },
  {
   "cell_type": "markdown",
   "metadata": {},
   "source": []
  },
  {
   "cell_type": "code",
   "execution_count": 13,
   "metadata": {
    "id": "kqbE9fZ6R6yz"
   },
   "outputs": [],
   "source": [
    "retrieval_augmented_qa_pipeline = RetrievalAugmentedQAPipeline(\n",
    "    vector_db_retriever=vector_db,\n",
    "    llm=chat_openai\n",
    ")"
   ]
  },
  {
   "cell_type": "code",
   "execution_count": 14,
   "metadata": {
    "colab": {
     "base_uri": "https://localhost:8080/"
    },
    "id": "jAGhaCGOR6yz",
    "outputId": "e4fb3a1b-d2bc-4e18-ec31-dc0adf767163"
   },
   "outputs": [
    {
     "data": {
      "text/plain": [
       "{'response': \"The 'Michael Eisner Memorial Weak Executive Problem' refers to a situation where a CEO or startup founder hires a weak executive for a function they themselves excelled in, in order to maintain control and relevance in that area. This occurs because the CEO finds it difficult to let go of the function that contributed to their success, leading them to choose someone less competent so they can continue to be the dominant figure in that domain. An example given is Michael Eisner, the former CEO of Disney, who struggled with the ABC network's performance after acquiring it, illustrating the potential pitfalls of surrounding oneself with weaker executives to maintain a sense of superiority.\",\n",
       " 'context': [('ordingly.\\nSeventh, when hiring the executive to run your former specialty, be\\ncareful you don’t hire someone weak on purpose.\\nThis sounds silly, but you wouldn’t believe how oaen it happens.\\nThe CEO who used to be a product manager who has a weak\\nproduct management executive. The CEO who used to be in\\nsales who has a weak sales executive. The CEO who used to be\\nin marketing who has a weak marketing executive.\\nI call this the “Michael Eisner Memorial Weak Executive Problem” — aaer the CEO of Disney who had previously been a brilliant TV network executive. When he bought ABC at Disney, it\\npromptly fell to fourth place. His response? “If I had an extra\\ntwo days a week, I could turn around ABC myself.” Well, guess\\nwhat, he didn’t have an extra two days a week.\\nA CEO — or a startup founder — oaen has a hard time letting\\ngo of the function that brought him to the party. The result: you\\nhire someone weak into the executive role for that function so\\nthat you can continue to be “the man” — cons',\n",
       "   np.float64(0.6582125113300628)),\n",
       "  ('m. They have areas where they are truly deXcient in judgment or skill set. That’s just life. Almost nobody is brilliant\\nat everything. When hiring and when Hring executives, you\\nmust therefore focus on strength rather than lack of weakness. Everybody has severe weaknesses even if you can’t see\\nthem yet. When managing, it’s oaen useful to micromanage and\\nto provide remedial training around these weaknesses. Doing so\\nmay make the diWerence between an executive succeeding or\\nfailing.\\nFor example, you might have a brilliant engineering executive\\nwho generates excellent team loyalty, has terriXc product judgment and makes the trains run on time. This same executive\\nmay be very poor at relating to the other functions in the company. She may generate far more than her share of cross-functional conYicts, cut herself oW from critical information, and\\nsigniXcantly impede your ability to sell and market eWectively.\\nYour alternatives are:\\n(a) Macro-manage and give her an annual or quarterly object',\n",
       "   np.float64(0.5088368893069756)),\n",
       "  ('ed?\\nIn reality — as opposed to Marc’s warped view of reality — it will\\nbe extremely helpful for Marc [if he were actually the CEO,\\nwhich he is not] to meet with the new head of engineering daily\\nwhen she comes on board and review all of her thinking and\\ndecisions. This level of micromanagement will accelerate her\\ntraining and improve her long-term eWectiveness. It will make\\nher seem smarter to the rest of the organization which will build\\ncredibility and conXdence while she comes up to speed. Micromanaging new executives is generally a good idea for a limited\\nperiod of time.\\nHowever, that is not the only time that it makes sense to micro66 The Pmarca Blog Archives\\nmanage executives. It turns out that just about every executive\\nin the world has a few things that are seriously wrong with\\nthem. They have areas where they are truly deXcient in judgment or skill set. That’s just life. Almost nobody is brilliant\\nat everything. When hiring and when Hring executives, you\\nmust therefore focus o',\n",
       "   np.float64(0.47903669405979216)),\n",
       "  ('nYicts, cut herself oW from critical information, and\\nsigniXcantly impede your ability to sell and market eWectively.\\nYour alternatives are:\\n(a) Macro-manage and give her an annual or quarterly objective\\nto Xx it, or…\\n(b) Intensively micromanage her interactions until she learns\\nthe fundamental interpersonal skills required to be an eWective\\nexecutive.\\nI am arguing that doing (a) will likely result in weak performance. The reason is that she very likely has no idea how to be\\neWective with her peers. If somebody is an executive, it’s very\\nlikely that somewhere along the line somebody gave her feedback — perhaps abstractly — about all of her weaknesses. Yet\\nthe weakness remains. As a result, executives generally require\\nmore hands-on management than lower level employees to\\nimprove weak areas.\\nSo, micromanagement is like Xne wine. A little at the right times\\nwill really enhance things; too much all the time and you’ll end\\nup in rehab.\\nPart 8: Hiring, managing, promoting, and Dring execut',\n",
       "   np.float64(0.4681083391380686))]}"
      ]
     },
     "execution_count": 14,
     "metadata": {},
     "output_type": "execute_result"
    }
   ],
   "source": [
    "retrieval_augmented_qa_pipeline.run_pipeline(\"What is the 'Michael Eisner Memorial Weak Executive Problem'?\")"
   ]
  },
  {
   "cell_type": "markdown",
   "metadata": {},
   "source": [
    "### 🏗️ Activity #1:\n",
    "\n",
    "Enhance your RAG application in some way! \n",
    "\n",
    "Suggestions are: \n",
    "\n",
    "- Allow it to work with PDF files\n",
    "- Implement a new distance metric\n",
    "- Add metadata support to the vector database\n",
    "\n",
    "While these are suggestions, you should feel free to make whatever augmentations you desire! \n",
    "\n",
    "> NOTE: These additions might require you to work within the `aimakerspace` library - that's expected!"
   ]
  },
  {
   "cell_type": "code",
   "execution_count": 15,
   "metadata": {},
   "outputs": [],
   "source": [
    "from aimakerspace.text_utils import PDFLoader, MetadataCharacterTextSplitter, VectorDatabaseWithMetadata\n",
    "from aimakerspace.openai_utils.prompts import UserRolePrompt, SystemRolePrompt\n",
    "from aimakerspace.openai_utils.chatmodel import ChatOpenAI\n",
    "import asyncio\n",
    "import os\n",
    "import os\n",
    "import openai\n",
    "from getpass import getpass\n",
    "import nest_asyncio\n",
    "nest_asyncio.apply()"
   ]
  },
  {
   "cell_type": "markdown",
   "metadata": {},
   "source": [
    "### Loading and chunking a pdf file"
   ]
  },
  {
   "cell_type": "code",
   "execution_count": 16,
   "metadata": {},
   "outputs": [
    {
     "name": "stdout",
     "output_type": "stream",
     "text": [
      "Number of loaded pages: 253\n"
     ]
    }
   ],
   "source": [
    "# Load the PDF file with metadata\n",
    "pdf_loader = PDFLoader(\"data/Think_And_Grow_Rich.pdf\")\n",
    "document_chunks_with_metadata = pdf_loader.load()\n",
    "print(f\"Number of loaded pages: {len(document_chunks_with_metadata)}\")\n"
   ]
  },
  {
   "cell_type": "code",
   "execution_count": 17,
   "metadata": {},
   "outputs": [
    {
     "name": "stdout",
     "output_type": "stream",
     "text": [
      "\n",
      "Document metadata:\n",
      "Title: Think and Grow Rich by Napoleon Hill \n",
      "Author: Brod\n",
      "Total pages: 253\n"
     ]
    }
   ],
   "source": [
    "# Display the global metadata of the document\n",
    "metadata_global = document_chunks_with_metadata[0][\"metadata\"]\n",
    "print(f\"\\nDocument metadata:\")\n",
    "print(f\"Title: {metadata_global.get('title', 'Not specified')}\")\n",
    "print(f\"Author: {metadata_global.get('author', 'Not specified')}\")\n",
    "print(f\"Total pages: {metadata_global.get('total_pages', 'Not specified')}\")\n",
    "\n"
   ]
  },
  {
   "cell_type": "code",
   "execution_count": 18,
   "metadata": {},
   "outputs": [
    {
     "name": "stdout",
     "output_type": "stream",
     "text": [
      "\n",
      "Excerpt from the first page:\n",
      "{'content': '\\uf09a  THINK & GROW RICH  \\uf09b \\nFree Digital Download PDF eBook Edition \\nRe-published by: \\n\\uf09a  www.think-and-grow-rich-ebook.com  \\uf09b i', 'metadata': {'title': 'Think and Grow Rich by Napoleon Hill ', 'author': 'Brod', 'subject': 'Free Digital Download PDF eBook Edition', 'keywords': 'free, ebook, think and grow rich, make money online, home based business, opportunity', 'creator': 'Writer', 'producer': 'OpenOffice.org 2.3', 'creation_date': \"D:20081020165029+01'00'\", 'modification_date': '', 'total_pages': 253, 'filename': 'Think_And_Grow_Rich.pdf', 'page_number': 1, 'page_size': {'width': 612, 'height': 792}}}\n"
     ]
    }
   ],
   "source": [
    "# Display a sample of the first page content\n",
    "print(f\"\\nExcerpt from the first page:\")\n",
    "print(document_chunks_with_metadata[0])\n"
   ]
  },
  {
   "cell_type": "code",
   "execution_count": 19,
   "metadata": {},
   "outputs": [
    {
     "name": "stdout",
     "output_type": "stream",
     "text": [
      "\n",
      "Total number of chunks: 866\n"
     ]
    }
   ],
   "source": [
    "# Split the content into chunks with their metadata\n",
    "splitter = MetadataCharacterTextSplitter(chunk_size=1000, chunk_overlap=200)\n",
    "chunks = splitter.split_documents(document_chunks_with_metadata)\n",
    "print(f\"\\nTotal number of chunks: {len(chunks)}\")\n"
   ]
  },
  {
   "cell_type": "code",
   "execution_count": 20,
   "metadata": {},
   "outputs": [
    {
     "name": "stdout",
     "output_type": "stream",
     "text": [
      "\n",
      "Example of a chunk with metadata:\n",
      "Content:   THINK & GROW RICH   \n",
      "of approval upon them as being, not only the steps essential for the accumulation  \n",
      "of money, but neccessary for the attainment of any definite goal. \n",
      "The steps call for no \"hard labor.\" They call for no sacrifice. They do not  \n",
      "require one to become ridiculous, or credulous. To apply them calls for no great  \n",
      "amount of education. But the successful application of these six steps does call  \n",
      "for sufficient imagination to enable one to see, and to understand, that  \n",
      "accumulation of money cannot be left to chance, good fortune, and luck. One  \n",
      "must realize that all who have accumulated great fortunes, first did a certain  \n",
      "amount of dreaming, hoping, wishing, DESIRING, and PLANNING before they \n",
      "acquired money. \n",
      "You may as well know, right here, that you can never have riches in great  \n",
      "quantities, UNLESS you can work yourself into a white heat of DESIRE for  \n",
      "money, and actually BELIEVE you will possess it.\n",
      "You may as well know, also that every great leader, from...\n",
      "Page: 37\n",
      "Position in page: 0 to 1000\n",
      "First chunk of the page: True\n"
     ]
    }
   ],
   "source": [
    "# Display an example chunk with its metadata\n",
    "print(f\"\\nExample of a chunk with metadata:\")\n",
    "print(f\"Content: {chunks[113]['content'][:1000]}...\")\n",
    "print(f\"Page: {chunks[113]['metadata']['page_number']}\")\n",
    "print(f\"Position in page: {chunks[113]['metadata']['chunk_start_char']} to {chunks[113]['metadata']['chunk_end_char']}\")\n",
    "print(f\"First chunk of the page: {chunks[113]['metadata']['is_first_chunk']}\")"
   ]
  },
  {
   "cell_type": "code",
   "execution_count": 21,
   "metadata": {},
   "outputs": [],
   "source": [
    "openai.api_key = getpass(\"OpenAI API Key: \")\n",
    "os.environ[\"OPENAI_API_KEY\"] = openai.api_key"
   ]
  },
  {
   "cell_type": "markdown",
   "metadata": {},
   "source": [
    "### Reducing the embeddings dimension to 256"
   ]
  },
  {
   "cell_type": "code",
   "execution_count": 22,
   "metadata": {},
   "outputs": [
    {
     "name": "stdout",
     "output_type": "stream",
     "text": [
      "Using text-embedding-3-small with 256 dimensions\n"
     ]
    }
   ],
   "source": [
    "# Create the vector database with metadata\n",
    "vector_db = VectorDatabaseWithMetadata(\n",
    "    embedding_model_name=\"text-embedding-3-small\", \n",
    "    dimensions=256\n",
    ")\n",
    "vector_db = asyncio.run(vector_db.abuild_from_document_chunks(chunks))"
   ]
  },
  {
   "cell_type": "markdown",
   "metadata": {},
   "source": [
    "### Full RAG Pipeline with Metadata "
   ]
  },
  {
   "cell_type": "code",
   "execution_count": 23,
   "metadata": {},
   "outputs": [
    {
     "name": "stdout",
     "output_type": "stream",
     "text": [
      "\n",
      "\n",
      "=== QUESTION: What are the basic principles for success according to Napoleon Hill? ===\n",
      "\n",
      "RESPONSE:\n",
      "The basic principles for success according to Napoleon Hill as outlined in the provided context include:\n",
      "\n",
      "1. **Unwavering Courage** - Based on knowledge of self and one’s occupation (Page 108).\n",
      "2. **Self-Control** - The ability to control oneself, which sets an example for others (Page 108).\n",
      "3. **A Keen Sense of Justice** - Fairness and justice are essential for leadership and respect (Page 108).\n",
      "4. **Definiteness of Decision** - The importance of making firm decisions to lead successfully (Page 108).\n",
      "5. **Definiteness of Plans** - Successful leaders must have practical, definite plans (Page 108).\n",
      "\n",
      "Additionally, the steps to accumulate money, while not hard laborious, require strong desire and effective planning (Page 37). The cooperation from others and harmony within a \"Master Mind\" group are also crucial elements in achieving success (Page 105).\n",
      "\n",
      "SOURCES:\n",
      "- Page 9\n",
      "- Page 108\n",
      "- Page 37\n",
      "- Page 105\n",
      "\n",
      "\n",
      "=== QUESTION: How to transform our desires into concrete goals? ===\n",
      "\n",
      "RESPONSE:\n",
      "To transform your desires into concrete goals, you can follow these steps:\n",
      "\n",
      "1. **Define Your Desire**: Fix in your mind the exact amount of money or specific outcome you desire. It's important to be precise rather than just saying you want \"plenty of money\" (EXTRACT 3, Page 35).\n",
      "\n",
      "2. **Determine What You Will Give**: Identify what you are willing to give in return for the money or outcome you desire, as there is no such thing as getting something for nothing (EXTRACT 3, Page 35).\n",
      "\n",
      "3. **Set a Timeline**: Establish a definite date when you intend to achieve your goal (EXTRACT 3, Page 35).\n",
      "\n",
      "4. **Plan Your Action**: Create a definite plan for carrying out your desire. You should begin to visualize yourself in possession of what you desire and be alert for plans that may \"flash\" into your mind as inspirations (EXTRACT 4, Page 73).\n",
      "\n",
      "5. **Take Immediate Action**: When these inspirations or plans come to you, act upon them without delay. Failure to do so may hinder your success (EXTRACT 4, Page 73).\n",
      "\n",
      "By following these steps, you can effectively convert your desires into tangible goals.\n",
      "\n",
      "SOURCES:\n",
      "- Page 92\n",
      "- Page 91\n",
      "- Page 35\n",
      "- Page 73\n",
      "\n",
      "\n",
      "=== QUESTION: What is the importance of faith in achieving success? ===\n",
      "\n",
      "RESPONSE:\n",
      "Faith is crucial in achieving success as it serves as the starting point for accumulating riches and is the basis for all \"miracles\" and mysteries that cannot be explained by science (Extract 1, page 54). It is described as a state of mind that can be induced through auto-suggestion, emphasizing the need to develop faith in oneself and in the Infinite (Extract 2, page 54). \n",
      "\n",
      "Furthermore, faith is identified as the strongest and most productive of emotions, and following the instructions related to faith can transform skepticism into belief, ultimately leading to absolute faith (Extract 3, page 75). This process allows individuals to feel empowered and in control of their destinies (Extract 3, page 75). The teachings exemplified by significant historical figures, such as Christ, underscore that faith is not only foundational but also essential for manifesting remarkable achievements (Extract 4, page 59). Overall, faith connects deeply with the principles of success and wealth accumulation.\n",
      "\n",
      "SOURCES:\n",
      "- Page 54\n",
      "- Page 54\n",
      "- Page 75\n",
      "- Page 59\n"
     ]
    }
   ],
   "source": [
    "# Configure RAG for Think and Grow Rich with metadata usage\n",
    "RAG_PROMPT_TEMPLATE = \"\"\" \\\n",
    "You are an expert in making money and becoming rich.\n",
    "Use the provided context to answer the user's questions.\n",
    "\n",
    "When you respond, mention the page numbers from which your information comes.\n",
    "If the information comes from multiple pages, cite all relevant pages.\n",
    "\n",
    "You may not answer the user's query unless there is specific context in the following text.\n",
    "If you don't know the answer, please respond with \"I don't know\".\n",
    "\"\"\"\n",
    "\n",
    "rag_prompt = SystemRolePrompt(RAG_PROMPT_TEMPLATE)\n",
    "\n",
    "USER_PROMPT_TEMPLATE = \"\"\" \\\n",
    "Context:\n",
    "{context}\n",
    "\n",
    "Context Metadata:\n",
    "{metadata}\n",
    "\n",
    "User Question:\n",
    "{user_query}\n",
    "\"\"\"\n",
    "\n",
    "user_prompt = UserRolePrompt(USER_PROMPT_TEMPLATE)\n",
    "\n",
    "class RetrievalAugmentedQAPipeline:\n",
    "    def __init__(self, llm: ChatOpenAI, vector_db_retriever: VectorDatabaseWithMetadata) -> None:\n",
    "        self.llm = llm\n",
    "        self.vector_db_retriever = vector_db_retriever\n",
    "\n",
    "    async def run_pipeline(self, user_query: str) -> dict:\n",
    "        # Retrieve relevant chunks with their metadata\n",
    "        context_list = await self.vector_db_retriever.search_by_text(user_query, k=4)\n",
    "\n",
    "        context_prompt = \"\"\n",
    "        metadata_prompt = \"\"\n",
    "        \n",
    "        for i, (text, score, metadata) in enumerate(context_list):\n",
    "            context_prompt += f\"[EXTRACT {i+1}]\\n{text}\\n\\n\"\n",
    "            metadata_prompt += f\"[EXTRACT {i+1}]: Page {metadata['page_number']}\\n\"\n",
    "\n",
    "        formatted_system_prompt = rag_prompt.create_message()\n",
    "        formatted_user_prompt = user_prompt.create_message(\n",
    "            user_query=user_query,\n",
    "            context=context_prompt,\n",
    "            metadata=metadata_prompt\n",
    "        )\n",
    "\n",
    "        return {\n",
    "            \"response\": self.llm.run([formatted_system_prompt, formatted_user_prompt]), \n",
    "            \"context\": context_list\n",
    "        }\n",
    "# Initialize the RAG pipeline\n",
    "chat_openai = ChatOpenAI()\n",
    "think_grow_rich_rag = RetrievalAugmentedQAPipeline(\n",
    "    vector_db_retriever=vector_db,\n",
    "    llm=chat_openai\n",
    ")\n",
    "\n",
    "questions = [\n",
    "    \"What are the basic principles for success according to Napoleon Hill?\",\n",
    "    \"How to transform our desires into concrete goals?\",\n",
    "    \"What is the importance of faith in achieving success?\"\n",
    "]\n",
    "\n",
    "for question in questions:\n",
    "    print(f\"\\n\\n=== QUESTION: {question} ===\")\n",
    "    result = asyncio.run(think_grow_rich_rag.run_pipeline(question))\n",
    "    print(\"\\nRESPONSE:\")\n",
    "    print(result[\"response\"])\n",
    "    \n",
    "    # Display the sources (pages) used\n",
    "    print(\"\\nSOURCES:\")\n",
    "    for i, (_, _, metadata) in enumerate(result[\"context\"]):\n",
    "        print(f\"- Page {metadata['page_number']}\")"
   ]
  },
  {
   "cell_type": "markdown",
   "metadata": {},
   "source": [
    "### Full RAG Pipeline with Metadata and Chain-of-Though"
   ]
  },
  {
   "cell_type": "code",
   "execution_count": 24,
   "metadata": {},
   "outputs": [
    {
     "name": "stdout",
     "output_type": "stream",
     "text": [
      "\n",
      "\n",
      "=== QUESTION: What are the fundamental principles of success according to Napoleon Hill? ===\n",
      "\n",
      "RESPONSE:\n",
      "1) Understanding the question:\n",
      "The question is asking for the fundamental principles of success as outlined by Napoleon Hill in \"Think and Grow Rich.\" \n",
      "\n",
      "2) Analysis of available information:\n",
      "- **Excerpt #1** discusses the importance of a positive attitude, self-belief, and the concept of \"auto-suggestion\" as a law that influences thoughts and actions towards success.\n",
      "- **Excerpt #3** lists important factors of leadership, which are essential for success: unwavering courage, self-control, a keen sense of justice, definiteness of decision, and definiteness of plans.\n",
      "- **Excerpt #4** emphasizes the necessity of desire and belief in achieving wealth, stating that success requires dreaming, planning, and a strong desire for money.\n",
      "\n",
      "3) Extraction of relevant information:\n",
      "- From **Excerpt #1**, the principles include developing a positive attitude and self-belief, and using auto-suggestion constructively.\n",
      "- From **Excerpt #3**, the principles of leadership that contribute to success are: \n",
      "  1. Unwavering courage\n",
      "  2. Self-control\n",
      "  3. A keen sense of justice\n",
      "  4. Definiteness of decision\n",
      "  5. Definiteness of plans\n",
      "- From **Excerpt #4**, the principles include the importance of desire and belief in achieving financial success, along with the need for planning and dreaming.\n",
      "\n",
      "4) Logical synthesis:\n",
      "The fundamental principles of success according to Napoleon Hill encompass both personal attributes and actionable strategies. Personal attributes include a positive mindset, courage, self-control, and a sense of justice. Actionable strategies involve having clear decisions and plans, as well as a strong desire and belief in one's goals.\n",
      "\n",
      "5) Complete answer:\n",
      "The fundamental principles of success according to Napoleon Hill include:\n",
      "1. Developing a positive attitude and self-belief (Excerpt #1).\n",
      "2. Unwavering courage based on self-knowledge (Excerpt #3).\n",
      "3. Self-control to set an example for others (Excerpt #3).\n",
      "4. A keen sense of justice to earn respect (Excerpt #3).\n",
      "5. Definiteness of decision and plans to guide actions (Excerpt #3).\n",
      "6. A strong desire for success and belief in achieving it (Excerpt #4). \n",
      "\n",
      "These principles collectively contribute to personal and financial success.\n",
      "\n",
      "SOURCES:\n",
      "Page 57\n",
      "Page 9\n",
      "Page 108\n",
      "Page 37\n",
      "\n",
      "\n",
      "=== QUESTION: How to transform a desire into a concrete goal? ===\n",
      "\n",
      "RESPONSE:\n",
      "1) Understanding the question:\n",
      "The question is asking for a method or process to transform a desire into a concrete goal, specifically in the context of financial aspirations.\n",
      "\n",
      "2) Analysis of available information:\n",
      "- **Excerpt #1** discusses the importance of putting your desire into a concrete form by writing it down and creating a plan for its realization.\n",
      "- **Excerpt #2** emphasizes the need to start visualizing possession of the money and being alert for plans that may come to mind, which should be acted upon immediately.\n",
      "- **Excerpt #3** outlines specific steps to create a definite plan, including writing a clear statement of the desired amount of money, the time limit for acquiring it, and what one intends to give in return.\n",
      "- **Excerpt #4** lists the first three steps in the process of transforming desire into financial equivalent, highlighting the need for definiteness in the amount desired and what one is willing to give in return.\n",
      "\n",
      "3) Extraction of relevant information:\n",
      "- From **Excerpt #1**, the key point is to reduce your desire to writing and create a plan for its realization.\n",
      "- **Excerpt #2** advises to visualize possession of the money and to act on inspirations that arise.\n",
      "- **Excerpt #3** provides a structured approach: fix the exact amount of money desired, determine what you will give in return, and establish a date for possession.\n",
      "- **Excerpt #4** reinforces the need for definiteness in both the amount of money and the reciprocal action.\n",
      "\n",
      "4) Logical synthesis:\n",
      "To transform a desire into a concrete goal, one should:\n",
      "- Write down the desire and create a detailed plan for achieving it (Excerpt #1).\n",
      "- Visualize already possessing the desired amount and be ready to act on any plans that come to mind (Excerpt #2).\n",
      "- Follow a structured approach: specify the exact amount of money desired, what you will give in return, and set a deadline for achieving this goal (Excerpt #3 and #4).\n",
      "\n",
      "5) Complete answer:\n",
      "To transform a desire into a concrete goal, you should follow these steps:\n",
      "1. Write down your desire and create a detailed plan for its realization (Excerpt #1).\n",
      "2. Visualize yourself in possession of the desired money and be alert for any plans that may come to you, acting on them immediately (Excerpt #2).\n",
      "3. Specify the exact amount of money you desire, determine what you will give in return, and establish a deadline for when you intend to possess it (Excerpt #3 and #4). This structured approach will help convert your desire into a tangible goal.\n",
      "\n",
      "SOURCES:\n",
      "Page 92\n",
      "Page 73\n",
      "Page 36\n",
      "Page 35\n",
      "\n",
      "\n",
      "=== QUESTION: What is the importance of faith in achieving success? ===\n",
      "\n",
      "RESPONSE:\n",
      "1) Understanding the question:\n",
      "The question is asking about the role and significance of faith in the context of achieving success, particularly in relation to wealth and personal development.\n",
      "\n",
      "2) Analysis of available information:\n",
      "- **Excerpt #1** emphasizes that faith is the starting point for accumulating riches and is essential for miracles and overcoming failure. It suggests that faith is a transformative element that connects human thought with Infinite Intelligence.\n",
      "- **Excerpt #2** states that faith is a state of mind that can be induced through auto-suggestion. It highlights that faith is crucial for achieving success and that it empowers thoughts and actions.\n",
      "- **Excerpt #3** discusses the emotional aspect of faith, indicating that it is the strongest emotion and that following instructions related to faith can lead to mastery over one's fate. It suggests that skepticism can be transformed into absolute faith, which is vital for success.\n",
      "- **Excerpt #4** provides examples of the power of faith, particularly referencing Christianity and the achievements attributed to faith, suggesting that faith is a fundamental force behind significant accomplishments.\n",
      "\n",
      "3) Extraction of relevant information:\n",
      "- \"FAITH is the starting point of all accumulation of riches!\" (Excerpt #1)\n",
      "- \"FAITH is a state of mind which may be induced by auto-suggestion.\" (Excerpt #2)\n",
      "- \"FAITH is the strongest, and most productive of the emotions.\" (Excerpt #3)\n",
      "- \"If you wish evidence of the power of FAITH, study the achievements of men and women who have employed it.\" (Excerpt #4)\n",
      "\n",
      "4) Logical synthesis:\n",
      "The context indicates that faith is a foundational element in achieving success. It is described as the starting point for wealth accumulation and a state of mind that can be cultivated. Faith is portrayed as a powerful emotion that, when developed, can lead to mastery over one's circumstances. Additionally, historical examples illustrate the transformative power of faith in achieving remarkable outcomes.\n",
      "\n",
      "5) Complete answer:\n",
      "Faith is critically important in achieving success as it serves as the foundational element for wealth accumulation and personal development. It is described as a state of mind that can be cultivated through auto-suggestion, empowering individuals to transform their thoughts into actions that lead to success (Excerpt #1, #2). Furthermore, faith is recognized as the strongest emotion, capable of overcoming skepticism and leading to mastery over one's fate (Excerpt #3). Historical achievements attributed to faith further underscore its significance as a driving force behind success (Excerpt #4).\n",
      "\n",
      "SOURCES:\n",
      "Page 54\n",
      "Page 54\n",
      "Page 75\n",
      "Page 59\n"
     ]
    }
   ],
   "source": [
    "# Define prompts with CoT\n",
    "COT_RAG_PROMPT_TEMPLATE = \"\"\"\n",
    "You are an AI assistant specializing in synthesis and analysis of precise information.\n",
    "Your mission is to answer questions by relying ONLY on the provided context.\n",
    "\n",
    "For each question, you MUST:\n",
    "1) Think about the exact meaning of the question and identify key information to look for\n",
    "2) Meticulously analyze the excerpts from the provided context\n",
    "3) Extract relevant information by citing specific sources in the context\n",
    "4) Organize your thinking in a structured and logical manner\n",
    "5) Provide a complete and precise answer that directly addresses the question\n",
    "\n",
    "IMPORTANT:\n",
    "- If the necessary information is not in the context, respond with \"I don't have enough information in the context to answer this question.\"\n",
    "- Never generate information that is not explicitly mentioned in the context.\n",
    "- Cite sources (excerpt numbers) to support each part of your answer.\n",
    "\n",
    "Always follow this step-by-step thinking process before providing your final answer.\n",
    "\"\"\"\n",
    "\n",
    "COT_USER_PROMPT_TEMPLATE = \"\"\"\n",
    "# CONTEXT\n",
    "{context}\n",
    "\n",
    "# CONTEXT METADATA\n",
    "{metadata}\n",
    "\n",
    "# QUESTION\n",
    "{user_query}\n",
    "\n",
    "# THINKING PROCESS\n",
    "To answer this question, I will analyze step by step:\n",
    "\n",
    "1) Understanding the question:\n",
    "[Think here about what the question is exactly asking]\n",
    "\n",
    "2) Analysis of available information:\n",
    "[Systematically examine each excerpt from the context]\n",
    "\n",
    "3) Extraction of relevant information:\n",
    "[Identify and cite specific passages that answer the question]\n",
    "\n",
    "4) Logical synthesis:\n",
    "[Organize this information coherently]\n",
    "\n",
    "5) Complete answer:\n",
    "[Formulate a precise answer based solely on the context]\n",
    "\"\"\"\n",
    "\n",
    "# Create prompts\n",
    "cot_rag_prompt = SystemRolePrompt(COT_RAG_PROMPT_TEMPLATE)\n",
    "cot_user_prompt = UserRolePrompt(COT_USER_PROMPT_TEMPLATE)\n",
    "\n",
    "# RetrievalAugmentedQAPipeline class modified to use CoT\n",
    "class RetrievalAugmentedQAPipelineWithCoT:\n",
    "    def __init__(self, llm: ChatOpenAI, vector_db_retriever: VectorDatabaseWithMetadata) -> None:\n",
    "        self.llm = llm\n",
    "        self.vector_db_retriever = vector_db_retriever\n",
    "\n",
    "    async def run_pipeline(self, user_query: str) -> dict:\n",
    "        # Retrieve relevant chunks with their metadata\n",
    "        context_list = await self.vector_db_retriever.search_by_text(user_query, k=4)\n",
    "        \n",
    "        # Format the context and metadata\n",
    "        context_prompt = \"\"\n",
    "        metadata_prompt = \"\"\n",
    "        \n",
    "        for i, (text, score, metadata) in enumerate(context_list):\n",
    "            context_prompt += f\"EXCERPT #{i+1} [relevance: {score:.4f}]:\\n{text}\\n\\n\"\n",
    "            \n",
    "            # Format metadata (for PDFs, page numbers, etc.)\n",
    "            metadata_str = \"\"\n",
    "            for key, value in metadata.items():\n",
    "                if key in [\"page_number\", \"title\", \"source\", \"author\"]:\n",
    "                    metadata_str += f\"{key}: {value}, \"\n",
    "            \n",
    "            if metadata_str:\n",
    "                metadata_prompt += f\"EXCERPT #{i+1}: {metadata_str[:-2]}\\n\"\n",
    "            else:\n",
    "                metadata_prompt += f\"EXCERPT #{i+1}: No metadata\\n\"\n",
    "        \n",
    "        # Create messages for the LLM\n",
    "        formatted_system_prompt = cot_rag_prompt.create_message()\n",
    "        formatted_user_prompt = cot_user_prompt.create_message(\n",
    "            user_query=user_query,\n",
    "            context=context_prompt,\n",
    "            metadata=metadata_prompt\n",
    "        )\n",
    "        \n",
    "        # Generate response with CoT (temperature=0 for deterministic responses)\n",
    "        response = self.llm.run(\n",
    "            [formatted_system_prompt, formatted_user_prompt],\n",
    "            temperature=0\n",
    "        )\n",
    "        \n",
    "        return {\n",
    "            \"response\": response,\n",
    "            \"context\": context_list\n",
    "        }\n",
    "\n",
    "# Initialize the RAG pipeline with CoT\n",
    "chat_openai = ChatOpenAI()\n",
    "think_grow_rich_rag_with_cot = RetrievalAugmentedQAPipelineWithCoT(\n",
    "    vector_db_retriever=vector_db,\n",
    "    llm=chat_openai\n",
    ")\n",
    "\n",
    "# Usage examples\n",
    "questions = [\n",
    "    \"What are the fundamental principles of success according to Napoleon Hill?\",\n",
    "    \"How to transform a desire into a concrete goal?\",\n",
    "    \"What is the importance of faith in achieving success?\"\n",
    "]\n",
    "\n",
    "for question in questions:\n",
    "    print(f\"\\n\\n=== QUESTION: {question} ===\")\n",
    "    result = asyncio.run(think_grow_rich_rag_with_cot.run_pipeline(question))\n",
    "    print(\"\\nRESPONSE:\")\n",
    "    print(result[\"response\"])\n",
    "    \n",
    "    # Display the sources used\n",
    "    print(\"\\nSOURCES:\")\n",
    "    for i, (_, _, metadata) in enumerate(result[\"context\"]):\n",
    "        if \"page_number\" in metadata:\n",
    "            print(f\"Page {metadata['page_number']}\")\n",
    "\n",
    "            "
   ]
  }
 ],
 "metadata": {
  "colab": {
   "provenance": []
  },
  "kernelspec": {
   "display_name": ".venv",
   "language": "python",
   "name": "python3"
  },
  "language_info": {
   "codemirror_mode": {
    "name": "ipython",
    "version": 3
   },
   "file_extension": ".py",
   "mimetype": "text/x-python",
   "name": "python",
   "nbconvert_exporter": "python",
   "pygments_lexer": "ipython3",
   "version": "3.13.2"
  }
 },
 "nbformat": 4,
 "nbformat_minor": 0
}
