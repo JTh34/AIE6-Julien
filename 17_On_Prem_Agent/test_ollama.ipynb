{
 "cells": [
  {
   "cell_type": "code",
   "execution_count": 1,
   "metadata": {},
   "outputs": [],
   "source": [
    "from langchain_ollama import ChatOllama\n",
    "\n",
    "llm = ChatOllama(model=\"deepseek-r1:8b\")"
   ]
  },
  {
   "cell_type": "code",
   "execution_count": 2,
   "metadata": {},
   "outputs": [
    {
     "name": "stdout",
     "output_type": "stream",
     "text": [
      "<think>\n",
      "I need to find the cube root of 27. The cube root is a number that, when multiplied by itself three times, gives you the original number. So for 27, I'm looking for a number x such that x * x * x = 27.\n",
      "\n",
      "What numbers cubed give me something close to 27? Let's think about some common cubes. For example, 1^3 is 1, which is too small. 2^3 is 8, still smaller than 27. 3^3 is 27! That should be it.\n",
      "\n",
      "Let me confirm: if x = 3, then 3 * 3 * 3 equals 9 times 3 is 27. Yes, that's correct.\n",
      "\n",
      "I know that cube roots can also involve negative numbers because a negative number cubed is still negative. But 27 is positive, so the cube root should be positive since we're dealing with real numbers here and not complex ones unless specified.\n",
      "\n",
      "The problem doesn't say anything about negative or imaginary roots, so I'll assume it's asking for the real cube root. Therefore, x = 3.\n",
      "\n",
      "I can think of this in terms of exponents. The cube root is the same as raising to the power of one-third, so that would be 27^{1/3}.\n",
      "\n",
      "And since 27^1 = 27, then (27^1)^{1/3} should equal 27^{1/3}, which is what we're looking for. But I know that in general, a^{m/n} means the n-th root of a to the power m.\n",
      "\n",
      "Here it's just one-third, so cube root.\n",
      "\n",
      "I can also factor 27 as 3^3 * (something), but no, 27 is exactly 3^3.\n",
      "\n",
      "Or think about other ways. For example, (-3)^3 = -27, which is not positive, so for the real cube root of a positive number, it should be positive.\n",
      "\n",
      "Sometimes people might consider only principal roots or something, but I think for this simple case, it's straightforward.\n",
      "\n",
      "Let me write it down: 27^{1/3} = (3^3)^{1/3} = 3^{3 * (1/3)} / No, that exponent rule is wrong.\n",
      "\n",
      "Exponent rules: when you have a power raised to another power, like (a^m)^n = a^{m*n}, but here it's different.\n",
      "\n",
      "I have 27 which is 3^3, and I'm taking the cube root, so (3^3)^{1/3} = 3^{(3 * 1/3)} by the power of powers rule? Let me see: yes, (a^m)^n = a^{m*n}, but here n is 1/3.\n",
      "\n",
      "So (27^{1/3}) and since 27=3^3, then it's (3^3)^{1/3} = 3^{(3 * 1/3)} = 3^1 = 3.\n",
      "\n",
      "Yes, that confirms it.\n",
      "\n",
      "Another way: cube root of 27. Let me think about the prime factors or something.\n",
      "\n",
      "27 divided by 3 is 9, and 9 divided by 3 is 3, so three groups of 3, but for cube root, I need to find a factor that appears three times? No.\n",
      "\n",
      "In terms of roots: if x^3 = 27, then solving for x.\n",
      "\n",
      "I can use the fact that (a*b)^n = a^n * b^n, but here it's just one number.\n",
      "\n",
      "Or think about inverse operations. Cube root is like undoing cubing.\n",
      "\n",
      "Since 3^3=27, cube root of 27 is 3.\n",
      "\n",
      "What about other possibilities? Like in real numbers, there might be multiple roots if we consider complex, but for cube roots, even with negatives, it's defined over reals as well.\n",
      "\n",
      "Cube root function: y = x^{1/3} is a one-to-one function from all reals to all reals. So only one value.\n",
      "\n",
      "For example, in real numbers, no other number cubed gives 27 except 3.\n",
      "\n",
      "What about fractions or decimals? Like maybe 4^3=64 too big, 2^3=8 too small, so between them, but since it's exactly a cube, I think 3 is the answer.\n",
      "\n",
      "I can use calculator in my mind: let's say x=3, 3*3=9, 9*3=27. Perfect.\n",
      "\n",
      "If I take -1 or something, (-1)^3=-1, not relevant.\n",
      "\n",
      "Or fractions: (something)^{1/3} = cube root of that fraction cubed equals the original number? No.\n",
      "\n",
      "I think it's straightforward.\n",
      "\n",
      "The question says \"the 3rd root\", which is another way to say cube root. So same thing.\n",
      "\n",
      "And it might be written as ∛27 or something, but in text it's often said as third root.\n",
      "\n",
      "Anyway, I think I'm overcomplicating this.\n",
      "\n",
      "So the answer should be 3.\n",
      "\n",
      "But let me make sure there's no trick here. Is 27 a perfect cube? Yes, because 3^3=27.\n",
      "\n",
      "Therefore, cube root is integer and exact.\n",
      "\n",
      "If it were not a perfect cube, we'd need to approximate or something, but here it is.\n",
      "\n",
      "So I think that's it.\n",
      "</think>\n",
      "The cube root of 27 is the number \\(x\\) such that \\(x \\times x \\times x = 27\\).\n",
      "\n",
      "Since \\(3 \\times 3 \\times 3 = 27\\), the cube root of 27 is 3.\n",
      "\n",
      "This can also be verified using exponents:  \n",
      "\\(27^{1/3} = (3^3)^{1/3} = 3^{(3 \\cdot 1/3)} = 3^1 = 3\\).\n",
      "\n",
      "In real numbers, the cube root function is one-to-one, so there is only one real cube root for a given number. For positive numbers like 27, it is always non-negative.\n",
      "\n",
      "Thus, \\(∛27\\) or \\(27^{1/3} = 3\\)."
     ]
    }
   ],
   "source": [
    "for chunk in llm.stream(\"What is the 3rd root of 27?\"):\n",
    "    print(chunk.content, end=\"\")"
   ]
  },
  {
   "cell_type": "code",
   "execution_count": null,
   "metadata": {},
   "outputs": [],
   "source": []
  }
 ],
 "metadata": {
  "kernelspec": {
   "display_name": ".venv",
   "language": "python",
   "name": "python3"
  },
  "language_info": {
   "codemirror_mode": {
    "name": "ipython",
    "version": 3
   },
   "file_extension": ".py",
   "mimetype": "text/x-python",
   "name": "python",
   "nbconvert_exporter": "python",
   "pygments_lexer": "ipython3",
   "version": "3.13.2"
  }
 },
 "nbformat": 4,
 "nbformat_minor": 2
}
