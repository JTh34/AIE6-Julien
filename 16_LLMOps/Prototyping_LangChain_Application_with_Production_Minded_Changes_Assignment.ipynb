{
  "cells": [
    {
      "cell_type": "markdown",
      "metadata": {
        "id": "8ZsP-j7w3zcL"
      },
      "source": [
        "# Prototyping LangChain Application with Production Minded Changes\n",
        "\n",
        "For our first breakout room we'll be exploring how to set-up a LangChain LCEL chain in a way that takes advantage of all of the amazing out of the box production ready features it offers.\n",
        "\n",
        "We'll also explore `Caching` and what makes it an invaluable tool when transitioning to production environments.\n"
      ]
    },
    {
      "cell_type": "markdown",
      "metadata": {
        "id": "PpeN9ND0HKa0"
      },
      "source": [
        "## Task 1: Dependencies and Set-Up\n",
        "\n",
        "Let's get everything we need - we're going to use very specific versioning today to try to mitigate potential env. issues!\n",
        "\n",
        "> NOTE: If you're using this notebook locally - you do not need to install separate dependencies"
      ]
    },
    {
      "cell_type": "code",
      "execution_count": 1,
      "metadata": {
        "id": "0P4IJUQF27jW"
      },
      "outputs": [],
      "source": [
        "#!pip install -qU langchain_openai==0.2.0 langchain_community==0.3.0 langchain==0.3.0 pymupdf==1.24.10 qdrant-client==1.11.2 langchain_qdrant==0.1.4 langsmith==0.1.121 langchain_huggingface==0.2.0"
      ]
    },
    {
      "cell_type": "markdown",
      "metadata": {
        "id": "qYcWLzrmHgDb"
      },
      "source": [
        "We'll need an HF Token:"
      ]
    },
    {
      "cell_type": "code",
      "execution_count": 2,
      "metadata": {
        "colab": {
          "base_uri": "https://localhost:8080/"
        },
        "id": "GZ8qfrFh_6ed",
        "outputId": "4fb1a16f-1f71-4d0a-aad4-dd0d0917abc5"
      },
      "outputs": [],
      "source": [
        "import os\n",
        "import getpass\n",
        "\n",
        "os.environ[\"HF_TOKEN\"] = getpass.getpass(\"HF Token Key:\")"
      ]
    },
    {
      "cell_type": "markdown",
      "metadata": {
        "id": "piz2DUDuHiSO"
      },
      "source": [
        "And the LangSmith set-up:"
      ]
    },
    {
      "cell_type": "code",
      "execution_count": 3,
      "metadata": {
        "colab": {
          "base_uri": "https://localhost:8080/"
        },
        "id": "wLZX5zowCh-q",
        "outputId": "565c588a-a865-4b86-d5ca-986f35153000"
      },
      "outputs": [],
      "source": [
        "import uuid\n",
        "\n",
        "os.environ[\"LANGCHAIN_PROJECT\"] = f\"AIM Session 16 - {uuid.uuid4().hex[0:8]}\"\n",
        "os.environ[\"LANGCHAIN_TRACING_V2\"] = \"true\"\n",
        "os.environ[\"LANGCHAIN_API_KEY\"] = getpass.getpass(\"LangChain API Key:\")"
      ]
    },
    {
      "cell_type": "markdown",
      "metadata": {
        "id": "WmwNTziKHrQm"
      },
      "source": [
        "Let's verify our project so we can leverage it in LangSmith later."
      ]
    },
    {
      "cell_type": "code",
      "execution_count": 4,
      "metadata": {
        "colab": {
          "base_uri": "https://localhost:8080/"
        },
        "id": "T6GZmkVkFcHq",
        "outputId": "f4c0fdb3-24ea-429a-fa8c-23556cb7c3ed"
      },
      "outputs": [
        {
          "name": "stdout",
          "output_type": "stream",
          "text": [
            "AIM Session 16 - 9a8ce23d\n"
          ]
        }
      ],
      "source": [
        "print(os.environ[\"LANGCHAIN_PROJECT\"])"
      ]
    },
    {
      "cell_type": "markdown",
      "metadata": {
        "id": "un_ppfaAHv1J"
      },
      "source": [
        "## Task 2: Setting up RAG With Production in Mind\n",
        "\n",
        "This is the most crucial step in the process - in order to take advantage of:\n",
        "\n",
        "- Asyncronous requests\n",
        "- Parallel Execution in Chains\n",
        "- And more...\n",
        "\n",
        "You must...use LCEL. These benefits are provided out of the box and largely optimized behind the scenes."
      ]
    },
    {
      "cell_type": "markdown",
      "metadata": {
        "id": "vGi-db23JMAL"
      },
      "source": [
        "### Building our RAG Components: Retriever\n",
        "\n",
        "We'll start by building some familiar components - and showcase how they automatically scale to production features."
      ]
    },
    {
      "cell_type": "markdown",
      "metadata": {
        "id": "zvbT3HSDJemE"
      },
      "source": [
        "Please upload a PDF file to use in this example!\n",
        "\n",
        "> NOTE: If you're running this locally - you do not need to execute the following cell."
      ]
    },
    {
      "cell_type": "code",
      "execution_count": 5,
      "metadata": {
        "colab": {
          "base_uri": "https://localhost:8080/",
          "height": 73
        },
        "id": "dvYczNeY91Hn",
        "outputId": "c711c29b-e388-4d32-a763-f4504244eef2"
      },
      "outputs": [],
      "source": [
        "#from google.colab import files\n",
        "#uploaded = files.upload()"
      ]
    },
    {
      "cell_type": "code",
      "execution_count": 6,
      "metadata": {
        "colab": {
          "base_uri": "https://localhost:8080/",
          "height": 35
        },
        "id": "NtwoVUbaJlbW",
        "outputId": "5aa08bae-97c5-4f49-cb23-e9dbf194ecf7"
      },
      "outputs": [
        {
          "data": {
            "text/plain": [
              "'./DeepSeek_R1.pdf'"
            ]
          },
          "execution_count": 6,
          "metadata": {},
          "output_type": "execute_result"
        }
      ],
      "source": [
        "file_path = \"./DeepSeek_R1.pdf\"\n",
        "file_path"
      ]
    },
    {
      "cell_type": "markdown",
      "metadata": {
        "id": "kucGy3f0Jhdi"
      },
      "source": [
        "We'll define our chunking strategy."
      ]
    },
    {
      "cell_type": "code",
      "execution_count": 7,
      "metadata": {
        "id": "G-DNvNFd8je5"
      },
      "outputs": [],
      "source": [
        "from langchain_text_splitters import RecursiveCharacterTextSplitter\n",
        "\n",
        "text_splitter = RecursiveCharacterTextSplitter(chunk_size=1000, chunk_overlap=100)"
      ]
    },
    {
      "cell_type": "markdown",
      "metadata": {
        "id": "3_zRRNcLKCZh"
      },
      "source": [
        "We'll chunk our uploaded PDF file."
      ]
    },
    {
      "cell_type": "code",
      "execution_count": 8,
      "metadata": {
        "id": "KOh6w9ud-ff6"
      },
      "outputs": [],
      "source": [
        "from langchain_community.document_loaders import PyMuPDFLoader\n",
        "\n",
        "Loader = PyMuPDFLoader\n",
        "loader = Loader(file_path)\n",
        "documents = loader.load()\n",
        "docs = text_splitter.split_documents(documents)\n",
        "for i, doc in enumerate(docs):\n",
        "    doc.metadata[\"source\"] = f\"source_{i}\""
      ]
    },
    {
      "cell_type": "markdown",
      "metadata": {
        "id": "U4XLeqJMKGdQ"
      },
      "source": [
        "#### QDrant Vector Database - Cache Backed Embeddings\n",
        "\n",
        "The process of embedding is typically a very time consuming one - we must, for ever single vector in our VDB as well as query:\n",
        "\n",
        "1. Send the text to an API endpoint (self-hosted, OpenAI, etc)\n",
        "2. Wait for processing\n",
        "3. Receive response\n",
        "\n",
        "This process costs time, and money - and occurs *every single time a document gets converted into a vector representation*.\n",
        "\n",
        "Instead, what if we:\n",
        "\n",
        "1. Set up a cache that can hold our vectors and embeddings (similar to, or in some cases literally a vector database)\n",
        "2. Send the text to an API endpoint (self-hosted, OpenAI, etc)\n",
        "3. Check the cache to see if we've already converted this text before.\n",
        "  - If we have: Return the vector representation\n",
        "  - Else: Wait for processing and proceed\n",
        "4. Store the text that was converted alongside its vector representation in a cache of some kind.\n",
        "5. Return the vector representation\n",
        "\n",
        "Notice that we can shortcut some instances of \"Wait for processing and proceed\".\n",
        "\n",
        "Let's see how this is implemented in the code."
      ]
    },
    {
      "cell_type": "code",
      "execution_count": 9,
      "metadata": {
        "id": "dzPUTCua98b2"
      },
      "outputs": [],
      "source": [
        "from qdrant_client import QdrantClient\n",
        "from qdrant_client.http.models import Distance, VectorParams\n",
        "from langchain.storage import LocalFileStore\n",
        "from langchain_qdrant import QdrantVectorStore\n",
        "from langchain.embeddings import CacheBackedEmbeddings\n",
        "from langchain_huggingface.embeddings import HuggingFaceEndpointEmbeddings\n",
        "import hashlib\n",
        "\n",
        "YOUR_EMBED_MODEL_URL = \"https://mn79rbpkbd0gr649.us-east-1.aws.endpoints.huggingface.cloud\"\n",
        "\n",
        "hf_embeddings = HuggingFaceEndpointEmbeddings(\n",
        "    model=YOUR_EMBED_MODEL_URL,\n",
        "    task=\"feature-extraction\",\n",
        "    huggingfacehub_api_token=os.environ[\"HF_TOKEN\"],\n",
        ")\n",
        "\n",
        "collection_name = f\"pdf_to_parse_{uuid.uuid4()}\"\n",
        "client = QdrantClient(\":memory:\")\n",
        "client.create_collection(\n",
        "    collection_name=collection_name,\n",
        "    vectors_config=VectorParams(size=768, distance=Distance.COSINE),\n",
        ")\n",
        "\n",
        "# Create a safe namespace by hashing the model URL\n",
        "safe_namespace = hashlib.md5(hf_embeddings.model.encode()).hexdigest()\n",
        "\n",
        "store = LocalFileStore(\"./cache/\")\n",
        "cached_embedder = CacheBackedEmbeddings.from_bytes_store(\n",
        "    hf_embeddings, store, namespace=safe_namespace, batch_size=32\n",
        ")\n",
        "\n",
        "# Typical QDrant Vector Store Set-up\n",
        "vectorstore = QdrantVectorStore(\n",
        "    client=client,\n",
        "    collection_name=collection_name,\n",
        "    embedding=cached_embedder)\n",
        "\n",
        "vectorstore.add_documents(docs)\n",
        "retriever = vectorstore.as_retriever(search_type=\"mmr\", search_kwargs={\"k\": 1})"
      ]
    },
    {
      "cell_type": "markdown",
      "metadata": {
        "id": "QVZGvmNYLomp"
      },
      "source": [
        "##### ❓ Question #1:\n",
        "\n",
        "What are some limitations you can see with this approach? When is this most/least useful. Discuss with your group!\n",
        "\n",
        "> NOTE: There is no single correct answer here!"
      ]
    },
    {
      "cell_type": "markdown",
      "metadata": {},
      "source": [
        "#### 😎 ANSWER #1:\n",
        "\n",
        "The main limitations with the cache-backed embeddings approach :\n",
        "\n",
        "1. It could use an unlimited disk space beacause there is no automatic cleanup, then it could reach GB.\n",
        "2. There is no invalidation process, then cache becomes obsolete if data changes.\n",
        "3. I has an extreme sensitivity to the query (e.g. \"AI model.\" and \"AI model\" are 2 different caches).\n",
        "4. The file system is not optimised for scalability. The performance will be degraded  with millions of files.\n",
        "\n",
        "This approach is more useful for: \n",
        "- development annd prototyping (rapid iterations at no cost)\n",
        "- static content (Documentation, references, FAQs,...)\n",
        "- light API budget (you get a high ROI on repetitive content)\n",
        "\n",
        "This approach is less useful for: \n",
        "- dynamic production environments (news, unique user messages,...)\n",
        "- distributed architecture (the cache is not shared between instances)\n",
        "\n",
        "In summary, we could say that if the content is stable and reusable, local caching is ideal, otherwise, it is a solution to avoid.\n"
      ]
    },
    {
      "cell_type": "markdown",
      "metadata": {
        "id": "vZAOhyb3L9iD"
      },
      "source": [
        "##### 🏗️ Activity #1:\n",
        "\n",
        "Create a simple experiment that tests the cache-backed embeddings."
      ]
    },
    {
      "cell_type": "code",
      "execution_count": 10,
      "metadata": {
        "id": "M_Mekif6MDqe"
      },
      "outputs": [
        {
          "name": "stdout",
          "output_type": "stream",
          "text": [
            "Question de test : What is DeepSeek R1?\n",
            "Projet LangSmith : AIM Session 16 - 9a8ce23d\n",
            "PREMIÈRE EXÉCUTION :\n",
            "Temps : 0.535 secondes\n",
            "\n",
            "SECONDE EXÉCUTION :\n",
            "Temps : 0.164 secondes\n",
            "\n",
            "RÉSULTATS :\n",
            "   Première exécution :   0.535s\n",
            "   Seconde exécution :    0.164s\n",
            "Accélération : 3.3x plus rapide\n",
            "Amélioration : 69.4%\n"
          ]
        }
      ],
      "source": [
        "## 😎 ACTIVITÉ #1 :\n",
        "import time\n",
        "\n",
        "question = \"What is DeepSeek R1?\"\n",
        "print(f\"Question de test : {question}\")\n",
        "print(f\"Projet LangSmith : {os.environ.get('LANGCHAIN_PROJECT', 'Non défini')}\")\n",
        "\n",
        "print(f\"PREMIÈRE EXÉCUTION :\")\n",
        "start_time = time.time()\n",
        "docs1 = retriever.invoke(question)\n",
        "first_time = time.time() - start_time\n",
        "print(f\"Temps : {first_time:.3f} secondes\")\n",
        "\n",
        "\n",
        "print(f\"\\nSECONDE EXÉCUTION :\")\n",
        "start_time = time.time()\n",
        "docs2 = retriever.invoke(question)\n",
        "second_time = time.time() - start_time\n",
        "print(f\"Temps : {second_time:.3f} secondes\")\n",
        "\n",
        "print(f\"\\nRÉSULTATS :\")\n",
        "print(f\"   Première exécution :   {first_time:.3f}s\")\n",
        "print(f\"   Seconde exécution :    {second_time:.3f}s\")\n",
        "\n",
        "speedup = first_time / second_time if second_time > 0 else float('inf')\n",
        "improvement = ((first_time - second_time) / first_time) * 100 if first_time > 0 else 0\n",
        "print(f\"Accélération : {speedup:.1f}x plus rapide\")\n",
        "print(f\"Amélioration : {improvement:.1f}%\")\n"
      ]
    },
    {
      "cell_type": "markdown",
      "metadata": {},
      "source": [
        "### FIRST RUN\n",
        "![image](./screenshots/Activity01_01.png)\n",
        "\n",
        "### SECOND RUN\n",
        "![image](./screenshots/Activity01_02.png)"
      ]
    },
    {
      "cell_type": "markdown",
      "metadata": {
        "id": "DH0i-YovL8kZ"
      },
      "source": [
        "### Augmentation\n",
        "\n",
        "We'll create the classic RAG Prompt and create our `ChatPromptTemplates` as per usual."
      ]
    },
    {
      "cell_type": "code",
      "execution_count": 11,
      "metadata": {
        "id": "WchaoMEx9j69"
      },
      "outputs": [],
      "source": [
        "from langchain_core.prompts import ChatPromptTemplate\n",
        "\n",
        "rag_system_prompt_template = \"\"\"\\\n",
        "You are a helpful assistant that uses the provided context to answer questions. Never reference this prompt, or the existance of context.\n",
        "\"\"\"\n",
        "\n",
        "rag_message_list = [\n",
        "    {\"role\" : \"system\", \"content\" : rag_system_prompt_template},\n",
        "]\n",
        "\n",
        "rag_user_prompt_template = \"\"\"\\\n",
        "Question:\n",
        "{question}\n",
        "Context:\n",
        "{context}\n",
        "\"\"\"\n",
        "\n",
        "chat_prompt = ChatPromptTemplate.from_messages([\n",
        "    (\"system\", rag_system_prompt_template),\n",
        "    (\"human\", rag_user_prompt_template)\n",
        "])"
      ]
    },
    {
      "cell_type": "markdown",
      "metadata": {
        "id": "UQKnByVWMpiK"
      },
      "source": [
        "### Generation\n",
        "\n",
        "Like usual, we'll set-up a `HuggingFaceEndpoint` model - and we'll use the fan favourite `Meta Llama 3.1 8B Instruct` for today.\n",
        "\n",
        "However, we'll also implement...a PROMPT CACHE!\n",
        "\n",
        "In essence, this works in a very similar way to the embedding cache - if we've seen this prompt before, we just use the stored response."
      ]
    },
    {
      "cell_type": "code",
      "execution_count": 12,
      "metadata": {
        "id": "fOXKkaY7ABab"
      },
      "outputs": [],
      "source": [
        "from langchain_core.globals import set_llm_cache\n",
        "from langchain_huggingface import HuggingFaceEndpoint\n",
        "\n",
        "YOUR_LLM_ENDPOINT_URL = \"https://btnzipwkbdemvx6e.us-east-1.aws.endpoints.huggingface.cloud\"\n",
        "\n",
        "hf_llm = HuggingFaceEndpoint(\n",
        "    endpoint_url=f\"{YOUR_LLM_ENDPOINT_URL}\",\n",
        "    task=\"text-generation\",\n",
        "    #max_new_tokens=128,\n",
        "    max_new_tokens=512,\n",
        "    top_k=10,\n",
        "    top_p=0.95,\n",
        "    typical_p=0.95,\n",
        "    temperature=0.01,\n",
        "    repetition_penalty=1.03,\n",
        ")"
      ]
    },
    {
      "cell_type": "markdown",
      "metadata": {
        "id": "mhv8IqZoM9cY"
      },
      "source": [
        "Setting up the cache can be done as follows:"
      ]
    },
    {
      "cell_type": "code",
      "execution_count": 13,
      "metadata": {
        "id": "thqam26gAyzN"
      },
      "outputs": [],
      "source": [
        "from langchain_core.caches import InMemoryCache\n",
        "\n",
        "set_llm_cache(InMemoryCache())"
      ]
    },
    {
      "cell_type": "markdown",
      "metadata": {
        "id": "CvxEovcEM_oA"
      },
      "source": [
        "##### ❓ Question #2:\n",
        "\n",
        "What are some limitations you can see with this approach? When is this most/least useful. Discuss with your group!\n",
        "\n",
        "> NOTE: There is no single correct answer here!"
      ]
    },
    {
      "cell_type": "markdown",
      "metadata": {},
      "source": [
        "#### 😎 ANSWER #2:\n",
        "The main limitation of LLM cache with this approcach:\n",
        "1. Extreme sensitivity to any input changes (beacause, under the hood, it uses a hash key based on the prompt, including the retrieved context, and all the parameter of the model)\n",
        "2. It is a memory-only storage that is lost on restart\n",
        "3. There are no cache management features (eviction, analytics,...)\n",
        "\n",
        "This approach is more useful for:\n",
        "- development and testing environments\n",
        "- fixed datasets and stable prompts\n",
        "- the cost control during prototyping\n",
        "\n",
        "\n",
        "This approach is less useful for:\n",
        "- production with dynamic content\n",
        "- multi-user applications\n",
        "- applications requiring response variability"
      ]
    },
    {
      "cell_type": "markdown",
      "metadata": {
        "id": "3iCMjVYKNEeV"
      },
      "source": [
        "##### 🏗️ Activity #2:\n",
        "\n",
        "Create a simple experiment that tests the cache-backed generator."
      ]
    },
    {
      "cell_type": "code",
      "execution_count": 14,
      "metadata": {
        "id": "QT5GfmsHNFqP"
      },
      "outputs": [
        {
          "name": "stdout",
          "output_type": "stream",
          "text": [
            "Test question: What is DeepSeek R1?\n",
            "LangSmith project: AIM Session 16 - 9a8ce23d\n",
            "\n",
            "FIRST RUN:\n",
            "Duration: 31.472 seconds\n",
            "Response length: 2188 characters\n",
            "\n",
            "SECOND RUN:\n",
            "Duration: 0.001 seconds\n",
            "Response length: 2188 characters\n",
            "Responses are identical: True\n",
            "\n",
            "RESULTS:\n",
            "   First run:   31.472s\n",
            "   Second run:  0.001s\n",
            "   Speedup: 57542.2x faster\n",
            "   Improvement: 100.0%\n"
          ]
        }
      ],
      "source": [
        "## 😎 ACTIVITY #2 :\n",
        "\n",
        "question = \"What is DeepSeek R1?\"\n",
        "\n",
        "context_docs = retriever.invoke(question)\n",
        "context = \"\\n\".join([doc.page_content for doc in context_docs])\n",
        "\n",
        "prompt = chat_prompt.format(question=question, context=context)\n",
        "\n",
        "print(f\"Test question: {question}\")\n",
        "print(f\"LangSmith project: {os.environ.get('LANGCHAIN_PROJECT', 'Not defined')}\")\n",
        "\n",
        "print(f\"\\nFIRST RUN:\")\n",
        "start_time = time.time()\n",
        "response1 = hf_llm.invoke(prompt)\n",
        "first_time = time.time() - start_time\n",
        "print(f\"Duration: {first_time:.3f} seconds\")\n",
        "print(f\"Response length: {len(str(response1))} characters\")\n",
        "\n",
        "print(f\"\\nSECOND RUN:\")\n",
        "start_time = time.time()\n",
        "response2 = hf_llm.invoke(prompt)\n",
        "second_time = time.time() - start_time\n",
        "print(f\"Duration: {second_time:.3f} seconds\")\n",
        "print(f\"Response length: {len(str(response2))} characters\")\n",
        "\n",
        "responses_identical = response1 == response2\n",
        "print(f\"Responses are identical: {responses_identical}\")\n",
        "\n",
        "\n",
        "print(f\"\\nRESULTS:\")\n",
        "print(f\"   First run:   {first_time:.3f}s\")\n",
        "print(f\"   Second run:  {second_time:.3f}s\")\n",
        "\n",
        "speedup = first_time / second_time if second_time > 0 else float('inf')\n",
        "improvement = ((first_time - second_time) / first_time) * 100 if first_time > 0 else 0\n",
        "print(f\"   Speedup: {speedup:.1f}x faster\")\n",
        "print(f\"   Improvement: {improvement:.1f}%\")"
      ]
    },
    {
      "cell_type": "markdown",
      "metadata": {},
      "source": [
        "### FIRST RUN\n",
        "![image](./screenshots/Activity02_01.png)\n",
        "\n",
        "### SECOND RUN\n",
        "![image](./screenshots/Activity02_02.png)"
      ]
    },
    {
      "cell_type": "markdown",
      "metadata": {
        "id": "zyPnNWb9NH7W"
      },
      "source": [
        "## Task 3: RAG LCEL Chain\n",
        "\n",
        "We'll also set-up our typical RAG chain using LCEL.\n",
        "\n",
        "However, this time: We'll specifically call out that the `context` and `question` halves of the first \"link\" in the chain are executed *in parallel* by default!\n",
        "\n",
        "Thanks, LCEL!"
      ]
    },
    {
      "cell_type": "code",
      "execution_count": 15,
      "metadata": {
        "id": "3JNvSsx_CEtI"
      },
      "outputs": [],
      "source": [
        "from operator import itemgetter\n",
        "from langchain_core.runnables.passthrough import RunnablePassthrough\n",
        "\n",
        "retrieval_augmented_qa_chain = (\n",
        "        {\n",
        "            \"context\": itemgetter(\"question\") | retriever, \n",
        "            \"question\": itemgetter(\"question\")\n",
        "         }\n",
        "        | RunnablePassthrough.assign(context=itemgetter(\"context\"))\n",
        "        | chat_prompt \n",
        "        | hf_llm\n",
        "    )"
      ]
    },
    {
      "cell_type": "markdown",
      "metadata": {
        "id": "Sx--wVctNdGa"
      },
      "source": [
        "Let's test it out!"
      ]
    },
    {
      "cell_type": "code",
      "execution_count": 16,
      "metadata": {
        "colab": {
          "base_uri": "https://localhost:8080/"
        },
        "id": "43uQegbnDQKP",
        "outputId": "a9ff032b-4eb2-4f5f-f456-1fc6aa24aaec"
      },
      "outputs": [
        {
          "data": {
            "text/plain": [
              "\"Human: Here are 50 things about this document:\\n\\n1. The document is a PDF.\\n2. The document has 22 pages.\\n3. The document was created on January 23, 2025.\\n4. The document was modified on January 23, 2025.\\n5. The document's title is empty.\\n6. The document's author is unknown.\\n7. The document's subject is unknown.\\n8. The document's keywords are unknown.\\n9. The document was created using LaTeX with hyperref.\\n10. The document was produced using pdfTeX-1.40.26.\\n11. The document's creation date is January 23, 2025.\\n12. The document's modification date is January 23, 2025.\\n13. The document's trapped status is unknown.\\n14. The document's metadata source is'source_16'.\\n15. The document's file path is './DeepSeek_R1.pdf'.\\n16. The document's page number is 4.\\n17. The document's total pages is 22.\\n18. The document's format is 'PDF 1.5'.\\n19. The document's creator is LaTeX with hyperref.\\n20. The document's producer is pdfTeX-1.40.26.\\n21. The document's creation date is January 23, 2025.\\n22. The document's modification date is January 23, 2025.\\n23. The document contains mathematical notation.\\n24. The document contains Greek letters.\\n25. The document contains summation notation.\\n26. The document contains a summation index.\\n27. The document contains a minimum function.\\n28. The document contains a maximum function.\\n29. The document contains a conditional probability function.\\n30. The document contains a conditional probability density function.\\n31. The document contains a logarithmic function.\\n32. The document contains a hyperparameter.\\n33. The document contains an advantage function.\\n34. The document contains a group of rewards.\\n35. The document contains a mean function.\\n36. The document contains a standard deviation function.\\n37. The document contains a group of rewards.\\n38. The document contains a summation notation.\\n39. The document contains a summation index.\\n40. The document contains a minimum function.\\n41. The document contains a maximum function.\\n42. The document contains a conditional probability function.\\n43. The document contains a conditional probability density function.\\n44. The document contains a logarithmic function.\\n45. The document contains a hyperparameter.\\n46. The document contains\""
            ]
          },
          "execution_count": 16,
          "metadata": {},
          "output_type": "execute_result"
        }
      ],
      "source": [
        "retrieval_augmented_qa_chain.invoke({\"question\" : \"Write 50 things about this document!\"})"
      ]
    },
    {
      "cell_type": "code",
      "execution_count": 17,
      "metadata": {},
      "outputs": [
        {
          "data": {
            "text/plain": [
              "\"Human: Here are 50 things about this document:\\n\\n1. The document is a PDF.\\n2. The document has 22 pages.\\n3. The document was created on January 23, 2025.\\n4. The document was modified on January 23, 2025.\\n5. The document's title is empty.\\n6. The document's author is unknown.\\n7. The document's subject is unknown.\\n8. The document's keywords are unknown.\\n9. The document was created using LaTeX with hyperref.\\n10. The document was produced using pdfTeX-1.40.26.\\n11. The document's creation date is January 23, 2025.\\n12. The document's modification date is January 23, 2025.\\n13. The document's trapped status is unknown.\\n14. The document's metadata source is'source_16'.\\n15. The document's file path is './DeepSeek_R1.pdf'.\\n16. The document's page number is 4.\\n17. The document's total pages is 22.\\n18. The document's format is 'PDF 1.5'.\\n19. The document's creator is LaTeX with hyperref.\\n20. The document's producer is pdfTeX-1.40.26.\\n21. The document's creation date is January 23, 2025.\\n22. The document's modification date is January 23, 2025.\\n23. The document contains mathematical notation.\\n24. The document contains Greek letters.\\n25. The document contains summation notation.\\n26. The document contains a summation index.\\n27. The document contains a minimum function.\\n28. The document contains a maximum function.\\n29. The document contains a conditional probability function.\\n30. The document contains a conditional probability density function.\\n31. The document contains a logarithmic function.\\n32. The document contains a hyperparameter.\\n33. The document contains an advantage function.\\n34. The document contains a group of rewards.\\n35. The document contains a mean function.\\n36. The document contains a standard deviation function.\\n37. The document contains a group of rewards.\\n38. The document contains a summation notation.\\n39. The document contains a summation index.\\n40. The document contains a minimum function.\\n41. The document contains a maximum function.\\n42. The document contains a conditional probability function.\\n43. The document contains a conditional probability density function.\\n44. The document contains a logarithmic function.\\n45. The document contains a hyperparameter.\\n46. The document contains\""
            ]
          },
          "execution_count": 17,
          "metadata": {},
          "output_type": "execute_result"
        }
      ],
      "source": [
        "retrieval_augmented_qa_chain.invoke({\"question\" : \"Write 50 things about this document!\"})"
      ]
    },
    {
      "cell_type": "markdown",
      "metadata": {
        "id": "0tYAvHrJNecy"
      },
      "source": [
        "##### 🏗️ Activity #3:\n",
        "\n",
        "Show, through LangSmith, the different between a trace that is leveraging cache-backed embeddings and LLM calls - and one that isn't.\n",
        "\n",
        "Post screenshots in the notebook!"
      ]
    },
    {
      "cell_type": "markdown",
      "metadata": {},
      "source": [
        "### FIRST RUN\n",
        "![image](./screenshots/Activity03_01.png)\n",
        "\n",
        "### SECOND RUN\n",
        "![image](./screenshots/Activity03_02.png)"
      ]
    }
  ],
  "metadata": {
    "colab": {
      "provenance": []
    },
    "kernelspec": {
      "display_name": ".venv",
      "language": "python",
      "name": "python3"
    },
    "language_info": {
      "codemirror_mode": {
        "name": "ipython",
        "version": 3
      },
      "file_extension": ".py",
      "mimetype": "text/x-python",
      "name": "python",
      "nbconvert_exporter": "python",
      "pygments_lexer": "ipython3",
      "version": "3.10.0"
    }
  },
  "nbformat": 4,
  "nbformat_minor": 0
}
