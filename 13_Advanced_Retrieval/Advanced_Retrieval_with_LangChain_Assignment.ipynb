{
  "cells": [
    {
      "cell_type": "markdown",
      "metadata": {
        "id": "e-IqJAMkwnCF"
      },
      "source": [
        "# Advanced Retrieval with LangChain\n",
        "\n",
        "In the following notebook, we'll explore various methods of advanced retrieval using LangChain!\n",
        "\n",
        "We'll touch on:\n",
        "\n",
        "- Naive Retrieval\n",
        "- Best-Matching 25 (BM25)\n",
        "- Multi-Query Retrieval\n",
        "- Parent-Document Retrieval\n",
        "- Contextual Compression (a.k.a. Rerank)\n",
        "- Ensemble Retrieval\n",
        "- Semantic chunking\n",
        "\n",
        "We'll also discuss how these methods impact performance on our set of documents with a simple RAG chain.\n",
        "\n",
        "There will be two breakout rooms:\n",
        "\n",
        "- 🤝 Breakout Room Part #1\n",
        "  - Task 1: Getting Dependencies!\n",
        "  - Task 2: Data Collection and Preparation\n",
        "  - Task 3: Setting Up QDrant!\n",
        "  - Task 4-10: Retrieval Strategies\n",
        "- 🤝 Breakout Room Part #2\n",
        "  - Activity: Evaluate with Ragas"
      ]
    },
    {
      "cell_type": "markdown",
      "metadata": {
        "id": "4rKP3hgHivpe"
      },
      "source": [
        "# 🤝 Breakout Room Part #1"
      ]
    },
    {
      "cell_type": "markdown",
      "metadata": {
        "id": "3xes8oT-xHN7"
      },
      "source": [
        "## Task 1: Getting Dependencies!\n",
        "\n",
        "We're going to need a few specific LangChain community packages, like OpenAI (for our [LLM](https://platform.openai.com/docs/models) and [Embedding Model](https://platform.openai.com/docs/guides/embeddings)) and Cohere (for our [Reranker](https://cohere.com/rerank)).\n",
        "\n",
        "> You do not need to run the following cells if you are running this notebook locally. "
      ]
    },
    {
      "cell_type": "code",
      "execution_count": 1,
      "metadata": {
        "colab": {
          "base_uri": "https://localhost:8080/"
        },
        "id": "MkgFAXWVW3wm",
        "outputId": "636db35c-f05a-4038-ec7a-02360bef2dae"
      },
      "outputs": [],
      "source": [
        "#!pip install -qU langchain langchain-openai langchain-cohere rank_bm25"
      ]
    },
    {
      "cell_type": "markdown",
      "metadata": {
        "id": "dKqYM4Eoxcov"
      },
      "source": [
        "We're also going to be leveraging [Qdrant's](https://qdrant.tech/documentation/frameworks/langchain/) (pronounced \"Quadrant\") VectorDB in \"memory\" mode (so we can leverage it locally in our colab environment)."
      ]
    },
    {
      "cell_type": "code",
      "execution_count": 2,
      "metadata": {
        "id": "s6xav5CxYnML"
      },
      "outputs": [],
      "source": [
        "#!pip install -qU qdrant-client"
      ]
    },
    {
      "cell_type": "markdown",
      "metadata": {
        "id": "Z7OHJXzfyJyA"
      },
      "source": [
        "We'll also provide our OpenAI key, as well as our Cohere API key."
      ]
    },
    {
      "cell_type": "code",
      "execution_count": 10,
      "metadata": {
        "colab": {
          "base_uri": "https://localhost:8080/"
        },
        "id": "7LttlDQUYgSI",
        "outputId": "9dca95ab-4d02-4adf-ec3f-cb831326dc54"
      },
      "outputs": [],
      "source": [
        "import os\n",
        "import getpass\n",
        "\n",
        "os.environ[\"OPENAI_API_KEY\"] = getpass.getpass(\"Enter your OpenAI API Key:\")"
      ]
    },
    {
      "cell_type": "code",
      "execution_count": 4,
      "metadata": {
        "colab": {
          "base_uri": "https://localhost:8080/"
        },
        "id": "3iUahNiJyQbv",
        "outputId": "78bf06ef-2ee8-46c3-f73d-27958b4dd79b"
      },
      "outputs": [],
      "source": [
        "os.environ[\"COHERE_API_KEY\"] = getpass.getpass(\"Cohere API Key:\")"
      ]
    },
    {
      "cell_type": "markdown",
      "metadata": {
        "id": "B0pDRFEWSXvh"
      },
      "source": []
    },
    {
      "cell_type": "markdown",
      "metadata": {
        "id": "mw304iAFyRtl"
      },
      "source": [
        "## Task 2: Data Collection and Preparation\n",
        "\n",
        "We'll be using some reviews from the 4 movies in the John Wick franchise today to explore the different retrieval strategies.\n",
        "\n",
        "These were obtained from IMDB, and are available in the [AIM Data Repository](https://github.com/AI-Maker-Space/DataRepository)."
      ]
    },
    {
      "cell_type": "markdown",
      "metadata": {
        "id": "xXKHcZmKzDwT"
      },
      "source": [
        "### Data Collection\n",
        "\n",
        "We can simply `wget` these from GitHub.\n",
        "\n",
        "You could use any review data you wanted in this step - just be careful to make sure your metadata is aligned with your choice."
      ]
    },
    {
      "cell_type": "code",
      "execution_count": 5,
      "metadata": {
        "colab": {
          "base_uri": "https://localhost:8080/"
        },
        "id": "vbbSIGtzX3dS",
        "outputId": "0ce6514e-2479-4001-af24-824f987ce599"
      },
      "outputs": [
        {
          "name": "stdout",
          "output_type": "stream",
          "text": [
            "--2025-05-16 18:17:17--  https://raw.githubusercontent.com/AI-Maker-Space/DataRepository/main/jw1.csv\n",
            "Résolution de raw.githubusercontent.com (raw.githubusercontent.com)… 2606:50c0:8000::154, 2606:50c0:8003::154, 2606:50c0:8002::154, ...\n",
            "Connexion à raw.githubusercontent.com (raw.githubusercontent.com)|2606:50c0:8000::154|:443… connecté.\n",
            "requête HTTP transmise, en attente de la réponse… 200 OK\n",
            "Taille : 19628 (19K) [text/plain]\n",
            "Sauvegarde en : « john_wick_1.csv »\n",
            "\n",
            "john_wick_1.csv     100%[===================>]  19,17K  --.-KB/s    ds 0,008s  \n",
            "\n",
            "2025-05-16 18:17:17 (2,48 MB/s) — « john_wick_1.csv » sauvegardé [19628/19628]\n",
            "\n",
            "--2025-05-16 18:17:17--  https://raw.githubusercontent.com/AI-Maker-Space/DataRepository/main/jw2.csv\n",
            "Résolution de raw.githubusercontent.com (raw.githubusercontent.com)… 2606:50c0:8003::154, 2606:50c0:8002::154, 2606:50c0:8001::154, ...\n",
            "Connexion à raw.githubusercontent.com (raw.githubusercontent.com)|2606:50c0:8003::154|:443… connecté.\n",
            "requête HTTP transmise, en attente de la réponse… 200 OK\n",
            "Taille : 14747 (14K) [text/plain]\n",
            "Sauvegarde en : « john_wick_2.csv »\n",
            "\n",
            "john_wick_2.csv     100%[===================>]  14,40K  --.-KB/s    ds 0,004s  \n",
            "\n",
            "2025-05-16 18:17:18 (3,14 MB/s) — « john_wick_2.csv » sauvegardé [14747/14747]\n",
            "\n",
            "--2025-05-16 18:17:18--  https://raw.githubusercontent.com/AI-Maker-Space/DataRepository/main/jw3.csv\n",
            "Résolution de raw.githubusercontent.com (raw.githubusercontent.com)… 2606:50c0:8002::154, 2606:50c0:8001::154, 2606:50c0:8000::154, ...\n",
            "Connexion à raw.githubusercontent.com (raw.githubusercontent.com)|2606:50c0:8002::154|:443… connecté.\n",
            "requête HTTP transmise, en attente de la réponse… 200 OK\n",
            "Taille : 13888 (14K) [text/plain]\n",
            "Sauvegarde en : « john_wick_3.csv »\n",
            "\n",
            "john_wick_3.csv     100%[===================>]  13,56K  --.-KB/s    ds 0,001s  \n",
            "\n",
            "2025-05-16 18:17:18 (14,7 MB/s) — « john_wick_3.csv » sauvegardé [13888/13888]\n",
            "\n",
            "--2025-05-16 18:17:18--  https://raw.githubusercontent.com/AI-Maker-Space/DataRepository/main/jw4.csv\n",
            "Résolution de raw.githubusercontent.com (raw.githubusercontent.com)… 2606:50c0:8001::154, 2606:50c0:8000::154, 2606:50c0:8003::154, ...\n",
            "Connexion à raw.githubusercontent.com (raw.githubusercontent.com)|2606:50c0:8001::154|:443… connecté.\n",
            "requête HTTP transmise, en attente de la réponse… 200 OK\n",
            "Taille : 15109 (15K) [text/plain]\n",
            "Sauvegarde en : « john_wick_4.csv »\n",
            "\n",
            "john_wick_4.csv     100%[===================>]  14,75K  --.-KB/s    ds 0,004s  \n",
            "\n",
            "2025-05-16 18:17:19 (4,08 MB/s) — « john_wick_4.csv » sauvegardé [15109/15109]\n",
            "\n"
          ]
        }
      ],
      "source": [
        "!wget https://raw.githubusercontent.com/AI-Maker-Space/DataRepository/main/jw1.csv -O john_wick_1.csv\n",
        "!wget https://raw.githubusercontent.com/AI-Maker-Space/DataRepository/main/jw2.csv -O john_wick_2.csv\n",
        "!wget https://raw.githubusercontent.com/AI-Maker-Space/DataRepository/main/jw3.csv -O john_wick_3.csv\n",
        "!wget https://raw.githubusercontent.com/AI-Maker-Space/DataRepository/main/jw4.csv -O john_wick_4.csv"
      ]
    },
    {
      "cell_type": "markdown",
      "metadata": {
        "id": "A92NC2QZzCsi"
      },
      "source": [
        "### Data Preparation\n",
        "\n",
        "We want to make sure all our documents have the relevant metadata for the various retrieval strategies we're going to be applying today.\n",
        "\n",
        "- Self-Query: Wants as much metadata as we can provide\n",
        "- Time-weighted: Wants temporal data\n",
        "\n",
        "> NOTE: While we're creating a temporal relationship based on when these movies came out for illustrative purposes, it needs to be clear that the \"time-weighting\" in the Time-weighted Retriever is based on when the document was *accessed* last - not when it was created."
      ]
    },
    {
      "cell_type": "code",
      "execution_count": 6,
      "metadata": {},
      "outputs": [
        {
          "data": {
            "text/html": [
              "<div>\n",
              "<style scoped>\n",
              "    .dataframe tbody tr th:only-of-type {\n",
              "        vertical-align: middle;\n",
              "    }\n",
              "\n",
              "    .dataframe tbody tr th {\n",
              "        vertical-align: top;\n",
              "    }\n",
              "\n",
              "    .dataframe thead th {\n",
              "        text-align: right;\n",
              "    }\n",
              "</style>\n",
              "<table border=\"1\" class=\"dataframe\">\n",
              "  <thead>\n",
              "    <tr style=\"text-align: right;\">\n",
              "      <th></th>\n",
              "      <th>Review_Date</th>\n",
              "      <th>Author</th>\n",
              "      <th>Rating</th>\n",
              "      <th>Review_Title</th>\n",
              "      <th>Review</th>\n",
              "      <th>Review_Url</th>\n",
              "    </tr>\n",
              "  </thead>\n",
              "  <tbody>\n",
              "    <tr>\n",
              "      <th>0</th>\n",
              "      <td>23 May 2023</td>\n",
              "      <td>siderite</td>\n",
              "      <td>4.0</td>\n",
              "      <td>What a pointless film\\n</td>\n",
              "      <td>Imagine a video game where you are shooting ba...</td>\n",
              "      <td>/review/rw9073117/?ref_=tt_urv</td>\n",
              "    </tr>\n",
              "    <tr>\n",
              "      <th>1</th>\n",
              "      <td>30 March 2023</td>\n",
              "      <td>neil-476</td>\n",
              "      <td>5.0</td>\n",
              "      <td>There is such a thing as too much\\n</td>\n",
              "      <td>The Table, the international crminal brotherho...</td>\n",
              "      <td>/review/rw8960544/?ref_=tt_urv</td>\n",
              "    </tr>\n",
              "    <tr>\n",
              "      <th>2</th>\n",
              "      <td>25 March 2023</td>\n",
              "      <td>BA_Harrison</td>\n",
              "      <td>4.0</td>\n",
              "      <td>It got on my wick.\\n</td>\n",
              "      <td>The first three John Wick films came in fairly...</td>\n",
              "      <td>/review/rw8950606/?ref_=tt_urv</td>\n",
              "    </tr>\n",
              "    <tr>\n",
              "      <th>3</th>\n",
              "      <td>23 May 2023</td>\n",
              "      <td>namob-43673</td>\n",
              "      <td>3.0</td>\n",
              "      <td>I was rolling my eyes the whole time... all 3...</td>\n",
              "      <td>These John Wick movies can be sort of fun in t...</td>\n",
              "      <td>/review/rw9072963/?ref_=tt_urv</td>\n",
              "    </tr>\n",
              "    <tr>\n",
              "      <th>4</th>\n",
              "      <td>24 March 2023</td>\n",
              "      <td>fciocca</td>\n",
              "      <td>4.0</td>\n",
              "      <td>John Wick became the parody of himself. The t...</td>\n",
              "      <td>I went to the cinema with great expectations. ...</td>\n",
              "      <td>/review/rw8948738/?ref_=tt_urv</td>\n",
              "    </tr>\n",
              "    <tr>\n",
              "      <th>5</th>\n",
              "      <td>2 April 2023</td>\n",
              "      <td>skyhawk747</td>\n",
              "      <td>4.0</td>\n",
              "      <td>Am I missing something here?\\n</td>\n",
              "      <td>What is all the raving about with this movie? ...</td>\n",
              "      <td>/review/rw8967740/?ref_=tt_urv</td>\n",
              "    </tr>\n",
              "    <tr>\n",
              "      <th>6</th>\n",
              "      <td>24 March 2023</td>\n",
              "      <td>IMDbKeepsDeletingMyReviews</td>\n",
              "      <td>5.0</td>\n",
              "      <td>\"Yeah.\"\\n</td>\n",
              "      <td>In this fourth installment of 8711's successfu...</td>\n",
              "      <td>/review/rw8947952/?ref_=tt_urv</td>\n",
              "    </tr>\n",
              "    <tr>\n",
              "      <th>7</th>\n",
              "      <td>23 April 2023</td>\n",
              "      <td>antti-eskelinen-329-929792</td>\n",
              "      <td>4.0</td>\n",
              "      <td>I don't understand the great scores of this m...</td>\n",
              "      <td>In my opinion this is by far the worst movie o...</td>\n",
              "      <td>/review/rw9011753/?ref_=tt_urv</td>\n",
              "    </tr>\n",
              "    <tr>\n",
              "      <th>8</th>\n",
              "      <td>28 May 2023</td>\n",
              "      <td>dstan-71445</td>\n",
              "      <td>2.0</td>\n",
              "      <td>Disappointed.\\n</td>\n",
              "      <td>Very much over rated. Repetitive, tiring and i...</td>\n",
              "      <td>/review/rw9082993/?ref_=tt_urv</td>\n",
              "    </tr>\n",
              "    <tr>\n",
              "      <th>9</th>\n",
              "      <td>30 March 2023</td>\n",
              "      <td>drjgardner</td>\n",
              "      <td>2.0</td>\n",
              "      <td>Ridiculous, boring and pathetic...\\n</td>\n",
              "      <td>...all at the same time. This hybrid comic boo...</td>\n",
              "      <td>/review/rw8959398/?ref_=tt_urv</td>\n",
              "    </tr>\n",
              "    <tr>\n",
              "      <th>10</th>\n",
              "      <td>22 March 2023</td>\n",
              "      <td>lovemichaeljordan</td>\n",
              "      <td>8.0</td>\n",
              "      <td>How Can Anyone Choose to Watch Marvel Over Th...</td>\n",
              "      <td>Most American action flicks released these day...</td>\n",
              "      <td>/review/rw8944843/?ref_=tt_urv</td>\n",
              "    </tr>\n",
              "    <tr>\n",
              "      <th>11</th>\n",
              "      <td>26 April 2023</td>\n",
              "      <td>kskmah</td>\n",
              "      <td>1.0</td>\n",
              "      <td>NOPE\\n</td>\n",
              "      <td>Who needs a 2hr and 40 min action movie? No on...</td>\n",
              "      <td>/review/rw9017658/?ref_=tt_urv</td>\n",
              "    </tr>\n",
              "    <tr>\n",
              "      <th>12</th>\n",
              "      <td>24 March 2023</td>\n",
              "      <td>FeastMode</td>\n",
              "      <td>9.0</td>\n",
              "      <td>A new standard has been set for fight scenes\\n</td>\n",
              "      <td>Half of this review will be me gushing about t...</td>\n",
              "      <td>/review/rw8947764/?ref_=tt_urv</td>\n",
              "    </tr>\n",
              "    <tr>\n",
              "      <th>13</th>\n",
              "      <td>29 March 2023</td>\n",
              "      <td>MovieIQTest</td>\n",
              "      <td>NaN</td>\n",
              "      <td>Where is the STORY? A brainless video game?\\n</td>\n",
              "      <td>From the very beginning to the end, nothing bu...</td>\n",
              "      <td>/review/rw8957575/?ref_=tt_urv</td>\n",
              "    </tr>\n",
              "    <tr>\n",
              "      <th>14</th>\n",
              "      <td>23 March 2023</td>\n",
              "      <td>markvanwasbeek</td>\n",
              "      <td>9.0</td>\n",
              "      <td>Yeah\\n</td>\n",
              "      <td>By now you know what to expect from a John Wic...</td>\n",
              "      <td>/review/rw8946621/?ref_=tt_urv</td>\n",
              "    </tr>\n",
              "    <tr>\n",
              "      <th>15</th>\n",
              "      <td>5 April 2023</td>\n",
              "      <td>rupali-38827</td>\n",
              "      <td>4.0</td>\n",
              "      <td>Damp Wick\\n</td>\n",
              "      <td>No idea how the ratings are as high as they ar...</td>\n",
              "      <td>/review/rw8972614/?ref_=tt_urv</td>\n",
              "    </tr>\n",
              "    <tr>\n",
              "      <th>16</th>\n",
              "      <td>25 March 2023</td>\n",
              "      <td>vengeance20</td>\n",
              "      <td>4.0</td>\n",
              "      <td>John Weak 4: It Loses It Way\\n</td>\n",
              "      <td>Ok, so I got back from seeing this entry yeste...</td>\n",
              "      <td>/review/rw8949045/?ref_=tt_urv</td>\n",
              "    </tr>\n",
              "    <tr>\n",
              "      <th>17</th>\n",
              "      <td>16 March 2023</td>\n",
              "      <td>tresm87</td>\n",
              "      <td>9.0</td>\n",
              "      <td>While the Wick franchise has already solidifi...</td>\n",
              "      <td>Stuntman turned writer/director Chad Stahelski...</td>\n",
              "      <td>/review/rw8932278/?ref_=tt_urv</td>\n",
              "    </tr>\n",
              "    <tr>\n",
              "      <th>18</th>\n",
              "      <td>17 March 2023</td>\n",
              "      <td>cadillac20</td>\n",
              "      <td>10.0</td>\n",
              "      <td>Not Just The Best John Wick, But Possibly One...</td>\n",
              "      <td>Ever since the original John Wick, the franchi...</td>\n",
              "      <td>/review/rw8935367/?ref_=tt_urv</td>\n",
              "    </tr>\n",
              "    <tr>\n",
              "      <th>19</th>\n",
              "      <td>17 March 2023</td>\n",
              "      <td>tkdlifemagazine</td>\n",
              "      <td>9.0</td>\n",
              "      <td>The Best John Wick Sequel\\n</td>\n",
              "      <td>John Wick: Chapter 4 picks up where Chapter 3:...</td>\n",
              "      <td>/review/rw8935117/?ref_=tt_urv</td>\n",
              "    </tr>\n",
              "    <tr>\n",
              "      <th>20</th>\n",
              "      <td>23 March 2023</td>\n",
              "      <td>jtindahouse</td>\n",
              "      <td>9.0</td>\n",
              "      <td>THIS is how you justify a 3 hour runtime\\n</td>\n",
              "      <td>In a world where movie sequels seem to be loat...</td>\n",
              "      <td>/review/rw8946038/?ref_=tt_urv</td>\n",
              "    </tr>\n",
              "    <tr>\n",
              "      <th>21</th>\n",
              "      <td>27 May 2023</td>\n",
              "      <td>leftbanker-1</td>\n",
              "      <td>1.0</td>\n",
              "      <td>Itchy and Scratchy: The Movie...again and aga...</td>\n",
              "      <td>He fights and bites, he fights and bites and f...</td>\n",
              "      <td>/review/rw9081081/?ref_=tt_urv</td>\n",
              "    </tr>\n",
              "    <tr>\n",
              "      <th>22</th>\n",
              "      <td>25 March 2023</td>\n",
              "      <td>solidabs</td>\n",
              "      <td>1.0</td>\n",
              "      <td>Horrible\\n</td>\n",
              "      <td>HORRIBLE movie. I love John Wick. I mean I wou...</td>\n",
              "      <td>/review/rw8949493/?ref_=tt_urv</td>\n",
              "    </tr>\n",
              "    <tr>\n",
              "      <th>23</th>\n",
              "      <td>27 March 2023</td>\n",
              "      <td>statuskuo</td>\n",
              "      <td>4.0</td>\n",
              "      <td>Sound And Fury Adds Up To Nothing\\n</td>\n",
              "      <td>Sitting through the nearly 3 hours of this opu...</td>\n",
              "      <td>/review/rw8954612/?ref_=tt_urv</td>\n",
              "    </tr>\n",
              "    <tr>\n",
              "      <th>24</th>\n",
              "      <td>3 June 2023</td>\n",
              "      <td>Phil_H</td>\n",
              "      <td>4.0</td>\n",
              "      <td>Almost 3 hours of nothing\\n</td>\n",
              "      <td>John Wick: Chapter 4 is almost three hours of ...</td>\n",
              "      <td>/review/rw9097584/?ref_=tt_urv</td>\n",
              "    </tr>\n",
              "  </tbody>\n",
              "</table>\n",
              "</div>"
            ],
            "text/plain": [
              "      Review_Date                      Author  Rating  \\\n",
              "0     23 May 2023                    siderite     4.0   \n",
              "1   30 March 2023                    neil-476     5.0   \n",
              "2   25 March 2023                 BA_Harrison     4.0   \n",
              "3     23 May 2023                 namob-43673     3.0   \n",
              "4   24 March 2023                     fciocca     4.0   \n",
              "5    2 April 2023                  skyhawk747     4.0   \n",
              "6   24 March 2023  IMDbKeepsDeletingMyReviews     5.0   \n",
              "7   23 April 2023  antti-eskelinen-329-929792     4.0   \n",
              "8     28 May 2023                 dstan-71445     2.0   \n",
              "9   30 March 2023                  drjgardner     2.0   \n",
              "10  22 March 2023           lovemichaeljordan     8.0   \n",
              "11  26 April 2023                      kskmah     1.0   \n",
              "12  24 March 2023                   FeastMode     9.0   \n",
              "13  29 March 2023                 MovieIQTest     NaN   \n",
              "14  23 March 2023              markvanwasbeek     9.0   \n",
              "15   5 April 2023                rupali-38827     4.0   \n",
              "16  25 March 2023                 vengeance20     4.0   \n",
              "17  16 March 2023                     tresm87     9.0   \n",
              "18  17 March 2023                  cadillac20    10.0   \n",
              "19  17 March 2023             tkdlifemagazine     9.0   \n",
              "20  23 March 2023                 jtindahouse     9.0   \n",
              "21    27 May 2023                leftbanker-1     1.0   \n",
              "22  25 March 2023                    solidabs     1.0   \n",
              "23  27 March 2023                   statuskuo     4.0   \n",
              "24    3 June 2023                      Phil_H     4.0   \n",
              "\n",
              "                                         Review_Title  \\\n",
              "0                             What a pointless film\\n   \n",
              "1                 There is such a thing as too much\\n   \n",
              "2                                It got on my wick.\\n   \n",
              "3    I was rolling my eyes the whole time... all 3...   \n",
              "4    John Wick became the parody of himself. The t...   \n",
              "5                      Am I missing something here?\\n   \n",
              "6                                           \"Yeah.\"\\n   \n",
              "7    I don't understand the great scores of this m...   \n",
              "8                                     Disappointed.\\n   \n",
              "9                Ridiculous, boring and pathetic...\\n   \n",
              "10   How Can Anyone Choose to Watch Marvel Over Th...   \n",
              "11                                             NOPE\\n   \n",
              "12     A new standard has been set for fight scenes\\n   \n",
              "13      Where is the STORY? A brainless video game?\\n   \n",
              "14                                             Yeah\\n   \n",
              "15                                        Damp Wick\\n   \n",
              "16                     John Weak 4: It Loses It Way\\n   \n",
              "17   While the Wick franchise has already solidifi...   \n",
              "18   Not Just The Best John Wick, But Possibly One...   \n",
              "19                        The Best John Wick Sequel\\n   \n",
              "20         THIS is how you justify a 3 hour runtime\\n   \n",
              "21   Itchy and Scratchy: The Movie...again and aga...   \n",
              "22                                         Horrible\\n   \n",
              "23                Sound And Fury Adds Up To Nothing\\n   \n",
              "24                        Almost 3 hours of nothing\\n   \n",
              "\n",
              "                                               Review  \\\n",
              "0   Imagine a video game where you are shooting ba...   \n",
              "1   The Table, the international crminal brotherho...   \n",
              "2   The first three John Wick films came in fairly...   \n",
              "3   These John Wick movies can be sort of fun in t...   \n",
              "4   I went to the cinema with great expectations. ...   \n",
              "5   What is all the raving about with this movie? ...   \n",
              "6   In this fourth installment of 8711's successfu...   \n",
              "7   In my opinion this is by far the worst movie o...   \n",
              "8   Very much over rated. Repetitive, tiring and i...   \n",
              "9   ...all at the same time. This hybrid comic boo...   \n",
              "10  Most American action flicks released these day...   \n",
              "11  Who needs a 2hr and 40 min action movie? No on...   \n",
              "12  Half of this review will be me gushing about t...   \n",
              "13  From the very beginning to the end, nothing bu...   \n",
              "14  By now you know what to expect from a John Wic...   \n",
              "15  No idea how the ratings are as high as they ar...   \n",
              "16  Ok, so I got back from seeing this entry yeste...   \n",
              "17  Stuntman turned writer/director Chad Stahelski...   \n",
              "18  Ever since the original John Wick, the franchi...   \n",
              "19  John Wick: Chapter 4 picks up where Chapter 3:...   \n",
              "20  In a world where movie sequels seem to be loat...   \n",
              "21  He fights and bites, he fights and bites and f...   \n",
              "22  HORRIBLE movie. I love John Wick. I mean I wou...   \n",
              "23  Sitting through the nearly 3 hours of this opu...   \n",
              "24  John Wick: Chapter 4 is almost three hours of ...   \n",
              "\n",
              "                        Review_Url  \n",
              "0   /review/rw9073117/?ref_=tt_urv  \n",
              "1   /review/rw8960544/?ref_=tt_urv  \n",
              "2   /review/rw8950606/?ref_=tt_urv  \n",
              "3   /review/rw9072963/?ref_=tt_urv  \n",
              "4   /review/rw8948738/?ref_=tt_urv  \n",
              "5   /review/rw8967740/?ref_=tt_urv  \n",
              "6   /review/rw8947952/?ref_=tt_urv  \n",
              "7   /review/rw9011753/?ref_=tt_urv  \n",
              "8   /review/rw9082993/?ref_=tt_urv  \n",
              "9   /review/rw8959398/?ref_=tt_urv  \n",
              "10  /review/rw8944843/?ref_=tt_urv  \n",
              "11  /review/rw9017658/?ref_=tt_urv  \n",
              "12  /review/rw8947764/?ref_=tt_urv  \n",
              "13  /review/rw8957575/?ref_=tt_urv  \n",
              "14  /review/rw8946621/?ref_=tt_urv  \n",
              "15  /review/rw8972614/?ref_=tt_urv  \n",
              "16  /review/rw8949045/?ref_=tt_urv  \n",
              "17  /review/rw8932278/?ref_=tt_urv  \n",
              "18  /review/rw8935367/?ref_=tt_urv  \n",
              "19  /review/rw8935117/?ref_=tt_urv  \n",
              "20  /review/rw8946038/?ref_=tt_urv  \n",
              "21  /review/rw9081081/?ref_=tt_urv  \n",
              "22  /review/rw8949493/?ref_=tt_urv  \n",
              "23  /review/rw8954612/?ref_=tt_urv  \n",
              "24  /review/rw9097584/?ref_=tt_urv  "
            ]
          },
          "execution_count": 6,
          "metadata": {},
          "output_type": "execute_result"
        }
      ],
      "source": [
        "import pandas as pd\n",
        "\n",
        "df = pd.read_csv(\"john_wick_4.csv\", index_col= 0)\n",
        "df\n"
      ]
    },
    {
      "cell_type": "code",
      "execution_count": 7,
      "metadata": {
        "id": "GshBjVRJZ6p8"
      },
      "outputs": [],
      "source": [
        "from langchain_community.document_loaders.csv_loader import CSVLoader\n",
        "from datetime import datetime, timedelta\n",
        "\n",
        "documents = []\n",
        "\n",
        "for i in range(1, 5):\n",
        "  loader = CSVLoader(\n",
        "      file_path=f\"john_wick_{i}.csv\",\n",
        "      metadata_columns=[\"Review_Date\", \"Review_Title\", \"Review_Url\", \"Author\", \"Rating\"]\n",
        "  )\n",
        "\n",
        "  movie_docs = loader.load()\n",
        "  for doc in movie_docs:\n",
        "\n",
        "    # Add the \"Movie Title\" (John Wick 1, 2, ...)\n",
        "    doc.metadata[\"Movie_Title\"] = f\"John Wick {i}\"\n",
        "\n",
        "    # convert \"Rating\" to an `int`, if no rating is provided - assume 0 rating\n",
        "    doc.metadata[\"Rating\"] = int(doc.metadata[\"Rating\"]) if doc.metadata[\"Rating\"] else 0\n",
        "\n",
        "    # newer movies have a more recent \"last_accessed_at\"\n",
        "    doc.metadata[\"last_accessed_at\"] = datetime.now() - timedelta(days=4-i)\n",
        "\n",
        "  documents.extend(movie_docs)"
      ]
    },
    {
      "cell_type": "markdown",
      "metadata": {
        "id": "9gQphb6y0C0S"
      },
      "source": [
        "Let's look at an example document to see if everything worked as expected!"
      ]
    },
    {
      "cell_type": "code",
      "execution_count": 8,
      "metadata": {
        "colab": {
          "base_uri": "https://localhost:8080/"
        },
        "id": "PkUkCf7DaMiq",
        "outputId": "e90bd5da-1d87-423b-838a-cb6efc16b199"
      },
      "outputs": [
        {
          "data": {
            "text/plain": [
              "Document(metadata={'source': 'john_wick_1.csv', 'row': 0, 'Review_Date': '6 May 2015', 'Review_Title': ' Kinetic, concise, and stylish; John Wick kicks ass.\\n', 'Review_Url': '/review/rw3233896/?ref_=tt_urv', 'Author': 'lnvicta', 'Rating': 8, 'Movie_Title': 'John Wick 1', 'last_accessed_at': datetime.datetime(2025, 5, 13, 18, 17, 19, 723180)}, page_content=\": 0\\nReview: The best way I can describe John Wick is to picture Taken but instead of Liam Neeson it's Keanu Reeves and instead of his daughter it's his dog. That's essentially the plot of the movie. John Wick (Reeves) is out to seek revenge on the people who took something he loved from him. It's a beautifully simple premise for an action movie - when action movies get convoluted, they get bad i.e. A Good Day to Die Hard. John Wick gives the viewers what they want: Awesome action, stylish stunts, kinetic chaos, and a relatable hero to tie it all together. John Wick succeeds in its simplicity.\")"
            ]
          },
          "execution_count": 8,
          "metadata": {},
          "output_type": "execute_result"
        }
      ],
      "source": [
        "documents[0]"
      ]
    },
    {
      "cell_type": "markdown",
      "metadata": {
        "id": "lWaQpdHl0Gzc"
      },
      "source": [
        "## Task 3: Setting up QDrant!\n",
        "\n",
        "Now that we have our documents, let's create a QDrant VectorStore with the collection name \"JohnWick\".\n",
        "\n",
        "We'll leverage OpenAI's [`text-embedding-3-small`](https://openai.com/blog/new-embedding-models-and-api-updates) because it's a very powerful (and low-cost) embedding model.\n",
        "\n",
        "> NOTE: We'll be creating additional vectorstores where necessary, but this pattern is still extremely useful."
      ]
    },
    {
      "cell_type": "code",
      "execution_count": 11,
      "metadata": {
        "id": "NT8ihRJbYmMT"
      },
      "outputs": [],
      "source": [
        "from langchain_community.vectorstores import Qdrant\n",
        "from langchain_openai import OpenAIEmbeddings\n",
        "\n",
        "embeddings = OpenAIEmbeddings(model=\"text-embedding-3-small\")\n",
        "\n",
        "vectorstore = Qdrant.from_documents(\n",
        "    documents,\n",
        "    embeddings,\n",
        "    location=\":memory:\",\n",
        "    collection_name=\"JohnWick\"\n",
        ")"
      ]
    },
    {
      "cell_type": "markdown",
      "metadata": {
        "id": "-x2SS4Rh0hiN"
      },
      "source": [
        "## Task 4: Naive RAG Chain\n",
        "\n",
        "Since we're focusing on the \"R\" in RAG today - we'll create our Retriever first."
      ]
    },
    {
      "cell_type": "markdown",
      "metadata": {
        "id": "NEH7X5Ai08FH"
      },
      "source": [
        "### R - Retrieval\n",
        "\n",
        "This naive retriever will simply look at each review as a document, and use cosine-similarity to fetch the 10 most relevant documents.\n",
        "\n",
        "> NOTE: We're choosing `10` as our `k` here to provide enough documents for our reranking process later"
      ]
    },
    {
      "cell_type": "code",
      "execution_count": 12,
      "metadata": {
        "id": "GFDPrNBtb72o"
      },
      "outputs": [],
      "source": [
        "naive_retriever = vectorstore.as_retriever(search_kwargs={\"k\" : 10})"
      ]
    },
    {
      "cell_type": "markdown",
      "metadata": {
        "id": "MbBhyQjz06dx"
      },
      "source": [
        "### A - Augmented\n",
        "\n",
        "We're going to go with a standard prompt for our simple RAG chain today! Nothing fancy here, we want this to mostly be about the Retrieval process."
      ]
    },
    {
      "cell_type": "code",
      "execution_count": 13,
      "metadata": {
        "id": "7uSz-Dbqcoki"
      },
      "outputs": [],
      "source": [
        "from langchain_core.prompts import ChatPromptTemplate\n",
        "\n",
        "RAG_TEMPLATE = \"\"\"\\\n",
        "You are a helpful and kind assistant. Use the context provided below to answer the question.\n",
        "\n",
        "If you do not know the answer, or are unsure, say you don't know.\n",
        "\n",
        "Query:\n",
        "{question}\n",
        "\n",
        "Context:\n",
        "{context}\n",
        "\"\"\"\n",
        "\n",
        "rag_prompt = ChatPromptTemplate.from_template(RAG_TEMPLATE)"
      ]
    },
    {
      "cell_type": "markdown",
      "metadata": {
        "id": "BlRzpb231GGJ"
      },
      "source": [
        "### G - Generation\n",
        "\n",
        "We're going to leverage `gpt-4.1-nano` as our LLM today, as - again - we want this to largely be about the Retrieval process."
      ]
    },
    {
      "cell_type": "code",
      "execution_count": 14,
      "metadata": {
        "id": "c-1t9H60dJLg"
      },
      "outputs": [],
      "source": [
        "from langchain_openai import ChatOpenAI\n",
        "\n",
        "chat_model = ChatOpenAI(model=\"gpt-4.1-nano\")\n"
      ]
    },
    {
      "cell_type": "markdown",
      "metadata": {
        "id": "mg3QRGzA1M2x"
      },
      "source": [
        "### LCEL RAG Chain\n",
        "\n",
        "We're going to use LCEL to construct our chain.\n",
        "\n",
        "> NOTE: This chain will be exactly the same across the various examples with the exception of our Retriever!"
      ]
    },
    {
      "cell_type": "code",
      "execution_count": 15,
      "metadata": {
        "id": "0bvstS7mdOW3"
      },
      "outputs": [],
      "source": [
        "from langchain_core.runnables import RunnablePassthrough\n",
        "from operator import itemgetter\n",
        "from langchain_core.output_parsers import StrOutputParser\n",
        "\n",
        "naive_retrieval_chain = (\n",
        "    # INVOKE CHAIN WITH: {\"question\" : \"<<SOME USER QUESTION>>\"}\n",
        "    # \"question\" : populated by getting the value of the \"question\" key\n",
        "    # \"context\"  : populated by getting the value of the \"question\" key and chaining it into the base_retriever\n",
        "    {\"context\": itemgetter(\"question\") | naive_retriever, \"question\": itemgetter(\"question\")}\n",
        "    # \"context\"  : is assigned to a RunnablePassthrough object (will not be called or considered in the next step)\n",
        "    #              by getting the value of the \"context\" key from the previous step\n",
        "    | RunnablePassthrough.assign(context=itemgetter(\"context\"))\n",
        "    # \"response\" : the \"context\" and \"question\" values are used to format our prompt object and then piped\n",
        "    #              into the LLM and stored in a key called \"response\"\n",
        "    # \"context\"  : populated by getting the value of the \"context\" key from the previous step\n",
        "    | {\"response\": rag_prompt | chat_model, \"context\": itemgetter(\"context\")}\n",
        ")"
      ]
    },
    {
      "cell_type": "markdown",
      "metadata": {
        "id": "izKujhNb1ZG8"
      },
      "source": [
        "Let's see how this simple chain does on a few different prompts.\n",
        "\n",
        "> NOTE: You might think that we've cherry picked prompts that showcase the individual skill of each of the retrieval strategies - you'd be correct!"
      ]
    },
    {
      "cell_type": "code",
      "execution_count": 16,
      "metadata": {
        "colab": {
          "base_uri": "https://localhost:8080/",
          "height": 36
        },
        "id": "LI-5ueEddku9",
        "outputId": "7f3cec18-5f4e-41bb-cf71-51ba0be5388e"
      },
      "outputs": [
        {
          "data": {
            "text/plain": [
              "\"Based on the reviews, people generally liked John Wick. Many reviewers praise its action sequences, style, and Keanu Reeves' performance, with ratings often ranging from 7 to 10. There are some mixed opinions, with a few reviewers giving lower ratings or expressing confusion about its popularity, but overall, the sentiment towards John Wick seems to be positive.\""
            ]
          },
          "execution_count": 16,
          "metadata": {},
          "output_type": "execute_result"
        }
      ],
      "source": [
        "naive_retrieval_chain.invoke({\"question\" : \"Did people generally like John Wick?\"})[\"response\"].content"
      ]
    },
    {
      "cell_type": "code",
      "execution_count": 17,
      "metadata": {},
      "outputs": [
        {
          "data": {
            "text/plain": [
              "{'response': AIMessage(content='Based on the reviews provided, people generally liked John Wick. Many reviews gave high ratings such as 9 or 10 out of 10, praising its stylish action sequences, cool character portrayal by Keanu Reeves, and overall entertainment value. While some reviews were more moderate or critical, the overall sentiment from the majority suggests that viewers to some extent enjoyed the film.', additional_kwargs={'refusal': None}, response_metadata={'token_usage': {'completion_tokens': 74, 'prompt_tokens': 3601, 'total_tokens': 3675, 'completion_tokens_details': {'accepted_prediction_tokens': 0, 'audio_tokens': 0, 'reasoning_tokens': 0, 'rejected_prediction_tokens': 0}, 'prompt_tokens_details': {'audio_tokens': 0, 'cached_tokens': 0}}, 'model_name': 'gpt-4.1-nano-2025-04-14', 'system_fingerprint': 'fp_eede8f0d45', 'id': 'chatcmpl-BXs6RXD1jM0KijKJg4VwYRZisoIL9', 'service_tier': 'default', 'finish_reason': 'stop', 'logprobs': None}, id='run--d056fab8-6bb2-43e2-84d5-0232cc3e701c-0', usage_metadata={'input_tokens': 3601, 'output_tokens': 74, 'total_tokens': 3675, 'input_token_details': {'audio': 0, 'cache_read': 0}, 'output_token_details': {'audio': 0, 'reasoning': 0}}),\n",
              " 'context': [Document(metadata={'source': 'john_wick_1.csv', 'row': 9, 'Review_Date': '20 October 2014', 'Review_Title': \" The coolest action film you'll see all year\\n\", 'Review_Url': '/review/rw3107759/?ref_=tt_urv', 'Author': 'trublu215', 'Rating': 9, 'Movie_Title': 'John Wick 1', 'last_accessed_at': '2025-05-13T18:17:19.723194', '_id': '6e05362939da4040b123aeb2aa3cb833', '_collection_name': 'JohnWick'}, page_content=\": 9\\nReview: At first glance, John Wick sounds like a terrible film on paper but with the slickness of Keanu Reeves' performance as the titular character and the sheer brilliance in its action sequences, this marks the best action film of the year and one of the absolute best in the past decade. Following a brutal home invasion that leaves his beloved dog murdered by thugs from his past, John Wick vows revenge on the ones who have taken what he loves most. Like I said, on paper, this seems like a direct-to-DVD slopfest starring John Cena but as a film with Keanu Reeves as the lead, it marks the very welcomed return for Reeves to the genre. John Wick is insanely fun, violently brutal and an overall romp especially for those disappointed by The Expendables 3. John Wick is propelled by Tarantino-esque dialog mixed with the swagger of action stars from the 70s. Reeves literally emulates cool in this film and does it with such confidence, that we don't even doubt the character...even when he kills countless bad guys with extreme force in some utterly ridiculous and implausible situations. We don't doubt it for a minute. This is EXACTLY what you want out of an action film. It is briskly paced, brilliantly shot and meticulously choreographed and keeps you wanting more and more. The supporting cast filled with the likes of John Legiuzamo, Ian McShane, and Willen Dafoe also keeps this film very interesting. These guys don't play good guys, hell, John Wick by traditional standards would be a bad guy in any other film. Every character is more ruthless than the next and pushes John Wick to be more ruthless than they are, creating a very cool dynamic between the character and the plot regarding the idea of how far is too far? However, don't expect some revelation from John Wick regarding the morality of bad and evil. This film wants you entertained and does so with brute force, it never lets up, not even for a second. One scene in particular that will have your blood pumping is a showdown between thugs and Wick in a nightclub. This action sequence remains the best in the film and will have you grasping your theater seat because of the sheer intensity of it. Overall, John Wick is slick, violent fun that turns into a remarkable, surprising film that will catch you off guard. It is THAT good. I highly recommend this film to action buffs especially but I'm sure those who just like a good movie will love it as well.\"),\n",
              "  Document(metadata={'source': 'john_wick_1.csv', 'row': 20, 'Review_Date': '22 October 2014', 'Review_Title': ' Smoothest action film to come around in a long time\\n', 'Review_Url': '/review/rw3109271/?ref_=tt_urv', 'Author': 'IceSkateUpHill', 'Rating': 10, 'Movie_Title': 'John Wick 1', 'last_accessed_at': '2025-05-13T18:17:19.723200', '_id': '05ad3d37b4274e64bdccbc864943b1a4', '_collection_name': 'JohnWick'}, page_content=\": 20\\nReview: John Wick is something special. It takes as much time setting up elaborate action sequences as it does the world with which it all takes place in. And what a world it is. It reminds me of Millers Crossing and it is cooler than any other recent attempt at noir. We are shown a criminal underworld where, if you are connected, many powerful people know who you are and show you respect. John Wick was connected but he got out. He is the rare killer who has found peace, and he is grateful for that peace. Some young kids steal that from him and he does what he does best, he wages a one man war against the Russian Mafia. It might sound like the film takes quite a leap but it all makes sense. The motives of John and the people who get in the way of his bullets are all very clear, even if it does come across as rather simple. That's the plot at it's most basic. Then there's the action. The film is directed by Reeve's stuntman from The Matrix, so this guy knows action. There are sequences that flow so smoothly it puts other action films and their quick cuts to shame. Keaunu moves so fluidly throughout the film and comes across as such a natural that the only disappointment is that we have not seen him like this before. Along the way are plenty of character actors, fans of The Matrix and The Wire will recognize a few people then there are more obvious ones like Ian McShane and Willem Dafoe. Everyone seems to be having a good time. That is another plus for this movie. It get's dark at times but overall it is quite fun, not very chipper, but fun. I cannot recommend this movie enough. I believe it is a must see for action fans and for anyone looking for something a bit different from the usual fare.\"),\n",
              "  Document(metadata={'source': 'john_wick_3.csv', 'row': 5, 'Review_Date': '17 July 2019', 'Review_Title': ' The magic is gone\\n', 'Review_Url': '/review/rw4999970/?ref_=tt_urv', 'Author': 'soundoflight', 'Rating': 5, 'Movie_Title': 'John Wick 3', 'last_accessed_at': '2025-05-15T18:17:19.723491', '_id': '4b12fcc101ee44cc8d6e81a82285895c', '_collection_name': 'JohnWick'}, page_content=': 5\\nReview: The first John Wick film was special because it broke a mold of sorts. It went against certain action film conventions - the hero was not a muscle bound hulk like a Schwarzenegger or Stallone, the action was super fast paced, the plot was basic and straighforward, but introduced some unique elements, and there was something a bit unique and stylish about the film. John Wick was cool.'),\n",
              "  Document(metadata={'source': 'john_wick_4.csv', 'row': 14, 'Review_Date': '23 March 2023', 'Review_Title': ' Yeah\\n', 'Review_Url': '/review/rw8946621/?ref_=tt_urv', 'Author': 'markvanwasbeek', 'Rating': 9, 'Movie_Title': 'John Wick 4', 'last_accessed_at': '2025-05-16T18:17:19.723637', '_id': '53f0e4bfd41c4c979e5e4d8d7a34a769', '_collection_name': 'JohnWick'}, page_content=\": 14\\nReview: By now you know what to expect from a John Wick movie. I thought the franchise was losing a little momentum in chapter 3 so I was worried this could be disappointing. It's not. It's even more on steroids than any Wick before! Even close to 3 hours it doesn't feel to long which is very special for a action movie. This franchise has set new standards. If anybody says a movie is good like John Wick, it better f'n be! The set pieces as everyone mentioned before are really insane this time. The Tokyo sceney with illuminated cherry blossoms was beautiful. The only super illogical thing that bothered me was that nobody flinched at the nightclub, eventually they did but after a whole 10 minute beatdown through the whole club, but then again it's a shady nightclub for high table people. If you liked the first three movies, get your ass to the cinema. Yeah.\"),\n",
              "  Document(metadata={'source': 'john_wick_1.csv', 'row': 0, 'Review_Date': '6 May 2015', 'Review_Title': ' Kinetic, concise, and stylish; John Wick kicks ass.\\n', 'Review_Url': '/review/rw3233896/?ref_=tt_urv', 'Author': 'lnvicta', 'Rating': 8, 'Movie_Title': 'John Wick 1', 'last_accessed_at': '2025-05-13T18:17:19.723180', '_id': '0e7731dad663415a8332841b93deec40', '_collection_name': 'JohnWick'}, page_content=\": 0\\nReview: The best way I can describe John Wick is to picture Taken but instead of Liam Neeson it's Keanu Reeves and instead of his daughter it's his dog. That's essentially the plot of the movie. John Wick (Reeves) is out to seek revenge on the people who took something he loved from him. It's a beautifully simple premise for an action movie - when action movies get convoluted, they get bad i.e. A Good Day to Die Hard. John Wick gives the viewers what they want: Awesome action, stylish stunts, kinetic chaos, and a relatable hero to tie it all together. John Wick succeeds in its simplicity.\"),\n",
              "  Document(metadata={'source': 'john_wick_2.csv', 'row': 6, 'Review_Date': '14 February 2017', 'Review_Title': \" John Wick: Chapter 2 continues it's faced paced, neo-noir story of our assassin\\n\", 'Review_Url': '/review/rw3639868/?ref_=tt_urv', 'Author': 'RforFilm', 'Rating': 8, 'Movie_Title': 'John Wick 2', 'last_accessed_at': '2025-05-14T18:17:19.723351', '_id': 'c43adb240144447d9553054925ced2e2', '_collection_name': 'JohnWick'}, page_content=\": 6\\nReview: In 2014, a Keanu Reeves revenge thriller John Wick became a surprise hit. I originally skipped out on the film as I felt that the trailers only showed an assassin story that I felt I've seen before. As far as I'm concerned, I made a big mistake. Before seeing the sequel, I felt it was important to watch the first one. I rented it on Amazon Prime and I was shock by what I saw; a dark, stylish, and fun action movie that is doing it's own thing. Though I've seen plenty stories about revenge (The Count of Monte Cristo and Moby Dick being the prime examples), I can't recall one over someone's pet being murdered.\"),\n",
              "  Document(metadata={'source': 'john_wick_4.csv', 'row': 20, 'Review_Date': '23 March 2023', 'Review_Title': ' THIS is how you justify a 3 hour runtime\\n', 'Review_Url': '/review/rw8946038/?ref_=tt_urv', 'Author': 'jtindahouse', 'Rating': 9, 'Movie_Title': 'John Wick 4', 'last_accessed_at': '2025-05-16T18:17:19.723639', '_id': 'a4980de69958427ea3b6e48fadb9393e', '_collection_name': 'JohnWick'}, page_content=\": 20\\nReview: In a world where movie sequels seem to be loathed even before they are released, the 'John Wick' series has remained remarkably consistent and well received. In fact all three of the first films have the same IMDb rating of 7.4/10 and I noticed recently that I gave them all the same rating of 8/10. Incredibly, I think 'John Wick: Chapter 4' is the best the series has to offer. This movie was a wild ride.\"),\n",
              "  Document(metadata={'source': 'john_wick_1.csv', 'row': 2, 'Review_Date': '5 May 2023', 'Review_Title': \" You don't mess with another person's dog. It's as simple as that!\\n\", 'Review_Url': '/review/rw9033669/?ref_=tt_urv', 'Author': 'Coventry', 'Rating': 5, 'Movie_Title': 'John Wick 1', 'last_accessed_at': '2025-05-13T18:17:19.723189', '_id': 'c9699e81070a466d80b135e3a1455d2e', '_collection_name': 'JohnWick'}, page_content=': 2\\nReview: With the fourth installment scoring immensely at the cinemas as I\\'m submitting this review, and after three previous films that are apparently loved by everyone else in the world, I thought perhaps it would be time for me check out \"John Wick\".'),\n",
              "  Document(metadata={'source': 'john_wick_1.csv', 'row': 5, 'Review_Date': '23 March 2023', 'Review_Title': ' Violent and gripping story with plenty of unstopped action , shootouts and breathtaking fights\\n', 'Review_Url': '/review/rw8945545/?ref_=tt_urv', 'Author': 'ma-cortes', 'Rating': 7, 'Movie_Title': 'John Wick 1', 'last_accessed_at': '2025-05-13T18:17:19.723191', '_id': 'c08e1b030229450aacb6169a31fe2a2d', '_collection_name': 'JohnWick'}, page_content=\": 5\\nReview: Ultra-violent first entry with lots of killings, thrills , noisy action , suspense , and crossfire . In this original John Wick (2014) , an ex-hit-man comes out of retirement to track down the gangsters that killed his dog and took everything from him . With the untimely death of his beloved wife still bitter in his mouth he seeks for vengeance . But when an arrogant Russian mob prince and hoodlums steal his car and kill his dog , they are fully aware of his lethal capacity. The Bogeyman will find himself dragged into an impossible task as every killer in the business dreams of cornering the legendary Wick who now has an enormous price on his head . In this first installment John Wick , blind with revenge, and for his salvation John will immediately unleash a carefully orchestrated maelstrom of destruction against those attempt to chase him and with a price tag on his head, as he is the target of hit men : an army of bounty-hunting killers on his trail and a murderer woman everywhere . The legendary hitman will be forced to unearth his meticulously concealed identity and to carry out a relentless vendetta . Now, only blood can quench the boogeyman's thirst for retribution . Don't Set Him Off! . John Wick isn't the Boogeyman... He's the guy you send to kill the doomed Boogeyman. Revenge is all he has left. You want peace, prepare for war . Don't Hunt What You Can't Kill. Tick Tock, Mr. Wick. Everyone Is Waiting. For John Wick . Every Action Has Consequences. This Friday, Wick is Back . Its the World Vs. Wick. Every Action Has Consequences.\"),\n",
              "  Document(metadata={'source': 'john_wick_1.csv', 'row': 19, 'Review_Date': '14 April 2023', 'Review_Title': \" I Don't Get It\\n\", 'Review_Url': '/review/rw8991670/?ref_=tt_urv', 'Author': 'xiaoli7377', 'Rating': 6, 'Movie_Title': 'John Wick 1', 'last_accessed_at': '2025-05-13T18:17:19.723199', '_id': 'cf2846e8fe234e4b8f182567d7dd19ad', '_collection_name': 'JohnWick'}, page_content=': 19\\nReview: I really don\\'t understand the love that \"John Wick\" receives. It\\'s just kind of a generic action thriller to me. No different than a \"Bourne\" or \"Taken\" movie. It gets a slight bump for me in a rating of 6 instead of 5 because I did think that the cinematography was really good and also the fight choreography was top notch. I can definitely see the influence of martial arts films on this.')]}"
            ]
          },
          "execution_count": 17,
          "metadata": {},
          "output_type": "execute_result"
        }
      ],
      "source": [
        "naive_retrieval_chain.invoke({\"question\" : \"Did people generally like John Wick?\"})"
      ]
    },
    {
      "cell_type": "code",
      "execution_count": 18,
      "metadata": {
        "colab": {
          "base_uri": "https://localhost:8080/",
          "height": 36
        },
        "id": "43zdcdUydtXh",
        "outputId": "db874e67-f568-4ed1-b863-b7c17b387052"
      },
      "outputs": [
        {
          "data": {
            "text/plain": [
              "'Yes, there are reviews with a rating of 10. The URLs to those reviews are:\\n\\n1. [Review by ymyuseda](https://example.com/review/rw4854296/?ref_=tt_urv) (Review Title: \"A Masterpiece & Brilliant Sequel\")\\n2. [Review by lovemichaeljordan](https://example.com/review/rw8944843/?ref_=tt_urv) (Review Title: \"How Can Anyone Choose to Watch Marvel Over This?\")\\n\\nPlease note that the URLs are based on the review URL paths provided in the data.'"
            ]
          },
          "execution_count": 18,
          "metadata": {},
          "output_type": "execute_result"
        }
      ],
      "source": [
        "naive_retrieval_chain.invoke({\"question\" : \"Do any reviews have a rating of 10? If so - can I have the URLs to those reviews?\"})[\"response\"].content"
      ]
    },
    {
      "cell_type": "code",
      "execution_count": 19,
      "metadata": {
        "colab": {
          "base_uri": "https://localhost:8080/",
          "height": 70
        },
        "id": "lpG6rlvvvKFq",
        "outputId": "a1b330b0-628e-41be-d829-9c1d55e781f5"
      },
      "outputs": [
        {
          "data": {
            "text/plain": [
              "'In the first John Wick movie, the story follows an ex-hitman named John Wick, played by Keanu Reeves, who is mourning the recent loss of his wife. His life takes a dark turn when a young Russian punk and his gang break into his home, beating him senseless, killing his dog (a beloved gift from his wife), and stealing his car. It is revealed that John Wick is a former professional assassin with a lethal reputation. The attack on him and the theft of his car ignite a violent revenge saga as Wick, driven by grief and rage, unleashes a relentless and carefully orchestrated wave of destruction against those who wronged him. He becomes a target for a bounty of killers, including an army of bounty hunters and other deadly enemies, as he seeks retribution for the loss of his dog and the insult to his former life. The film is packed with intense action sequences, stylish stunts, and a noir-like underworld setting.'"
            ]
          },
          "execution_count": 19,
          "metadata": {},
          "output_type": "execute_result"
        }
      ],
      "source": [
        "naive_retrieval_chain.invoke({\"question\" : \"What happened in John Wick?\"})[\"response\"].content"
      ]
    },
    {
      "cell_type": "markdown",
      "metadata": {
        "id": "jsbfQmbr1leg"
      },
      "source": [
        "Overall, this is not bad! Let's see if we can make it better!"
      ]
    },
    {
      "cell_type": "markdown",
      "metadata": {
        "id": "Ft1vt8HPR16w"
      },
      "source": [
        "## Task 5: Best-Matching 25 (BM25) Retriever\n",
        "\n",
        "Taking a step back in time - [BM25](https://www.nowpublishers.com/article/Details/INR-019) is based on [Bag-Of-Words](https://en.wikipedia.org/wiki/Bag-of-words_model) which is a sparse representation of text.\n",
        "\n",
        "In essence, it's a way to compare how similar two pieces of text are based on the words they both contain.\n",
        "\n",
        "This retriever is very straightforward to set-up! Let's see it happen down below!\n"
      ]
    },
    {
      "cell_type": "code",
      "execution_count": 20,
      "metadata": {
        "id": "qdF4wuj5R-cG"
      },
      "outputs": [],
      "source": [
        "from langchain_community.retrievers import BM25Retriever\n",
        "\n",
        "bm25_retriever = BM25Retriever.from_documents(documents)"
      ]
    },
    {
      "cell_type": "markdown",
      "metadata": {
        "id": "KIjJlBQ8drKH"
      },
      "source": [
        "We'll construct the same chain - only changing the retriever."
      ]
    },
    {
      "cell_type": "code",
      "execution_count": 21,
      "metadata": {
        "id": "WR15EQG7SLuw"
      },
      "outputs": [],
      "source": [
        "bm25_retrieval_chain = (\n",
        "    {\"context\": itemgetter(\"question\") | bm25_retriever, \"question\": itemgetter(\"question\")}\n",
        "    | RunnablePassthrough.assign(context=itemgetter(\"context\"))\n",
        "    | {\"response\": rag_prompt | chat_model, \"context\": itemgetter(\"context\")}\n",
        ")"
      ]
    },
    {
      "cell_type": "markdown",
      "metadata": {
        "id": "0Gi-yXCDdvJk"
      },
      "source": [
        "Let's look at the responses!"
      ]
    },
    {
      "cell_type": "code",
      "execution_count": 22,
      "metadata": {
        "colab": {
          "base_uri": "https://localhost:8080/",
          "height": 53
        },
        "id": "oY9qzmm3SOrF",
        "outputId": "4d4f450f-5978-460f-f242-b32407868353"
      },
      "outputs": [
        {
          "data": {
            "text/plain": [
              "\"Based on the reviews provided, people's opinions on John Wick vary. Some reviewers, like IceSkateUpHill and lnvicta, highly enjoyed the movies, praising their stylish action, world-building, and entertainment value. However, others, like janetwilkinson and Phil_H, expressed negative opinions, criticizing the later films for being overly violent, plotless, or weaker compared to earlier installments. \\n\\nOverall, it seems that many people liked the John Wick movies, especially the first one, but there are also negative opinions about some of the later films.\""
            ]
          },
          "execution_count": 22,
          "metadata": {},
          "output_type": "execute_result"
        }
      ],
      "source": [
        "bm25_retrieval_chain.invoke({\"question\" : \"Did people generally like John Wick?\"})[\"response\"].content"
      ]
    },
    {
      "cell_type": "code",
      "execution_count": 23,
      "metadata": {
        "colab": {
          "base_uri": "https://localhost:8080/",
          "height": 36
        },
        "id": "igfinyneSQkh",
        "outputId": "9752d4a9-dd16-45b1-f63f-a76e93a05eb3"
      },
      "outputs": [
        {
          "data": {
            "text/plain": [
              "'Based on the provided reviews, none of them have a rating of 10. The highest ratings mentioned are 9, with one review rating 9 for \"John Wick 4\" and another for \"John Wick 2.\" Therefore, there are no reviews with a rating of 10, and I cannot provide any URLs for such reviews.'"
            ]
          },
          "execution_count": 23,
          "metadata": {},
          "output_type": "execute_result"
        }
      ],
      "source": [
        "bm25_retrieval_chain.invoke({\"question\" : \"Do any reviews have a rating of 10? If so - can I have the URLs to those reviews?\"})[\"response\"].content"
      ]
    },
    {
      "cell_type": "code",
      "execution_count": 24,
      "metadata": {
        "colab": {
          "base_uri": "https://localhost:8080/",
          "height": 53
        },
        "id": "w0H7pV_USSMQ",
        "outputId": "bdead654-3109-4143-9a30-e1d6ca8dc534"
      },
      "outputs": [
        {
          "data": {
            "text/plain": [
              "'In the John Wick series, the main character, John Wick, is a retired hitman who is drawn back into the violent underworld due to personal reasons involving the loss of his dog, which was a gift from his deceased wife. The movies depict his skillful and brutal actions as he seeks revenge against those who have wronged him, leading to intense and meticulously choreographed action scenes. The series is also set in a unique world with its own rules and hierarchies of assassins.'"
            ]
          },
          "execution_count": 24,
          "metadata": {},
          "output_type": "execute_result"
        }
      ],
      "source": [
        "bm25_retrieval_chain.invoke({\"question\" : \"What happened in John Wick?\"})[\"response\"].content"
      ]
    },
    {
      "cell_type": "markdown",
      "metadata": {
        "id": "zvg5xHaUdxCl"
      },
      "source": [
        "It's not clear that this is better or worse - but the `I don't know` isn't great!"
      ]
    },
    {
      "cell_type": "markdown",
      "metadata": {
        "id": "Q-dcbFn2vpZF"
      },
      "source": [
        "## Task 6: Contextual Compression (Using Reranking)\n",
        "\n",
        "Contextual Compression is a fairly straightforward idea: We want to \"compress\" our retrieved context into just the most useful bits.\n",
        "\n",
        "There are a few ways we can achieve this - but we're going to look at a specific example called reranking.\n",
        "\n",
        "The basic idea here is this:\n",
        "\n",
        "- We retrieve lots of documents that are very likely related to our query vector\n",
        "- We \"compress\" those documents into a smaller set of *more* related documents using a reranking algorithm.\n",
        "\n",
        "We'll be leveraging Cohere's Rerank model for our reranker today!\n",
        "\n",
        "All we need to do is the following:\n",
        "\n",
        "- Create a basic retriever\n",
        "- Create a compressor (reranker, in this case)\n",
        "\n",
        "That's it!\n",
        "\n",
        "Let's see it in the code below!"
      ]
    },
    {
      "cell_type": "code",
      "execution_count": 25,
      "metadata": {
        "id": "psHvO2K1v_ZQ"
      },
      "outputs": [],
      "source": [
        "from langchain.retrievers.contextual_compression import ContextualCompressionRetriever\n",
        "from langchain_cohere import CohereRerank\n",
        "\n",
        "compressor = CohereRerank(model=\"rerank-english-v3.0\")\n",
        "compression_retriever = ContextualCompressionRetriever(\n",
        "    base_compressor=compressor, base_retriever=naive_retriever\n",
        ")"
      ]
    },
    {
      "cell_type": "markdown",
      "metadata": {
        "id": "_TA9RB2x-j7P"
      },
      "source": [
        "Let's create our chain again, and see how this does!"
      ]
    },
    {
      "cell_type": "code",
      "execution_count": 26,
      "metadata": {
        "id": "1BXqmxvHwX6T"
      },
      "outputs": [],
      "source": [
        "contextual_compression_retrieval_chain = (\n",
        "    {\"context\": itemgetter(\"question\") | compression_retriever, \"question\": itemgetter(\"question\")}\n",
        "    | RunnablePassthrough.assign(context=itemgetter(\"context\"))\n",
        "    | {\"response\": rag_prompt | chat_model, \"context\": itemgetter(\"context\")}\n",
        ")"
      ]
    },
    {
      "cell_type": "code",
      "execution_count": 27,
      "metadata": {
        "colab": {
          "base_uri": "https://localhost:8080/",
          "height": 36
        },
        "id": "V3iGpokswcBb",
        "outputId": "f15d2aa1-5e8b-417d-f623-eb835d072e59"
      },
      "outputs": [
        {
          "data": {
            "text/plain": [
              "'Based on the reviews provided, people generally liked John Wick. The positive reviews describe it as an exciting, stylish, and fun action film, with high ratings such as 9 and 10 out of 10. However, there is a less favorable review with a rating of 5 out of 10 for the third movie, indicating some mixed opinions. Overall, the majority of comments suggest that people enjoyed the film and appreciated its action sequences, style, and Keanu Reeves’ performance.'"
            ]
          },
          "execution_count": 27,
          "metadata": {},
          "output_type": "execute_result"
        }
      ],
      "source": [
        "contextual_compression_retrieval_chain.invoke({\"question\" : \"Did people generally like John Wick?\"})[\"response\"].content"
      ]
    },
    {
      "cell_type": "code",
      "execution_count": 28,
      "metadata": {
        "colab": {
          "base_uri": "https://localhost:8080/",
          "height": 53
        },
        "id": "7u_k0i4OweUd",
        "outputId": "be5fccc8-2352-4189-c524-bbeaa28cf799"
      },
      "outputs": [
        {
          "data": {
            "text/plain": [
              "'Yes, there are reviews with a rating of 10. Here are the URLs to those reviews:\\n\\n1. Review titled \"A Masterpiece & Brilliant Sequel\" - [URL](https://yourdomain.com/review/rw4854296/?ref_=tt_urv)\\n2. Review with the title starting with \"It\\'s got its own action style!\" - [URL](https://yourdomain.com/review/rw4860412/?ref_=tt_urv)\\n\\nPlease note that the URLs are based on the review identifiers provided in the data.'"
            ]
          },
          "execution_count": 28,
          "metadata": {},
          "output_type": "execute_result"
        }
      ],
      "source": [
        "contextual_compression_retrieval_chain.invoke({\"question\" : \"Do any reviews have a rating of 10? If so - can I have the URLs to those reviews?\"})[\"response\"].content"
      ]
    },
    {
      "cell_type": "code",
      "execution_count": 29,
      "metadata": {
        "colab": {
          "base_uri": "https://localhost:8080/",
          "height": 70
        },
        "id": "zn1EqaGqweXN",
        "outputId": "42bc5972-4164-46eb-f49d-4272f39bb89b"
      },
      "outputs": [
        {
          "data": {
            "text/plain": [
              "\"In the John Wick series, the story follows a retired hitman, John Wick, played by Keanu Reeves. In the first film, he comes out of retirement to seek revenge after gangsters steal his car and kill his dog, which was a gift from his deceased wife. This leads to a violent and relentless pursuit of retribution against those who wronged him, unleashing a series of deadly confrontations and consequences. In the second film, after resolving issues with the Russian mafia, Wick is drawn back into the criminal underworld when a mobster named Santino D'Antonio seeks his help. Wick refuses, but Santino blows up his house and later puts a contract on him. Wick then embarks on a mission to recover a stolen marker and ultimately faces a bounty on his head, leading to more action and conflict. The series is characterized by stylized violence, intense action scenes, and a criminal underworld governed by strict rules.\""
            ]
          },
          "execution_count": 29,
          "metadata": {},
          "output_type": "execute_result"
        }
      ],
      "source": [
        "contextual_compression_retrieval_chain.invoke({\"question\" : \"What happened in John Wick?\"})[\"response\"].content"
      ]
    },
    {
      "cell_type": "markdown",
      "metadata": {
        "id": "OEbT0g2S-mZ4"
      },
      "source": [
        "We'll need to rely on something like Ragas to help us get a better sense of how this is performing overall - but it \"feels\" better!"
      ]
    },
    {
      "cell_type": "markdown",
      "metadata": {
        "id": "qqbghrBEQNn5"
      },
      "source": [
        "## Task 7: Multi-Query Retriever\n",
        "\n",
        "Typically in RAG we have a single query - the one provided by the user.\n",
        "\n",
        "What if we had....more than one query!\n",
        "\n",
        "In essence, a Multi-Query Retriever works by:\n",
        "\n",
        "1. Taking the original user query and creating `n` number of new user queries using an LLM.\n",
        "2. Retrieving documents for each query.\n",
        "3. Using all unique retrieved documents as context\n",
        "\n",
        "So, how is it to set-up? Not bad! Let's see it down below!\n",
        "\n"
      ]
    },
    {
      "cell_type": "code",
      "execution_count": 30,
      "metadata": {
        "id": "pfM26ReXQjzU"
      },
      "outputs": [],
      "source": [
        "from langchain.retrievers.multi_query import MultiQueryRetriever\n",
        "\n",
        "multi_query_retriever = MultiQueryRetriever.from_llm(\n",
        "    retriever=naive_retriever, llm=chat_model\n",
        ")"
      ]
    },
    {
      "cell_type": "code",
      "execution_count": 31,
      "metadata": {
        "id": "1vRc129jQ5WW"
      },
      "outputs": [],
      "source": [
        "multi_query_retrieval_chain = (\n",
        "    {\"context\": itemgetter(\"question\") | multi_query_retriever, \"question\": itemgetter(\"question\")}\n",
        "    | RunnablePassthrough.assign(context=itemgetter(\"context\"))\n",
        "    | {\"response\": rag_prompt | chat_model, \"context\": itemgetter(\"context\")}\n",
        ")"
      ]
    },
    {
      "cell_type": "code",
      "execution_count": 32,
      "metadata": {
        "colab": {
          "base_uri": "https://localhost:8080/",
          "height": 53
        },
        "id": "CGgNuOb3Q3M9",
        "outputId": "c5273ecf-da35-40b8-fbdb-0f8beab425f7"
      },
      "outputs": [
        {
          "data": {
            "text/plain": [
              "'Based on the provided reviews, people generally liked John Wick. Many reviews are highly positive, praising its stylish action, choreography, and entertainment value, with some ratings as high as 9 or 10 out of 10. However, there are also some negative opinions; a few reviews gave low ratings or criticized the films for being overly violent, lacking plot, or being unrealistic. Overall, the majority of reviews indicate that people enjoyed the series, though opinions vary.'"
            ]
          },
          "execution_count": 32,
          "metadata": {},
          "output_type": "execute_result"
        }
      ],
      "source": [
        "multi_query_retrieval_chain.invoke({\"question\" : \"Did people generally like John Wick?\"})[\"response\"].content"
      ]
    },
    {
      "cell_type": "code",
      "execution_count": 33,
      "metadata": {
        "colab": {
          "base_uri": "https://localhost:8080/",
          "height": 36
        },
        "id": "aAlSthxrRDBC",
        "outputId": "230ff807-23ae-4d25-8d11-cfdbed0b77cb"
      },
      "outputs": [
        {
          "data": {
            "text/plain": [
              "'Yes, there is a review with a rating of 10. The URL to that review is: /review/rw4854296/?ref_=tt_urv'"
            ]
          },
          "execution_count": 33,
          "metadata": {},
          "output_type": "execute_result"
        }
      ],
      "source": [
        "multi_query_retrieval_chain.invoke({\"question\" : \"Do any reviews have a rating of 10? If so - can I have the URLs to those reviews?\"})[\"response\"].content"
      ]
    },
    {
      "cell_type": "code",
      "execution_count": 34,
      "metadata": {
        "colab": {
          "base_uri": "https://localhost:8080/",
          "height": 88
        },
        "id": "Uv1mpCK8REs4",
        "outputId": "00fbc22a-ed9b-4613-9695-0b179e3f8369"
      },
      "outputs": [
        {
          "data": {
            "text/plain": [
              "'In the John Wick film series, the story centers around John Wick, a retired hitman who is drawn back into a world of violence and assassination after personal tragedies and assaults on his life. The first movie depicts his quest for revenge after gangsters kill his dog and steal his car, unleashing a brutal and stylized series of action sequences. Subsequent films explore his ongoing conflicts with criminal organizations, obligations to a secret assassin society, and the repercussions of his actions, all marked by high-octane fight scenes, meticulous choreography, and a richly developed underworld.'"
            ]
          },
          "execution_count": 34,
          "metadata": {},
          "output_type": "execute_result"
        }
      ],
      "source": [
        "multi_query_retrieval_chain.invoke({\"question\" : \"What happened in John Wick?\"})[\"response\"].content"
      ]
    },
    {
      "cell_type": "markdown",
      "metadata": {
        "id": "EDEawBf_d_3G"
      },
      "source": [
        "## Task 8: Parent Document Retriever\n",
        "\n",
        "A \"small-to-big\" strategy - the Parent Document Retriever works based on a simple strategy:\n",
        "\n",
        "1. Each un-split \"document\" will be designated as a \"parent document\" (You could use larger chunks of document as well, but our data format allows us to consider the overall document as the parent chunk)\n",
        "2. Store those \"parent documents\" in a memory store (not a VectorStore)\n",
        "3. We will chunk each of those documents into smaller documents, and associate them with their respective parents, and store those in a VectorStore. We'll call those \"child chunks\".\n",
        "4. When we query our Retriever, we will do a similarity search comparing our query vector to the \"child chunks\".\n",
        "5. Instead of returning the \"child chunks\", we'll return their associated \"parent chunks\".\n",
        "\n",
        "Okay, maybe that was a few steps - but the basic idea is this:\n",
        "\n",
        "- Search for small documents\n",
        "- Return big documents\n",
        "\n",
        "The intuition is that we're likely to find the most relevant information by limiting the amount of semantic information that is encoded in each embedding vector - but we're likely to miss relevant surrounding context if we only use that information.\n",
        "\n",
        "Let's start by creating our \"parent documents\" and defining a `RecursiveCharacterTextSplitter`."
      ]
    },
    {
      "cell_type": "code",
      "execution_count": 35,
      "metadata": {
        "id": "qJ53JJuMd_ZH"
      },
      "outputs": [],
      "source": [
        "from langchain.retrievers import ParentDocumentRetriever\n",
        "from langchain.storage import InMemoryStore\n",
        "from langchain_text_splitters import RecursiveCharacterTextSplitter\n",
        "from qdrant_client import QdrantClient, models\n",
        "\n",
        "parent_docs = documents\n",
        "child_splitter = RecursiveCharacterTextSplitter(chunk_size=200)"
      ]
    },
    {
      "cell_type": "markdown",
      "metadata": {
        "id": "oOpXfVUH3gL3"
      },
      "source": [
        "We'll need to set up a new QDrant vectorstore - and we'll use another useful pattern to do so!\n",
        "\n",
        "> NOTE: We are manually defining our embedding dimension, you'll need to change this if you're using a different embedding model."
      ]
    },
    {
      "cell_type": "code",
      "execution_count": 36,
      "metadata": {
        "colab": {
          "base_uri": "https://localhost:8080/"
        },
        "id": "rzFc-_9HlGQ-",
        "outputId": "223662dd-c36f-42f7-d1b0-b086e571484e"
      },
      "outputs": [
        {
          "name": "stderr",
          "output_type": "stream",
          "text": [
            "/var/folders/8h/kl800c1j6hjc9xt9lm_1bhph0000gn/T/ipykernel_43515/3574430551.py:8: LangChainDeprecationWarning: The class `Qdrant` was deprecated in LangChain 0.0.37 and will be removed in 1.0. An updated version of the class exists in the :class:`~langchain-qdrant package and should be used instead. To use it run `pip install -U :class:`~langchain-qdrant` and import as `from :class:`~langchain_qdrant import Qdrant``.\n",
            "  parent_document_vectorstore = Qdrant(\n"
          ]
        }
      ],
      "source": [
        "client = QdrantClient(location=\":memory:\")\n",
        "\n",
        "client.create_collection(\n",
        "    collection_name=\"full_documents\",\n",
        "    vectors_config=models.VectorParams(size=1536, distance=models.Distance.COSINE)\n",
        ")\n",
        "\n",
        "parent_document_vectorstore = Qdrant(\n",
        "    collection_name=\"full_documents\", embeddings=OpenAIEmbeddings(model=\"text-embedding-3-small\"), client=client\n",
        ")"
      ]
    },
    {
      "cell_type": "markdown",
      "metadata": {
        "id": "sf_g95FA3s6w"
      },
      "source": [
        "Now we can create our `InMemoryStore` that will hold our \"parent documents\" - and build our retriever!"
      ]
    },
    {
      "cell_type": "code",
      "execution_count": 37,
      "metadata": {
        "id": "BpWVjPf4fLUp"
      },
      "outputs": [],
      "source": [
        "store = InMemoryStore()\n",
        "\n",
        "parent_document_retriever = ParentDocumentRetriever(\n",
        "    vectorstore = parent_document_vectorstore,\n",
        "    docstore=store,\n",
        "    child_splitter=child_splitter,\n",
        ")"
      ]
    },
    {
      "cell_type": "markdown",
      "metadata": {
        "id": "KoYmSWfE32Zo"
      },
      "source": [
        "By default, this is empty as we haven't added any documents - let's add some now!"
      ]
    },
    {
      "cell_type": "code",
      "execution_count": 38,
      "metadata": {
        "id": "iQ2ZzfKigMZc"
      },
      "outputs": [],
      "source": [
        "parent_document_retriever.add_documents(parent_docs, ids=None)"
      ]
    },
    {
      "cell_type": "markdown",
      "metadata": {
        "id": "bI7Tip1335rE"
      },
      "source": [
        "We'll create the same chain we did before - but substitute our new `parent_document_retriever`."
      ]
    },
    {
      "cell_type": "code",
      "execution_count": 39,
      "metadata": {
        "id": "Qq_adt2KlSqp"
      },
      "outputs": [],
      "source": [
        "parent_document_retrieval_chain = (\n",
        "    {\"context\": itemgetter(\"question\") | parent_document_retriever, \"question\": itemgetter(\"question\")}\n",
        "    | RunnablePassthrough.assign(context=itemgetter(\"context\"))\n",
        "    | {\"response\": rag_prompt | chat_model, \"context\": itemgetter(\"context\")}\n",
        ")"
      ]
    },
    {
      "cell_type": "markdown",
      "metadata": {
        "id": "jNolUVQb4Apt"
      },
      "source": [
        "Let's give it a whirl!"
      ]
    },
    {
      "cell_type": "code",
      "execution_count": 40,
      "metadata": {
        "colab": {
          "base_uri": "https://localhost:8080/",
          "height": 70
        },
        "id": "TXB5i89Zly5W",
        "outputId": "94c240be-7c5b-4c58-9eee-56d93285a054"
      },
      "outputs": [
        {
          "data": {
            "text/plain": [
              "'Based on the provided reviews, people\\'s opinions on John Wick vary. While some reviews, like the one from MrHeraclius, express high enthusiasm and praise the series, calling it \"highly recommend\" and praising the action, others are quite negative. For example, the review from solidabs describes John Wick 4 as a \"horrible movie\" with a lot of criticism about the plot and action scenes, indicating dissatisfaction. Another review from jtindahouse is positive and considers John Wick: Chapter 4 the best in the series.\\n\\nOverall, viewers\\' opinions are mixed, with some liking the series and others criticizing specific installments, especially the fourth movie.'"
            ]
          },
          "execution_count": 40,
          "metadata": {},
          "output_type": "execute_result"
        }
      ],
      "source": [
        "parent_document_retrieval_chain.invoke({\"question\" : \"Did people generally like John Wick?\"})[\"response\"].content"
      ]
    },
    {
      "cell_type": "code",
      "execution_count": 41,
      "metadata": {
        "colab": {
          "base_uri": "https://localhost:8080/",
          "height": 36
        },
        "id": "V5F1T-wNl3cg",
        "outputId": "9b81e72e-5db7-4b8a-b25b-400ea0df5335"
      },
      "outputs": [
        {
          "data": {
            "text/plain": [
              "'Yes, there is a review with a rating of 10. The URL to that review is: /review/rw4854296/?ref_=tt_urv'"
            ]
          },
          "execution_count": 41,
          "metadata": {},
          "output_type": "execute_result"
        }
      ],
      "source": [
        "parent_document_retrieval_chain.invoke({\"question\" : \"Do any reviews have a rating of 10? If so - can I have the URLs to those reviews?\"})[\"response\"].content"
      ]
    },
    {
      "cell_type": "code",
      "execution_count": 42,
      "metadata": {
        "colab": {
          "base_uri": "https://localhost:8080/",
          "height": 70
        },
        "id": "ZqARszGzvGcG",
        "outputId": "8867f83c-db13-4db4-d57f-9bd51d32cd8a"
      },
      "outputs": [
        {
          "data": {
            "text/plain": [
              "\"In the John Wick movies, a retired assassin named John Wick, played by Keanu Reeves, is drawn back into a violent world of hitmen and assassins. The first film begins with Wick seeking revenge after his dog is killed and his car is stolen, which leads him to unleash a relentless and deadly rampage against those who wronged him. The sequel, John Wick 2, involves Wick helping to help the Italian mafia take over the Assassin's Guild and involves traveling to various locations to confront numerous enemies, resulting in a lot of action and carnage. Overall, the series features intense violence, revenge, and a deep dive into the criminal underworld.\""
            ]
          },
          "execution_count": 42,
          "metadata": {},
          "output_type": "execute_result"
        }
      ],
      "source": [
        "parent_document_retrieval_chain.invoke({\"question\" : \"What happened in John Wick?\"})[\"response\"].content"
      ]
    },
    {
      "cell_type": "markdown",
      "metadata": {
        "id": "B41cj42s4DPM"
      },
      "source": [
        "Overall, the performance *seems* largely the same. We can leverage a tool like [Ragas]() to more effectively answer the question about the performance."
      ]
    },
    {
      "cell_type": "markdown",
      "metadata": {
        "id": "VUrIBKl_TwS9"
      },
      "source": [
        "## Task 9: Ensemble Retriever\n",
        "\n",
        "In brief, an Ensemble Retriever simply takes 2, or more, retrievers and combines their retrieved documents based on a rank-fusion algorithm.\n",
        "\n",
        "In this case - we're using the [Reciprocal Rank Fusion](https://plg.uwaterloo.ca/~gvcormac/cormacksigir09-rrf.pdf) algorithm.\n",
        "\n",
        "Setting it up is as easy as providing a list of our desired retrievers - and the weights for each retriever."
      ]
    },
    {
      "cell_type": "code",
      "execution_count": 43,
      "metadata": {
        "id": "8j7jpZsKTxic"
      },
      "outputs": [],
      "source": [
        "from langchain.retrievers import EnsembleRetriever\n",
        "\n",
        "retriever_list = [bm25_retriever, naive_retriever, parent_document_retriever, compression_retriever, multi_query_retriever]\n",
        "equal_weighting = [1/len(retriever_list)] * len(retriever_list)\n",
        "\n",
        "ensemble_retriever = EnsembleRetriever(\n",
        "    retrievers=retriever_list, weights=equal_weighting\n",
        ")"
      ]
    },
    {
      "cell_type": "markdown",
      "metadata": {
        "id": "kpo9Psl5hhJ-"
      },
      "source": [
        "We'll pack *all* of these retrievers together in an ensemble."
      ]
    },
    {
      "cell_type": "code",
      "execution_count": 44,
      "metadata": {
        "id": "KZ__EZwpUKkd"
      },
      "outputs": [],
      "source": [
        "ensemble_retrieval_chain = (\n",
        "    {\"context\": itemgetter(\"question\") | ensemble_retriever, \"question\": itemgetter(\"question\")}\n",
        "    | RunnablePassthrough.assign(context=itemgetter(\"context\"))\n",
        "    | {\"response\": rag_prompt | chat_model, \"context\": itemgetter(\"context\")}\n",
        ")"
      ]
    },
    {
      "cell_type": "markdown",
      "metadata": {
        "id": "SSsvHpRMj24L"
      },
      "source": [
        "Let's look at our results!"
      ]
    },
    {
      "cell_type": "code",
      "execution_count": 45,
      "metadata": {
        "colab": {
          "base_uri": "https://localhost:8080/",
          "height": 70
        },
        "id": "0lMvqL88UQI-",
        "outputId": "d86dd5f7-0a13-4836-c0ce-cc4c431fd889"
      },
      "outputs": [
        {
          "data": {
            "text/plain": [
              "'Based on the reviews provided, people generally liked John Wick. Several reviews are highly positive, praising the action sequences, style, and entertainment value, with ratings often above 8/10. However, there are some mixed or negative opinions as well, with a few viewers criticizing the plot, length, or over-the-top violence. Overall, the majority of feedback indicates that viewers tend to enjoy the film series, especially action fans.'"
            ]
          },
          "execution_count": 45,
          "metadata": {},
          "output_type": "execute_result"
        }
      ],
      "source": [
        "ensemble_retrieval_chain.invoke({\"question\" : \"Did people generally like John Wick?\"})[\"response\"].content"
      ]
    },
    {
      "cell_type": "code",
      "execution_count": 46,
      "metadata": {
        "colab": {
          "base_uri": "https://localhost:8080/",
          "height": 53
        },
        "id": "MNFWLYECURI1",
        "outputId": "b17973b5-66a9-4481-97d5-880b5754b5c5"
      },
      "outputs": [
        {
          "data": {
            "text/plain": [
              "'Yes, there is a review with a rating of 10. The URL to that review is: /review/rw4854296/?ref_=tt_urv'"
            ]
          },
          "execution_count": 46,
          "metadata": {},
          "output_type": "execute_result"
        }
      ],
      "source": [
        "ensemble_retrieval_chain.invoke({\"question\" : \"Do any reviews have a rating of 10? If so - can I have the URLs to those reviews?\"})[\"response\"].content"
      ]
    },
    {
      "cell_type": "code",
      "execution_count": 47,
      "metadata": {
        "colab": {
          "base_uri": "https://localhost:8080/",
          "height": 88
        },
        "id": "A7qbHfWgUR4c",
        "outputId": "f7373144-59ef-4fc7-b75d-ca00e7df881e"
      },
      "outputs": [
        {
          "data": {
            "text/plain": [
              "\"In the John Wick film series, the story centers around John Wick, a retired but legendary assassin who comes out of retirement to seek vengeance after a series of personal acts of violence. The initial film portrays how a gangsters' group kills his dog and steals his car, leading him to unleash a brutal and meticulously choreographed vengeance against them. Throughout the series, Wick faces various criminal factions, including the Russian mafia and an underground assassin's guild, with each film escalating the scope of his conflicts and the consequences of his actions. The movies combine intense action sequences, stylish world-building, and a plot of revenge and honor.\""
            ]
          },
          "execution_count": 47,
          "metadata": {},
          "output_type": "execute_result"
        }
      ],
      "source": [
        "ensemble_retrieval_chain.invoke({\"question\" : \"What happened in John Wick?\"})[\"response\"].content"
      ]
    },
    {
      "cell_type": "markdown",
      "metadata": {
        "id": "MopbkNJAXVaN"
      },
      "source": [
        "## Task 10: Semantic Chunking\n",
        "\n",
        "While this is not a retrieval method - it *is* an effective way of increasing retrieval performance on corpora that have clean semantic breaks in them.\n",
        "\n",
        "Essentially, Semantic Chunking is implemented by:\n",
        "\n",
        "1. Embedding all sentences in the corpus.\n",
        "2. Combining or splitting sequences of sentences based on their semantic similarity based on a number of [possible thresholding methods](https://python.langchain.com/docs/how_to/semantic-chunker/):\n",
        "  - `percentile`\n",
        "  - `standard_deviation`\n",
        "  - `interquartile`\n",
        "  - `gradient`\n",
        "3. Each sequence of related sentences is kept as a document!\n",
        "\n",
        "Let's see how to implement this!\n",
        "\n",
        "> NOTE: You do not need to run this cell if you're running this locally"
      ]
    },
    {
      "cell_type": "code",
      "execution_count": 48,
      "metadata": {
        "colab": {
          "base_uri": "https://localhost:8080/"
        },
        "id": "1dHeB-yGXneL",
        "outputId": "efc59105-518a-4134-9228-d98b8a97e08e"
      },
      "outputs": [],
      "source": [
        "#!pip install -qU langchain_experimental"
      ]
    },
    {
      "cell_type": "markdown",
      "metadata": {
        "id": "U9ciZbFEldv_"
      },
      "source": [
        "We'll use the `percentile` thresholding method for this example which will:\n",
        "\n",
        "Calculate all distances between sentences, and then break apart sequences of setences that exceed a given percentile among all distances."
      ]
    },
    {
      "cell_type": "code",
      "execution_count": 49,
      "metadata": {
        "id": "66EIEWiEYl5y"
      },
      "outputs": [],
      "source": [
        "from langchain_experimental.text_splitter import SemanticChunker\n",
        "\n",
        "semantic_chunker = SemanticChunker(\n",
        "    embeddings,\n",
        "    breakpoint_threshold_type=\"percentile\"\n",
        ")"
      ]
    },
    {
      "cell_type": "markdown",
      "metadata": {
        "id": "YqoKmz12mhRW"
      },
      "source": [
        "Now we can split our documents."
      ]
    },
    {
      "cell_type": "code",
      "execution_count": 50,
      "metadata": {
        "id": "ROcV7o68ZIq7"
      },
      "outputs": [],
      "source": [
        "semantic_documents = semantic_chunker.split_documents(documents)"
      ]
    },
    {
      "cell_type": "markdown",
      "metadata": {
        "id": "L8-LNC-Xmjex"
      },
      "source": [
        "Let's create a new vector store."
      ]
    },
    {
      "cell_type": "code",
      "execution_count": 51,
      "metadata": {
        "id": "h3sl9QjyZhIe"
      },
      "outputs": [],
      "source": [
        "semantic_vectorstore = Qdrant.from_documents(\n",
        "    semantic_documents,\n",
        "    embeddings,\n",
        "    location=\":memory:\",\n",
        "    collection_name=\"JohnWickSemantic\"\n",
        ")"
      ]
    },
    {
      "cell_type": "markdown",
      "metadata": {
        "id": "Eh_r_-LHmmKn"
      },
      "source": [
        "We'll use naive retrieval for this example."
      ]
    },
    {
      "cell_type": "code",
      "execution_count": 52,
      "metadata": {
        "id": "odVyDUHwZftc"
      },
      "outputs": [],
      "source": [
        "semantic_retriever = semantic_vectorstore.as_retriever(search_kwargs={\"k\" : 10})"
      ]
    },
    {
      "cell_type": "markdown",
      "metadata": {
        "id": "Mkeiv_ojmp6G"
      },
      "source": [
        "Finally we can create our classic chain!"
      ]
    },
    {
      "cell_type": "code",
      "execution_count": 53,
      "metadata": {
        "id": "xWE_0J0mZveG"
      },
      "outputs": [],
      "source": [
        "semantic_retrieval_chain = (\n",
        "    {\"context\": itemgetter(\"question\") | semantic_retriever, \"question\": itemgetter(\"question\")}\n",
        "    | RunnablePassthrough.assign(context=itemgetter(\"context\"))\n",
        "    | {\"response\": rag_prompt | chat_model, \"context\": itemgetter(\"context\")}\n",
        ")"
      ]
    },
    {
      "cell_type": "markdown",
      "metadata": {
        "id": "R5pfjLQ3ms9_"
      },
      "source": [
        "And view the results!"
      ]
    },
    {
      "cell_type": "code",
      "execution_count": 54,
      "metadata": {
        "colab": {
          "base_uri": "https://localhost:8080/",
          "height": 70
        },
        "id": "0lN2j-e4Z0SD",
        "outputId": "ef483e21-7200-4dfc-b8bf-aed4f23587b2"
      },
      "outputs": [
        {
          "data": {
            "text/plain": [
              "'Based on the reviews provided, people generally liked John Wick. Many reviews are highly positive, praising the action sequences, style, and entertainment value of the films. For example, some reviews give high ratings like 9 or 10 out of 10, and descriptions such as \"John Wick was cool,\" \"brilliantly shot,\" and \"slick, violent fun\" indicate a favorable reception. While there are some less favorable opinions with lower ratings (e.g., 0, 2, or 5 out of 10), the overall trend suggests that most people generally liked John Wick.'"
            ]
          },
          "execution_count": 54,
          "metadata": {},
          "output_type": "execute_result"
        }
      ],
      "source": [
        "semantic_retrieval_chain.invoke({\"question\" : \"Did people generally like John Wick?\"})[\"response\"].content"
      ]
    },
    {
      "cell_type": "code",
      "execution_count": 55,
      "metadata": {
        "colab": {
          "base_uri": "https://localhost:8080/",
          "height": 53
        },
        "id": "xdqfBH1SZ3f9",
        "outputId": "ed62b2d1-7586-46cc-aaf4-c54192a56155"
      },
      "outputs": [
        {
          "data": {
            "text/plain": [
              "'Yes, there is at least one review with a rating of 10. The URL to that review is:\\n\\n/review/rw4854296/?ref_=tt_urv'"
            ]
          },
          "execution_count": 55,
          "metadata": {},
          "output_type": "execute_result"
        }
      ],
      "source": [
        "semantic_retrieval_chain.invoke({\"question\" : \"Do any reviews have a rating of 10? If so - can I have the URLs to those reviews?\"})[\"response\"].content"
      ]
    },
    {
      "cell_type": "code",
      "execution_count": 56,
      "metadata": {
        "colab": {
          "base_uri": "https://localhost:8080/",
          "height": 70
        },
        "id": "rAcAObZnZ4o6",
        "outputId": "3f1cade3-41e4-4e42-ef71-048dd18e5e3a"
      },
      "outputs": [
        {
          "data": {
            "text/plain": [
              "'In the film \"John Wick,\" the story follows a retired assassin named John Wick, played by Keanu Reeves, who seeks revenge after his beloved dog is killed, his car is stolen, and his privacy is violated by a group of thugs. The thugs, led by the son of a Russian gangster John used to work for, break into his house, beat him, kill his dog, and steal his car, not knowing who he really is. This act of violence awakens John\\'s deadly skills and sets him on a path of vengeance against those who wronged him. As he reenters the criminal underworld, he becomes a target for numerous bounty-hunting killers, leading to a series of intense and stylized action sequences. The story explores themes of revenge, consequences, and the dangerous world of professional assassins.'"
            ]
          },
          "execution_count": 56,
          "metadata": {},
          "output_type": "execute_result"
        }
      ],
      "source": [
        "semantic_retrieval_chain.invoke({\"question\" : \"What happened in John Wick?\"})[\"response\"].content"
      ]
    },
    {
      "cell_type": "markdown",
      "metadata": {
        "id": "xk2n3-pnVWDJ"
      },
      "source": [
        "# 🤝 Breakout Room Part #2\n",
        "#### 🏗️ Activity #1\n",
        "\n",
        "Your task is to evaluate the various Retriever methods against eachother.\n",
        "\n",
        "You are expected to:\n",
        "\n",
        "1. Create a \"golden dataset\"\n",
        " - Use Synthetic Data Generation (powered by Ragas, or otherwise) to create this dataset\n",
        "2. Evaluate each retriever with *retriever specific* Ragas metrics\n",
        " - Semantic Chunking is not considered a retriever method and will not be required for marks, but you may find it useful to do a \"semantic chunking on\" vs. \"semantic chunking off\" comparision between them\n",
        "3. Compile these in a list and write a small paragraph about which is best for this particular data and why.\n",
        "\n",
        "Your analysis should factor in:\n",
        "  - Cost\n",
        "  - Latency\n",
        "  - Performance\n",
        "\n",
        "> NOTE: This is **NOT** required to be completed in class. Please spend time in your breakout rooms creating a plan before moving on to writing code."
      ]
    },
    {
      "cell_type": "markdown",
      "metadata": {
        "id": "TWAr16a5XMub"
      },
      "source": [
        "##### HINTS:\n",
        "\n",
        "- LangSmith provides detailed information about latency and cost."
      ]
    },
    {
      "cell_type": "code",
      "execution_count": 78,
      "metadata": {},
      "outputs": [],
      "source": [
        "# Imports standard\n",
        "import copy\n",
        "import os\n",
        "import time\n",
        "import uuid\n",
        "import numpy as np\n",
        "import pandas as pd\n",
        "from datetime import datetime, timezone\n",
        "\n",
        "# Import OpenAI\n",
        "from openai import OpenAI\n",
        "\n",
        "# Imports LangChain\n",
        "from langchain_openai import ChatOpenAI, OpenAIEmbeddings\n",
        "from langchain_core.prompts import ChatPromptTemplate\n",
        "\n",
        "\n",
        "from langchain.schema.runnable import RunnableConfig\n",
        "from langchain_core.tracers.context import tracing_v2_enabled\n",
        "from langsmith import Client\n",
        "# Imports LangSmith\n",
        "from langsmith import Client, traceable, RunTree\n",
        "from langsmith.run_helpers import get_current_run_tree\n",
        "from langsmith.wrappers import wrap_openai\n",
        "\n",
        "# Imports RAGAS\n",
        "from ragas import EvaluationDataset, evaluate, RunConfig\n",
        "from ragas.llms import LangchainLLMWrapper\n",
        "from ragas.embeddings import LangchainEmbeddingsWrapper\n",
        "from ragas.testset import TestsetGenerator\n",
        "from ragas.metrics import (\n",
        "    Faithfulness, \n",
        "    ContextPrecision\n",
        ")\n"
      ]
    },
    {
      "cell_type": "code",
      "execution_count": 59,
      "metadata": {},
      "outputs": [
        {
          "data": {
            "application/vnd.jupyter.widget-view+json": {
              "model_id": "b3816469bcae4c1bad5d3a4147fddf7b",
              "version_major": 2,
              "version_minor": 0
            },
            "text/plain": [
              "Applying SummaryExtractor:   0%|          | 0/44 [00:00<?, ?it/s]"
            ]
          },
          "metadata": {},
          "output_type": "display_data"
        },
        {
          "data": {
            "application/vnd.jupyter.widget-view+json": {
              "model_id": "c483b8853255452c872265cd3bbfb3a7",
              "version_major": 2,
              "version_minor": 0
            },
            "text/plain": [
              "Applying CustomNodeFilter:   0%|          | 0/100 [00:00<?, ?it/s]"
            ]
          },
          "metadata": {},
          "output_type": "display_data"
        },
        {
          "name": "stderr",
          "output_type": "stream",
          "text": [
            "Node 5f4f7d76-6298-4b98-b395-4dcc3c6ef7d1 does not have a summary. Skipping filtering.\n",
            "Node 38dfeaa0-7fb7-4ced-89ac-5ea4e62598bf does not have a summary. Skipping filtering.\n",
            "Node c49739a5-5d1b-43b1-9b7c-a92e84c673b3 does not have a summary. Skipping filtering.\n",
            "Node 3c412b21-bd23-49b6-9239-89dd33d382d4 does not have a summary. Skipping filtering.\n",
            "Node bd5e1e34-c598-43a6-93ae-4f972cd711e9 does not have a summary. Skipping filtering.\n",
            "Node 416b0cce-6b25-404d-a28f-8f83dcac0d3b does not have a summary. Skipping filtering.\n",
            "Node 50d2d0e0-6009-47e8-a7c9-e6f256ec62ec does not have a summary. Skipping filtering.\n",
            "Node e55d2f04-ea6c-48c3-a100-d9c478a988c5 does not have a summary. Skipping filtering.\n",
            "Node 31533cea-f8a5-4a3b-ba61-84bf5cc0216c does not have a summary. Skipping filtering.\n",
            "Node 30652d33-8cd5-41fe-955c-595605b38e25 does not have a summary. Skipping filtering.\n",
            "Node 0cdcccbd-cde0-4929-89a4-03a9ccee45d3 does not have a summary. Skipping filtering.\n",
            "Node 0a495906-185b-40b2-ba2a-788516e9ccf6 does not have a summary. Skipping filtering.\n",
            "Node 9b85413d-9db8-4d34-8da2-ffad0bda6d75 does not have a summary. Skipping filtering.\n",
            "Node 783e4154-f978-4a01-8791-d570c07fdd74 does not have a summary. Skipping filtering.\n",
            "Node 83922ee8-c074-4519-9956-8f866cee69f5 does not have a summary. Skipping filtering.\n",
            "Node 5d0d69a3-7209-4383-b444-776c54d0613c does not have a summary. Skipping filtering.\n",
            "Node 60f75eec-5cae-457f-b560-462ae293a3a1 does not have a summary. Skipping filtering.\n",
            "Node c6bac547-6015-4393-b841-e669a388d5db does not have a summary. Skipping filtering.\n",
            "Node 47c8b2b4-9481-4e8e-b25a-ad5b40db647a does not have a summary. Skipping filtering.\n",
            "Node 31c06a7c-5ffc-458f-804e-d46b63cd9f89 does not have a summary. Skipping filtering.\n",
            "Node ba3c4893-935e-4ca7-b7cf-d7f7b9c93b6a does not have a summary. Skipping filtering.\n",
            "Node 8614c2bd-8475-431a-8bce-ef571fb15c42 does not have a summary. Skipping filtering.\n",
            "Node b1d8db12-e7bf-4924-9daa-4b1cfcbbe40b does not have a summary. Skipping filtering.\n",
            "Node ba0e8009-544e-4e51-b7a8-ceaad76d0bb6 does not have a summary. Skipping filtering.\n",
            "Node ff0c87a6-0255-454b-aea1-3c9bf3ba5a33 does not have a summary. Skipping filtering.\n",
            "Node 373e236e-f114-430b-a6a2-4dd9dfcff752 does not have a summary. Skipping filtering.\n",
            "Node 5ee55196-fd7d-4f86-97c9-592cd9b5b7fe does not have a summary. Skipping filtering.\n",
            "Node a2d5d8cb-bd53-4db2-9e99-6d709d95489a does not have a summary. Skipping filtering.\n",
            "Node b08968e9-aed6-428f-bc6e-de6f1a9d003a does not have a summary. Skipping filtering.\n",
            "Node 34518efc-6641-47c8-ba42-f54b111d00e8 does not have a summary. Skipping filtering.\n",
            "Node 4dce56db-b681-42c9-b01b-a5ad8a7df63d does not have a summary. Skipping filtering.\n",
            "Node 283e3e12-3073-4982-b253-de8b8b01190b does not have a summary. Skipping filtering.\n",
            "Node 555264eb-7cd1-46e3-b9e9-0699616fa4f9 does not have a summary. Skipping filtering.\n",
            "Node 6487a4c7-ba6d-44e4-8001-43bbc39681e7 does not have a summary. Skipping filtering.\n",
            "Node d6e99dff-6d6e-47b0-b674-c4ff6620f395 does not have a summary. Skipping filtering.\n",
            "Node 19d8c78a-00d6-42f4-8235-43628d3434e3 does not have a summary. Skipping filtering.\n",
            "Node fcb61c95-f815-42ad-b512-cded226494bd does not have a summary. Skipping filtering.\n",
            "Node d636617d-07fc-4739-9baf-bf7ab9cb7cc4 does not have a summary. Skipping filtering.\n",
            "Node 62e0e0f8-c8b3-463d-969e-7a5f07d37687 does not have a summary. Skipping filtering.\n",
            "Node 2d2b7b35-7a8b-4b6c-8ec2-3fddc7afe9ba does not have a summary. Skipping filtering.\n",
            "Node b47eca1d-6198-41df-a161-09e018f51653 does not have a summary. Skipping filtering.\n",
            "Node 1dff6ab4-7546-4ddc-9313-77795bf5f6f2 does not have a summary. Skipping filtering.\n",
            "Node 43d50939-0f79-4eef-b975-e46fdd57da57 does not have a summary. Skipping filtering.\n",
            "Node 204caa17-ef14-4262-9a18-c357940b2a5b does not have a summary. Skipping filtering.\n",
            "Node cf7db754-c77b-4b86-b1b9-4687819950dd does not have a summary. Skipping filtering.\n",
            "Node ba3cb12c-7b46-47bb-85bf-6fd4bf702cdf does not have a summary. Skipping filtering.\n",
            "Node 42d8e9a4-2680-42b5-a29d-cb5be251f224 does not have a summary. Skipping filtering.\n",
            "Node 0105db42-bc24-4499-8046-157a4a39d10c does not have a summary. Skipping filtering.\n",
            "Node dccce8b5-19c5-47e9-863a-e808aa1b1523 does not have a summary. Skipping filtering.\n",
            "Node c4efa136-fb46-4466-b23d-a4a51c0e4992 does not have a summary. Skipping filtering.\n",
            "Node ca5f67a2-cb6c-4690-b31f-275093dc53da does not have a summary. Skipping filtering.\n",
            "Node c7ae7823-c25a-4788-abe7-1f1632c6fea0 does not have a summary. Skipping filtering.\n",
            "Node b3737490-876f-4bfd-aac6-e9ca8757b7e9 does not have a summary. Skipping filtering.\n",
            "Node a77df3d3-6983-42cd-99b1-cde9f4e94ef7 does not have a summary. Skipping filtering.\n",
            "Node 60f01afc-981a-477d-8580-3b8027f1e66c does not have a summary. Skipping filtering.\n",
            "Node 5314f199-e2ef-4a62-a223-2501749c8a22 does not have a summary. Skipping filtering.\n"
          ]
        },
        {
          "data": {
            "application/vnd.jupyter.widget-view+json": {
              "model_id": "3fa793be6a2c44b8a04decbc968c5b3c",
              "version_major": 2,
              "version_minor": 0
            },
            "text/plain": [
              "Applying [EmbeddingExtractor, ThemesExtractor, NERExtractor]:   0%|          | 0/244 [00:00<?, ?it/s]"
            ]
          },
          "metadata": {},
          "output_type": "display_data"
        },
        {
          "data": {
            "application/vnd.jupyter.widget-view+json": {
              "model_id": "d36d9bafb0064a4d8c46dc99e5e563ab",
              "version_major": 2,
              "version_minor": 0
            },
            "text/plain": [
              "Applying [CosineSimilarityBuilder, OverlapScoreBuilder]:   0%|          | 0/2 [00:00<?, ?it/s]"
            ]
          },
          "metadata": {},
          "output_type": "display_data"
        },
        {
          "data": {
            "application/vnd.jupyter.widget-view+json": {
              "model_id": "ea7df26f43924c7eb433fc5bafd53eb3",
              "version_major": 2,
              "version_minor": 0
            },
            "text/plain": [
              "Generating personas:   0%|          | 0/3 [00:00<?, ?it/s]"
            ]
          },
          "metadata": {},
          "output_type": "display_data"
        },
        {
          "data": {
            "application/vnd.jupyter.widget-view+json": {
              "model_id": "f0b9f277a1464d00a1ccfd2ab22ba8e6",
              "version_major": 2,
              "version_minor": 0
            },
            "text/plain": [
              "Generating Scenarios:   0%|          | 0/3 [00:00<?, ?it/s]"
            ]
          },
          "metadata": {},
          "output_type": "display_data"
        },
        {
          "data": {
            "application/vnd.jupyter.widget-view+json": {
              "model_id": "8bc9bc4713764d978abe0a6d373e8b6a",
              "version_major": 2,
              "version_minor": 0
            },
            "text/plain": [
              "Generating Samples:   0%|          | 0/12 [00:00<?, ?it/s]"
            ]
          },
          "metadata": {},
          "output_type": "display_data"
        }
      ],
      "source": [
        "generator_llm = LangchainLLMWrapper(ChatOpenAI(model=\"gpt-4.1-mini\"))\n",
        "generator_embeddings = LangchainEmbeddingsWrapper(OpenAIEmbeddings())\n",
        "generator = TestsetGenerator(llm=generator_llm, embedding_model=generator_embeddings)\n",
        "testset_dataset = generator.generate_with_langchain_docs(documents, testset_size=10)"
      ]
    },
    {
      "cell_type": "code",
      "execution_count": 60,
      "metadata": {},
      "outputs": [
        {
          "data": {
            "text/html": [
              "<div>\n",
              "<style scoped>\n",
              "    .dataframe tbody tr th:only-of-type {\n",
              "        vertical-align: middle;\n",
              "    }\n",
              "\n",
              "    .dataframe tbody tr th {\n",
              "        vertical-align: top;\n",
              "    }\n",
              "\n",
              "    .dataframe thead th {\n",
              "        text-align: right;\n",
              "    }\n",
              "</style>\n",
              "<table border=\"1\" class=\"dataframe\">\n",
              "  <thead>\n",
              "    <tr style=\"text-align: right;\">\n",
              "      <th></th>\n",
              "      <th>user_input</th>\n",
              "      <th>reference_contexts</th>\n",
              "      <th>reference</th>\n",
              "      <th>synthesizer_name</th>\n",
              "    </tr>\n",
              "  </thead>\n",
              "  <tbody>\n",
              "    <tr>\n",
              "      <th>0</th>\n",
              "      <td>Could you provide a detailed explanation of wh...</td>\n",
              "      <td>[: 0\\nReview: The best way I can describe John...</td>\n",
              "      <td>John Wick stands out as an action movie becaus...</td>\n",
              "      <td>single_hop_specifc_query_synthesizer</td>\n",
              "    </tr>\n",
              "    <tr>\n",
              "      <th>1</th>\n",
              "      <td>What is the reviewr's initial impression of th...</td>\n",
              "      <td>[: 2\\nReview: With the fourth installment scor...</td>\n",
              "      <td>The reviewer notes that the fourth installment...</td>\n",
              "      <td>single_hop_specifc_query_synthesizer</td>\n",
              "    </tr>\n",
              "    <tr>\n",
              "      <th>2</th>\n",
              "      <td>How does Keanu's performance contribute to the...</td>\n",
              "      <td>[: 3\\nReview: John wick has a very simple reve...</td>\n",
              "      <td>Keanu's performance in John Wick centers on a ...</td>\n",
              "      <td>single_hop_specifc_query_synthesizer</td>\n",
              "    </tr>\n",
              "    <tr>\n",
              "      <th>3</th>\n",
              "      <td>What is the movi John Wick abot and why is it ...</td>\n",
              "      <td>[: 4\\nReview: Though he no longer has a taste ...</td>\n",
              "      <td>John Wick is about a retired assassin who, aft...</td>\n",
              "      <td>single_hop_specifc_query_synthesizer</td>\n",
              "    </tr>\n",
              "    <tr>\n",
              "      <th>4</th>\n",
              "      <td>How did Chad Stahelski's involvement influence...</td>\n",
              "      <td>[&lt;1-hop&gt;\\n\\n: 9\\nReview: \"John Wick: Chapter 2...</td>\n",
              "      <td>Chad Stahelski, returning from the first John ...</td>\n",
              "      <td>multi_hop_abstract_query_synthesizer</td>\n",
              "    </tr>\n",
              "    <tr>\n",
              "      <th>5</th>\n",
              "      <td>How do the reviews of John Wick differ in thei...</td>\n",
              "      <td>[&lt;1-hop&gt;\\n\\n: 18\\nReview: And all of this equa...</td>\n",
              "      <td>The reviews of John Wick present contrasting v...</td>\n",
              "      <td>multi_hop_abstract_query_synthesizer</td>\n",
              "    </tr>\n",
              "    <tr>\n",
              "      <th>6</th>\n",
              "      <td>How does the portrayal of assassin characters ...</td>\n",
              "      <td>[&lt;1-hop&gt;\\n\\n: 11\\nReview: JOHN WICK is a rare ...</td>\n",
              "      <td>John Wick is praised as a near-perfect action ...</td>\n",
              "      <td>multi_hop_abstract_query_synthesizer</td>\n",
              "    </tr>\n",
              "    <tr>\n",
              "      <th>7</th>\n",
              "      <td>How do the over-the-top martial arts scenes in...</td>\n",
              "      <td>[&lt;1-hop&gt;\\n\\n: 16\\nReview: John Wick Chapter 2 ...</td>\n",
              "      <td>John Wick Chapter 2 is described as a ridiculo...</td>\n",
              "      <td>multi_hop_abstract_query_synthesizer</td>\n",
              "    </tr>\n",
              "    <tr>\n",
              "      <th>8</th>\n",
              "      <td>Why people say JOHN WICK is a near-perfect act...</td>\n",
              "      <td>[&lt;1-hop&gt;\\n\\n: 11\\nReview: JOHN WICK is a rare ...</td>\n",
              "      <td>JOHN WICK is praised as a rare example of Holl...</td>\n",
              "      <td>multi_hop_specific_query_synthesizer</td>\n",
              "    </tr>\n",
              "    <tr>\n",
              "      <th>9</th>\n",
              "      <td>How do the reviews reflect Hollywood's approac...</td>\n",
              "      <td>[&lt;1-hop&gt;\\n\\n: 11\\nReview: JOHN WICK is a rare ...</td>\n",
              "      <td>The reviews reflect Hollywood's approach to ac...</td>\n",
              "      <td>multi_hop_specific_query_synthesizer</td>\n",
              "    </tr>\n",
              "    <tr>\n",
              "      <th>10</th>\n",
              "      <td>What made the 2014 film John Wick a standout a...</td>\n",
              "      <td>[&lt;1-hop&gt;\\n\\n: 23\\nReview: John Wick (2014), &lt;2...</td>\n",
              "      <td>The 2014 film John Wick was a standout action ...</td>\n",
              "      <td>multi_hop_specific_query_synthesizer</td>\n",
              "    </tr>\n",
              "    <tr>\n",
              "      <th>11</th>\n",
              "      <td>How do the reviews of John Wick: Chapter 4 dif...</td>\n",
              "      <td>[&lt;1-hop&gt;\\n\\n: 24\\nReview: John Wick: Chapter 4...</td>\n",
              "      <td>The reviews of John Wick: Chapter 4 differ sig...</td>\n",
              "      <td>multi_hop_specific_query_synthesizer</td>\n",
              "    </tr>\n",
              "  </tbody>\n",
              "</table>\n",
              "</div>"
            ],
            "text/plain": [
              "                                           user_input  \\\n",
              "0   Could you provide a detailed explanation of wh...   \n",
              "1   What is the reviewr's initial impression of th...   \n",
              "2   How does Keanu's performance contribute to the...   \n",
              "3   What is the movi John Wick abot and why is it ...   \n",
              "4   How did Chad Stahelski's involvement influence...   \n",
              "5   How do the reviews of John Wick differ in thei...   \n",
              "6   How does the portrayal of assassin characters ...   \n",
              "7   How do the over-the-top martial arts scenes in...   \n",
              "8   Why people say JOHN WICK is a near-perfect act...   \n",
              "9   How do the reviews reflect Hollywood's approac...   \n",
              "10  What made the 2014 film John Wick a standout a...   \n",
              "11  How do the reviews of John Wick: Chapter 4 dif...   \n",
              "\n",
              "                                   reference_contexts  \\\n",
              "0   [: 0\\nReview: The best way I can describe John...   \n",
              "1   [: 2\\nReview: With the fourth installment scor...   \n",
              "2   [: 3\\nReview: John wick has a very simple reve...   \n",
              "3   [: 4\\nReview: Though he no longer has a taste ...   \n",
              "4   [<1-hop>\\n\\n: 9\\nReview: \"John Wick: Chapter 2...   \n",
              "5   [<1-hop>\\n\\n: 18\\nReview: And all of this equa...   \n",
              "6   [<1-hop>\\n\\n: 11\\nReview: JOHN WICK is a rare ...   \n",
              "7   [<1-hop>\\n\\n: 16\\nReview: John Wick Chapter 2 ...   \n",
              "8   [<1-hop>\\n\\n: 11\\nReview: JOHN WICK is a rare ...   \n",
              "9   [<1-hop>\\n\\n: 11\\nReview: JOHN WICK is a rare ...   \n",
              "10  [<1-hop>\\n\\n: 23\\nReview: John Wick (2014), <2...   \n",
              "11  [<1-hop>\\n\\n: 24\\nReview: John Wick: Chapter 4...   \n",
              "\n",
              "                                            reference  \\\n",
              "0   John Wick stands out as an action movie becaus...   \n",
              "1   The reviewer notes that the fourth installment...   \n",
              "2   Keanu's performance in John Wick centers on a ...   \n",
              "3   John Wick is about a retired assassin who, aft...   \n",
              "4   Chad Stahelski, returning from the first John ...   \n",
              "5   The reviews of John Wick present contrasting v...   \n",
              "6   John Wick is praised as a near-perfect action ...   \n",
              "7   John Wick Chapter 2 is described as a ridiculo...   \n",
              "8   JOHN WICK is praised as a rare example of Holl...   \n",
              "9   The reviews reflect Hollywood's approach to ac...   \n",
              "10  The 2014 film John Wick was a standout action ...   \n",
              "11  The reviews of John Wick: Chapter 4 differ sig...   \n",
              "\n",
              "                        synthesizer_name  \n",
              "0   single_hop_specifc_query_synthesizer  \n",
              "1   single_hop_specifc_query_synthesizer  \n",
              "2   single_hop_specifc_query_synthesizer  \n",
              "3   single_hop_specifc_query_synthesizer  \n",
              "4   multi_hop_abstract_query_synthesizer  \n",
              "5   multi_hop_abstract_query_synthesizer  \n",
              "6   multi_hop_abstract_query_synthesizer  \n",
              "7   multi_hop_abstract_query_synthesizer  \n",
              "8   multi_hop_specific_query_synthesizer  \n",
              "9   multi_hop_specific_query_synthesizer  \n",
              "10  multi_hop_specific_query_synthesizer  \n",
              "11  multi_hop_specific_query_synthesizer  "
            ]
          },
          "execution_count": 60,
          "metadata": {},
          "output_type": "execute_result"
        }
      ],
      "source": [
        "testset_df = testset_dataset.to_pandas()\n",
        "testset_df"
      ]
    },
    {
      "cell_type": "code",
      "execution_count": 61,
      "metadata": {},
      "outputs": [],
      "source": [
        "retrievers = [\n",
        "    {\"name\": \"Naive Retriever\", \"retriever\": naive_retriever},\n",
        "    {\"name\": \"BM25 Retriever\", \"retriever\": bm25_retriever},\n",
        "    {\"name\": \"Contextual Compression\", \"retriever\": compression_retriever},\n",
        "    {\"name\": \"Multi-Query Retriever\", \"retriever\": multi_query_retriever},\n",
        "    {\"name\": \"Parent Document Retriever\", \"retriever\": parent_document_retriever},\n",
        "    {\"name\": \"Ensemble Retriever\", \"retriever\": ensemble_retriever},\n",
        "    {\"name\": \"Semantic Chunking Retriever\", \"retriever\": semantic_retriever}\n",
        "]\n",
        "\n",
        "eval_llm = ChatOpenAI(model=\"gpt-4.1-mini\")\n"
      ]
    },
    {
      "cell_type": "code",
      "execution_count": 62,
      "metadata": {},
      "outputs": [],
      "source": [
        "api_key = getpass.getpass(\"Enter your LangSmith API key: \")\n",
        "os.environ[\"LANGSMITH_API_KEY\"] = api_key\n",
        "os.environ[\"LANGCHAIN_TRACING_V2\"] = \"true\""
      ]
    },
    {
      "cell_type": "code",
      "execution_count": 81,
      "metadata": {},
      "outputs": [],
      "source": [
        "def evaluate_retrievers_unified(retrievers, testset_dataset, llm_model=\"gpt-4.1-mini\"):\n",
        "    \n",
        "    # Cost definitions (adjust according to model)\n",
        "    GENERATION_INPUT_COST = 0.0000001  # $0.10 per million tokens\n",
        "    GENERATION_OUTPUT_COST = 0.0000004  # $0.40 per million tokens\n",
        "    \n",
        "    # Create LangSmith client\n",
        "    client = Client(api_key=os.environ.get(\"LANGSMITH_API_KEY\"))\n",
        "    \n",
        "    # Ensure tracing is enabled\n",
        "    os.environ[\"LANGCHAIN_TRACING_V2\"] = \"true\"\n",
        "    os.environ[\"LANGSMITH_TRACING\"] = \"true\"\n",
        "    \n",
        "    # Create unique project for entire evaluation\n",
        "    project_name = f\"retriever-eval-unified-{uuid.uuid4().hex[:8]}\"\n",
        "    print(f\"Creating unified LangSmith project: {project_name}\")\n",
        "    \n",
        "    try:\n",
        "        client.create_project(project_name=project_name)\n",
        "        print(f\"Project '{project_name}' created successfully\")\n",
        "    except Exception as e:\n",
        "        print(f\"Error creating project: {e}\")\n",
        "        project_name = \"default\"  # Fallback\n",
        "    \n",
        "    # Wrapped OpenAI client for automatic tracing\n",
        "    openai_client = wrap_openai(OpenAI())\n",
        "    \n",
        "    # Standard RAG template\n",
        "    prompt_template = \"\"\"\n",
        "    You are a helpful assistant. Use the context provided below to answer the question.\n",
        "    If you don't know the answer based on the context, just say you don't know.\n",
        "    \n",
        "    Context:\n",
        "    {context}\n",
        "    \n",
        "    Question:\n",
        "    {question}\n",
        "    \"\"\"\n",
        "    \n",
        "    # Create main run for entire evaluation\n",
        "    main_run_id = str(uuid.uuid4())\n",
        "    client.create_run(\n",
        "        name=\"Complete Retriever Evaluation\",\n",
        "        run_type=\"chain\",\n",
        "        project_name=project_name,\n",
        "        id=main_run_id,\n",
        "        inputs={\"retrievers\": [r[\"name\"] for r in retrievers]},\n",
        "        start_time=datetime.now(timezone.utc),\n",
        "        tags=[\"main_evaluation\"]\n",
        "    )\n",
        "    \n",
        "    # Main evaluation function, recorded in LangSmith\n",
        "    @traceable(\n",
        "        project_name=project_name,\n",
        "        run_type=\"chain\",\n",
        "        name=\"Retriever Evaluation\",\n",
        "        parent_run_id=main_run_id,\n",
        "        tags=[\"evaluation_workflow\"]\n",
        "    )\n",
        "    def evaluate_all_retrievers():\n",
        "        results = []\n",
        "        retriever_results = {}\n",
        "    \n",
        "        \n",
        "        # Evaluate each retriever\n",
        "        for retriever_info in retrievers:\n",
        "            name = retriever_info[\"name\"]\n",
        "            retriever = retriever_info[\"retriever\"]\n",
        "            \n",
        "            # Evaluation function for specific retriever\n",
        "            @traceable(\n",
        "                project_name=project_name,\n",
        "                run_type=\"chain\",\n",
        "                name=f\"{name} Evaluation\",\n",
        "                tags=[name, \"retriever_evaluation\"]\n",
        "            )\n",
        "            def evaluate_retriever():\n",
        "                print(f\"\\n=== Evaluating: {name} ===\")\n",
        "                \n",
        "                metrics = {\n",
        "                    \"retrieval_times\": [],\n",
        "                    \"llm_times\": [],\n",
        "                    \"total_times\": [],\n",
        "                    \"document_counts\": [],\n",
        "                    \"prompt_tokens\": [],\n",
        "                    \"completion_tokens\": [],\n",
        "                    \"costs\": []\n",
        "                }\n",
        "                \n",
        "                # Copy of testset\n",
        "                testset_copy = copy.deepcopy(testset_dataset)\n",
        "                \n",
        "                # Process each question with tracing\n",
        "                for i, test_row in enumerate(testset_copy):\n",
        "                    question = test_row.eval_sample.user_input\n",
        "                    print(f\"Processing question {i+1}/{len(testset_copy)}: {question[:50]}...\")\n",
        "                    \n",
        "                    # Function to process a question\n",
        "                    @traceable(\n",
        "                        project_name=project_name,\n",
        "                        run_type=\"chain\",\n",
        "                        name=f\"Q{i+1}: {question[:30]}...\",\n",
        "                        tags=[name, \"question_evaluation\"],\n",
        "                        metadata={\"question_number\": i+1}\n",
        "                    )\n",
        "                    def process_question():\n",
        "                        # 1. Retrieval with time measurement\n",
        "                        retrieval_start = time.time()  \n",
        "                        docs = retriever.invoke(question)\n",
        "                        retrieval_time = time.time() - retrieval_start\n",
        "                                                \n",
        "                        # Retrieval metrics\n",
        "                        doc_count = len(docs)\n",
        "                        metrics[\"retrieval_times\"].append(retrieval_time)\n",
        "                        metrics[\"document_counts\"].append(doc_count)\n",
        "                        \n",
        "                        # 2. Context preparation\n",
        "                        context_text = \"\\n\\n\".join([doc.page_content for doc in docs])\n",
        "                        formatted_prompt = prompt_template.format(context=context_text, question=question)\n",
        "                        \n",
        "                        # 3. LLM call with wrapped client and time measurement\n",
        "                        llm_start = time.time()\n",
        "                        llm_response = openai_client.chat.completions.create(\n",
        "                            model=llm_model,\n",
        "                            messages=[\n",
        "                                {\"role\": \"system\", \"content\": \"You are a helpful assistant.\"},\n",
        "                                {\"role\": \"user\", \"content\": formatted_prompt}\n",
        "                            ]\n",
        "                            )\n",
        "                        llm_time = time.time() - llm_start\n",
        "                        metrics[\"llm_times\"].append(llm_time)\n",
        "                        \n",
        "                        # LLM response\n",
        "                        answer = llm_response.choices[0].message.content\n",
        "                        \n",
        "                        # Use tokens counted directly by API\n",
        "                        prompt_tokens = 0\n",
        "                        completion_tokens = 0\n",
        "                        cost = 0\n",
        "                        \n",
        "                        if hasattr(llm_response, \"usage\") and llm_response.usage:\n",
        "                            prompt_tokens = llm_response.usage.prompt_tokens\n",
        "                            completion_tokens = llm_response.usage.completion_tokens\n",
        "                            \n",
        "                            # Cost calculation based on API tokens\n",
        "                            cost = (\n",
        "                                (prompt_tokens * GENERATION_INPUT_COST) + \n",
        "                                (completion_tokens * GENERATION_OUTPUT_COST)\n",
        "                            )\n",
        "                            \n",
        "                            # Update metrics\n",
        "                            metrics[\"prompt_tokens\"].append(prompt_tokens)\n",
        "                            metrics[\"completion_tokens\"].append(completion_tokens)\n",
        "                            metrics[\"costs\"].append(cost)\n",
        "                        \n",
        "                        # Total time\n",
        "                        total_time = retrieval_time + llm_time\n",
        "                        metrics[\"total_times\"].append(total_time)\n",
        "                        \n",
        "                        # Update testset\n",
        "                        test_row.eval_sample.response = answer\n",
        "                        test_row.eval_sample.retrieved_contexts = [doc.page_content for doc in docs]\n",
        "                        \n",
        "                        return {\n",
        "                            \"response\": answer,\n",
        "                            \"contexts\": [doc.page_content for doc in docs],\n",
        "                            \"metrics\": {\n",
        "                                \"retrieval_time\": retrieval_time,\n",
        "                                \"llm_time\": llm_time,\n",
        "                                \"total_time\": total_time,\n",
        "                                \"document_count\": doc_count,\n",
        "                                \"prompt_tokens\": prompt_tokens,\n",
        "                                \"completion_tokens\": completion_tokens,\n",
        "                                \"cost\": cost\n",
        "                            }\n",
        "                        }\n",
        "                    \n",
        "                    # Execute question processing\n",
        "                    try:\n",
        "                        result = process_question()\n",
        "                        # Display metrics per question\n",
        "                        print(f\"  Time: {result['metrics']['total_time']:.2f}s (Retrieval: {result['metrics']['retrieval_time']:.2f}s, LLM: {result['metrics']['llm_time']:.2f}s)\")\n",
        "                        print(f\"  Documents: {result['metrics']['document_count']}, Cost: ${result['metrics']['cost']:.6f}\")\n",
        "                    except Exception as e:\n",
        "                        print(f\"  Error processing question {i+1}: {e}\")\n",
        "                    \n",
        "                    # Small pause to avoid overloading API\n",
        "                    time.sleep(2)\n",
        "                \n",
        "                # Calculate averages\n",
        "                avg_metrics = {\n",
        "                    \"avg_retrieval_time\": np.mean(metrics[\"retrieval_times\"]) if metrics[\"retrieval_times\"] else 0,\n",
        "                    \"avg_llm_time\": np.mean(metrics[\"llm_times\"]) if metrics[\"llm_times\"] else 0,\n",
        "                    \"avg_total_time\": np.mean(metrics[\"total_times\"]) if metrics[\"total_times\"] else 0,\n",
        "                    \"avg_docs\": np.mean(metrics[\"document_counts\"]) if metrics[\"document_counts\"] else 0,\n",
        "                    \"avg_prompt_tokens\": np.mean(metrics[\"prompt_tokens\"]) if metrics[\"prompt_tokens\"] else 0,\n",
        "                    \"avg_completion_tokens\": np.mean(metrics[\"completion_tokens\"]) if metrics[\"completion_tokens\"] else 0,\n",
        "                    \"avg_cost\": np.mean(metrics[\"costs\"]) if metrics[\"costs\"] else 0\n",
        "                }\n",
        "                \n",
        "                # Run RAGAS in same workflow\n",
        "                print(f\"\\n=== Running RAGAS evaluation for {name} ===\")\n",
        "                ragas_scores = run_ragas_evaluation(testset_copy, name, llm_model)\n",
        "                \n",
        "                # Combine results and return\n",
        "                return {\n",
        "                    \"name\": name,\n",
        "                    \"metrics\": avg_metrics,\n",
        "                    \"ragas_scores\": ragas_scores,\n",
        "                    \"processed_testset\": testset_copy\n",
        "                }\n",
        "            \n",
        "            # Integrated RAGAS evaluation\n",
        "            @traceable(\n",
        "                project_name=project_name,\n",
        "                run_type=\"chain\", \n",
        "                name=f\"{name} RAGAS Evaluation\",\n",
        "                tags=[name, \"ragas\"]\n",
        "            )\n",
        "            def run_ragas_evaluation(testset, retriever_name, llm_model):\n",
        "                try:\n",
        "                    # Use gpt-4.1-mini for RAGAS evaluation\n",
        "                    evaluator_llm = LangchainLLMWrapper(ChatOpenAI(model=\"gpt-4.1-mini\"))\n",
        "                    \n",
        "                    # Robust configuration\n",
        "                    run_config = RunConfig(\n",
        "                        timeout=600,  \n",
        "                        max_workers=2,\n",
        "                    )\n",
        "                    \n",
        "                    # Limit to most stable metrics to increase chances of success\n",
        "                    metrics = [\n",
        "                        Faithfulness(),                      \n",
        "                        ContextPrecision()          \n",
        "                    ]\n",
        "\n",
        "                    # Prepare dataset for RAGAS\n",
        "                    df = pd.DataFrame([\n",
        "                        {\n",
        "                            \"question\": row.eval_sample.user_input,\n",
        "                            \"answer\": row.eval_sample.response,\n",
        "                            \"contexts\": row.eval_sample.retrieved_contexts\n",
        "                        }\n",
        "                        for row in testset\n",
        "                    ])\n",
        "                    \n",
        "                    # Build RAGAS DataFrame\n",
        "                    ragas_df = pd.DataFrame()\n",
        "                    ragas_df['question'] = df['question']\n",
        "                    ragas_df['response'] = df['answer']\n",
        "                    ragas_df['contexts'] = df['contexts'].apply(\n",
        "                        lambda x: x if isinstance(x, list) else [x]\n",
        "                    )\n",
        "                    ragas_df['ground_truth'] = [[] for _ in range(len(df))]\n",
        "                    ragas_df['user_input'] = df['question']\n",
        "                    ragas_df['retrieved_contexts'] = ragas_df['contexts']\n",
        "                    ragas_df['reference'] = [\"\" for _ in range(len(df))]\n",
        "                    \n",
        "                    # Convert to RAGAS dataset\n",
        "                    dataset = EvaluationDataset.from_pandas(ragas_df)\n",
        "                    \n",
        "                    # Evaluation with error handling\n",
        "                    try:\n",
        "                        # Run RAGAS evaluation\n",
        "                        result = evaluate(\n",
        "                            dataset=dataset,\n",
        "                            metrics=metrics,\n",
        "                            llm=evaluator_llm,\n",
        "                            run_config=run_config\n",
        "                        )\n",
        "                        \n",
        "                        # DEBUG: Print returned object type\n",
        "                        print(f\"RAGAS result type: {type(result)}\")\n",
        "                        print(f\"RAGAS result dir: {dir(result)}\")\n",
        "                        \n",
        "                        # Initialize scores\n",
        "                        ragas_scores = {}\n",
        "                        \n",
        "                        # CORRECTION: Access results correctly based on object type\n",
        "                        # If DataFrame\n",
        "                        if hasattr(result, 'to_pandas'):\n",
        "                            df_result = result.to_pandas()\n",
        "                            print(f\"RAGAS result columns: {df_result.columns.tolist()}\")\n",
        "                            \n",
        "                            # Extract column averages\n",
        "                            for col in df_result.columns:\n",
        "                                if col in ['faithfulness', 'context_precision']:\n",
        "                                    ragas_scores[col] = df_result[col].mean()\n",
        "                        \n",
        "                        # If object with direct metric attributes\n",
        "                        elif hasattr(result, 'faithfulness'):\n",
        "                            if hasattr(result.faithfulness, 'mean'):\n",
        "                                ragas_scores['faithfulness'] = result.faithfulness.mean()\n",
        "                            else:\n",
        "                                ragas_scores['faithfulness'] = np.mean(result.faithfulness)\n",
        "                                \n",
        "                            if hasattr(result, 'answer_relevancy'):\n",
        "                                if hasattr(result.answer_relevancy, 'mean'):\n",
        "                                    ragas_scores['response_relevancy'] = result.answer_relevancy.mean()\n",
        "                                else:\n",
        "                                    ragas_scores['response_relevancy'] = np.mean(result.answer_relevancy)\n",
        "                        \n",
        "                        # If dictionary\n",
        "                        elif hasattr(result, 'items'):\n",
        "                            for key, value in result.items():\n",
        "                                if isinstance(value, list):\n",
        "                                    ragas_scores[key] = np.mean(value)\n",
        "                                else:\n",
        "                                    ragas_scores[key] = value\n",
        "                        \n",
        "                        # If none of above methods work, use default values\n",
        "                        if not ragas_scores:\n",
        "                            print(\"Couldn't extract metrics from RAGAS result. Using default scores.\")\n",
        "                            ragas_scores = {\n",
        "                                'faithfulness': 0.5,\n",
        "                                'response_relevancy': 0.5\n",
        "                            }\n",
        "                        \n",
        "                        # Calculate overall score\n",
        "                        ragas_scores['quality_score'] = np.mean([\n",
        "                                                        ragas_scores.get('faithfulness', 0.5),\n",
        "                                                        ragas_scores.get('context_precision', 0.5)\n",
        "                                                    ])\n",
        "                                                                            \n",
        "                        # Display scores\n",
        "                        print(f\"RAGAS scores for {retriever_name}:\")\n",
        "                        for key, value in ragas_scores.items():\n",
        "                            print(f\"- {key}: {value:.3f}\")\n",
        "                        \n",
        "                        return ragas_scores\n",
        "                            \n",
        "                    except Exception as e:\n",
        "                        print(f\"RAGAS evaluation failed: {e}\")\n",
        "                        return {\n",
        "                            \"quality_score\": 0.5,\n",
        "                            \"faithfulness\": 0.5,\n",
        "                            \"response_relevancy\": 0.5\n",
        "                        }\n",
        "                            \n",
        "                except Exception as e:\n",
        "                    print(f\"Error in RAGAS evaluation for {retriever_name}: {e}\")\n",
        "                    import traceback\n",
        "                    traceback.print_exc()\n",
        "                    return {\"quality_score\": 0.5}\n",
        "            \n",
        "            # Execute retriever evaluation\n",
        "            retriever_result = evaluate_retriever()\n",
        "            retriever_results[name] = retriever_result\n",
        "            \n",
        "            # Extract metrics\n",
        "            avg_metrics = retriever_result[\"metrics\"]\n",
        "            ragas_scores = retriever_result[\"ragas_scores\"]\n",
        "            \n",
        "            # Store results for this retriever\n",
        "            result = {\n",
        "                \"Retriever\": name,\n",
        "                \"Avg Time (s)\": avg_metrics[\"avg_total_time\"],\n",
        "                \"Retrieval Time (s)\": avg_metrics[\"avg_retrieval_time\"],\n",
        "                \"LLM Time (s)\": avg_metrics[\"avg_llm_time\"],\n",
        "                \"Avg Docs\": avg_metrics[\"avg_docs\"],\n",
        "                \"Avg Prompt Tokens\": avg_metrics[\"avg_prompt_tokens\"],\n",
        "                \"Avg Completion Tokens\": avg_metrics[\"avg_completion_tokens\"],\n",
        "                \"Avg Cost ($)\": avg_metrics[\"avg_cost\"],\n",
        "                \"Quality Score\": ragas_scores.get(\"quality_score\", 0.5),\n",
        "                \"Faithfulness\": ragas_scores.get(\"faithfulness\", 0),\n",
        "                \"Context Precision\": ragas_scores.get(\"context_precision\", 0),\n",
        "                \"Project\": project_name\n",
        "            }\n",
        "            \n",
        "            # Calculate efficiency scores\n",
        "            result[\"Efficiency Score\"] = result[\"Quality Score\"] / max(result[\"Avg Cost ($)\"], 0.0001)\n",
        "            result[\"Time-Efficiency\"] = result[\"Quality Score\"] / (max(result[\"Avg Cost ($)\"], 0.0001) * result[\"Avg Time (s)\"])\n",
        "        \n",
        "            # Add to results\n",
        "            results.append(result)\n",
        "            \n",
        "            # Display results for this retriever\n",
        "            print(f\"\\n=== Results for {name} ===\")\n",
        "            print(f\"Average time: {avg_metrics['avg_total_time']:.2f}s (Retrieval: {avg_metrics['avg_retrieval_time']:.2f}s, LLM: {avg_metrics['avg_llm_time']:.2f}s)\")\n",
        "            print(f\"Average documents: {avg_metrics['avg_docs']:.1f}\")\n",
        "            print(f\"Average tokens: {avg_metrics['avg_prompt_tokens']:.1f} in, {avg_metrics['avg_completion_tokens']:.1f} out\")\n",
        "            print(f\"Average cost: ${avg_metrics['avg_cost']:.6f}/query\")\n",
        "            print(f\"Quality Score: {ragas_scores.get('quality_score', 0.5):.3f}\")\n",
        "        \n",
        "        # Convert to DataFrame\n",
        "        results_df = pd.DataFrame(results)\n",
        "        \n",
        "        return results_df, retriever_results\n",
        "    \n",
        "    # Run complete evaluation\n",
        "    try:\n",
        "        results_df, retriever_results = evaluate_all_retrievers()\n",
        "        \n",
        "        # Update main run with final results\n",
        "        client.update_run(\n",
        "            run_id=main_run_id,\n",
        "            outputs={\n",
        "                \"results_df\": results_df.to_dict(),\n",
        "                \"project_url\": f\"https://smith.langchain.com/projects/{project_name}\"\n",
        "            },\n",
        "            end_time=datetime.now(timezone.utc)\n",
        "        )\n",
        "        \n",
        "        # Display final results\n",
        "        print(\"\\n=== Final Results ===\")\n",
        "        print(results_df[[\"Retriever\", \"Avg Time (s)\", \"Avg Cost ($)\", \"Quality Score\", \"Efficiency Score\"]])\n",
        "        \n",
        "        # Display link to LangSmith dashboard\n",
        "        print(f\"\\nView detailed results in LangSmith: https://smith.langchain.com/projects/{project_name}\")\n",
        "        \n",
        "        return results_df, project_name\n",
        "        \n",
        "    except Exception as e:\n",
        "        print(f\"Error in evaluation: {e}\")\n",
        "        import traceback\n",
        "        traceback.print_exc()\n",
        "        \n",
        "        # Update main run with error\n",
        "        client.update_run(\n",
        "            run_id=main_run_id,\n",
        "            error=str(e),\n",
        "            end_time=datetime.now(timezone.utc)\n",
        "        )\n",
        "        \n",
        "        return pd.DataFrame(), project_name"
      ]
    },
    {
      "cell_type": "code",
      "execution_count": 82,
      "metadata": {},
      "outputs": [
        {
          "name": "stdout",
          "output_type": "stream",
          "text": [
            "Creating unified LangSmith project: retriever-eval-unified-f58f8f85\n",
            "Project 'retriever-eval-unified-f58f8f85' created successfully\n",
            "\n",
            "=== Evaluating: Naive Retriever ===\n",
            "Processing question 1/12: Could you provide a detailed explanation of what m...\n",
            "  Time: 10.83s (Retrieval: 0.90s, LLM: 9.93s)\n",
            "  Documents: 10, Cost: $0.000360\n",
            "Processing question 2/12: What is the reviewr's initial impression of the Jo...\n",
            "  Time: 3.73s (Retrieval: 0.96s, LLM: 2.76s)\n",
            "  Documents: 10, Cost: $0.000230\n",
            "Processing question 3/12: How does Keanu's performance contribute to the app...\n",
            "  Time: 3.80s (Retrieval: 0.86s, LLM: 2.93s)\n",
            "  Documents: 10, Cost: $0.000267\n",
            "Processing question 4/12: What is the movi John Wick abot and why is it so p...\n",
            "  Time: 6.94s (Retrieval: 0.59s, LLM: 6.35s)\n",
            "  Documents: 10, Cost: $0.000362\n",
            "Processing question 5/12: How did Chad Stahelski's involvement influence the...\n",
            "  Time: 4.40s (Retrieval: 0.66s, LLM: 3.74s)\n",
            "  Documents: 10, Cost: $0.000276\n",
            "Processing question 6/12: How do the reviews of John Wick differ in their vi...\n",
            "  Time: 8.80s (Retrieval: 0.71s, LLM: 8.09s)\n",
            "  Documents: 10, Cost: $0.000357\n",
            "Processing question 7/12: How does the portrayal of assassin characters and ...\n",
            "  Time: 5.86s (Retrieval: 0.45s, LLM: 5.41s)\n",
            "  Documents: 10, Cost: $0.000324\n",
            "Processing question 8/12: How do the over-the-top martial arts scenes in Joh...\n",
            "  Time: 6.72s (Retrieval: 0.68s, LLM: 6.04s)\n",
            "  Documents: 10, Cost: $0.000317\n",
            "Processing question 9/12: Why people say JOHN WICK is a near-perfect action ...\n",
            "  Time: 5.88s (Retrieval: 0.76s, LLM: 5.12s)\n",
            "  Documents: 10, Cost: $0.000316\n",
            "Processing question 10/12: How do the reviews reflect Hollywood's approach to...\n",
            "  Time: 5.99s (Retrieval: 0.88s, LLM: 5.11s)\n",
            "  Documents: 10, Cost: $0.000301\n",
            "Processing question 11/12: What made the 2014 film John Wick a standout actio...\n",
            "  Time: 3.57s (Retrieval: 0.45s, LLM: 3.12s)\n",
            "  Documents: 10, Cost: $0.000273\n",
            "Processing question 12/12: How do the reviews of John Wick: Chapter 4 differ ...\n",
            "  Time: 7.37s (Retrieval: 0.87s, LLM: 6.50s)\n",
            "  Documents: 10, Cost: $0.000342\n",
            "\n",
            "=== Running RAGAS evaluation for Naive Retriever ===\n"
          ]
        },
        {
          "data": {
            "application/vnd.jupyter.widget-view+json": {
              "model_id": "7d96eca7fbc44c56b22b264a9c10193c",
              "version_major": 2,
              "version_minor": 0
            },
            "text/plain": [
              "Evaluating:   0%|          | 0/24 [00:00<?, ?it/s]"
            ]
          },
          "metadata": {},
          "output_type": "display_data"
        },
        {
          "name": "stdout",
          "output_type": "stream",
          "text": [
            "RAGAS result type: <class 'ragas.dataset_schema.EvaluationResult'>\n",
            "RAGAS result dir: ['__annotations__', '__class__', '__dataclass_fields__', '__dataclass_params__', '__delattr__', '__dict__', '__dir__', '__doc__', '__eq__', '__firstlineno__', '__format__', '__ge__', '__getattribute__', '__getitem__', '__getstate__', '__gt__', '__hash__', '__init__', '__init_subclass__', '__le__', '__lt__', '__match_args__', '__module__', '__ne__', '__new__', '__post_init__', '__reduce__', '__reduce_ex__', '__replace__', '__repr__', '__setattr__', '__sizeof__', '__static_attributes__', '__str__', '__subclasshook__', '__weakref__', '_repr_dict', '_scores_dict', 'binary_columns', 'cost_cb', 'dataset', 'ragas_traces', 'run_id', 'scores', 'to_pandas', 'total_cost', 'total_tokens', 'traces', 'upload']\n",
            "RAGAS result columns: ['user_input', 'retrieved_contexts', 'response', 'reference', 'faithfulness', 'context_precision']\n",
            "RAGAS scores for Naive Retriever:\n",
            "- faithfulness: 0.981\n",
            "- context_precision: 0.577\n",
            "- quality_score: 0.779\n",
            "\n",
            "=== Results for Naive Retriever ===\n",
            "Average time: 6.16s (Retrieval: 0.73s, LLM: 5.42s)\n",
            "Average documents: 10.0\n",
            "Average tokens: 2032.2 in, 268.4 out\n",
            "Average cost: $0.000311/query\n",
            "Quality Score: 0.779\n",
            "\n",
            "=== Evaluating: BM25 Retriever ===\n",
            "Processing question 1/12: Could you provide a detailed explanation of what m...\n",
            "  Time: 7.52s (Retrieval: 0.00s, LLM: 7.51s)\n",
            "  Documents: 4, Cost: $0.000303\n",
            "Processing question 2/12: What is the reviewr's initial impression of the Jo...\n",
            "  Time: 2.60s (Retrieval: 0.00s, LLM: 2.60s)\n",
            "  Documents: 4, Cost: $0.000093\n",
            "Processing question 3/12: How does Keanu's performance contribute to the app...\n",
            "  Time: 2.86s (Retrieval: 0.00s, LLM: 2.85s)\n",
            "  Documents: 4, Cost: $0.000156\n",
            "Processing question 4/12: What is the movi John Wick abot and why is it so p...\n",
            "  Time: 3.88s (Retrieval: 0.00s, LLM: 3.88s)\n",
            "  Documents: 4, Cost: $0.000130\n",
            "Processing question 5/12: How did Chad Stahelski's involvement influence the...\n",
            "  Time: 2.39s (Retrieval: 0.00s, LLM: 2.39s)\n",
            "  Documents: 4, Cost: $0.000107\n",
            "Processing question 6/12: How do the reviews of John Wick differ in their vi...\n",
            "  Time: 5.44s (Retrieval: 0.00s, LLM: 5.43s)\n",
            "  Documents: 4, Cost: $0.000247\n",
            "Processing question 7/12: How does the portrayal of assassin characters and ...\n",
            "  Time: 5.60s (Retrieval: 0.00s, LLM: 5.60s)\n",
            "  Documents: 4, Cost: $0.000261\n",
            "Processing question 8/12: How do the over-the-top martial arts scenes in Joh...\n",
            "  Time: 3.42s (Retrieval: 0.00s, LLM: 3.42s)\n",
            "  Documents: 4, Cost: $0.000168\n",
            "Processing question 9/12: Why people say JOHN WICK is a near-perfect action ...\n",
            "  Time: 3.32s (Retrieval: 0.00s, LLM: 3.32s)\n",
            "  Documents: 4, Cost: $0.000131\n",
            "Processing question 10/12: How do the reviews reflect Hollywood's approach to...\n",
            "  Time: 3.54s (Retrieval: 0.00s, LLM: 3.54s)\n",
            "  Documents: 4, Cost: $0.000147\n",
            "Processing question 11/12: What made the 2014 film John Wick a standout actio...\n",
            "  Time: 4.01s (Retrieval: 0.00s, LLM: 4.01s)\n",
            "  Documents: 4, Cost: $0.000180\n",
            "Processing question 12/12: How do the reviews of John Wick: Chapter 4 differ ...\n",
            "  Time: 3.01s (Retrieval: 0.00s, LLM: 3.01s)\n",
            "  Documents: 4, Cost: $0.000154\n",
            "\n",
            "=== Running RAGAS evaluation for BM25 Retriever ===\n"
          ]
        },
        {
          "data": {
            "application/vnd.jupyter.widget-view+json": {
              "model_id": "5eba3fea437447e285be1918a5ecb77f",
              "version_major": 2,
              "version_minor": 0
            },
            "text/plain": [
              "Evaluating:   0%|          | 0/24 [00:00<?, ?it/s]"
            ]
          },
          "metadata": {},
          "output_type": "display_data"
        },
        {
          "name": "stdout",
          "output_type": "stream",
          "text": [
            "RAGAS result type: <class 'ragas.dataset_schema.EvaluationResult'>\n",
            "RAGAS result dir: ['__annotations__', '__class__', '__dataclass_fields__', '__dataclass_params__', '__delattr__', '__dict__', '__dir__', '__doc__', '__eq__', '__firstlineno__', '__format__', '__ge__', '__getattribute__', '__getitem__', '__getstate__', '__gt__', '__hash__', '__init__', '__init_subclass__', '__le__', '__lt__', '__match_args__', '__module__', '__ne__', '__new__', '__post_init__', '__reduce__', '__reduce_ex__', '__replace__', '__repr__', '__setattr__', '__sizeof__', '__static_attributes__', '__str__', '__subclasshook__', '__weakref__', '_repr_dict', '_scores_dict', 'binary_columns', 'cost_cb', 'dataset', 'ragas_traces', 'run_id', 'scores', 'to_pandas', 'total_cost', 'total_tokens', 'traces', 'upload']\n",
            "RAGAS result columns: ['user_input', 'retrieved_contexts', 'response', 'reference', 'faithfulness', 'context_precision']\n",
            "RAGAS scores for BM25 Retriever:\n",
            "- faithfulness: 0.924\n",
            "- context_precision: 0.403\n",
            "- quality_score: 0.663\n",
            "\n",
            "=== Results for BM25 Retriever ===\n",
            "Average time: 3.97s (Retrieval: 0.00s, LLM: 3.96s)\n",
            "Average documents: 4.0\n",
            "Average tokens: 841.2 in, 222.1 out\n",
            "Average cost: $0.000173/query\n",
            "Quality Score: 0.663\n",
            "\n",
            "=== Evaluating: Contextual Compression ===\n",
            "Processing question 1/12: Could you provide a detailed explanation of what m...\n",
            "  Time: 5.35s (Retrieval: 0.84s, LLM: 4.51s)\n",
            "  Documents: 3, Cost: $0.000263\n",
            "Processing question 2/12: What is the reviewr's initial impression of the Jo...\n",
            "  Time: 3.74s (Retrieval: 0.90s, LLM: 2.84s)\n",
            "  Documents: 3, Cost: $0.000155\n",
            "Processing question 3/12: How does Keanu's performance contribute to the app...\n",
            "  Time: 3.93s (Retrieval: 0.79s, LLM: 3.14s)\n",
            "  Documents: 3, Cost: $0.000169\n",
            "Processing question 4/12: What is the movi John Wick abot and why is it so p...\n",
            "  Time: 3.52s (Retrieval: 0.88s, LLM: 2.64s)\n",
            "  Documents: 3, Cost: $0.000133\n",
            "Processing question 5/12: How did Chad Stahelski's involvement influence the...\n",
            "  Time: 2.61s (Retrieval: 0.47s, LLM: 2.13s)\n",
            "  Documents: 3, Cost: $0.000105\n",
            "Processing question 6/12: How do the reviews of John Wick differ in their vi...\n",
            "  Time: 7.82s (Retrieval: 0.50s, LLM: 7.32s)\n",
            "  Documents: 3, Cost: $0.000258\n",
            "Processing question 7/12: How does the portrayal of assassin characters and ...\n",
            "  Time: 7.10s (Retrieval: 1.29s, LLM: 5.81s)\n",
            "  Documents: 3, Cost: $0.000224\n",
            "Processing question 8/12: How do the over-the-top martial arts scenes in Joh...\n",
            "  Time: 4.57s (Retrieval: 0.65s, LLM: 3.93s)\n",
            "  Documents: 3, Cost: $0.000141\n",
            "Processing question 9/12: Why people say JOHN WICK is a near-perfect action ...\n",
            "  Time: 5.82s (Retrieval: 1.26s, LLM: 4.56s)\n",
            "  Documents: 3, Cost: $0.000201\n",
            "Processing question 10/12: How do the reviews reflect Hollywood's approach to...\n",
            "  Time: 6.22s (Retrieval: 1.12s, LLM: 5.09s)\n",
            "  Documents: 3, Cost: $0.000174\n",
            "Processing question 11/12: What made the 2014 film John Wick a standout actio...\n",
            "  Time: 4.55s (Retrieval: 0.54s, LLM: 4.01s)\n",
            "  Documents: 3, Cost: $0.000185\n",
            "Processing question 12/12: How do the reviews of John Wick: Chapter 4 differ ...\n",
            "  Time: 3.99s (Retrieval: 0.51s, LLM: 3.48s)\n",
            "  Documents: 3, Cost: $0.000148\n",
            "\n",
            "=== Running RAGAS evaluation for Contextual Compression ===\n"
          ]
        },
        {
          "data": {
            "application/vnd.jupyter.widget-view+json": {
              "model_id": "ac991ff185294ea99d5c515a40a1599f",
              "version_major": 2,
              "version_minor": 0
            },
            "text/plain": [
              "Evaluating:   0%|          | 0/24 [00:00<?, ?it/s]"
            ]
          },
          "metadata": {},
          "output_type": "display_data"
        },
        {
          "name": "stdout",
          "output_type": "stream",
          "text": [
            "RAGAS result type: <class 'ragas.dataset_schema.EvaluationResult'>\n",
            "RAGAS result dir: ['__annotations__', '__class__', '__dataclass_fields__', '__dataclass_params__', '__delattr__', '__dict__', '__dir__', '__doc__', '__eq__', '__firstlineno__', '__format__', '__ge__', '__getattribute__', '__getitem__', '__getstate__', '__gt__', '__hash__', '__init__', '__init_subclass__', '__le__', '__lt__', '__match_args__', '__module__', '__ne__', '__new__', '__post_init__', '__reduce__', '__reduce_ex__', '__replace__', '__repr__', '__setattr__', '__sizeof__', '__static_attributes__', '__str__', '__subclasshook__', '__weakref__', '_repr_dict', '_scores_dict', 'binary_columns', 'cost_cb', 'dataset', 'ragas_traces', 'run_id', 'scores', 'to_pandas', 'total_cost', 'total_tokens', 'traces', 'upload']\n",
            "RAGAS result columns: ['user_input', 'retrieved_contexts', 'response', 'reference', 'faithfulness', 'context_precision']\n",
            "RAGAS scores for Contextual Compression:\n",
            "- faithfulness: 0.954\n",
            "- context_precision: 0.528\n",
            "- quality_score: 0.741\n",
            "\n",
            "=== Results for Contextual Compression ===\n",
            "Average time: 4.93s (Retrieval: 0.81s, LLM: 4.12s)\n",
            "Average documents: 3.0\n",
            "Average tokens: 873.5 in, 230.7 out\n",
            "Average cost: $0.000180/query\n",
            "Quality Score: 0.741\n",
            "\n",
            "=== Evaluating: Multi-Query Retriever ===\n",
            "Processing question 1/12: Could you provide a detailed explanation of what m...\n",
            "  Time: 12.84s (Retrieval: 3.73s, LLM: 9.11s)\n",
            "  Documents: 14, Cost: $0.000521\n",
            "Processing question 2/12: What is the reviewr's initial impression of the Jo...\n",
            "  Time: 5.57s (Retrieval: 3.06s, LLM: 2.50s)\n",
            "  Documents: 16, Cost: $0.000328\n",
            "Processing question 3/12: How does Keanu's performance contribute to the app...\n",
            "  Time: 6.09s (Retrieval: 3.22s, LLM: 2.88s)\n",
            "  Documents: 12, Cost: $0.000307\n",
            "Processing question 4/12: What is the movi John Wick abot and why is it so p...\n",
            "  Time: 13.13s (Retrieval: 4.53s, LLM: 8.60s)\n",
            "  Documents: 17, Cost: $0.000466\n",
            "Processing question 5/12: How did Chad Stahelski's involvement influence the...\n",
            "  Time: 8.37s (Retrieval: 3.72s, LLM: 4.65s)\n",
            "  Documents: 13, Cost: $0.000308\n",
            "Processing question 6/12: How do the reviews of John Wick differ in their vi...\n",
            "  Time: 11.06s (Retrieval: 3.69s, LLM: 7.37s)\n",
            "  Documents: 19, Cost: $0.000581\n",
            "Processing question 7/12: How does the portrayal of assassin characters and ...\n",
            "  Time: 10.15s (Retrieval: 4.27s, LLM: 5.88s)\n",
            "  Documents: 14, Cost: $0.000386\n",
            "Processing question 8/12: How do the over-the-top martial arts scenes in Joh...\n",
            "  Time: 9.19s (Retrieval: 3.76s, LLM: 5.42s)\n",
            "  Documents: 12, Cost: $0.000322\n",
            "Processing question 9/12: Why people say JOHN WICK is a near-perfect action ...\n",
            "  Time: 9.26s (Retrieval: 3.01s, LLM: 6.25s)\n",
            "  Documents: 18, Cost: $0.000464\n",
            "Processing question 10/12: How do the reviews reflect Hollywood's approach to...\n",
            "  Time: 7.92s (Retrieval: 3.45s, LLM: 4.47s)\n",
            "  Documents: 13, Cost: $0.000382\n",
            "Processing question 11/12: What made the 2014 film John Wick a standout actio...\n",
            "  Time: 9.80s (Retrieval: 3.12s, LLM: 6.68s)\n",
            "  Documents: 14, Cost: $0.000438\n",
            "Processing question 12/12: How do the reviews of John Wick: Chapter 4 differ ...\n",
            "  Time: 10.26s (Retrieval: 4.01s, LLM: 6.24s)\n",
            "  Documents: 13, Cost: $0.000364\n",
            "\n",
            "=== Running RAGAS evaluation for Multi-Query Retriever ===\n"
          ]
        },
        {
          "data": {
            "application/vnd.jupyter.widget-view+json": {
              "model_id": "4d976f61a8d743809286c58cde828e55",
              "version_major": 2,
              "version_minor": 0
            },
            "text/plain": [
              "Evaluating:   0%|          | 0/24 [00:00<?, ?it/s]"
            ]
          },
          "metadata": {},
          "output_type": "display_data"
        },
        {
          "name": "stdout",
          "output_type": "stream",
          "text": [
            "RAGAS result type: <class 'ragas.dataset_schema.EvaluationResult'>\n",
            "RAGAS result dir: ['__annotations__', '__class__', '__dataclass_fields__', '__dataclass_params__', '__delattr__', '__dict__', '__dir__', '__doc__', '__eq__', '__firstlineno__', '__format__', '__ge__', '__getattribute__', '__getitem__', '__getstate__', '__gt__', '__hash__', '__init__', '__init_subclass__', '__le__', '__lt__', '__match_args__', '__module__', '__ne__', '__new__', '__post_init__', '__reduce__', '__reduce_ex__', '__replace__', '__repr__', '__setattr__', '__sizeof__', '__static_attributes__', '__str__', '__subclasshook__', '__weakref__', '_repr_dict', '_scores_dict', 'binary_columns', 'cost_cb', 'dataset', 'ragas_traces', 'run_id', 'scores', 'to_pandas', 'total_cost', 'total_tokens', 'traces', 'upload']\n",
            "RAGAS result columns: ['user_input', 'retrieved_contexts', 'response', 'reference', 'faithfulness', 'context_precision']\n",
            "RAGAS scores for Multi-Query Retriever:\n",
            "- faithfulness: 0.976\n",
            "- context_precision: 0.460\n",
            "- quality_score: 0.718\n",
            "\n",
            "=== Results for Multi-Query Retriever ===\n",
            "Average time: 9.47s (Retrieval: 3.63s, LLM: 5.84s)\n",
            "Average documents: 14.6\n",
            "Average tokens: 2694.5 in, 340.4 out\n",
            "Average cost: $0.000406/query\n",
            "Quality Score: 0.718\n",
            "\n",
            "=== Evaluating: Parent Document Retriever ===\n",
            "Processing question 1/12: Could you provide a detailed explanation of what m...\n",
            "  Time: 4.73s (Retrieval: 0.87s, LLM: 3.86s)\n",
            "  Documents: 2, Cost: $0.000102\n",
            "Processing question 2/12: What is the reviewr's initial impression of the Jo...\n",
            "  Time: 2.50s (Retrieval: 0.38s, LLM: 2.11s)\n",
            "  Documents: 4, Cost: $0.000119\n",
            "Processing question 3/12: How does Keanu's performance contribute to the app...\n",
            "  Time: 2.50s (Retrieval: 0.38s, LLM: 2.12s)\n",
            "  Documents: 2, Cost: $0.000066\n",
            "Processing question 4/12: What is the movi John Wick abot and why is it so p...\n",
            "  Time: 4.34s (Retrieval: 0.28s, LLM: 4.07s)\n",
            "  Documents: 2, Cost: $0.000081\n",
            "Processing question 5/12: How did Chad Stahelski's involvement influence the...\n",
            "  Time: 3.53s (Retrieval: 0.31s, LLM: 3.23s)\n",
            "  Documents: 1, Cost: $0.000075\n",
            "Processing question 6/12: How do the reviews of John Wick differ in their vi...\n",
            "  Time: 6.32s (Retrieval: 0.37s, LLM: 5.95s)\n",
            "  Documents: 3, Cost: $0.000221\n",
            "Processing question 7/12: How does the portrayal of assassin characters and ...\n",
            "  Time: 6.03s (Retrieval: 0.44s, LLM: 5.60s)\n",
            "  Documents: 2, Cost: $0.000195\n",
            "Processing question 8/12: How do the over-the-top martial arts scenes in Joh...\n",
            "  Time: 3.43s (Retrieval: 0.59s, LLM: 2.84s)\n",
            "  Documents: 2, Cost: $0.000101\n",
            "Processing question 9/12: Why people say JOHN WICK is a near-perfect action ...\n",
            "  Time: 3.71s (Retrieval: 0.69s, LLM: 3.03s)\n",
            "  Documents: 3, Cost: $0.000107\n",
            "Processing question 10/12: How do the reviews reflect Hollywood's approach to...\n",
            "  Time: 5.68s (Retrieval: 0.29s, LLM: 5.38s)\n",
            "  Documents: 3, Cost: $0.000184\n",
            "Processing question 11/12: What made the 2014 film John Wick a standout actio...\n",
            "  Time: 3.21s (Retrieval: 0.39s, LLM: 2.81s)\n",
            "  Documents: 2, Cost: $0.000072\n",
            "Processing question 12/12: How do the reviews of John Wick: Chapter 4 differ ...\n",
            "  Time: 6.69s (Retrieval: 0.38s, LLM: 6.31s)\n",
            "  Documents: 3, Cost: $0.000163\n",
            "\n",
            "=== Running RAGAS evaluation for Parent Document Retriever ===\n"
          ]
        },
        {
          "data": {
            "application/vnd.jupyter.widget-view+json": {
              "model_id": "b20d281caa5a4eb59f5ac0f6f1e3fa81",
              "version_major": 2,
              "version_minor": 0
            },
            "text/plain": [
              "Evaluating:   0%|          | 0/24 [00:00<?, ?it/s]"
            ]
          },
          "metadata": {},
          "output_type": "display_data"
        },
        {
          "name": "stdout",
          "output_type": "stream",
          "text": [
            "RAGAS result type: <class 'ragas.dataset_schema.EvaluationResult'>\n",
            "RAGAS result dir: ['__annotations__', '__class__', '__dataclass_fields__', '__dataclass_params__', '__delattr__', '__dict__', '__dir__', '__doc__', '__eq__', '__firstlineno__', '__format__', '__ge__', '__getattribute__', '__getitem__', '__getstate__', '__gt__', '__hash__', '__init__', '__init_subclass__', '__le__', '__lt__', '__match_args__', '__module__', '__ne__', '__new__', '__post_init__', '__reduce__', '__reduce_ex__', '__replace__', '__repr__', '__setattr__', '__sizeof__', '__static_attributes__', '__str__', '__subclasshook__', '__weakref__', '_repr_dict', '_scores_dict', 'binary_columns', 'cost_cb', 'dataset', 'ragas_traces', 'run_id', 'scores', 'to_pandas', 'total_cost', 'total_tokens', 'traces', 'upload']\n",
            "RAGAS result columns: ['user_input', 'retrieved_contexts', 'response', 'reference', 'faithfulness', 'context_precision']\n",
            "RAGAS scores for Parent Document Retriever:\n",
            "- faithfulness: 0.870\n",
            "- context_precision: 0.512\n",
            "- quality_score: 0.691\n",
            "\n",
            "=== Results for Parent Document Retriever ===\n",
            "Average time: 4.39s (Retrieval: 0.45s, LLM: 3.94s)\n",
            "Average documents: 2.4\n",
            "Average tokens: 500.0 in, 184.5 out\n",
            "Average cost: $0.000124/query\n",
            "Quality Score: 0.691\n",
            "\n",
            "=== Evaluating: Ensemble Retriever ===\n",
            "Processing question 1/12: Could you provide a detailed explanation of what m...\n",
            "  Time: 18.03s (Retrieval: 5.02s, LLM: 13.01s)\n",
            "  Documents: 18, Cost: $0.000648\n",
            "Processing question 2/12: What is the reviewr's initial impression of the Jo...\n",
            "  Time: 10.89s (Retrieval: 5.50s, LLM: 5.39s)\n",
            "  Documents: 21, Cost: $0.000430\n",
            "Processing question 3/12: How does Keanu's performance contribute to the app...\n",
            "  Time: 12.46s (Retrieval: 7.72s, LLM: 4.74s)\n",
            "  Documents: 14, Cost: $0.000325\n",
            "Processing question 4/12: What is the movi John Wick abot and why is it so p...\n",
            "  Time: 12.96s (Retrieval: 5.57s, LLM: 7.39s)\n",
            "  Documents: 20, Cost: $0.000509\n",
            "Processing question 5/12: How did Chad Stahelski's involvement influence the...\n",
            "  Time: 8.69s (Retrieval: 4.91s, LLM: 3.78s)\n",
            "  Documents: 16, Cost: $0.000332\n",
            "Processing question 6/12: How do the reviews of John Wick differ in their vi...\n",
            "  Time: 17.03s (Retrieval: 4.24s, LLM: 12.80s)\n",
            "  Documents: 21, Cost: $0.000518\n",
            "Processing question 7/12: How does the portrayal of assassin characters and ...\n",
            "  Time: 11.36s (Retrieval: 4.75s, LLM: 6.61s)\n",
            "  Documents: 14, Cost: $0.000371\n",
            "Processing question 8/12: How do the over-the-top martial arts scenes in Joh...\n",
            "  Time: 14.77s (Retrieval: 6.73s, LLM: 8.04s)\n",
            "  Documents: 15, Cost: $0.000402\n",
            "Processing question 9/12: Why people say JOHN WICK is a near-perfect action ...\n",
            "  Time: 9.21s (Retrieval: 4.66s, LLM: 4.55s)\n",
            "  Documents: 21, Cost: $0.000462\n",
            "Processing question 10/12: How do the reviews reflect Hollywood's approach to...\n",
            "  Time: 15.25s (Retrieval: 5.26s, LLM: 9.99s)\n",
            "  Documents: 22, Cost: $0.000582\n",
            "Processing question 11/12: What made the 2014 film John Wick a standout actio...\n",
            "  Time: 11.31s (Retrieval: 4.38s, LLM: 6.92s)\n",
            "  Documents: 13, Cost: $0.000358\n",
            "Processing question 12/12: How do the reviews of John Wick: Chapter 4 differ ...\n",
            "  Time: 11.06s (Retrieval: 4.50s, LLM: 6.57s)\n",
            "  Documents: 18, Cost: $0.000430\n",
            "\n",
            "=== Running RAGAS evaluation for Ensemble Retriever ===\n"
          ]
        },
        {
          "data": {
            "application/vnd.jupyter.widget-view+json": {
              "model_id": "743d6a88fbac4d278a2987b5372f1a46",
              "version_major": 2,
              "version_minor": 0
            },
            "text/plain": [
              "Evaluating:   0%|          | 0/24 [00:00<?, ?it/s]"
            ]
          },
          "metadata": {},
          "output_type": "display_data"
        },
        {
          "name": "stdout",
          "output_type": "stream",
          "text": [
            "RAGAS result type: <class 'ragas.dataset_schema.EvaluationResult'>\n",
            "RAGAS result dir: ['__annotations__', '__class__', '__dataclass_fields__', '__dataclass_params__', '__delattr__', '__dict__', '__dir__', '__doc__', '__eq__', '__firstlineno__', '__format__', '__ge__', '__getattribute__', '__getitem__', '__getstate__', '__gt__', '__hash__', '__init__', '__init_subclass__', '__le__', '__lt__', '__match_args__', '__module__', '__ne__', '__new__', '__post_init__', '__reduce__', '__reduce_ex__', '__replace__', '__repr__', '__setattr__', '__sizeof__', '__static_attributes__', '__str__', '__subclasshook__', '__weakref__', '_repr_dict', '_scores_dict', 'binary_columns', 'cost_cb', 'dataset', 'ragas_traces', 'run_id', 'scores', 'to_pandas', 'total_cost', 'total_tokens', 'traces', 'upload']\n",
            "RAGAS result columns: ['user_input', 'retrieved_contexts', 'response', 'reference', 'faithfulness', 'context_precision']\n",
            "RAGAS scores for Ensemble Retriever:\n",
            "- faithfulness: 0.940\n",
            "- context_precision: 0.531\n",
            "- quality_score: 0.735\n",
            "\n",
            "=== Results for Ensemble Retriever ===\n",
            "Average time: 12.75s (Retrieval: 5.27s, LLM: 7.48s)\n",
            "Average documents: 17.8\n",
            "Average tokens: 3124.4 in, 337.2 out\n",
            "Average cost: $0.000447/query\n",
            "Quality Score: 0.735\n",
            "\n",
            "=== Evaluating: Semantic Chunking Retriever ===\n",
            "Processing question 1/12: Could you provide a detailed explanation of what m...\n",
            "  Time: 9.75s (Retrieval: 0.37s, LLM: 9.38s)\n",
            "  Documents: 10, Cost: $0.000382\n",
            "Processing question 2/12: What is the reviewr's initial impression of the Jo...\n",
            "  Time: 3.83s (Retrieval: 0.76s, LLM: 3.07s)\n",
            "  Documents: 10, Cost: $0.000176\n",
            "Processing question 3/12: How does Keanu's performance contribute to the app...\n",
            "  Time: 2.99s (Retrieval: 0.45s, LLM: 2.54s)\n",
            "  Documents: 10, Cost: $0.000197\n",
            "Processing question 4/12: What is the movi John Wick abot and why is it so p...\n",
            "  Time: 5.98s (Retrieval: 0.36s, LLM: 5.61s)\n",
            "  Documents: 10, Cost: $0.000294\n",
            "Processing question 5/12: How did Chad Stahelski's involvement influence the...\n",
            "  Time: 5.69s (Retrieval: 0.77s, LLM: 4.91s)\n",
            "  Documents: 10, Cost: $0.000257\n",
            "Processing question 6/12: How do the reviews of John Wick differ in their vi...\n",
            "  Time: 7.10s (Retrieval: 0.41s, LLM: 6.69s)\n",
            "  Documents: 10, Cost: $0.000315\n",
            "Processing question 7/12: How does the portrayal of assassin characters and ...\n",
            "  Time: 6.79s (Retrieval: 0.46s, LLM: 6.34s)\n",
            "  Documents: 10, Cost: $0.000281\n",
            "Processing question 8/12: How do the over-the-top martial arts scenes in Joh...\n",
            "  Time: 5.06s (Retrieval: 0.76s, LLM: 4.30s)\n",
            "  Documents: 10, Cost: $0.000249\n",
            "Processing question 9/12: Why people say JOHN WICK is a near-perfect action ...\n",
            "  Time: 7.45s (Retrieval: 0.29s, LLM: 7.16s)\n",
            "  Documents: 10, Cost: $0.000267\n",
            "Processing question 10/12: How do the reviews reflect Hollywood's approach to...\n",
            "  Time: 5.12s (Retrieval: 0.41s, LLM: 4.71s)\n",
            "  Documents: 10, Cost: $0.000258\n",
            "Processing question 11/12: What made the 2014 film John Wick a standout actio...\n",
            "  Time: 6.49s (Retrieval: 0.45s, LLM: 6.04s)\n",
            "  Documents: 10, Cost: $0.000289\n",
            "Processing question 12/12: How do the reviews of John Wick: Chapter 4 differ ...\n",
            "  Time: 8.23s (Retrieval: 0.66s, LLM: 7.58s)\n",
            "  Documents: 10, Cost: $0.000286\n",
            "\n",
            "=== Running RAGAS evaluation for Semantic Chunking Retriever ===\n"
          ]
        },
        {
          "data": {
            "application/vnd.jupyter.widget-view+json": {
              "model_id": "56f26fab874e4d9784a82a2fa1db5e82",
              "version_major": 2,
              "version_minor": 0
            },
            "text/plain": [
              "Evaluating:   0%|          | 0/24 [00:00<?, ?it/s]"
            ]
          },
          "metadata": {},
          "output_type": "display_data"
        },
        {
          "name": "stdout",
          "output_type": "stream",
          "text": [
            "RAGAS result type: <class 'ragas.dataset_schema.EvaluationResult'>\n",
            "RAGAS result dir: ['__annotations__', '__class__', '__dataclass_fields__', '__dataclass_params__', '__delattr__', '__dict__', '__dir__', '__doc__', '__eq__', '__firstlineno__', '__format__', '__ge__', '__getattribute__', '__getitem__', '__getstate__', '__gt__', '__hash__', '__init__', '__init_subclass__', '__le__', '__lt__', '__match_args__', '__module__', '__ne__', '__new__', '__post_init__', '__reduce__', '__reduce_ex__', '__replace__', '__repr__', '__setattr__', '__sizeof__', '__static_attributes__', '__str__', '__subclasshook__', '__weakref__', '_repr_dict', '_scores_dict', 'binary_columns', 'cost_cb', 'dataset', 'ragas_traces', 'run_id', 'scores', 'to_pandas', 'total_cost', 'total_tokens', 'traces', 'upload']\n",
            "RAGAS result columns: ['user_input', 'retrieved_contexts', 'response', 'reference', 'faithfulness', 'context_precision']\n",
            "RAGAS scores for Semantic Chunking Retriever:\n",
            "- faithfulness: 0.956\n",
            "- context_precision: 0.414\n",
            "- quality_score: 0.685\n",
            "\n",
            "=== Results for Semantic Chunking Retriever ===\n",
            "Average time: 6.21s (Retrieval: 0.51s, LLM: 5.69s)\n",
            "Average documents: 10.0\n",
            "Average tokens: 1575.3 in, 283.2 out\n",
            "Average cost: $0.000271/query\n",
            "Quality Score: 0.685\n",
            "\n",
            "=== Final Results ===\n",
            "                     Retriever  Avg Time (s)  Avg Cost ($)  Quality Score  \\\n",
            "0              Naive Retriever      6.156603      0.000311       0.778869   \n",
            "1               BM25 Retriever      3.965675      0.000173       0.663194   \n",
            "2       Contextual Compression      4.933752      0.000180       0.741118   \n",
            "3        Multi-Query Retriever      9.469220      0.000406       0.717598   \n",
            "4    Parent Document Retriever      4.390347      0.000124       0.690949   \n",
            "5           Ensemble Retriever     12.752847      0.000447       0.735315   \n",
            "6  Semantic Chunking Retriever      6.207603      0.000271       0.685199   \n",
            "\n",
            "   Efficiency Score  \n",
            "0       2507.762701  \n",
            "1       3834.598636  \n",
            "2       4126.108054  \n",
            "3       1769.153920  \n",
            "4       5581.172688  \n",
            "5       1643.866387  \n",
            "6       2529.964521  \n",
            "\n",
            "View detailed results in LangSmith: https://smith.langchain.com/projects/retriever-eval-unified-f58f8f85\n"
          ]
        }
      ],
      "source": [
        "# Exécuter l'évaluation complète en une seule fois\n",
        "results_df, project_name = evaluate_retrievers_unified(\n",
        "    retrievers, \n",
        "    testset_dataset,\n",
        "    llm_model=\"gpt-4.1-mini\"\n",
        ")"
      ]
    },
    {
      "cell_type": "code",
      "execution_count": 83,
      "metadata": {},
      "outputs": [
        {
          "data": {
            "text/html": [
              "<div>\n",
              "<style scoped>\n",
              "    .dataframe tbody tr th:only-of-type {\n",
              "        vertical-align: middle;\n",
              "    }\n",
              "\n",
              "    .dataframe tbody tr th {\n",
              "        vertical-align: top;\n",
              "    }\n",
              "\n",
              "    .dataframe thead th {\n",
              "        text-align: right;\n",
              "    }\n",
              "</style>\n",
              "<table border=\"1\" class=\"dataframe\">\n",
              "  <thead>\n",
              "    <tr style=\"text-align: right;\">\n",
              "      <th></th>\n",
              "      <th>Retriever</th>\n",
              "      <th>Avg Time (s)</th>\n",
              "      <th>Retrieval Time (s)</th>\n",
              "      <th>LLM Time (s)</th>\n",
              "      <th>Avg Docs</th>\n",
              "      <th>Avg Prompt Tokens</th>\n",
              "      <th>Avg Completion Tokens</th>\n",
              "      <th>Avg Cost ($)</th>\n",
              "      <th>Quality Score</th>\n",
              "      <th>Faithfulness</th>\n",
              "      <th>Context Precision</th>\n",
              "      <th>Project</th>\n",
              "      <th>Efficiency Score</th>\n",
              "      <th>Time-Efficiency</th>\n",
              "    </tr>\n",
              "  </thead>\n",
              "  <tbody>\n",
              "    <tr>\n",
              "      <th>0</th>\n",
              "      <td>Naive Retriever</td>\n",
              "      <td>6.156603</td>\n",
              "      <td>0.732347</td>\n",
              "      <td>5.424256</td>\n",
              "      <td>10.000000</td>\n",
              "      <td>2032.166667</td>\n",
              "      <td>268.416667</td>\n",
              "      <td>0.000311</td>\n",
              "      <td>0.778869</td>\n",
              "      <td>0.980846</td>\n",
              "      <td>0.576892</td>\n",
              "      <td>retriever-eval-unified-f58f8f85</td>\n",
              "      <td>2507.762701</td>\n",
              "      <td>407.328928</td>\n",
              "    </tr>\n",
              "    <tr>\n",
              "      <th>1</th>\n",
              "      <td>BM25 Retriever</td>\n",
              "      <td>3.965675</td>\n",
              "      <td>0.002064</td>\n",
              "      <td>3.963611</td>\n",
              "      <td>4.000000</td>\n",
              "      <td>841.166667</td>\n",
              "      <td>222.083333</td>\n",
              "      <td>0.000173</td>\n",
              "      <td>0.663194</td>\n",
              "      <td>0.923610</td>\n",
              "      <td>0.402778</td>\n",
              "      <td>retriever-eval-unified-f58f8f85</td>\n",
              "      <td>3834.598636</td>\n",
              "      <td>966.947281</td>\n",
              "    </tr>\n",
              "    <tr>\n",
              "      <th>2</th>\n",
              "      <td>Contextual Compression</td>\n",
              "      <td>4.933752</td>\n",
              "      <td>0.812529</td>\n",
              "      <td>4.121223</td>\n",
              "      <td>3.000000</td>\n",
              "      <td>873.500000</td>\n",
              "      <td>230.666667</td>\n",
              "      <td>0.000180</td>\n",
              "      <td>0.741118</td>\n",
              "      <td>0.954458</td>\n",
              "      <td>0.527778</td>\n",
              "      <td>retriever-eval-unified-f58f8f85</td>\n",
              "      <td>4126.108054</td>\n",
              "      <td>836.302359</td>\n",
              "    </tr>\n",
              "    <tr>\n",
              "      <th>3</th>\n",
              "      <td>Multi-Query Retriever</td>\n",
              "      <td>9.469220</td>\n",
              "      <td>3.631516</td>\n",
              "      <td>5.837703</td>\n",
              "      <td>14.583333</td>\n",
              "      <td>2694.500000</td>\n",
              "      <td>340.416667</td>\n",
              "      <td>0.000406</td>\n",
              "      <td>0.717598</td>\n",
              "      <td>0.975595</td>\n",
              "      <td>0.459601</td>\n",
              "      <td>retriever-eval-unified-f58f8f85</td>\n",
              "      <td>1769.153920</td>\n",
              "      <td>186.832072</td>\n",
              "    </tr>\n",
              "    <tr>\n",
              "      <th>4</th>\n",
              "      <td>Parent Document Retriever</td>\n",
              "      <td>4.390347</td>\n",
              "      <td>0.447118</td>\n",
              "      <td>3.943229</td>\n",
              "      <td>2.416667</td>\n",
              "      <td>500.000000</td>\n",
              "      <td>184.500000</td>\n",
              "      <td>0.000124</td>\n",
              "      <td>0.690949</td>\n",
              "      <td>0.870324</td>\n",
              "      <td>0.511574</td>\n",
              "      <td>retriever-eval-unified-f58f8f85</td>\n",
              "      <td>5581.172688</td>\n",
              "      <td>1271.237224</td>\n",
              "    </tr>\n",
              "    <tr>\n",
              "      <th>5</th>\n",
              "      <td>Ensemble Retriever</td>\n",
              "      <td>12.752847</td>\n",
              "      <td>5.269880</td>\n",
              "      <td>7.482967</td>\n",
              "      <td>17.750000</td>\n",
              "      <td>3124.416667</td>\n",
              "      <td>337.166667</td>\n",
              "      <td>0.000447</td>\n",
              "      <td>0.735315</td>\n",
              "      <td>0.939503</td>\n",
              "      <td>0.531127</td>\n",
              "      <td>retriever-eval-unified-f58f8f85</td>\n",
              "      <td>1643.866387</td>\n",
              "      <td>128.901910</td>\n",
              "    </tr>\n",
              "    <tr>\n",
              "      <th>6</th>\n",
              "      <td>Semantic Chunking Retriever</td>\n",
              "      <td>6.207603</td>\n",
              "      <td>0.512937</td>\n",
              "      <td>5.694666</td>\n",
              "      <td>10.000000</td>\n",
              "      <td>1575.333333</td>\n",
              "      <td>283.250000</td>\n",
              "      <td>0.000271</td>\n",
              "      <td>0.685199</td>\n",
              "      <td>0.955945</td>\n",
              "      <td>0.414453</td>\n",
              "      <td>retriever-eval-unified-f58f8f85</td>\n",
              "      <td>2529.964521</td>\n",
              "      <td>407.559002</td>\n",
              "    </tr>\n",
              "  </tbody>\n",
              "</table>\n",
              "</div>"
            ],
            "text/plain": [
              "                     Retriever  Avg Time (s)  Retrieval Time (s)  \\\n",
              "0              Naive Retriever      6.156603            0.732347   \n",
              "1               BM25 Retriever      3.965675            0.002064   \n",
              "2       Contextual Compression      4.933752            0.812529   \n",
              "3        Multi-Query Retriever      9.469220            3.631516   \n",
              "4    Parent Document Retriever      4.390347            0.447118   \n",
              "5           Ensemble Retriever     12.752847            5.269880   \n",
              "6  Semantic Chunking Retriever      6.207603            0.512937   \n",
              "\n",
              "   LLM Time (s)   Avg Docs  Avg Prompt Tokens  Avg Completion Tokens  \\\n",
              "0      5.424256  10.000000        2032.166667             268.416667   \n",
              "1      3.963611   4.000000         841.166667             222.083333   \n",
              "2      4.121223   3.000000         873.500000             230.666667   \n",
              "3      5.837703  14.583333        2694.500000             340.416667   \n",
              "4      3.943229   2.416667         500.000000             184.500000   \n",
              "5      7.482967  17.750000        3124.416667             337.166667   \n",
              "6      5.694666  10.000000        1575.333333             283.250000   \n",
              "\n",
              "   Avg Cost ($)  Quality Score  Faithfulness  Context Precision  \\\n",
              "0      0.000311       0.778869      0.980846           0.576892   \n",
              "1      0.000173       0.663194      0.923610           0.402778   \n",
              "2      0.000180       0.741118      0.954458           0.527778   \n",
              "3      0.000406       0.717598      0.975595           0.459601   \n",
              "4      0.000124       0.690949      0.870324           0.511574   \n",
              "5      0.000447       0.735315      0.939503           0.531127   \n",
              "6      0.000271       0.685199      0.955945           0.414453   \n",
              "\n",
              "                           Project  Efficiency Score  Time-Efficiency  \n",
              "0  retriever-eval-unified-f58f8f85       2507.762701       407.328928  \n",
              "1  retriever-eval-unified-f58f8f85       3834.598636       966.947281  \n",
              "2  retriever-eval-unified-f58f8f85       4126.108054       836.302359  \n",
              "3  retriever-eval-unified-f58f8f85       1769.153920       186.832072  \n",
              "4  retriever-eval-unified-f58f8f85       5581.172688      1271.237224  \n",
              "5  retriever-eval-unified-f58f8f85       1643.866387       128.901910  \n",
              "6  retriever-eval-unified-f58f8f85       2529.964521       407.559002  "
            ]
          },
          "metadata": {},
          "output_type": "display_data"
        }
      ],
      "source": [
        "# Afficher les résultats sous forme de tableau\n",
        "display(results_df)"
      ]
    },
    {
      "cell_type": "code",
      "execution_count": 84,
      "metadata": {},
      "outputs": [],
      "source": [
        "results_df.to_csv(\"results_df.csv\")"
      ]
    },
    {
      "cell_type": "code",
      "execution_count": null,
      "metadata": {},
      "outputs": [],
      "source": []
    }
  ],
  "metadata": {
    "colab": {
      "provenance": [],
      "toc_visible": true
    },
    "kernelspec": {
      "display_name": ".venv",
      "language": "python",
      "name": "python3"
    },
    "language_info": {
      "codemirror_mode": {
        "name": "ipython",
        "version": 3
      },
      "file_extension": ".py",
      "mimetype": "text/x-python",
      "name": "python",
      "nbconvert_exporter": "python",
      "pygments_lexer": "ipython3",
      "version": "3.13.2"
    }
  },
  "nbformat": 4,
  "nbformat_minor": 0
}
