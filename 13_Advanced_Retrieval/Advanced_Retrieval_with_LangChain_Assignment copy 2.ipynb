{
  "cells": [
    {
      "cell_type": "markdown",
      "metadata": {
        "id": "e-IqJAMkwnCF"
      },
      "source": [
        "# Advanced Retrieval with LangChain\n",
        "\n",
        "In the following notebook, we'll explore various methods of advanced retrieval using LangChain!\n",
        "\n",
        "We'll touch on:\n",
        "\n",
        "- Naive Retrieval\n",
        "- Best-Matching 25 (BM25)\n",
        "- Multi-Query Retrieval\n",
        "- Parent-Document Retrieval\n",
        "- Contextual Compression (a.k.a. Rerank)\n",
        "- Ensemble Retrieval\n",
        "- Semantic chunking\n",
        "\n",
        "We'll also discuss how these methods impact performance on our set of documents with a simple RAG chain.\n",
        "\n",
        "There will be two breakout rooms:\n",
        "\n",
        "- 🤝 Breakout Room Part #1\n",
        "  - Task 1: Getting Dependencies!\n",
        "  - Task 2: Data Collection and Preparation\n",
        "  - Task 3: Setting Up QDrant!\n",
        "  - Task 4-10: Retrieval Strategies\n",
        "- 🤝 Breakout Room Part #2\n",
        "  - Activity: Evaluate with Ragas"
      ]
    },
    {
      "cell_type": "markdown",
      "metadata": {
        "id": "4rKP3hgHivpe"
      },
      "source": [
        "# 🤝 Breakout Room Part #1"
      ]
    },
    {
      "cell_type": "markdown",
      "metadata": {
        "id": "3xes8oT-xHN7"
      },
      "source": [
        "## Task 1: Getting Dependencies!\n",
        "\n",
        "We're going to need a few specific LangChain community packages, like OpenAI (for our [LLM](https://platform.openai.com/docs/models) and [Embedding Model](https://platform.openai.com/docs/guides/embeddings)) and Cohere (for our [Reranker](https://cohere.com/rerank)).\n",
        "\n",
        "> You do not need to run the following cells if you are running this notebook locally. "
      ]
    },
    {
      "cell_type": "code",
      "execution_count": 1,
      "metadata": {
        "colab": {
          "base_uri": "https://localhost:8080/"
        },
        "id": "MkgFAXWVW3wm",
        "outputId": "636db35c-f05a-4038-ec7a-02360bef2dae"
      },
      "outputs": [],
      "source": [
        "#!pip install -qU langchain langchain-openai langchain-cohere rank_bm25"
      ]
    },
    {
      "cell_type": "markdown",
      "metadata": {
        "id": "dKqYM4Eoxcov"
      },
      "source": [
        "We're also going to be leveraging [Qdrant's](https://qdrant.tech/documentation/frameworks/langchain/) (pronounced \"Quadrant\") VectorDB in \"memory\" mode (so we can leverage it locally in our colab environment)."
      ]
    },
    {
      "cell_type": "code",
      "execution_count": 2,
      "metadata": {
        "id": "s6xav5CxYnML"
      },
      "outputs": [],
      "source": [
        "#!pip install -qU qdrant-client"
      ]
    },
    {
      "cell_type": "markdown",
      "metadata": {
        "id": "Z7OHJXzfyJyA"
      },
      "source": [
        "We'll also provide our OpenAI key, as well as our Cohere API key."
      ]
    },
    {
      "cell_type": "code",
      "execution_count": 3,
      "metadata": {
        "colab": {
          "base_uri": "https://localhost:8080/"
        },
        "id": "7LttlDQUYgSI",
        "outputId": "9dca95ab-4d02-4adf-ec3f-cb831326dc54"
      },
      "outputs": [],
      "source": [
        "import os\n",
        "import getpass\n",
        "\n",
        "os.environ[\"OPENAI_API_KEY\"] = getpass.getpass(\"Enter your OpenAI API Key:\")"
      ]
    },
    {
      "cell_type": "code",
      "execution_count": 4,
      "metadata": {
        "colab": {
          "base_uri": "https://localhost:8080/"
        },
        "id": "3iUahNiJyQbv",
        "outputId": "78bf06ef-2ee8-46c3-f73d-27958b4dd79b"
      },
      "outputs": [],
      "source": [
        "os.environ[\"COHERE_API_KEY\"] = getpass.getpass(\"Cohere API Key:\")"
      ]
    },
    {
      "cell_type": "markdown",
      "metadata": {
        "id": "B0pDRFEWSXvh"
      },
      "source": []
    },
    {
      "cell_type": "markdown",
      "metadata": {
        "id": "mw304iAFyRtl"
      },
      "source": [
        "## Task 2: Data Collection and Preparation\n",
        "\n",
        "We'll be using some reviews from the 4 movies in the John Wick franchise today to explore the different retrieval strategies.\n",
        "\n",
        "These were obtained from IMDB, and are available in the [AIM Data Repository](https://github.com/AI-Maker-Space/DataRepository)."
      ]
    },
    {
      "cell_type": "markdown",
      "metadata": {
        "id": "xXKHcZmKzDwT"
      },
      "source": [
        "### Data Collection\n",
        "\n",
        "We can simply `wget` these from GitHub.\n",
        "\n",
        "You could use any review data you wanted in this step - just be careful to make sure your metadata is aligned with your choice."
      ]
    },
    {
      "cell_type": "code",
      "execution_count": 5,
      "metadata": {
        "colab": {
          "base_uri": "https://localhost:8080/"
        },
        "id": "vbbSIGtzX3dS",
        "outputId": "0ce6514e-2479-4001-af24-824f987ce599"
      },
      "outputs": [
        {
          "name": "stdout",
          "output_type": "stream",
          "text": [
            "--2025-05-16 15:19:37--  https://raw.githubusercontent.com/AI-Maker-Space/DataRepository/main/jw1.csv\n",
            "Résolution de raw.githubusercontent.com (raw.githubusercontent.com)… 2606:50c0:8002::154, 2606:50c0:8003::154, 2606:50c0:8000::154, ...\n",
            "Connexion à raw.githubusercontent.com (raw.githubusercontent.com)|2606:50c0:8002::154|:443… connecté.\n",
            "requête HTTP transmise, en attente de la réponse… 200 OK\n",
            "Taille : 19628 (19K) [text/plain]\n",
            "Sauvegarde en : « john_wick_1.csv »\n",
            "\n",
            "john_wick_1.csv     100%[===================>]  19,17K  --.-KB/s    ds 0,006s  \n",
            "\n",
            "2025-05-16 15:19:37 (3,21 MB/s) — « john_wick_1.csv » sauvegardé [19628/19628]\n",
            "\n",
            "--2025-05-16 15:19:37--  https://raw.githubusercontent.com/AI-Maker-Space/DataRepository/main/jw2.csv\n",
            "Résolution de raw.githubusercontent.com (raw.githubusercontent.com)… 2606:50c0:8003::154, 2606:50c0:8000::154, 2606:50c0:8001::154, ...\n",
            "Connexion à raw.githubusercontent.com (raw.githubusercontent.com)|2606:50c0:8003::154|:443… connecté.\n",
            "requête HTTP transmise, en attente de la réponse… 200 OK\n",
            "Taille : 14747 (14K) [text/plain]\n",
            "Sauvegarde en : « john_wick_2.csv »\n",
            "\n",
            "john_wick_2.csv     100%[===================>]  14,40K  --.-KB/s    ds 0,006s  \n",
            "\n",
            "2025-05-16 15:19:37 (2,44 MB/s) — « john_wick_2.csv » sauvegardé [14747/14747]\n",
            "\n",
            "--2025-05-16 15:19:37--  https://raw.githubusercontent.com/AI-Maker-Space/DataRepository/main/jw3.csv\n",
            "Résolution de raw.githubusercontent.com (raw.githubusercontent.com)… 2606:50c0:8000::154, 2606:50c0:8001::154, 2606:50c0:8002::154, ...\n",
            "Connexion à raw.githubusercontent.com (raw.githubusercontent.com)|2606:50c0:8000::154|:443… connecté.\n",
            "requête HTTP transmise, en attente de la réponse… 200 OK\n",
            "Taille : 13888 (14K) [text/plain]\n",
            "Sauvegarde en : « john_wick_3.csv »\n",
            "\n",
            "john_wick_3.csv     100%[===================>]  13,56K  --.-KB/s    ds 0,003s  \n",
            "\n",
            "2025-05-16 15:19:38 (5,06 MB/s) — « john_wick_3.csv » sauvegardé [13888/13888]\n",
            "\n",
            "--2025-05-16 15:19:38--  https://raw.githubusercontent.com/AI-Maker-Space/DataRepository/main/jw4.csv\n",
            "Résolution de raw.githubusercontent.com (raw.githubusercontent.com)… 2606:50c0:8001::154, 2606:50c0:8002::154, 2606:50c0:8003::154, ...\n",
            "Connexion à raw.githubusercontent.com (raw.githubusercontent.com)|2606:50c0:8001::154|:443… connecté.\n",
            "requête HTTP transmise, en attente de la réponse… 200 OK\n",
            "Taille : 15109 (15K) [text/plain]\n",
            "Sauvegarde en : « john_wick_4.csv »\n",
            "\n",
            "john_wick_4.csv     100%[===================>]  14,75K  --.-KB/s    ds 0,005s  \n",
            "\n",
            "2025-05-16 15:19:38 (3,19 MB/s) — « john_wick_4.csv » sauvegardé [15109/15109]\n",
            "\n"
          ]
        }
      ],
      "source": [
        "!wget https://raw.githubusercontent.com/AI-Maker-Space/DataRepository/main/jw1.csv -O john_wick_1.csv\n",
        "!wget https://raw.githubusercontent.com/AI-Maker-Space/DataRepository/main/jw2.csv -O john_wick_2.csv\n",
        "!wget https://raw.githubusercontent.com/AI-Maker-Space/DataRepository/main/jw3.csv -O john_wick_3.csv\n",
        "!wget https://raw.githubusercontent.com/AI-Maker-Space/DataRepository/main/jw4.csv -O john_wick_4.csv"
      ]
    },
    {
      "cell_type": "markdown",
      "metadata": {
        "id": "A92NC2QZzCsi"
      },
      "source": [
        "### Data Preparation\n",
        "\n",
        "We want to make sure all our documents have the relevant metadata for the various retrieval strategies we're going to be applying today.\n",
        "\n",
        "- Self-Query: Wants as much metadata as we can provide\n",
        "- Time-weighted: Wants temporal data\n",
        "\n",
        "> NOTE: While we're creating a temporal relationship based on when these movies came out for illustrative purposes, it needs to be clear that the \"time-weighting\" in the Time-weighted Retriever is based on when the document was *accessed* last - not when it was created."
      ]
    },
    {
      "cell_type": "code",
      "execution_count": 6,
      "metadata": {},
      "outputs": [
        {
          "data": {
            "text/html": [
              "<div>\n",
              "<style scoped>\n",
              "    .dataframe tbody tr th:only-of-type {\n",
              "        vertical-align: middle;\n",
              "    }\n",
              "\n",
              "    .dataframe tbody tr th {\n",
              "        vertical-align: top;\n",
              "    }\n",
              "\n",
              "    .dataframe thead th {\n",
              "        text-align: right;\n",
              "    }\n",
              "</style>\n",
              "<table border=\"1\" class=\"dataframe\">\n",
              "  <thead>\n",
              "    <tr style=\"text-align: right;\">\n",
              "      <th></th>\n",
              "      <th>Review_Date</th>\n",
              "      <th>Author</th>\n",
              "      <th>Rating</th>\n",
              "      <th>Review_Title</th>\n",
              "      <th>Review</th>\n",
              "      <th>Review_Url</th>\n",
              "    </tr>\n",
              "  </thead>\n",
              "  <tbody>\n",
              "    <tr>\n",
              "      <th>0</th>\n",
              "      <td>23 May 2023</td>\n",
              "      <td>siderite</td>\n",
              "      <td>4.0</td>\n",
              "      <td>What a pointless film\\n</td>\n",
              "      <td>Imagine a video game where you are shooting ba...</td>\n",
              "      <td>/review/rw9073117/?ref_=tt_urv</td>\n",
              "    </tr>\n",
              "    <tr>\n",
              "      <th>1</th>\n",
              "      <td>30 March 2023</td>\n",
              "      <td>neil-476</td>\n",
              "      <td>5.0</td>\n",
              "      <td>There is such a thing as too much\\n</td>\n",
              "      <td>The Table, the international crminal brotherho...</td>\n",
              "      <td>/review/rw8960544/?ref_=tt_urv</td>\n",
              "    </tr>\n",
              "    <tr>\n",
              "      <th>2</th>\n",
              "      <td>25 March 2023</td>\n",
              "      <td>BA_Harrison</td>\n",
              "      <td>4.0</td>\n",
              "      <td>It got on my wick.\\n</td>\n",
              "      <td>The first three John Wick films came in fairly...</td>\n",
              "      <td>/review/rw8950606/?ref_=tt_urv</td>\n",
              "    </tr>\n",
              "    <tr>\n",
              "      <th>3</th>\n",
              "      <td>23 May 2023</td>\n",
              "      <td>namob-43673</td>\n",
              "      <td>3.0</td>\n",
              "      <td>I was rolling my eyes the whole time... all 3...</td>\n",
              "      <td>These John Wick movies can be sort of fun in t...</td>\n",
              "      <td>/review/rw9072963/?ref_=tt_urv</td>\n",
              "    </tr>\n",
              "    <tr>\n",
              "      <th>4</th>\n",
              "      <td>24 March 2023</td>\n",
              "      <td>fciocca</td>\n",
              "      <td>4.0</td>\n",
              "      <td>John Wick became the parody of himself. The t...</td>\n",
              "      <td>I went to the cinema with great expectations. ...</td>\n",
              "      <td>/review/rw8948738/?ref_=tt_urv</td>\n",
              "    </tr>\n",
              "    <tr>\n",
              "      <th>5</th>\n",
              "      <td>2 April 2023</td>\n",
              "      <td>skyhawk747</td>\n",
              "      <td>4.0</td>\n",
              "      <td>Am I missing something here?\\n</td>\n",
              "      <td>What is all the raving about with this movie? ...</td>\n",
              "      <td>/review/rw8967740/?ref_=tt_urv</td>\n",
              "    </tr>\n",
              "    <tr>\n",
              "      <th>6</th>\n",
              "      <td>24 March 2023</td>\n",
              "      <td>IMDbKeepsDeletingMyReviews</td>\n",
              "      <td>5.0</td>\n",
              "      <td>\"Yeah.\"\\n</td>\n",
              "      <td>In this fourth installment of 8711's successfu...</td>\n",
              "      <td>/review/rw8947952/?ref_=tt_urv</td>\n",
              "    </tr>\n",
              "    <tr>\n",
              "      <th>7</th>\n",
              "      <td>23 April 2023</td>\n",
              "      <td>antti-eskelinen-329-929792</td>\n",
              "      <td>4.0</td>\n",
              "      <td>I don't understand the great scores of this m...</td>\n",
              "      <td>In my opinion this is by far the worst movie o...</td>\n",
              "      <td>/review/rw9011753/?ref_=tt_urv</td>\n",
              "    </tr>\n",
              "    <tr>\n",
              "      <th>8</th>\n",
              "      <td>28 May 2023</td>\n",
              "      <td>dstan-71445</td>\n",
              "      <td>2.0</td>\n",
              "      <td>Disappointed.\\n</td>\n",
              "      <td>Very much over rated. Repetitive, tiring and i...</td>\n",
              "      <td>/review/rw9082993/?ref_=tt_urv</td>\n",
              "    </tr>\n",
              "    <tr>\n",
              "      <th>9</th>\n",
              "      <td>30 March 2023</td>\n",
              "      <td>drjgardner</td>\n",
              "      <td>2.0</td>\n",
              "      <td>Ridiculous, boring and pathetic...\\n</td>\n",
              "      <td>...all at the same time. This hybrid comic boo...</td>\n",
              "      <td>/review/rw8959398/?ref_=tt_urv</td>\n",
              "    </tr>\n",
              "    <tr>\n",
              "      <th>10</th>\n",
              "      <td>22 March 2023</td>\n",
              "      <td>lovemichaeljordan</td>\n",
              "      <td>8.0</td>\n",
              "      <td>How Can Anyone Choose to Watch Marvel Over Th...</td>\n",
              "      <td>Most American action flicks released these day...</td>\n",
              "      <td>/review/rw8944843/?ref_=tt_urv</td>\n",
              "    </tr>\n",
              "    <tr>\n",
              "      <th>11</th>\n",
              "      <td>26 April 2023</td>\n",
              "      <td>kskmah</td>\n",
              "      <td>1.0</td>\n",
              "      <td>NOPE\\n</td>\n",
              "      <td>Who needs a 2hr and 40 min action movie? No on...</td>\n",
              "      <td>/review/rw9017658/?ref_=tt_urv</td>\n",
              "    </tr>\n",
              "    <tr>\n",
              "      <th>12</th>\n",
              "      <td>24 March 2023</td>\n",
              "      <td>FeastMode</td>\n",
              "      <td>9.0</td>\n",
              "      <td>A new standard has been set for fight scenes\\n</td>\n",
              "      <td>Half of this review will be me gushing about t...</td>\n",
              "      <td>/review/rw8947764/?ref_=tt_urv</td>\n",
              "    </tr>\n",
              "    <tr>\n",
              "      <th>13</th>\n",
              "      <td>29 March 2023</td>\n",
              "      <td>MovieIQTest</td>\n",
              "      <td>NaN</td>\n",
              "      <td>Where is the STORY? A brainless video game?\\n</td>\n",
              "      <td>From the very beginning to the end, nothing bu...</td>\n",
              "      <td>/review/rw8957575/?ref_=tt_urv</td>\n",
              "    </tr>\n",
              "    <tr>\n",
              "      <th>14</th>\n",
              "      <td>23 March 2023</td>\n",
              "      <td>markvanwasbeek</td>\n",
              "      <td>9.0</td>\n",
              "      <td>Yeah\\n</td>\n",
              "      <td>By now you know what to expect from a John Wic...</td>\n",
              "      <td>/review/rw8946621/?ref_=tt_urv</td>\n",
              "    </tr>\n",
              "    <tr>\n",
              "      <th>15</th>\n",
              "      <td>5 April 2023</td>\n",
              "      <td>rupali-38827</td>\n",
              "      <td>4.0</td>\n",
              "      <td>Damp Wick\\n</td>\n",
              "      <td>No idea how the ratings are as high as they ar...</td>\n",
              "      <td>/review/rw8972614/?ref_=tt_urv</td>\n",
              "    </tr>\n",
              "    <tr>\n",
              "      <th>16</th>\n",
              "      <td>25 March 2023</td>\n",
              "      <td>vengeance20</td>\n",
              "      <td>4.0</td>\n",
              "      <td>John Weak 4: It Loses It Way\\n</td>\n",
              "      <td>Ok, so I got back from seeing this entry yeste...</td>\n",
              "      <td>/review/rw8949045/?ref_=tt_urv</td>\n",
              "    </tr>\n",
              "    <tr>\n",
              "      <th>17</th>\n",
              "      <td>16 March 2023</td>\n",
              "      <td>tresm87</td>\n",
              "      <td>9.0</td>\n",
              "      <td>While the Wick franchise has already solidifi...</td>\n",
              "      <td>Stuntman turned writer/director Chad Stahelski...</td>\n",
              "      <td>/review/rw8932278/?ref_=tt_urv</td>\n",
              "    </tr>\n",
              "    <tr>\n",
              "      <th>18</th>\n",
              "      <td>17 March 2023</td>\n",
              "      <td>cadillac20</td>\n",
              "      <td>10.0</td>\n",
              "      <td>Not Just The Best John Wick, But Possibly One...</td>\n",
              "      <td>Ever since the original John Wick, the franchi...</td>\n",
              "      <td>/review/rw8935367/?ref_=tt_urv</td>\n",
              "    </tr>\n",
              "    <tr>\n",
              "      <th>19</th>\n",
              "      <td>17 March 2023</td>\n",
              "      <td>tkdlifemagazine</td>\n",
              "      <td>9.0</td>\n",
              "      <td>The Best John Wick Sequel\\n</td>\n",
              "      <td>John Wick: Chapter 4 picks up where Chapter 3:...</td>\n",
              "      <td>/review/rw8935117/?ref_=tt_urv</td>\n",
              "    </tr>\n",
              "    <tr>\n",
              "      <th>20</th>\n",
              "      <td>23 March 2023</td>\n",
              "      <td>jtindahouse</td>\n",
              "      <td>9.0</td>\n",
              "      <td>THIS is how you justify a 3 hour runtime\\n</td>\n",
              "      <td>In a world where movie sequels seem to be loat...</td>\n",
              "      <td>/review/rw8946038/?ref_=tt_urv</td>\n",
              "    </tr>\n",
              "    <tr>\n",
              "      <th>21</th>\n",
              "      <td>27 May 2023</td>\n",
              "      <td>leftbanker-1</td>\n",
              "      <td>1.0</td>\n",
              "      <td>Itchy and Scratchy: The Movie...again and aga...</td>\n",
              "      <td>He fights and bites, he fights and bites and f...</td>\n",
              "      <td>/review/rw9081081/?ref_=tt_urv</td>\n",
              "    </tr>\n",
              "    <tr>\n",
              "      <th>22</th>\n",
              "      <td>25 March 2023</td>\n",
              "      <td>solidabs</td>\n",
              "      <td>1.0</td>\n",
              "      <td>Horrible\\n</td>\n",
              "      <td>HORRIBLE movie. I love John Wick. I mean I wou...</td>\n",
              "      <td>/review/rw8949493/?ref_=tt_urv</td>\n",
              "    </tr>\n",
              "    <tr>\n",
              "      <th>23</th>\n",
              "      <td>27 March 2023</td>\n",
              "      <td>statuskuo</td>\n",
              "      <td>4.0</td>\n",
              "      <td>Sound And Fury Adds Up To Nothing\\n</td>\n",
              "      <td>Sitting through the nearly 3 hours of this opu...</td>\n",
              "      <td>/review/rw8954612/?ref_=tt_urv</td>\n",
              "    </tr>\n",
              "    <tr>\n",
              "      <th>24</th>\n",
              "      <td>3 June 2023</td>\n",
              "      <td>Phil_H</td>\n",
              "      <td>4.0</td>\n",
              "      <td>Almost 3 hours of nothing\\n</td>\n",
              "      <td>John Wick: Chapter 4 is almost three hours of ...</td>\n",
              "      <td>/review/rw9097584/?ref_=tt_urv</td>\n",
              "    </tr>\n",
              "  </tbody>\n",
              "</table>\n",
              "</div>"
            ],
            "text/plain": [
              "      Review_Date                      Author  Rating  \\\n",
              "0     23 May 2023                    siderite     4.0   \n",
              "1   30 March 2023                    neil-476     5.0   \n",
              "2   25 March 2023                 BA_Harrison     4.0   \n",
              "3     23 May 2023                 namob-43673     3.0   \n",
              "4   24 March 2023                     fciocca     4.0   \n",
              "5    2 April 2023                  skyhawk747     4.0   \n",
              "6   24 March 2023  IMDbKeepsDeletingMyReviews     5.0   \n",
              "7   23 April 2023  antti-eskelinen-329-929792     4.0   \n",
              "8     28 May 2023                 dstan-71445     2.0   \n",
              "9   30 March 2023                  drjgardner     2.0   \n",
              "10  22 March 2023           lovemichaeljordan     8.0   \n",
              "11  26 April 2023                      kskmah     1.0   \n",
              "12  24 March 2023                   FeastMode     9.0   \n",
              "13  29 March 2023                 MovieIQTest     NaN   \n",
              "14  23 March 2023              markvanwasbeek     9.0   \n",
              "15   5 April 2023                rupali-38827     4.0   \n",
              "16  25 March 2023                 vengeance20     4.0   \n",
              "17  16 March 2023                     tresm87     9.0   \n",
              "18  17 March 2023                  cadillac20    10.0   \n",
              "19  17 March 2023             tkdlifemagazine     9.0   \n",
              "20  23 March 2023                 jtindahouse     9.0   \n",
              "21    27 May 2023                leftbanker-1     1.0   \n",
              "22  25 March 2023                    solidabs     1.0   \n",
              "23  27 March 2023                   statuskuo     4.0   \n",
              "24    3 June 2023                      Phil_H     4.0   \n",
              "\n",
              "                                         Review_Title  \\\n",
              "0                             What a pointless film\\n   \n",
              "1                 There is such a thing as too much\\n   \n",
              "2                                It got on my wick.\\n   \n",
              "3    I was rolling my eyes the whole time... all 3...   \n",
              "4    John Wick became the parody of himself. The t...   \n",
              "5                      Am I missing something here?\\n   \n",
              "6                                           \"Yeah.\"\\n   \n",
              "7    I don't understand the great scores of this m...   \n",
              "8                                     Disappointed.\\n   \n",
              "9                Ridiculous, boring and pathetic...\\n   \n",
              "10   How Can Anyone Choose to Watch Marvel Over Th...   \n",
              "11                                             NOPE\\n   \n",
              "12     A new standard has been set for fight scenes\\n   \n",
              "13      Where is the STORY? A brainless video game?\\n   \n",
              "14                                             Yeah\\n   \n",
              "15                                        Damp Wick\\n   \n",
              "16                     John Weak 4: It Loses It Way\\n   \n",
              "17   While the Wick franchise has already solidifi...   \n",
              "18   Not Just The Best John Wick, But Possibly One...   \n",
              "19                        The Best John Wick Sequel\\n   \n",
              "20         THIS is how you justify a 3 hour runtime\\n   \n",
              "21   Itchy and Scratchy: The Movie...again and aga...   \n",
              "22                                         Horrible\\n   \n",
              "23                Sound And Fury Adds Up To Nothing\\n   \n",
              "24                        Almost 3 hours of nothing\\n   \n",
              "\n",
              "                                               Review  \\\n",
              "0   Imagine a video game where you are shooting ba...   \n",
              "1   The Table, the international crminal brotherho...   \n",
              "2   The first three John Wick films came in fairly...   \n",
              "3   These John Wick movies can be sort of fun in t...   \n",
              "4   I went to the cinema with great expectations. ...   \n",
              "5   What is all the raving about with this movie? ...   \n",
              "6   In this fourth installment of 8711's successfu...   \n",
              "7   In my opinion this is by far the worst movie o...   \n",
              "8   Very much over rated. Repetitive, tiring and i...   \n",
              "9   ...all at the same time. This hybrid comic boo...   \n",
              "10  Most American action flicks released these day...   \n",
              "11  Who needs a 2hr and 40 min action movie? No on...   \n",
              "12  Half of this review will be me gushing about t...   \n",
              "13  From the very beginning to the end, nothing bu...   \n",
              "14  By now you know what to expect from a John Wic...   \n",
              "15  No idea how the ratings are as high as they ar...   \n",
              "16  Ok, so I got back from seeing this entry yeste...   \n",
              "17  Stuntman turned writer/director Chad Stahelski...   \n",
              "18  Ever since the original John Wick, the franchi...   \n",
              "19  John Wick: Chapter 4 picks up where Chapter 3:...   \n",
              "20  In a world where movie sequels seem to be loat...   \n",
              "21  He fights and bites, he fights and bites and f...   \n",
              "22  HORRIBLE movie. I love John Wick. I mean I wou...   \n",
              "23  Sitting through the nearly 3 hours of this opu...   \n",
              "24  John Wick: Chapter 4 is almost three hours of ...   \n",
              "\n",
              "                        Review_Url  \n",
              "0   /review/rw9073117/?ref_=tt_urv  \n",
              "1   /review/rw8960544/?ref_=tt_urv  \n",
              "2   /review/rw8950606/?ref_=tt_urv  \n",
              "3   /review/rw9072963/?ref_=tt_urv  \n",
              "4   /review/rw8948738/?ref_=tt_urv  \n",
              "5   /review/rw8967740/?ref_=tt_urv  \n",
              "6   /review/rw8947952/?ref_=tt_urv  \n",
              "7   /review/rw9011753/?ref_=tt_urv  \n",
              "8   /review/rw9082993/?ref_=tt_urv  \n",
              "9   /review/rw8959398/?ref_=tt_urv  \n",
              "10  /review/rw8944843/?ref_=tt_urv  \n",
              "11  /review/rw9017658/?ref_=tt_urv  \n",
              "12  /review/rw8947764/?ref_=tt_urv  \n",
              "13  /review/rw8957575/?ref_=tt_urv  \n",
              "14  /review/rw8946621/?ref_=tt_urv  \n",
              "15  /review/rw8972614/?ref_=tt_urv  \n",
              "16  /review/rw8949045/?ref_=tt_urv  \n",
              "17  /review/rw8932278/?ref_=tt_urv  \n",
              "18  /review/rw8935367/?ref_=tt_urv  \n",
              "19  /review/rw8935117/?ref_=tt_urv  \n",
              "20  /review/rw8946038/?ref_=tt_urv  \n",
              "21  /review/rw9081081/?ref_=tt_urv  \n",
              "22  /review/rw8949493/?ref_=tt_urv  \n",
              "23  /review/rw8954612/?ref_=tt_urv  \n",
              "24  /review/rw9097584/?ref_=tt_urv  "
            ]
          },
          "execution_count": 6,
          "metadata": {},
          "output_type": "execute_result"
        }
      ],
      "source": [
        "import pandas as pd\n",
        "\n",
        "df = pd.read_csv(\"john_wick_4.csv\", index_col= 0)\n",
        "df\n"
      ]
    },
    {
      "cell_type": "code",
      "execution_count": 7,
      "metadata": {
        "id": "GshBjVRJZ6p8"
      },
      "outputs": [],
      "source": [
        "from langchain_community.document_loaders.csv_loader import CSVLoader\n",
        "from datetime import datetime, timedelta\n",
        "\n",
        "documents = []\n",
        "\n",
        "for i in range(1, 5):\n",
        "  loader = CSVLoader(\n",
        "      file_path=f\"john_wick_{i}.csv\",\n",
        "      metadata_columns=[\"Review_Date\", \"Review_Title\", \"Review_Url\", \"Author\", \"Rating\"]\n",
        "  )\n",
        "\n",
        "  movie_docs = loader.load()\n",
        "  for doc in movie_docs:\n",
        "\n",
        "    # Add the \"Movie Title\" (John Wick 1, 2, ...)\n",
        "    doc.metadata[\"Movie_Title\"] = f\"John Wick {i}\"\n",
        "\n",
        "    # convert \"Rating\" to an `int`, if no rating is provided - assume 0 rating\n",
        "    doc.metadata[\"Rating\"] = int(doc.metadata[\"Rating\"]) if doc.metadata[\"Rating\"] else 0\n",
        "\n",
        "    # newer movies have a more recent \"last_accessed_at\"\n",
        "    doc.metadata[\"last_accessed_at\"] = datetime.now() - timedelta(days=4-i)\n",
        "\n",
        "  documents.extend(movie_docs)"
      ]
    },
    {
      "cell_type": "markdown",
      "metadata": {
        "id": "9gQphb6y0C0S"
      },
      "source": [
        "Let's look at an example document to see if everything worked as expected!"
      ]
    },
    {
      "cell_type": "code",
      "execution_count": 8,
      "metadata": {
        "colab": {
          "base_uri": "https://localhost:8080/"
        },
        "id": "PkUkCf7DaMiq",
        "outputId": "e90bd5da-1d87-423b-838a-cb6efc16b199"
      },
      "outputs": [
        {
          "data": {
            "text/plain": [
              "Document(metadata={'source': 'john_wick_1.csv', 'row': 0, 'Review_Date': '6 May 2015', 'Review_Title': ' Kinetic, concise, and stylish; John Wick kicks ass.\\n', 'Review_Url': '/review/rw3233896/?ref_=tt_urv', 'Author': 'lnvicta', 'Rating': 8, 'Movie_Title': 'John Wick 1', 'last_accessed_at': datetime.datetime(2025, 5, 13, 15, 19, 38, 842160)}, page_content=\": 0\\nReview: The best way I can describe John Wick is to picture Taken but instead of Liam Neeson it's Keanu Reeves and instead of his daughter it's his dog. That's essentially the plot of the movie. John Wick (Reeves) is out to seek revenge on the people who took something he loved from him. It's a beautifully simple premise for an action movie - when action movies get convoluted, they get bad i.e. A Good Day to Die Hard. John Wick gives the viewers what they want: Awesome action, stylish stunts, kinetic chaos, and a relatable hero to tie it all together. John Wick succeeds in its simplicity.\")"
            ]
          },
          "execution_count": 8,
          "metadata": {},
          "output_type": "execute_result"
        }
      ],
      "source": [
        "documents[0]"
      ]
    },
    {
      "cell_type": "markdown",
      "metadata": {
        "id": "lWaQpdHl0Gzc"
      },
      "source": [
        "## Task 3: Setting up QDrant!\n",
        "\n",
        "Now that we have our documents, let's create a QDrant VectorStore with the collection name \"JohnWick\".\n",
        "\n",
        "We'll leverage OpenAI's [`text-embedding-3-small`](https://openai.com/blog/new-embedding-models-and-api-updates) because it's a very powerful (and low-cost) embedding model.\n",
        "\n",
        "> NOTE: We'll be creating additional vectorstores where necessary, but this pattern is still extremely useful."
      ]
    },
    {
      "cell_type": "code",
      "execution_count": 9,
      "metadata": {
        "id": "NT8ihRJbYmMT"
      },
      "outputs": [],
      "source": [
        "from langchain_community.vectorstores import Qdrant\n",
        "from langchain_openai import OpenAIEmbeddings\n",
        "\n",
        "embeddings = OpenAIEmbeddings(model=\"text-embedding-3-small\")\n",
        "\n",
        "vectorstore = Qdrant.from_documents(\n",
        "    documents,\n",
        "    embeddings,\n",
        "    location=\":memory:\",\n",
        "    collection_name=\"JohnWick\"\n",
        ")"
      ]
    },
    {
      "cell_type": "markdown",
      "metadata": {
        "id": "-x2SS4Rh0hiN"
      },
      "source": [
        "## Task 4: Naive RAG Chain\n",
        "\n",
        "Since we're focusing on the \"R\" in RAG today - we'll create our Retriever first."
      ]
    },
    {
      "cell_type": "markdown",
      "metadata": {
        "id": "NEH7X5Ai08FH"
      },
      "source": [
        "### R - Retrieval\n",
        "\n",
        "This naive retriever will simply look at each review as a document, and use cosine-similarity to fetch the 10 most relevant documents.\n",
        "\n",
        "> NOTE: We're choosing `10` as our `k` here to provide enough documents for our reranking process later"
      ]
    },
    {
      "cell_type": "code",
      "execution_count": 10,
      "metadata": {
        "id": "GFDPrNBtb72o"
      },
      "outputs": [],
      "source": [
        "naive_retriever = vectorstore.as_retriever(search_kwargs={\"k\" : 10})"
      ]
    },
    {
      "cell_type": "markdown",
      "metadata": {
        "id": "MbBhyQjz06dx"
      },
      "source": [
        "### A - Augmented\n",
        "\n",
        "We're going to go with a standard prompt for our simple RAG chain today! Nothing fancy here, we want this to mostly be about the Retrieval process."
      ]
    },
    {
      "cell_type": "code",
      "execution_count": 11,
      "metadata": {
        "id": "7uSz-Dbqcoki"
      },
      "outputs": [],
      "source": [
        "from langchain_core.prompts import ChatPromptTemplate\n",
        "\n",
        "RAG_TEMPLATE = \"\"\"\\\n",
        "You are a helpful and kind assistant. Use the context provided below to answer the question.\n",
        "\n",
        "If you do not know the answer, or are unsure, say you don't know.\n",
        "\n",
        "Query:\n",
        "{question}\n",
        "\n",
        "Context:\n",
        "{context}\n",
        "\"\"\"\n",
        "\n",
        "rag_prompt = ChatPromptTemplate.from_template(RAG_TEMPLATE)"
      ]
    },
    {
      "cell_type": "markdown",
      "metadata": {
        "id": "BlRzpb231GGJ"
      },
      "source": [
        "### G - Generation\n",
        "\n",
        "We're going to leverage `gpt-4.1-nano` as our LLM today, as - again - we want this to largely be about the Retrieval process."
      ]
    },
    {
      "cell_type": "code",
      "execution_count": 12,
      "metadata": {
        "id": "c-1t9H60dJLg"
      },
      "outputs": [],
      "source": [
        "from langchain_openai import ChatOpenAI\n",
        "\n",
        "chat_model = ChatOpenAI(model=\"gpt-4.1-nano\")\n"
      ]
    },
    {
      "cell_type": "markdown",
      "metadata": {
        "id": "mg3QRGzA1M2x"
      },
      "source": [
        "### LCEL RAG Chain\n",
        "\n",
        "We're going to use LCEL to construct our chain.\n",
        "\n",
        "> NOTE: This chain will be exactly the same across the various examples with the exception of our Retriever!"
      ]
    },
    {
      "cell_type": "code",
      "execution_count": 13,
      "metadata": {
        "id": "0bvstS7mdOW3"
      },
      "outputs": [],
      "source": [
        "from langchain_core.runnables import RunnablePassthrough\n",
        "from operator import itemgetter\n",
        "from langchain_core.output_parsers import StrOutputParser\n",
        "\n",
        "naive_retrieval_chain = (\n",
        "    # INVOKE CHAIN WITH: {\"question\" : \"<<SOME USER QUESTION>>\"}\n",
        "    # \"question\" : populated by getting the value of the \"question\" key\n",
        "    # \"context\"  : populated by getting the value of the \"question\" key and chaining it into the base_retriever\n",
        "    {\"context\": itemgetter(\"question\") | naive_retriever, \"question\": itemgetter(\"question\")}\n",
        "    # \"context\"  : is assigned to a RunnablePassthrough object (will not be called or considered in the next step)\n",
        "    #              by getting the value of the \"context\" key from the previous step\n",
        "    | RunnablePassthrough.assign(context=itemgetter(\"context\"))\n",
        "    # \"response\" : the \"context\" and \"question\" values are used to format our prompt object and then piped\n",
        "    #              into the LLM and stored in a key called \"response\"\n",
        "    # \"context\"  : populated by getting the value of the \"context\" key from the previous step\n",
        "    | {\"response\": rag_prompt | chat_model, \"context\": itemgetter(\"context\")}\n",
        ")"
      ]
    },
    {
      "cell_type": "markdown",
      "metadata": {
        "id": "izKujhNb1ZG8"
      },
      "source": [
        "Let's see how this simple chain does on a few different prompts.\n",
        "\n",
        "> NOTE: You might think that we've cherry picked prompts that showcase the individual skill of each of the retrieval strategies - you'd be correct!"
      ]
    },
    {
      "cell_type": "code",
      "execution_count": 14,
      "metadata": {
        "colab": {
          "base_uri": "https://localhost:8080/",
          "height": 36
        },
        "id": "LI-5ueEddku9",
        "outputId": "7f3cec18-5f4e-41bb-cf71-51ba0be5388e"
      },
      "outputs": [
        {
          "data": {
            "text/plain": [
              "'Based on the reviews provided, people generally liked John Wick. Many reviews highlight its stylish action, intense sequences, and entertainment value, with some rating it very highly (e.g., 9 or 10 out of 10). There are a few mixed or less favorable reviews, but overall, the sentiment indicates that people appreciated and enjoyed the film.'"
            ]
          },
          "execution_count": 14,
          "metadata": {},
          "output_type": "execute_result"
        }
      ],
      "source": [
        "naive_retrieval_chain.invoke({\"question\" : \"Did people generally like John Wick?\"})[\"response\"].content"
      ]
    },
    {
      "cell_type": "code",
      "execution_count": 15,
      "metadata": {},
      "outputs": [
        {
          "data": {
            "text/plain": [
              "{'response': AIMessage(content=\"Based on the reviews provided, people generally liked John Wick. Many reviews give high ratings, praise the film's action sequences, style, and Keanu Reeves' performance, and describe it as fun, slick, and innovative. However, there are some lower-rated reviews and a few critics who are less enthusiastic. Overall, the majority of opinions seem to be positive, indicating that people generally appreciated and enjoyed the film.\", additional_kwargs={'refusal': None}, response_metadata={'token_usage': {'completion_tokens': 83, 'prompt_tokens': 3595, 'total_tokens': 3678, 'completion_tokens_details': {'accepted_prediction_tokens': 0, 'audio_tokens': 0, 'reasoning_tokens': 0, 'rejected_prediction_tokens': 0}, 'prompt_tokens_details': {'audio_tokens': 0, 'cached_tokens': 3456}}, 'model_name': 'gpt-4.1-nano-2025-04-14', 'system_fingerprint': 'fp_eede8f0d45', 'id': 'chatcmpl-BXpGUUtx0KuWOJJhZKM8v8MBmaOA1', 'service_tier': 'default', 'finish_reason': 'stop', 'logprobs': None}, id='run--2223bbe2-77a8-4fd1-817e-f062b7a96f5d-0', usage_metadata={'input_tokens': 3595, 'output_tokens': 83, 'total_tokens': 3678, 'input_token_details': {'audio': 0, 'cache_read': 3456}, 'output_token_details': {'audio': 0, 'reasoning': 0}}),\n",
              " 'context': [Document(metadata={'source': 'john_wick_1.csv', 'row': 9, 'Review_Date': '20 October 2014', 'Review_Title': \" The coolest action film you'll see all year\\n\", 'Review_Url': '/review/rw3107759/?ref_=tt_urv', 'Author': 'trublu215', 'Rating': 9, 'Movie_Title': 'John Wick 1', 'last_accessed_at': '2025-05-13T15:19:38.842172', '_id': '4b8b8e5b0dc64921a46a21cfa632604b', '_collection_name': 'JohnWick'}, page_content=\": 9\\nReview: At first glance, John Wick sounds like a terrible film on paper but with the slickness of Keanu Reeves' performance as the titular character and the sheer brilliance in its action sequences, this marks the best action film of the year and one of the absolute best in the past decade. Following a brutal home invasion that leaves his beloved dog murdered by thugs from his past, John Wick vows revenge on the ones who have taken what he loves most. Like I said, on paper, this seems like a direct-to-DVD slopfest starring John Cena but as a film with Keanu Reeves as the lead, it marks the very welcomed return for Reeves to the genre. John Wick is insanely fun, violently brutal and an overall romp especially for those disappointed by The Expendables 3. John Wick is propelled by Tarantino-esque dialog mixed with the swagger of action stars from the 70s. Reeves literally emulates cool in this film and does it with such confidence, that we don't even doubt the character...even when he kills countless bad guys with extreme force in some utterly ridiculous and implausible situations. We don't doubt it for a minute. This is EXACTLY what you want out of an action film. It is briskly paced, brilliantly shot and meticulously choreographed and keeps you wanting more and more. The supporting cast filled with the likes of John Legiuzamo, Ian McShane, and Willen Dafoe also keeps this film very interesting. These guys don't play good guys, hell, John Wick by traditional standards would be a bad guy in any other film. Every character is more ruthless than the next and pushes John Wick to be more ruthless than they are, creating a very cool dynamic between the character and the plot regarding the idea of how far is too far? However, don't expect some revelation from John Wick regarding the morality of bad and evil. This film wants you entertained and does so with brute force, it never lets up, not even for a second. One scene in particular that will have your blood pumping is a showdown between thugs and Wick in a nightclub. This action sequence remains the best in the film and will have you grasping your theater seat because of the sheer intensity of it. Overall, John Wick is slick, violent fun that turns into a remarkable, surprising film that will catch you off guard. It is THAT good. I highly recommend this film to action buffs especially but I'm sure those who just like a good movie will love it as well.\"),\n",
              "  Document(metadata={'source': 'john_wick_1.csv', 'row': 20, 'Review_Date': '22 October 2014', 'Review_Title': ' Smoothest action film to come around in a long time\\n', 'Review_Url': '/review/rw3109271/?ref_=tt_urv', 'Author': 'IceSkateUpHill', 'Rating': 10, 'Movie_Title': 'John Wick 1', 'last_accessed_at': '2025-05-13T15:19:38.842177', '_id': '92b62ffd8acc4d098ba16fd5a52fce13', '_collection_name': 'JohnWick'}, page_content=\": 20\\nReview: John Wick is something special. It takes as much time setting up elaborate action sequences as it does the world with which it all takes place in. And what a world it is. It reminds me of Millers Crossing and it is cooler than any other recent attempt at noir. We are shown a criminal underworld where, if you are connected, many powerful people know who you are and show you respect. John Wick was connected but he got out. He is the rare killer who has found peace, and he is grateful for that peace. Some young kids steal that from him and he does what he does best, he wages a one man war against the Russian Mafia. It might sound like the film takes quite a leap but it all makes sense. The motives of John and the people who get in the way of his bullets are all very clear, even if it does come across as rather simple. That's the plot at it's most basic. Then there's the action. The film is directed by Reeve's stuntman from The Matrix, so this guy knows action. There are sequences that flow so smoothly it puts other action films and their quick cuts to shame. Keaunu moves so fluidly throughout the film and comes across as such a natural that the only disappointment is that we have not seen him like this before. Along the way are plenty of character actors, fans of The Matrix and The Wire will recognize a few people then there are more obvious ones like Ian McShane and Willem Dafoe. Everyone seems to be having a good time. That is another plus for this movie. It get's dark at times but overall it is quite fun, not very chipper, but fun. I cannot recommend this movie enough. I believe it is a must see for action fans and for anyone looking for something a bit different from the usual fare.\"),\n",
              "  Document(metadata={'source': 'john_wick_3.csv', 'row': 5, 'Review_Date': '17 July 2019', 'Review_Title': ' The magic is gone\\n', 'Review_Url': '/review/rw4999970/?ref_=tt_urv', 'Author': 'soundoflight', 'Rating': 5, 'Movie_Title': 'John Wick 3', 'last_accessed_at': '2025-05-15T15:19:38.842466', '_id': '766179aea9f045688367957ab8b607cc', '_collection_name': 'JohnWick'}, page_content=': 5\\nReview: The first John Wick film was special because it broke a mold of sorts. It went against certain action film conventions - the hero was not a muscle bound hulk like a Schwarzenegger or Stallone, the action was super fast paced, the plot was basic and straighforward, but introduced some unique elements, and there was something a bit unique and stylish about the film. John Wick was cool.'),\n",
              "  Document(metadata={'source': 'john_wick_4.csv', 'row': 14, 'Review_Date': '23 March 2023', 'Review_Title': ' Yeah\\n', 'Review_Url': '/review/rw8946621/?ref_=tt_urv', 'Author': 'markvanwasbeek', 'Rating': 9, 'Movie_Title': 'John Wick 4', 'last_accessed_at': '2025-05-16T15:19:38.842612', '_id': 'c99a08408cd844438ac8fc2c525feea1', '_collection_name': 'JohnWick'}, page_content=\": 14\\nReview: By now you know what to expect from a John Wick movie. I thought the franchise was losing a little momentum in chapter 3 so I was worried this could be disappointing. It's not. It's even more on steroids than any Wick before! Even close to 3 hours it doesn't feel to long which is very special for a action movie. This franchise has set new standards. If anybody says a movie is good like John Wick, it better f'n be! The set pieces as everyone mentioned before are really insane this time. The Tokyo sceney with illuminated cherry blossoms was beautiful. The only super illogical thing that bothered me was that nobody flinched at the nightclub, eventually they did but after a whole 10 minute beatdown through the whole club, but then again it's a shady nightclub for high table people. If you liked the first three movies, get your ass to the cinema. Yeah.\"),\n",
              "  Document(metadata={'source': 'john_wick_1.csv', 'row': 0, 'Review_Date': '6 May 2015', 'Review_Title': ' Kinetic, concise, and stylish; John Wick kicks ass.\\n', 'Review_Url': '/review/rw3233896/?ref_=tt_urv', 'Author': 'lnvicta', 'Rating': 8, 'Movie_Title': 'John Wick 1', 'last_accessed_at': '2025-05-13T15:19:38.842160', '_id': '6f5ff03ef33f4dbeaf4e4cfcac5bde19', '_collection_name': 'JohnWick'}, page_content=\": 0\\nReview: The best way I can describe John Wick is to picture Taken but instead of Liam Neeson it's Keanu Reeves and instead of his daughter it's his dog. That's essentially the plot of the movie. John Wick (Reeves) is out to seek revenge on the people who took something he loved from him. It's a beautifully simple premise for an action movie - when action movies get convoluted, they get bad i.e. A Good Day to Die Hard. John Wick gives the viewers what they want: Awesome action, stylish stunts, kinetic chaos, and a relatable hero to tie it all together. John Wick succeeds in its simplicity.\"),\n",
              "  Document(metadata={'source': 'john_wick_2.csv', 'row': 6, 'Review_Date': '14 February 2017', 'Review_Title': \" John Wick: Chapter 2 continues it's faced paced, neo-noir story of our assassin\\n\", 'Review_Url': '/review/rw3639868/?ref_=tt_urv', 'Author': 'RforFilm', 'Rating': 8, 'Movie_Title': 'John Wick 2', 'last_accessed_at': '2025-05-14T15:19:38.842321', '_id': '3368106039e04cb1bf216c16a5a05cea', '_collection_name': 'JohnWick'}, page_content=\": 6\\nReview: In 2014, a Keanu Reeves revenge thriller John Wick became a surprise hit. I originally skipped out on the film as I felt that the trailers only showed an assassin story that I felt I've seen before. As far as I'm concerned, I made a big mistake. Before seeing the sequel, I felt it was important to watch the first one. I rented it on Amazon Prime and I was shock by what I saw; a dark, stylish, and fun action movie that is doing it's own thing. Though I've seen plenty stories about revenge (The Count of Monte Cristo and Moby Dick being the prime examples), I can't recall one over someone's pet being murdered.\"),\n",
              "  Document(metadata={'source': 'john_wick_4.csv', 'row': 20, 'Review_Date': '23 March 2023', 'Review_Title': ' THIS is how you justify a 3 hour runtime\\n', 'Review_Url': '/review/rw8946038/?ref_=tt_urv', 'Author': 'jtindahouse', 'Rating': 9, 'Movie_Title': 'John Wick 4', 'last_accessed_at': '2025-05-16T15:19:38.842614', '_id': 'ab9df6ceed5e4190900598a26220aca0', '_collection_name': 'JohnWick'}, page_content=\": 20\\nReview: In a world where movie sequels seem to be loathed even before they are released, the 'John Wick' series has remained remarkably consistent and well received. In fact all three of the first films have the same IMDb rating of 7.4/10 and I noticed recently that I gave them all the same rating of 8/10. Incredibly, I think 'John Wick: Chapter 4' is the best the series has to offer. This movie was a wild ride.\"),\n",
              "  Document(metadata={'source': 'john_wick_1.csv', 'row': 2, 'Review_Date': '5 May 2023', 'Review_Title': \" You don't mess with another person's dog. It's as simple as that!\\n\", 'Review_Url': '/review/rw9033669/?ref_=tt_urv', 'Author': 'Coventry', 'Rating': 5, 'Movie_Title': 'John Wick 1', 'last_accessed_at': '2025-05-13T15:19:38.842168', '_id': '509a165323c049b79b18f72bd343d6ef', '_collection_name': 'JohnWick'}, page_content=': 2\\nReview: With the fourth installment scoring immensely at the cinemas as I\\'m submitting this review, and after three previous films that are apparently loved by everyone else in the world, I thought perhaps it would be time for me check out \"John Wick\".'),\n",
              "  Document(metadata={'source': 'john_wick_1.csv', 'row': 5, 'Review_Date': '23 March 2023', 'Review_Title': ' Violent and gripping story with plenty of unstopped action , shootouts and breathtaking fights\\n', 'Review_Url': '/review/rw8945545/?ref_=tt_urv', 'Author': 'ma-cortes', 'Rating': 7, 'Movie_Title': 'John Wick 1', 'last_accessed_at': '2025-05-13T15:19:38.842170', '_id': '6d230078394c43e982e91caa98d17a2e', '_collection_name': 'JohnWick'}, page_content=\": 5\\nReview: Ultra-violent first entry with lots of killings, thrills , noisy action , suspense , and crossfire . In this original John Wick (2014) , an ex-hit-man comes out of retirement to track down the gangsters that killed his dog and took everything from him . With the untimely death of his beloved wife still bitter in his mouth he seeks for vengeance . But when an arrogant Russian mob prince and hoodlums steal his car and kill his dog , they are fully aware of his lethal capacity. The Bogeyman will find himself dragged into an impossible task as every killer in the business dreams of cornering the legendary Wick who now has an enormous price on his head . In this first installment John Wick , blind with revenge, and for his salvation John will immediately unleash a carefully orchestrated maelstrom of destruction against those attempt to chase him and with a price tag on his head, as he is the target of hit men : an army of bounty-hunting killers on his trail and a murderer woman everywhere . The legendary hitman will be forced to unearth his meticulously concealed identity and to carry out a relentless vendetta . Now, only blood can quench the boogeyman's thirst for retribution . Don't Set Him Off! . John Wick isn't the Boogeyman... He's the guy you send to kill the doomed Boogeyman. Revenge is all he has left. You want peace, prepare for war . Don't Hunt What You Can't Kill. Tick Tock, Mr. Wick. Everyone Is Waiting. For John Wick . Every Action Has Consequences. This Friday, Wick is Back . Its the World Vs. Wick. Every Action Has Consequences.\"),\n",
              "  Document(metadata={'source': 'john_wick_1.csv', 'row': 19, 'Review_Date': '14 April 2023', 'Review_Title': \" I Don't Get It\\n\", 'Review_Url': '/review/rw8991670/?ref_=tt_urv', 'Author': 'xiaoli7377', 'Rating': 6, 'Movie_Title': 'John Wick 1', 'last_accessed_at': '2025-05-13T15:19:38.842177', '_id': '6304d486c749463cb62044c7a0310dc3', '_collection_name': 'JohnWick'}, page_content=': 19\\nReview: I really don\\'t understand the love that \"John Wick\" receives. It\\'s just kind of a generic action thriller to me. No different than a \"Bourne\" or \"Taken\" movie. It gets a slight bump for me in a rating of 6 instead of 5 because I did think that the cinematography was really good and also the fight choreography was top notch. I can definitely see the influence of martial arts films on this.')]}"
            ]
          },
          "execution_count": 15,
          "metadata": {},
          "output_type": "execute_result"
        }
      ],
      "source": [
        "naive_retrieval_chain.invoke({\"question\" : \"Did people generally like John Wick?\"})"
      ]
    },
    {
      "cell_type": "code",
      "execution_count": 16,
      "metadata": {
        "colab": {
          "base_uri": "https://localhost:8080/",
          "height": 36
        },
        "id": "43zdcdUydtXh",
        "outputId": "db874e67-f568-4ed1-b863-b7c17b387052"
      },
      "outputs": [
        {
          "data": {
            "text/plain": [
              "'Yes, there is a review with a rating of 10. The URL to that review is: /review/rw4854296/?ref_=tt_urv'"
            ]
          },
          "execution_count": 16,
          "metadata": {},
          "output_type": "execute_result"
        }
      ],
      "source": [
        "naive_retrieval_chain.invoke({\"question\" : \"Do any reviews have a rating of 10? If so - can I have the URLs to those reviews?\"})[\"response\"].content"
      ]
    },
    {
      "cell_type": "code",
      "execution_count": 17,
      "metadata": {
        "colab": {
          "base_uri": "https://localhost:8080/",
          "height": 70
        },
        "id": "lpG6rlvvvKFq",
        "outputId": "a1b330b0-628e-41be-d829-9c1d55e781f5"
      },
      "outputs": [
        {
          "data": {
            "text/plain": [
              "'In the John Wick film series, the story revolves around John Wick, a retired hitman who seeks vengeance after a series of personal tragedies. In the first movie, John comes out of retirement after gangsters kill his dog and steal his car, which were the last gifts from his deceased wife. His quest for retribution plunges him into the criminal underworld, where he is targeted by numerous assassins due to a bounty placed on his head. Throughout the series, John Wick navigates a dangerous world of criminal organizations, following a strict code of conduct, and facing the consequences of his violent past. The films are known for their stylish action sequences, deep world-building, and the recurring theme that \"every action has consequences.\"'"
            ]
          },
          "execution_count": 17,
          "metadata": {},
          "output_type": "execute_result"
        }
      ],
      "source": [
        "naive_retrieval_chain.invoke({\"question\" : \"What happened in John Wick?\"})[\"response\"].content"
      ]
    },
    {
      "cell_type": "markdown",
      "metadata": {
        "id": "jsbfQmbr1leg"
      },
      "source": [
        "Overall, this is not bad! Let's see if we can make it better!"
      ]
    },
    {
      "cell_type": "markdown",
      "metadata": {
        "id": "Ft1vt8HPR16w"
      },
      "source": [
        "## Task 5: Best-Matching 25 (BM25) Retriever\n",
        "\n",
        "Taking a step back in time - [BM25](https://www.nowpublishers.com/article/Details/INR-019) is based on [Bag-Of-Words](https://en.wikipedia.org/wiki/Bag-of-words_model) which is a sparse representation of text.\n",
        "\n",
        "In essence, it's a way to compare how similar two pieces of text are based on the words they both contain.\n",
        "\n",
        "This retriever is very straightforward to set-up! Let's see it happen down below!\n"
      ]
    },
    {
      "cell_type": "code",
      "execution_count": 18,
      "metadata": {
        "id": "qdF4wuj5R-cG"
      },
      "outputs": [],
      "source": [
        "from langchain_community.retrievers import BM25Retriever\n",
        "\n",
        "bm25_retriever = BM25Retriever.from_documents(documents)"
      ]
    },
    {
      "cell_type": "markdown",
      "metadata": {
        "id": "KIjJlBQ8drKH"
      },
      "source": [
        "We'll construct the same chain - only changing the retriever."
      ]
    },
    {
      "cell_type": "code",
      "execution_count": 19,
      "metadata": {
        "id": "WR15EQG7SLuw"
      },
      "outputs": [],
      "source": [
        "bm25_retrieval_chain = (\n",
        "    {\"context\": itemgetter(\"question\") | bm25_retriever, \"question\": itemgetter(\"question\")}\n",
        "    | RunnablePassthrough.assign(context=itemgetter(\"context\"))\n",
        "    | {\"response\": rag_prompt | chat_model, \"context\": itemgetter(\"context\")}\n",
        ")"
      ]
    },
    {
      "cell_type": "markdown",
      "metadata": {
        "id": "0Gi-yXCDdvJk"
      },
      "source": [
        "Let's look at the responses!"
      ]
    },
    {
      "cell_type": "code",
      "execution_count": 20,
      "metadata": {
        "colab": {
          "base_uri": "https://localhost:8080/",
          "height": 53
        },
        "id": "oY9qzmm3SOrF",
        "outputId": "4d4f450f-5978-460f-f242-b32407868353"
      },
      "outputs": [
        {
          "data": {
            "text/plain": [
              "'Based on the reviews provided, people have mixed opinions about John Wick. Some reviews are highly positive, praising the action, style, and entertainment value, suggesting that many people liked the movies, at least in the earlier installments. For example, one review gave a score of 10 and called it \"something special,\" and another gave an 8, recommending it strongly.\\n\\nHowever, there are also negative reviews expressing dissatisfaction, especially with later installments like John Wick 3, which received a rating of 1 and was described as mindless and overly violent.\\n\\nOverall, while many people apparently enjoyed the John Wick movies, especially the first one, there are also notable criticisms, indicating that opinions vary.'"
            ]
          },
          "execution_count": 20,
          "metadata": {},
          "output_type": "execute_result"
        }
      ],
      "source": [
        "bm25_retrieval_chain.invoke({\"question\" : \"Did people generally like John Wick?\"})[\"response\"].content"
      ]
    },
    {
      "cell_type": "code",
      "execution_count": 21,
      "metadata": {
        "colab": {
          "base_uri": "https://localhost:8080/",
          "height": 36
        },
        "id": "igfinyneSQkh",
        "outputId": "9752d4a9-dd16-45b1-f63f-a76e93a05eb3"
      },
      "outputs": [
        {
          "data": {
            "text/plain": [
              "'There are no reviews with a rating of 10 in the provided data.'"
            ]
          },
          "execution_count": 21,
          "metadata": {},
          "output_type": "execute_result"
        }
      ],
      "source": [
        "bm25_retrieval_chain.invoke({\"question\" : \"Do any reviews have a rating of 10? If so - can I have the URLs to those reviews?\"})[\"response\"].content"
      ]
    },
    {
      "cell_type": "code",
      "execution_count": 22,
      "metadata": {
        "colab": {
          "base_uri": "https://localhost:8080/",
          "height": 53
        },
        "id": "w0H7pV_USSMQ",
        "outputId": "bdead654-3109-4143-9a30-e1d6ca8dc534"
      },
      "outputs": [
        {
          "data": {
            "text/plain": [
              "\"In the John Wick film series, the story revolves around John Wick, a former assassin who is drawn back into the criminal underworld after a series of events. The first movie, John Wick 1, is highly praised for its beautifully choreographed action scenes and emotional depth. It follows Wick as he seeks vengeance after his dog is killed, which is a gift from his deceased wife. The subsequent films, John Wick 2 and John Wick 3, continue to explore his battles against assassins and crime organizations, featuring intense action and elaborate fight scenes. However, the later installment, John Wick 4, received some criticism for repetitive action sequences and implausible plot points, though it still maintains the core theme of Wick's relentless struggle for survival and justice.\""
            ]
          },
          "execution_count": 22,
          "metadata": {},
          "output_type": "execute_result"
        }
      ],
      "source": [
        "bm25_retrieval_chain.invoke({\"question\" : \"What happened in John Wick?\"})[\"response\"].content"
      ]
    },
    {
      "cell_type": "markdown",
      "metadata": {
        "id": "zvg5xHaUdxCl"
      },
      "source": [
        "It's not clear that this is better or worse - but the `I don't know` isn't great!"
      ]
    },
    {
      "cell_type": "markdown",
      "metadata": {
        "id": "Q-dcbFn2vpZF"
      },
      "source": [
        "## Task 6: Contextual Compression (Using Reranking)\n",
        "\n",
        "Contextual Compression is a fairly straightforward idea: We want to \"compress\" our retrieved context into just the most useful bits.\n",
        "\n",
        "There are a few ways we can achieve this - but we're going to look at a specific example called reranking.\n",
        "\n",
        "The basic idea here is this:\n",
        "\n",
        "- We retrieve lots of documents that are very likely related to our query vector\n",
        "- We \"compress\" those documents into a smaller set of *more* related documents using a reranking algorithm.\n",
        "\n",
        "We'll be leveraging Cohere's Rerank model for our reranker today!\n",
        "\n",
        "All we need to do is the following:\n",
        "\n",
        "- Create a basic retriever\n",
        "- Create a compressor (reranker, in this case)\n",
        "\n",
        "That's it!\n",
        "\n",
        "Let's see it in the code below!"
      ]
    },
    {
      "cell_type": "code",
      "execution_count": 23,
      "metadata": {
        "id": "psHvO2K1v_ZQ"
      },
      "outputs": [],
      "source": [
        "from langchain.retrievers.contextual_compression import ContextualCompressionRetriever\n",
        "from langchain_cohere import CohereRerank\n",
        "\n",
        "compressor = CohereRerank(model=\"rerank-english-v3.0\")\n",
        "compression_retriever = ContextualCompressionRetriever(\n",
        "    base_compressor=compressor, base_retriever=naive_retriever\n",
        ")"
      ]
    },
    {
      "cell_type": "markdown",
      "metadata": {
        "id": "_TA9RB2x-j7P"
      },
      "source": [
        "Let's create our chain again, and see how this does!"
      ]
    },
    {
      "cell_type": "code",
      "execution_count": 24,
      "metadata": {
        "id": "1BXqmxvHwX6T"
      },
      "outputs": [],
      "source": [
        "contextual_compression_retrieval_chain = (\n",
        "    {\"context\": itemgetter(\"question\") | compression_retriever, \"question\": itemgetter(\"question\")}\n",
        "    | RunnablePassthrough.assign(context=itemgetter(\"context\"))\n",
        "    | {\"response\": rag_prompt | chat_model, \"context\": itemgetter(\"context\")}\n",
        ")"
      ]
    },
    {
      "cell_type": "code",
      "execution_count": 25,
      "metadata": {
        "colab": {
          "base_uri": "https://localhost:8080/",
          "height": 36
        },
        "id": "V3iGpokswcBb",
        "outputId": "f15d2aa1-5e8b-417d-f623-eb835d072e59"
      },
      "outputs": [
        {
          "data": {
            "text/plain": [
              "\"Based on the reviews provided, people generally liked John Wick. The first two reviews are highly positive, praising the film as an exciting, stylish, and fun action movie with high ratings of 9 and 10. These reviews highlight Keanu Reeves' performance, the action sequences, and the overall entertainment value. However, a later review for John Wick 3 rated it lower at 5, indicating some disappointment, but overall, the sentiment from the positive reviews suggests that many viewers liked and appreciated the film.\""
            ]
          },
          "execution_count": 25,
          "metadata": {},
          "output_type": "execute_result"
        }
      ],
      "source": [
        "contextual_compression_retrieval_chain.invoke({\"question\" : \"Did people generally like John Wick?\"})[\"response\"].content"
      ]
    },
    {
      "cell_type": "code",
      "execution_count": 26,
      "metadata": {
        "colab": {
          "base_uri": "https://localhost:8080/",
          "height": 53
        },
        "id": "7u_k0i4OweUd",
        "outputId": "be5fccc8-2352-4189-c524-bbeaa28cf799"
      },
      "outputs": [
        {
          "data": {
            "text/plain": [
              "'Yes, there are reviews with a rating of 10. Here are the URLs to those reviews:\\n\\n1. [Review titled \"A Masterpiece & Brilliant Sequel\"](https://yourwebsite.com/review/rw4854296/?ref_=tt_urv) - from john_wick_3.csv\\n2. [Review simply titled \"10\"](https://yourwebsite.com/review/rw8944843/?ref_=tt_urv) - from john_wick_4.csv\\n3. [Review titled \"It\\'s got its own action style!\"](https://yourwebsite.com/review/rw4860412/?ref_=tt_urv) - from john_wick_3.csv\\n\\n(Note: The URLs are based on the provided review URLs; please replace \"yourwebsite.com\" with the actual domain if needed.)'"
            ]
          },
          "execution_count": 26,
          "metadata": {},
          "output_type": "execute_result"
        }
      ],
      "source": [
        "contextual_compression_retrieval_chain.invoke({\"question\" : \"Do any reviews have a rating of 10? If so - can I have the URLs to those reviews?\"})[\"response\"].content"
      ]
    },
    {
      "cell_type": "code",
      "execution_count": 27,
      "metadata": {
        "colab": {
          "base_uri": "https://localhost:8080/",
          "height": 70
        },
        "id": "zn1EqaGqweXN",
        "outputId": "42bc5972-4164-46eb-f49d-4272f39bb89b"
      },
      "outputs": [
        {
          "data": {
            "text/plain": [
              "\"In the John Wick films, John Wick (played by Keanu Reeves) is a retired hitman who is pulled back into a violent world of crime. The story begins when he resolves issues with the Russian mafia, but his peace is disrupted when a mobster named Santino D'Antonio visits him, demanding help with a favor represented by a marker. Wick refuses, leading Santino to blow up his house. Subsequently, Wick is asked to kill Santino's sister in Rome so he can sit on the criminal organization’s High Table. After completing this task, Santino puts a bounty on Wick’s head, making him the target of numerous killers. Wick then becomes motivated to seek revenge on Santino for the betrayal and the bounty placed on him. The series features intense action, stylish combat, and explores Wick’s struggle to navigate and survive in a dangerous criminal underworld.\""
            ]
          },
          "execution_count": 27,
          "metadata": {},
          "output_type": "execute_result"
        }
      ],
      "source": [
        "contextual_compression_retrieval_chain.invoke({\"question\" : \"What happened in John Wick?\"})[\"response\"].content"
      ]
    },
    {
      "cell_type": "markdown",
      "metadata": {
        "id": "OEbT0g2S-mZ4"
      },
      "source": [
        "We'll need to rely on something like Ragas to help us get a better sense of how this is performing overall - but it \"feels\" better!"
      ]
    },
    {
      "cell_type": "markdown",
      "metadata": {
        "id": "qqbghrBEQNn5"
      },
      "source": [
        "## Task 7: Multi-Query Retriever\n",
        "\n",
        "Typically in RAG we have a single query - the one provided by the user.\n",
        "\n",
        "What if we had....more than one query!\n",
        "\n",
        "In essence, a Multi-Query Retriever works by:\n",
        "\n",
        "1. Taking the original user query and creating `n` number of new user queries using an LLM.\n",
        "2. Retrieving documents for each query.\n",
        "3. Using all unique retrieved documents as context\n",
        "\n",
        "So, how is it to set-up? Not bad! Let's see it down below!\n",
        "\n"
      ]
    },
    {
      "cell_type": "code",
      "execution_count": 28,
      "metadata": {
        "id": "pfM26ReXQjzU"
      },
      "outputs": [],
      "source": [
        "from langchain.retrievers.multi_query import MultiQueryRetriever\n",
        "\n",
        "multi_query_retriever = MultiQueryRetriever.from_llm(\n",
        "    retriever=naive_retriever, llm=chat_model\n",
        ")"
      ]
    },
    {
      "cell_type": "code",
      "execution_count": 29,
      "metadata": {
        "id": "1vRc129jQ5WW"
      },
      "outputs": [],
      "source": [
        "multi_query_retrieval_chain = (\n",
        "    {\"context\": itemgetter(\"question\") | multi_query_retriever, \"question\": itemgetter(\"question\")}\n",
        "    | RunnablePassthrough.assign(context=itemgetter(\"context\"))\n",
        "    | {\"response\": rag_prompt | chat_model, \"context\": itemgetter(\"context\")}\n",
        ")"
      ]
    },
    {
      "cell_type": "code",
      "execution_count": 30,
      "metadata": {
        "colab": {
          "base_uri": "https://localhost:8080/",
          "height": 53
        },
        "id": "CGgNuOb3Q3M9",
        "outputId": "c5273ecf-da35-40b8-fbdb-0f8beab425f7"
      },
      "outputs": [
        {
          "data": {
            "text/plain": [
              "'Yes, people generally liked John Wick. The reviews indicate high ratings and positive comments praising its action sequences, style, and overall entertainment value. Many reviewers gave it high scores (such as 9 or 10 out of 10) and described it as a fun, slick, and exciting action film that broke conventional molds.'"
            ]
          },
          "execution_count": 30,
          "metadata": {},
          "output_type": "execute_result"
        }
      ],
      "source": [
        "multi_query_retrieval_chain.invoke({\"question\" : \"Did people generally like John Wick?\"})[\"response\"].content"
      ]
    },
    {
      "cell_type": "code",
      "execution_count": 31,
      "metadata": {
        "colab": {
          "base_uri": "https://localhost:8080/",
          "height": 36
        },
        "id": "aAlSthxrRDBC",
        "outputId": "230ff807-23ae-4d25-8d11-cfdbed0b77cb"
      },
      "outputs": [
        {
          "data": {
            "text/plain": [
              "'Yes, there is a review with a ratings of 10. The URL to that review is: /review/rw4854296/?ref_=tt_urv.'"
            ]
          },
          "execution_count": 31,
          "metadata": {},
          "output_type": "execute_result"
        }
      ],
      "source": [
        "multi_query_retrieval_chain.invoke({\"question\" : \"Do any reviews have a rating of 10? If so - can I have the URLs to those reviews?\"})[\"response\"].content"
      ]
    },
    {
      "cell_type": "code",
      "execution_count": 32,
      "metadata": {
        "colab": {
          "base_uri": "https://localhost:8080/",
          "height": 88
        },
        "id": "Uv1mpCK8REs4",
        "outputId": "00fbc22a-ed9b-4613-9695-0b179e3f8369"
      },
      "outputs": [
        {
          "data": {
            "text/plain": [
              "\"In the John Wick series, the story centers around John Wick, an ex-hitman who comes out of retirement to seek vengeance after personal tragedies. The first film starts with John mourning the death of his wife and the killing of his dog, which was a last gift from her. When a gangsters' arresting and theft of his car and dog occurs, Wick unleashes his lethal skills to exact revenge on those responsible, drawing the attention of the criminal underworld and bounty hunters who aim to eliminate him. Throughout the series, Wick is portrayed as a highly skilled and almost legendary assassin entangled in a world of organized crime, with each film exploring the consequences of his violent actions and his struggle for peace and survival amidst a complex network of criminal rules and rivalries.\""
            ]
          },
          "execution_count": 32,
          "metadata": {},
          "output_type": "execute_result"
        }
      ],
      "source": [
        "multi_query_retrieval_chain.invoke({\"question\" : \"What happened in John Wick?\"})[\"response\"].content"
      ]
    },
    {
      "cell_type": "markdown",
      "metadata": {
        "id": "EDEawBf_d_3G"
      },
      "source": [
        "## Task 8: Parent Document Retriever\n",
        "\n",
        "A \"small-to-big\" strategy - the Parent Document Retriever works based on a simple strategy:\n",
        "\n",
        "1. Each un-split \"document\" will be designated as a \"parent document\" (You could use larger chunks of document as well, but our data format allows us to consider the overall document as the parent chunk)\n",
        "2. Store those \"parent documents\" in a memory store (not a VectorStore)\n",
        "3. We will chunk each of those documents into smaller documents, and associate them with their respective parents, and store those in a VectorStore. We'll call those \"child chunks\".\n",
        "4. When we query our Retriever, we will do a similarity search comparing our query vector to the \"child chunks\".\n",
        "5. Instead of returning the \"child chunks\", we'll return their associated \"parent chunks\".\n",
        "\n",
        "Okay, maybe that was a few steps - but the basic idea is this:\n",
        "\n",
        "- Search for small documents\n",
        "- Return big documents\n",
        "\n",
        "The intuition is that we're likely to find the most relevant information by limiting the amount of semantic information that is encoded in each embedding vector - but we're likely to miss relevant surrounding context if we only use that information.\n",
        "\n",
        "Let's start by creating our \"parent documents\" and defining a `RecursiveCharacterTextSplitter`."
      ]
    },
    {
      "cell_type": "code",
      "execution_count": 33,
      "metadata": {
        "id": "qJ53JJuMd_ZH"
      },
      "outputs": [],
      "source": [
        "from langchain.retrievers import ParentDocumentRetriever\n",
        "from langchain.storage import InMemoryStore\n",
        "from langchain_text_splitters import RecursiveCharacterTextSplitter\n",
        "from qdrant_client import QdrantClient, models\n",
        "\n",
        "parent_docs = documents\n",
        "child_splitter = RecursiveCharacterTextSplitter(chunk_size=200)"
      ]
    },
    {
      "cell_type": "markdown",
      "metadata": {
        "id": "oOpXfVUH3gL3"
      },
      "source": [
        "We'll need to set up a new QDrant vectorstore - and we'll use another useful pattern to do so!\n",
        "\n",
        "> NOTE: We are manually defining our embedding dimension, you'll need to change this if you're using a different embedding model."
      ]
    },
    {
      "cell_type": "code",
      "execution_count": 34,
      "metadata": {
        "colab": {
          "base_uri": "https://localhost:8080/"
        },
        "id": "rzFc-_9HlGQ-",
        "outputId": "223662dd-c36f-42f7-d1b0-b086e571484e"
      },
      "outputs": [
        {
          "name": "stderr",
          "output_type": "stream",
          "text": [
            "/var/folders/8h/kl800c1j6hjc9xt9lm_1bhph0000gn/T/ipykernel_31838/3574430551.py:8: LangChainDeprecationWarning: The class `Qdrant` was deprecated in LangChain 0.0.37 and will be removed in 1.0. An updated version of the class exists in the :class:`~langchain-qdrant package and should be used instead. To use it run `pip install -U :class:`~langchain-qdrant` and import as `from :class:`~langchain_qdrant import Qdrant``.\n",
            "  parent_document_vectorstore = Qdrant(\n"
          ]
        }
      ],
      "source": [
        "client = QdrantClient(location=\":memory:\")\n",
        "\n",
        "client.create_collection(\n",
        "    collection_name=\"full_documents\",\n",
        "    vectors_config=models.VectorParams(size=1536, distance=models.Distance.COSINE)\n",
        ")\n",
        "\n",
        "parent_document_vectorstore = Qdrant(\n",
        "    collection_name=\"full_documents\", embeddings=OpenAIEmbeddings(model=\"text-embedding-3-small\"), client=client\n",
        ")"
      ]
    },
    {
      "cell_type": "markdown",
      "metadata": {
        "id": "sf_g95FA3s6w"
      },
      "source": [
        "Now we can create our `InMemoryStore` that will hold our \"parent documents\" - and build our retriever!"
      ]
    },
    {
      "cell_type": "code",
      "execution_count": 35,
      "metadata": {
        "id": "BpWVjPf4fLUp"
      },
      "outputs": [],
      "source": [
        "store = InMemoryStore()\n",
        "\n",
        "parent_document_retriever = ParentDocumentRetriever(\n",
        "    vectorstore = parent_document_vectorstore,\n",
        "    docstore=store,\n",
        "    child_splitter=child_splitter,\n",
        ")"
      ]
    },
    {
      "cell_type": "markdown",
      "metadata": {
        "id": "KoYmSWfE32Zo"
      },
      "source": [
        "By default, this is empty as we haven't added any documents - let's add some now!"
      ]
    },
    {
      "cell_type": "code",
      "execution_count": 36,
      "metadata": {
        "id": "iQ2ZzfKigMZc"
      },
      "outputs": [],
      "source": [
        "parent_document_retriever.add_documents(parent_docs, ids=None)"
      ]
    },
    {
      "cell_type": "markdown",
      "metadata": {
        "id": "bI7Tip1335rE"
      },
      "source": [
        "We'll create the same chain we did before - but substitute our new `parent_document_retriever`."
      ]
    },
    {
      "cell_type": "code",
      "execution_count": 37,
      "metadata": {
        "id": "Qq_adt2KlSqp"
      },
      "outputs": [],
      "source": [
        "parent_document_retrieval_chain = (\n",
        "    {\"context\": itemgetter(\"question\") | parent_document_retriever, \"question\": itemgetter(\"question\")}\n",
        "    | RunnablePassthrough.assign(context=itemgetter(\"context\"))\n",
        "    | {\"response\": rag_prompt | chat_model, \"context\": itemgetter(\"context\")}\n",
        ")"
      ]
    },
    {
      "cell_type": "markdown",
      "metadata": {
        "id": "jNolUVQb4Apt"
      },
      "source": [
        "Let's give it a whirl!"
      ]
    },
    {
      "cell_type": "code",
      "execution_count": 38,
      "metadata": {
        "colab": {
          "base_uri": "https://localhost:8080/",
          "height": 70
        },
        "id": "TXB5i89Zly5W",
        "outputId": "94c240be-7c5b-4c58-9eee-56d93285a054"
      },
      "outputs": [
        {
          "data": {
            "text/plain": [
              "'Based on the provided reviews, people generally liked the John Wick series. Many reviews are positive, praising the action, choreography, and overall entertainment value. However, there is at least one negative review that criticizes John Wick 4 specifically for its plot and action scenes. Overall, the sentiment leans toward liking the series, but opinions on the latest installment vary.'"
            ]
          },
          "execution_count": 38,
          "metadata": {},
          "output_type": "execute_result"
        }
      ],
      "source": [
        "parent_document_retrieval_chain.invoke({\"question\" : \"Did people generally like John Wick?\"})[\"response\"].content"
      ]
    },
    {
      "cell_type": "code",
      "execution_count": 39,
      "metadata": {
        "colab": {
          "base_uri": "https://localhost:8080/",
          "height": 36
        },
        "id": "V5F1T-wNl3cg",
        "outputId": "9b81e72e-5db7-4b8a-b25b-400ea0df5335"
      },
      "outputs": [
        {
          "data": {
            "text/plain": [
              "'Yes, there is a review with a rating of 10. The URL to that review is: /review/rw4854296/?ref_=tt_urv'"
            ]
          },
          "execution_count": 39,
          "metadata": {},
          "output_type": "execute_result"
        }
      ],
      "source": [
        "parent_document_retrieval_chain.invoke({\"question\" : \"Do any reviews have a rating of 10? If so - can I have the URLs to those reviews?\"})[\"response\"].content"
      ]
    },
    {
      "cell_type": "code",
      "execution_count": 40,
      "metadata": {
        "colab": {
          "base_uri": "https://localhost:8080/",
          "height": 70
        },
        "id": "ZqARszGzvGcG",
        "outputId": "8867f83c-db13-4db4-d57f-9bd51d32cd8a"
      },
      "outputs": [
        {
          "data": {
            "text/plain": [
              "'In John Wick, the story centers around an ex-hitman named John Wick, played by Keanu Reeves, who comes out of retirement to seek vengeance after a series of personal losses and provocations. In the first film, someone steals his car and kills his dog, which prompts him to go on a violent rampage against those responsible, unleashing a deadly pursuit that draws in many assassins and reveals his lethal skills. The sequel, John Wick Chapter 2, continues his story as he is forced back into the criminal underworld to help a former associate. The plot involves travel to Italy, Canada, and Manhattan, and includes numerous violent encounters as Wick battles against other assassins and figures from his past, all while trying to escape the chaos he unleashes.'"
            ]
          },
          "execution_count": 40,
          "metadata": {},
          "output_type": "execute_result"
        }
      ],
      "source": [
        "parent_document_retrieval_chain.invoke({\"question\" : \"What happened in John Wick?\"})[\"response\"].content"
      ]
    },
    {
      "cell_type": "markdown",
      "metadata": {
        "id": "B41cj42s4DPM"
      },
      "source": [
        "Overall, the performance *seems* largely the same. We can leverage a tool like [Ragas]() to more effectively answer the question about the performance."
      ]
    },
    {
      "cell_type": "markdown",
      "metadata": {
        "id": "VUrIBKl_TwS9"
      },
      "source": [
        "## Task 9: Ensemble Retriever\n",
        "\n",
        "In brief, an Ensemble Retriever simply takes 2, or more, retrievers and combines their retrieved documents based on a rank-fusion algorithm.\n",
        "\n",
        "In this case - we're using the [Reciprocal Rank Fusion](https://plg.uwaterloo.ca/~gvcormac/cormacksigir09-rrf.pdf) algorithm.\n",
        "\n",
        "Setting it up is as easy as providing a list of our desired retrievers - and the weights for each retriever."
      ]
    },
    {
      "cell_type": "code",
      "execution_count": 41,
      "metadata": {
        "id": "8j7jpZsKTxic"
      },
      "outputs": [],
      "source": [
        "from langchain.retrievers import EnsembleRetriever\n",
        "\n",
        "retriever_list = [bm25_retriever, naive_retriever, parent_document_retriever, compression_retriever, multi_query_retriever]\n",
        "equal_weighting = [1/len(retriever_list)] * len(retriever_list)\n",
        "\n",
        "ensemble_retriever = EnsembleRetriever(\n",
        "    retrievers=retriever_list, weights=equal_weighting\n",
        ")"
      ]
    },
    {
      "cell_type": "markdown",
      "metadata": {
        "id": "kpo9Psl5hhJ-"
      },
      "source": [
        "We'll pack *all* of these retrievers together in an ensemble."
      ]
    },
    {
      "cell_type": "code",
      "execution_count": 42,
      "metadata": {
        "id": "KZ__EZwpUKkd"
      },
      "outputs": [],
      "source": [
        "ensemble_retrieval_chain = (\n",
        "    {\"context\": itemgetter(\"question\") | ensemble_retriever, \"question\": itemgetter(\"question\")}\n",
        "    | RunnablePassthrough.assign(context=itemgetter(\"context\"))\n",
        "    | {\"response\": rag_prompt | chat_model, \"context\": itemgetter(\"context\")}\n",
        ")"
      ]
    },
    {
      "cell_type": "markdown",
      "metadata": {
        "id": "SSsvHpRMj24L"
      },
      "source": [
        "Let's look at our results!"
      ]
    },
    {
      "cell_type": "code",
      "execution_count": 43,
      "metadata": {
        "colab": {
          "base_uri": "https://localhost:8080/",
          "height": 70
        },
        "id": "0lMvqL88UQI-",
        "outputId": "d86dd5f7-0a13-4836-c0ce-cc4c431fd889"
      },
      "outputs": [
        {
          "data": {
            "text/plain": [
              "\"Based on the reviews provided, people generally liked John Wick. Many reviews give high ratings (such as 8 or 9 out of 10) and describe the film as stylish, fun, and highly entertaining, especially appreciating its action sequences and Keanu Reeves' performance. However, there are some negative reviews with low ratings, criticizing the films for excess violence, implausible action, or lack of plot. Overall, the majority of the reviews suggest that viewers tend to enjoy John Wick, especially fans of action movies.\""
            ]
          },
          "execution_count": 43,
          "metadata": {},
          "output_type": "execute_result"
        }
      ],
      "source": [
        "ensemble_retrieval_chain.invoke({\"question\" : \"Did people generally like John Wick?\"})[\"response\"].content"
      ]
    },
    {
      "cell_type": "code",
      "execution_count": 44,
      "metadata": {
        "colab": {
          "base_uri": "https://localhost:8080/",
          "height": 53
        },
        "id": "MNFWLYECURI1",
        "outputId": "b17973b5-66a9-4481-97d5-880b5754b5c5"
      },
      "outputs": [
        {
          "data": {
            "text/plain": [
              "\"Yes, there are reviews with a rating of 10. The URLs to those reviews are:\\n\\n1. [Review for John Wick 3](https://example.com/review/rw4854296/?ref_=tt_urv)\\n2. [Review for John Wick 4](https://example.com/review/rw8947764/?ref_=tt_urv)\\n\\n(Note: The actual review URLs from the provided data are '/review/rw4854296/?ref_=tt_urv' and '/review/rw8947764/?ref_=tt_urv'. If you need the complete link, you may need to append the base URL of the site.)\""
            ]
          },
          "execution_count": 44,
          "metadata": {},
          "output_type": "execute_result"
        }
      ],
      "source": [
        "ensemble_retrieval_chain.invoke({\"question\" : \"Do any reviews have a rating of 10? If so - can I have the URLs to those reviews?\"})[\"response\"].content"
      ]
    },
    {
      "cell_type": "code",
      "execution_count": 45,
      "metadata": {
        "colab": {
          "base_uri": "https://localhost:8080/",
          "height": 88
        },
        "id": "A7qbHfWgUR4c",
        "outputId": "f7373144-59ef-4fc7-b75d-ca00e7df881e"
      },
      "outputs": [
        {
          "data": {
            "text/plain": [
              "\"In John Wick, a retired hitman named John Wick (played by Keanu Reeves) seeks revenge after a violent home invasion leaves him grieving the loss of his wife and the death of his beloved dog, which was his last remaining connection to her. The story begins with this personal tragedy, and Wick, initially attempting to rebuild his life, is drawn back into the violent underworld of assassins when a group of Russian mobsters, led by a punk who attacks him, steal his car and kill his dog. This act of violence triggers Wick's return to his former lethal skills as he unleashes a ruthless and meticulously orchestrated campaign of revenge against those who wronged him. Throughout the series, Wick is targeted by numerous bounty hunters and assassins, leading to intense action sequences and a complex web of criminal alliances and rules. The films explore themes of vengeance, consequence, and the dangerous world of professional killers.\""
            ]
          },
          "execution_count": 45,
          "metadata": {},
          "output_type": "execute_result"
        }
      ],
      "source": [
        "ensemble_retrieval_chain.invoke({\"question\" : \"What happened in John Wick?\"})[\"response\"].content"
      ]
    },
    {
      "cell_type": "markdown",
      "metadata": {
        "id": "MopbkNJAXVaN"
      },
      "source": [
        "## Task 10: Semantic Chunking\n",
        "\n",
        "While this is not a retrieval method - it *is* an effective way of increasing retrieval performance on corpora that have clean semantic breaks in them.\n",
        "\n",
        "Essentially, Semantic Chunking is implemented by:\n",
        "\n",
        "1. Embedding all sentences in the corpus.\n",
        "2. Combining or splitting sequences of sentences based on their semantic similarity based on a number of [possible thresholding methods](https://python.langchain.com/docs/how_to/semantic-chunker/):\n",
        "  - `percentile`\n",
        "  - `standard_deviation`\n",
        "  - `interquartile`\n",
        "  - `gradient`\n",
        "3. Each sequence of related sentences is kept as a document!\n",
        "\n",
        "Let's see how to implement this!\n",
        "\n",
        "> NOTE: You do not need to run this cell if you're running this locally"
      ]
    },
    {
      "cell_type": "code",
      "execution_count": 46,
      "metadata": {
        "colab": {
          "base_uri": "https://localhost:8080/"
        },
        "id": "1dHeB-yGXneL",
        "outputId": "efc59105-518a-4134-9228-d98b8a97e08e"
      },
      "outputs": [],
      "source": [
        "#!pip install -qU langchain_experimental"
      ]
    },
    {
      "cell_type": "markdown",
      "metadata": {
        "id": "U9ciZbFEldv_"
      },
      "source": [
        "We'll use the `percentile` thresholding method for this example which will:\n",
        "\n",
        "Calculate all distances between sentences, and then break apart sequences of setences that exceed a given percentile among all distances."
      ]
    },
    {
      "cell_type": "code",
      "execution_count": 47,
      "metadata": {
        "id": "66EIEWiEYl5y"
      },
      "outputs": [],
      "source": [
        "from langchain_experimental.text_splitter import SemanticChunker\n",
        "\n",
        "semantic_chunker = SemanticChunker(\n",
        "    embeddings,\n",
        "    breakpoint_threshold_type=\"percentile\"\n",
        ")"
      ]
    },
    {
      "cell_type": "markdown",
      "metadata": {
        "id": "YqoKmz12mhRW"
      },
      "source": [
        "Now we can split our documents."
      ]
    },
    {
      "cell_type": "code",
      "execution_count": 48,
      "metadata": {
        "id": "ROcV7o68ZIq7"
      },
      "outputs": [],
      "source": [
        "semantic_documents = semantic_chunker.split_documents(documents)"
      ]
    },
    {
      "cell_type": "markdown",
      "metadata": {
        "id": "L8-LNC-Xmjex"
      },
      "source": [
        "Let's create a new vector store."
      ]
    },
    {
      "cell_type": "code",
      "execution_count": 49,
      "metadata": {
        "id": "h3sl9QjyZhIe"
      },
      "outputs": [],
      "source": [
        "semantic_vectorstore = Qdrant.from_documents(\n",
        "    semantic_documents,\n",
        "    embeddings,\n",
        "    location=\":memory:\",\n",
        "    collection_name=\"JohnWickSemantic\"\n",
        ")"
      ]
    },
    {
      "cell_type": "markdown",
      "metadata": {
        "id": "Eh_r_-LHmmKn"
      },
      "source": [
        "We'll use naive retrieval for this example."
      ]
    },
    {
      "cell_type": "code",
      "execution_count": 50,
      "metadata": {
        "id": "odVyDUHwZftc"
      },
      "outputs": [],
      "source": [
        "semantic_retriever = semantic_vectorstore.as_retriever(search_kwargs={\"k\" : 10})"
      ]
    },
    {
      "cell_type": "markdown",
      "metadata": {
        "id": "Mkeiv_ojmp6G"
      },
      "source": [
        "Finally we can create our classic chain!"
      ]
    },
    {
      "cell_type": "code",
      "execution_count": 51,
      "metadata": {
        "id": "xWE_0J0mZveG"
      },
      "outputs": [],
      "source": [
        "semantic_retrieval_chain = (\n",
        "    {\"context\": itemgetter(\"question\") | semantic_retriever, \"question\": itemgetter(\"question\")}\n",
        "    | RunnablePassthrough.assign(context=itemgetter(\"context\"))\n",
        "    | {\"response\": rag_prompt | chat_model, \"context\": itemgetter(\"context\")}\n",
        ")"
      ]
    },
    {
      "cell_type": "markdown",
      "metadata": {
        "id": "R5pfjLQ3ms9_"
      },
      "source": [
        "And view the results!"
      ]
    },
    {
      "cell_type": "code",
      "execution_count": 52,
      "metadata": {
        "colab": {
          "base_uri": "https://localhost:8080/",
          "height": 70
        },
        "id": "0lN2j-e4Z0SD",
        "outputId": "ef483e21-7200-4dfc-b8bf-aed4f23587b2"
      },
      "outputs": [
        {
          "data": {
            "text/plain": [
              "\"Based on the reviews provided, people generally liked John Wick. The reviews are mostly positive, highlighting the film's stylish action, choreography, and entertainment value. However, there are some mixed opinions as well. Overall, the majority of comments suggest that John Wick was well-received and appreciated by audiences.\""
            ]
          },
          "execution_count": 52,
          "metadata": {},
          "output_type": "execute_result"
        }
      ],
      "source": [
        "semantic_retrieval_chain.invoke({\"question\" : \"Did people generally like John Wick?\"})[\"response\"].content"
      ]
    },
    {
      "cell_type": "code",
      "execution_count": 53,
      "metadata": {
        "colab": {
          "base_uri": "https://localhost:8080/",
          "height": 53
        },
        "id": "xdqfBH1SZ3f9",
        "outputId": "ed62b2d1-7586-46cc-aaf4-c54192a56155"
      },
      "outputs": [
        {
          "data": {
            "text/plain": [
              "'Yes, there is a review with a rating of 10. The URL to that review is: /review/rw4854296/?ref_=tt_urv'"
            ]
          },
          "execution_count": 53,
          "metadata": {},
          "output_type": "execute_result"
        }
      ],
      "source": [
        "semantic_retrieval_chain.invoke({\"question\" : \"Do any reviews have a rating of 10? If so - can I have the URLs to those reviews?\"})[\"response\"].content"
      ]
    },
    {
      "cell_type": "code",
      "execution_count": 54,
      "metadata": {
        "colab": {
          "base_uri": "https://localhost:8080/",
          "height": 70
        },
        "id": "rAcAObZnZ4o6",
        "outputId": "3f1cade3-41e4-4e42-ef71-048dd18e5e3a"
      },
      "outputs": [
        {
          "data": {
            "text/plain": [
              "\"In the John Wick movies, the story revolves around a retired and highly skilled assassin named John Wick. After the death of his wife, he is found to be seeking peace in his life. However, his life takes a violent turn when a young Russian punk, whom Wick declines to sell his classic car to, and his gang surprise him at his home. They beat him up, kill his beloved dog, and steal his car. \\n\\nThis brutal attack awakens Wick'skiller instincts, revealing his background as a super-assassin. Enraged and seeking revenge, Wick embarks on a relentless quest against the gangsters who wronged him, including their mobster father. The films showcase his swift, stylish, and often brutal action as he fights to reclaim his peace and deal with the consequences of his past. The story emphasizes themes of vengeance, consequence, and the dangerous world of hired killers.\""
            ]
          },
          "execution_count": 54,
          "metadata": {},
          "output_type": "execute_result"
        }
      ],
      "source": [
        "semantic_retrieval_chain.invoke({\"question\" : \"What happened in John Wick?\"})[\"response\"].content"
      ]
    },
    {
      "cell_type": "markdown",
      "metadata": {
        "id": "xk2n3-pnVWDJ"
      },
      "source": [
        "# 🤝 Breakout Room Part #2"
      ]
    },
    {
      "cell_type": "markdown",
      "metadata": {
        "id": "2SkJLYwMVZkj"
      },
      "source": [
        "#### 🏗️ Activity #1\n",
        "\n",
        "Your task is to evaluate the various Retriever methods against eachother.\n",
        "\n",
        "You are expected to:\n",
        "\n",
        "1. Create a \"golden dataset\"\n",
        " - Use Synthetic Data Generation (powered by Ragas, or otherwise) to create this dataset\n",
        "2. Evaluate each retriever with *retriever specific* Ragas metrics\n",
        " - Semantic Chunking is not considered a retriever method and will not be required for marks, but you may find it useful to do a \"semantic chunking on\" vs. \"semantic chunking off\" comparision between them\n",
        "3. Compile these in a list and write a small paragraph about which is best for this particular data and why.\n",
        "\n",
        "Your analysis should factor in:\n",
        "  - Cost\n",
        "  - Latency\n",
        "  - Performance\n",
        "\n",
        "> NOTE: This is **NOT** required to be completed in class. Please spend time in your breakout rooms creating a plan before moving on to writing code."
      ]
    },
    {
      "cell_type": "markdown",
      "metadata": {
        "id": "TWAr16a5XMub"
      },
      "source": [
        "##### HINTS:\n",
        "\n",
        "- LangSmith provides detailed information about latency and cost."
      ]
    },
    {
      "cell_type": "code",
      "execution_count": 55,
      "metadata": {
        "id": "tgDICngKXLGK"
      },
      "outputs": [],
      "source": [
        "### YOUR CODE HERE"
      ]
    },
    {
      "cell_type": "code",
      "execution_count": 118,
      "metadata": {},
      "outputs": [],
      "source": [
        "# Imports standard\n",
        "import copy\n",
        "import os\n",
        "import time\n",
        "import uuid\n",
        "import numpy as np\n",
        "import pandas as pd\n",
        "import tiktoken\n",
        "\n",
        "# Import OpenAI\n",
        "from openai import OpenAI\n",
        "\n",
        "# Imports LangChain\n",
        "from langchain_openai import ChatOpenAI, OpenAIEmbeddings\n",
        "from langchain_core.prompts import ChatPromptTemplate\n",
        "\n",
        "\n",
        "from langchain.schema.runnable import RunnableConfig\n",
        "from langchain_core.tracers.context import tracing_v2_enabled\n",
        "from langsmith import Client\n",
        "# Imports LangSmith\n",
        "from langsmith import Client, traceable, RunTree\n",
        "from langsmith.run_helpers import get_current_run_tree\n",
        "from langsmith.wrappers import wrap_openai\n",
        "\n",
        "# Imports RAGAS\n",
        "from ragas import EvaluationDataset, evaluate, RunConfig\n",
        "from ragas.llms import LangchainLLMWrapper\n",
        "from ragas.embeddings import LangchainEmbeddingsWrapper\n",
        "from ragas.testset import TestsetGenerator\n",
        "from ragas.metrics import (\n",
        "    LLMContextRecall,\n",
        "    Faithfulness, \n",
        "    FactualCorrectness,\n",
        "    ResponseRelevancy,\n",
        "    ContextEntityRecall\n",
        ")"
      ]
    },
    {
      "cell_type": "code",
      "execution_count": null,
      "metadata": {},
      "outputs": [],
      "source": [
        "generator_llm = LangchainLLMWrapper(ChatOpenAI(model=\"gpt-4.1-mini\"))\n",
        "generator_embeddings = LangchainEmbeddingsWrapper(OpenAIEmbeddings())\n",
        "generator = TestsetGenerator(llm=generator_llm, embedding_model=generator_embeddings)\n",
        "testset_dataset = generator.generate_with_langchain_docs(documents, testset_size=10)"
      ]
    },
    {
      "cell_type": "code",
      "execution_count": 119,
      "metadata": {},
      "outputs": [
        {
          "data": {
            "text/html": [
              "<div>\n",
              "<style scoped>\n",
              "    .dataframe tbody tr th:only-of-type {\n",
              "        vertical-align: middle;\n",
              "    }\n",
              "\n",
              "    .dataframe tbody tr th {\n",
              "        vertical-align: top;\n",
              "    }\n",
              "\n",
              "    .dataframe thead th {\n",
              "        text-align: right;\n",
              "    }\n",
              "</style>\n",
              "<table border=\"1\" class=\"dataframe\">\n",
              "  <thead>\n",
              "    <tr style=\"text-align: right;\">\n",
              "      <th></th>\n",
              "      <th>user_input</th>\n",
              "      <th>reference_contexts</th>\n",
              "      <th>reference</th>\n",
              "      <th>synthesizer_name</th>\n",
              "    </tr>\n",
              "  </thead>\n",
              "  <tbody>\n",
              "    <tr>\n",
              "      <th>0</th>\n",
              "      <td>Why John Wick movie so good even tho story sim...</td>\n",
              "      <td>[: 0\\nReview: The best way I can describe John...</td>\n",
              "      <td>John Wick is good because it has a simple stor...</td>\n",
              "      <td>single_hop_specifc_query_synthesizer</td>\n",
              "    </tr>\n",
              "    <tr>\n",
              "      <th>1</th>\n",
              "      <td>Could you provide an overview of the \"John Wic...</td>\n",
              "      <td>[: 2\\nReview: With the fourth installment scor...</td>\n",
              "      <td>The \"John Wick\" film series has gained signifi...</td>\n",
              "      <td>single_hop_specifc_query_synthesizer</td>\n",
              "    </tr>\n",
              "    <tr>\n",
              "      <th>2</th>\n",
              "      <td>Who is Chad Stahelski and why he important for...</td>\n",
              "      <td>[: 3\\nReview: John wick has a very simple reve...</td>\n",
              "      <td>Chad Stahelski is the director of John Wick an...</td>\n",
              "      <td>single_hop_specifc_query_synthesizer</td>\n",
              "    </tr>\n",
              "    <tr>\n",
              "      <th>3</th>\n",
              "      <td>Can you explane the plot and action style of t...</td>\n",
              "      <td>[: 4\\nReview: Though he no longer has a taste ...</td>\n",
              "      <td>John Wick follows a retired assassin who has l...</td>\n",
              "      <td>single_hop_specifc_query_synthesizer</td>\n",
              "    </tr>\n",
              "    <tr>\n",
              "      <th>4</th>\n",
              "      <td>How does the escalation of stakes in the John ...</td>\n",
              "      <td>[&lt;1-hop&gt;\\n\\n: 0\\nReview: It is 5 years since t...</td>\n",
              "      <td>The escalation of stakes in the John Wick seri...</td>\n",
              "      <td>multi_hop_abstract_query_synthesizer</td>\n",
              "    </tr>\n",
              "    <tr>\n",
              "      <th>5</th>\n",
              "      <td>Is Keanu Reeves acting in John Wick: Chapter 4...</td>\n",
              "      <td>[&lt;1-hop&gt;\\n\\n: 23\\nReview: Rating 10/10\\nI was ...</td>\n",
              "      <td>Keanu Reeves' acting in John Wick: Chapter 4 r...</td>\n",
              "      <td>multi_hop_abstract_query_synthesizer</td>\n",
              "    </tr>\n",
              "    <tr>\n",
              "      <th>6</th>\n",
              "      <td>How does the depiction of katana swords versus...</td>\n",
              "      <td>[&lt;1-hop&gt;\\n\\n: 13\\nReview: From the very beginn...</td>\n",
              "      <td>In the fourth chapter, the depiction of katana...</td>\n",
              "      <td>multi_hop_abstract_query_synthesizer</td>\n",
              "    </tr>\n",
              "    <tr>\n",
              "      <th>7</th>\n",
              "      <td>How do the film reviews reflect the portrayal ...</td>\n",
              "      <td>[&lt;1-hop&gt;\\n\\n: 20\\nReview: John Wick is somethi...</td>\n",
              "      <td>The first review praises John Wick as a specia...</td>\n",
              "      <td>multi_hop_abstract_query_synthesizer</td>\n",
              "    </tr>\n",
              "    <tr>\n",
              "      <th>8</th>\n",
              "      <td>How does Ian McShane's role in John Wick contr...</td>\n",
              "      <td>[&lt;1-hop&gt;\\n\\n: 9\\nReview: At first glance, John...</td>\n",
              "      <td>Ian McShane's role in John Wick is pivotal to ...</td>\n",
              "      <td>multi_hop_specific_query_synthesizer</td>\n",
              "    </tr>\n",
              "    <tr>\n",
              "      <th>9</th>\n",
              "      <td>Why do some action movie fans like Taken but t...</td>\n",
              "      <td>[&lt;1-hop&gt;\\n\\n: 14\\nReview: I absolutely love ac...</td>\n",
              "      <td>Some action movie fans love Taken, but they fi...</td>\n",
              "      <td>multi_hop_specific_query_synthesizer</td>\n",
              "    </tr>\n",
              "    <tr>\n",
              "      <th>10</th>\n",
              "      <td>How do John Wick Chapter 2 and John Wick: Chap...</td>\n",
              "      <td>[&lt;1-hop&gt;\\n\\n: 16\\nReview: John Wick Chapter 2 ...</td>\n",
              "      <td>John Wick Chapter 2 showcases Keanu Reeves as ...</td>\n",
              "      <td>multi_hop_specific_query_synthesizer</td>\n",
              "    </tr>\n",
              "    <tr>\n",
              "      <th>11</th>\n",
              "      <td>How do the reviews of John Wick 4 differ in th...</td>\n",
              "      <td>[&lt;1-hop&gt;\\n\\n: 22\\nReview: HORRIBLE movie. I lo...</td>\n",
              "      <td>The reviews of John Wick 4 differ significantl...</td>\n",
              "      <td>multi_hop_specific_query_synthesizer</td>\n",
              "    </tr>\n",
              "  </tbody>\n",
              "</table>\n",
              "</div>"
            ],
            "text/plain": [
              "                                           user_input  \\\n",
              "0   Why John Wick movie so good even tho story sim...   \n",
              "1   Could you provide an overview of the \"John Wic...   \n",
              "2   Who is Chad Stahelski and why he important for...   \n",
              "3   Can you explane the plot and action style of t...   \n",
              "4   How does the escalation of stakes in the John ...   \n",
              "5   Is Keanu Reeves acting in John Wick: Chapter 4...   \n",
              "6   How does the depiction of katana swords versus...   \n",
              "7   How do the film reviews reflect the portrayal ...   \n",
              "8   How does Ian McShane's role in John Wick contr...   \n",
              "9   Why do some action movie fans like Taken but t...   \n",
              "10  How do John Wick Chapter 2 and John Wick: Chap...   \n",
              "11  How do the reviews of John Wick 4 differ in th...   \n",
              "\n",
              "                                   reference_contexts  \\\n",
              "0   [: 0\\nReview: The best way I can describe John...   \n",
              "1   [: 2\\nReview: With the fourth installment scor...   \n",
              "2   [: 3\\nReview: John wick has a very simple reve...   \n",
              "3   [: 4\\nReview: Though he no longer has a taste ...   \n",
              "4   [<1-hop>\\n\\n: 0\\nReview: It is 5 years since t...   \n",
              "5   [<1-hop>\\n\\n: 23\\nReview: Rating 10/10\\nI was ...   \n",
              "6   [<1-hop>\\n\\n: 13\\nReview: From the very beginn...   \n",
              "7   [<1-hop>\\n\\n: 20\\nReview: John Wick is somethi...   \n",
              "8   [<1-hop>\\n\\n: 9\\nReview: At first glance, John...   \n",
              "9   [<1-hop>\\n\\n: 14\\nReview: I absolutely love ac...   \n",
              "10  [<1-hop>\\n\\n: 16\\nReview: John Wick Chapter 2 ...   \n",
              "11  [<1-hop>\\n\\n: 22\\nReview: HORRIBLE movie. I lo...   \n",
              "\n",
              "                                            reference  \\\n",
              "0   John Wick is good because it has a simple stor...   \n",
              "1   The \"John Wick\" film series has gained signifi...   \n",
              "2   Chad Stahelski is the director of John Wick an...   \n",
              "3   John Wick follows a retired assassin who has l...   \n",
              "4   The escalation of stakes in the John Wick seri...   \n",
              "5   Keanu Reeves' acting in John Wick: Chapter 4 r...   \n",
              "6   In the fourth chapter, the depiction of katana...   \n",
              "7   The first review praises John Wick as a specia...   \n",
              "8   Ian McShane's role in John Wick is pivotal to ...   \n",
              "9   Some action movie fans love Taken, but they fi...   \n",
              "10  John Wick Chapter 2 showcases Keanu Reeves as ...   \n",
              "11  The reviews of John Wick 4 differ significantl...   \n",
              "\n",
              "                        synthesizer_name  \n",
              "0   single_hop_specifc_query_synthesizer  \n",
              "1   single_hop_specifc_query_synthesizer  \n",
              "2   single_hop_specifc_query_synthesizer  \n",
              "3   single_hop_specifc_query_synthesizer  \n",
              "4   multi_hop_abstract_query_synthesizer  \n",
              "5   multi_hop_abstract_query_synthesizer  \n",
              "6   multi_hop_abstract_query_synthesizer  \n",
              "7   multi_hop_abstract_query_synthesizer  \n",
              "8   multi_hop_specific_query_synthesizer  \n",
              "9   multi_hop_specific_query_synthesizer  \n",
              "10  multi_hop_specific_query_synthesizer  \n",
              "11  multi_hop_specific_query_synthesizer  "
            ]
          },
          "execution_count": 119,
          "metadata": {},
          "output_type": "execute_result"
        }
      ],
      "source": [
        "testset_df = testset_dataset.to_pandas()\n",
        "testset_df"
      ]
    },
    {
      "cell_type": "code",
      "execution_count": 120,
      "metadata": {},
      "outputs": [],
      "source": [
        "retrievers = [\n",
        "    {\"name\": \"Naive Retriever\", \"retriever\": naive_retriever},\n",
        "    {\"name\": \"BM25 Retriever\", \"retriever\": bm25_retriever},\n",
        "    {\"name\": \"Contextual Compression\", \"retriever\": compression_retriever},\n",
        "    {\"name\": \"Multi-Query Retriever\", \"retriever\": multi_query_retriever},\n",
        "    {\"name\": \"Parent Document Retriever\", \"retriever\": parent_document_retriever},\n",
        "    {\"name\": \"Ensemble Retriever\", \"retriever\": ensemble_retriever},\n",
        "    {\"name\": \"Semantic Chunking Retriever\", \"retriever\": semantic_retriever}\n",
        "]\n",
        "\n",
        "eval_llm = ChatOpenAI(model=\"gpt-4.1-mini\")\n"
      ]
    },
    {
      "cell_type": "code",
      "execution_count": 135,
      "metadata": {},
      "outputs": [
        {
          "name": "stdout",
          "output_type": "stream",
          "text": [
            "LangSmith version: 0.3.42\n",
            "LANGCHAIN_TRACING_V2: true\n",
            "LANGSMITH_API_KEY: SET\n",
            "LANGSMITH_TRACING: true\n",
            "Project found: retriever-eval-bm25-retriever-4a6e189d\n",
            "Project found: retriever-eval-naive-retriever-96786722\n",
            "Project found: retriever-eval-naive-retriever-efb381ba\n",
            "LangSmith connection successful! Found 69 projects.\n",
            "API Base URL: https://api.smith.langchain.com\n",
            "API Key: lsv2...76ee\n"
          ]
        }
      ],
      "source": [
        "# Vérification de la version de LangSmith\n",
        "import langsmith\n",
        "print(f\"LangSmith version: {langsmith.__version__}\")\n",
        "\n",
        "# Vérification des variables d'environnement\n",
        "print(f\"LANGCHAIN_TRACING_V2: {os.environ.get('LANGCHAIN_TRACING_V2', 'NOT SET')}\")\n",
        "print(f\"LANGSMITH_API_KEY: {'SET' if os.environ.get('LANGSMITH_API_KEY') else 'NOT SET'}\")\n",
        "print(f\"LANGSMITH_TRACING: {os.environ.get('LANGSMITH_TRACING', 'NOT SET')}\")\n",
        "\n",
        "# S'assurer que le traçage est activé\n",
        "os.environ[\"LANGCHAIN_TRACING_V2\"] = \"true\"\n",
        "os.environ[\"LANGSMITH_TRACING\"] = \"true\"\n",
        "\n",
        "client = Client()\n",
        "try:\n",
        "    # Vérifier que la connexion à l'API fonctionne\n",
        "    project_count = 0\n",
        "    for project in client.list_projects():\n",
        "        project_count += 1\n",
        "        if project_count <= 3:  # Limitons à 3 pour éviter de tout afficher\n",
        "            print(f\"Project found: {project.name}\")\n",
        "    \n",
        "    print(f\"LangSmith connection successful! Found {project_count} projects.\")\n",
        "    \n",
        "    # Afficher la configuration de l'API\n",
        "    print(f\"API Base URL: {client.api_url}\")\n",
        "    if client.api_key:\n",
        "        masked_key = client.api_key[:4] + \"...\" + client.api_key[-4:]\n",
        "        print(f\"API Key: {masked_key}\")\n",
        "except Exception as e:\n",
        "    print(f\"Error connecting to LangSmith: {e}\")\n",
        "\n",
        "# Configuration de l'encodeur pour compter les tokens\n",
        "encoding = tiktoken.get_encoding(\"cl100k_base\")\n",
        "\n",
        "# Définition des coûts\n",
        "GENERATION_INPUT_COST = 0.0000001  # $0.10 par million de tokens\n",
        "GENERATION_OUTPUT_COST = 0.0000004  # $0.40 par million de tokens"
      ]
    },
    {
      "cell_type": "code",
      "execution_count": 112,
      "metadata": {},
      "outputs": [],
      "source": [
        "# api_key = getpass.getpass(\"Entrez votre clé API LangSmith: \")\n",
        "# os.environ[\"LANGSMITH_API_KEY\"] = api_key\n",
        "# os.environ[\"LANGCHAIN_TRACING_V2\"] = \"true\""
      ]
    },
    {
      "cell_type": "code",
      "execution_count": null,
      "metadata": {},
      "outputs": [],
      "source": [
        "\n",
        "#US Personnal\n",
        "#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\n",
        "\n"
      ]
    },
    {
      "cell_type": "code",
      "execution_count": 133,
      "metadata": {},
      "outputs": [],
      "source": [
        "import os\n",
        "import time\n",
        "import uuid\n",
        "import numpy as np\n",
        "import pandas as pd\n",
        "import tiktoken\n",
        "from openai import OpenAI\n",
        "from langchain_openai import ChatOpenAI\n",
        "from langchain_core.prompts import ChatPromptTemplate\n",
        "from langchain.callbacks import get_openai_callback\n",
        "from langsmith import Client, traceable\n",
        "from langsmith.wrappers import wrap_openai\n",
        "\n",
        "# Configuration de l'encodeur pour compter les tokens\n",
        "encoding = tiktoken.get_encoding(\"cl100k_base\")\n",
        "\n",
        "# Définition des coûts\n",
        "GENERATION_INPUT_COST = 0.0000001  # $0.10 par million de tokens\n",
        "GENERATION_OUTPUT_COST = 0.0000004  # $0.40 par million de tokens\n",
        "\n",
        "def evaluate_retrievers_complete(retrievers, testset_dataset, llm_model=\"gpt-4.1-nano\"):\n",
        "    \"\"\"\n",
        "    Évaluation unifiée des retrievers avec traçage LangSmith, \n",
        "    incluant l'évaluation RAGAS pour chaque retriever dans le même workflow.\n",
        "    \"\"\"\n",
        "    # Client LangSmith\n",
        "    client = Client(api_key=os.environ.get(\"LANGSMITH_API_KEY\"))os.environ.get(\"LANGSMITH_API_KEY\"))\n",
        "    results = []\n",
        "    \n",
        "    # Template RAG\n",
        "    prompt_template = \"\"\"\n",
        "    You are a helpful assistant. Use the context provided below to answer the question.\n",
        "    If you don't know the answer, just say you don't know.\n",
        "    \n",
        "    Context:\n",
        "    {context}\n",
        "    \n",
        "    Question:\n",
        "    {question}\n",
        "    \"\"\"\n",
        "    \n",
        "    # Évaluer chaque retriever\n",
        "    for retriever_info in retrievers:\n",
        "        name = retriever_info[\"name\"]\n",
        "        retriever = retriever_info[\"retriever\"]\n",
        "        \n",
        "        print(f\"\\n=== Evaluating: {name} ===\")\n",
        "        \n",
        "        # Créer un projet unique pour ce retriever\n",
        "        project_name = f\"retriever-eval-{name.lower().replace(' ', '-')}-{uuid.uuid4().hex[:8]}\"\n",
        "        try:\n",
        "            client.create_project(project_name=project_name)\n",
        "            print(f\"Project: {project_name}\")\n",
        "        except Exception as e:\n",
        "            print(f\"Could not create project: {e}\")\n",
        "            project_name = \"default\"\n",
        "        \n",
        "        # Client OpenAI wrappé\n",
        "        openai_client = wrap_openai(OpenAI())\n",
        "        \n",
        "        # Évaluation complète du retriever\n",
        "        @traceable(\n",
        "            project_name=project_name,\n",
        "            run_type=\"chain\",\n",
        "            name=f\"{name} Complete Evaluation\"\n",
        "        )\n",
        "        def evaluate_retriever_with_ragas():\n",
        "            metrics = {\n",
        "                \"retrieval_times\": [],\n",
        "                \"llm_times\": [],\n",
        "                \"total_times\": [],\n",
        "                \"document_counts\": [],\n",
        "                \"prompt_tokens\": [],\n",
        "                \"completion_tokens\": [],\n",
        "                \"costs\": []\n",
        "            }\n",
        "            \n",
        "            # Copie du testset\n",
        "            testset_copy = copy.deepcopy(testset_dataset)\n",
        "            \n",
        "            # Traiter chaque question\n",
        "            for i, test_row in enumerate(testset_copy):\n",
        "                question = test_row.eval_sample.user_input\n",
        "                print(f\"Processing question {i+1}/{len(testset_copy)}: {question[:50]}...\")\n",
        "                \n",
        "                # Fonction interne pour traiter chaque question\n",
        "                @traceable(\n",
        "                    run_type=\"chain\",\n",
        "                    name=f\"Question {i+1}\",\n",
        "                    metadata={\"question_id\": i}\n",
        "                )\n",
        "                def process_question(query):\n",
        "                    # 1. Récupération\n",
        "                    retrieval_start = time.time()\n",
        "                    docs = retriever.invoke(query)\n",
        "                    retrieval_time = time.time() - retrieval_start\n",
        "                    \n",
        "                    # Métriques de récupération\n",
        "                    doc_count = len(docs)\n",
        "                    metrics[\"retrieval_times\"].append(retrieval_time)\n",
        "                    metrics[\"document_counts\"].append(doc_count)\n",
        "                    \n",
        "                    # 2. Préparation du contexte\n",
        "                    context_text = \"\\n\\n\".join([doc.page_content for doc in docs])\n",
        "                    formatted_prompt = prompt_template.format(context=context_text, question=query)\n",
        "                    \n",
        "                    # Calcul des tokens\n",
        "                    prompt_tokens = len(encoding.encode(formatted_prompt))\n",
        "                    metrics[\"prompt_tokens\"].append(prompt_tokens)\n",
        "                    \n",
        "                    # 3. Appel LLM\n",
        "                    llm_start = time.time()\n",
        "                    llm_response = openai_client.chat.completions.create(\n",
        "                        model=llm_model,\n",
        "                        messages=[\n",
        "                            {\"role\": \"system\", \"content\": formatted_prompt}\n",
        "                        ]\n",
        "                    )\n",
        "                    llm_time = time.time() - llm_start\n",
        "                    metrics[\"llm_times\"].append(llm_time)\n",
        "                    \n",
        "                    # Réponse\n",
        "                    answer = llm_response.choices[0].message.content\n",
        "                    \n",
        "                    # Métriques de tokens et coûts\n",
        "                    if hasattr(llm_response, \"usage\") and llm_response.usage:\n",
        "                        completion_tokens = llm_response.usage.completion_tokens\n",
        "                        metrics[\"completion_tokens\"].append(completion_tokens)\n",
        "                        \n",
        "                        cost = (\n",
        "                            (llm_response.usage.prompt_tokens * GENERATION_INPUT_COST) + \n",
        "                            (completion_tokens * GENERATION_OUTPUT_COST)\n",
        "                        )\n",
        "                        metrics[\"costs\"].append(cost)\n",
        "                    \n",
        "                    # Temps total\n",
        "                    total_time = retrieval_time + llm_time\n",
        "                    metrics[\"total_times\"].append(total_time)\n",
        "                    \n",
        "                    return {\n",
        "                        \"response\": answer,\n",
        "                        \"contexts\": [doc.page_content for doc in docs],\n",
        "                        \"retrieval_time\": retrieval_time,\n",
        "                        \"llm_time\": llm_time,\n",
        "                        \"total_time\": total_time,\n",
        "                        \"document_count\": doc_count\n",
        "                    }\n",
        "                \n",
        "                # Traiter la question\n",
        "                try:\n",
        "                    result = process_question(question)\n",
        "                    \n",
        "                    # Mettre à jour le testset\n",
        "                    test_row.eval_sample.response = result[\"response\"]\n",
        "                    test_row.eval_sample.retrieved_contexts = result[\"contexts\"]\n",
        "                    \n",
        "                    # Afficher les métriques\n",
        "                    print(f\"  Time: {result['total_time']:.2f}s (Retrieval: {result['retrieval_time']:.2f}s, LLM: {result['llm_time']:.2f}s)\")\n",
        "                    print(f\"  Documents: {result['document_count']}, Cost: ${metrics['costs'][-1] if metrics['costs'] else 0:.6f}\")\n",
        "                    \n",
        "                except Exception as e:\n",
        "                    print(f\"Error processing question {i}: {e}\")\n",
        "                    import traceback\n",
        "                    traceback.print_exc()\n",
        "                \n",
        "                # Pause pour éviter de surcharger l'API\n",
        "                time.sleep(0.5)\n",
        "            \n",
        "            # Calculer les moyennes\n",
        "            avg_metrics = {\n",
        "                \"avg_retrieval_time\": np.mean(metrics[\"retrieval_times\"]) if metrics[\"retrieval_times\"] else 0,\n",
        "                \"avg_llm_time\": np.mean(metrics[\"llm_times\"]) if metrics[\"llm_times\"] else 0,\n",
        "                \"avg_total_time\": np.mean(metrics[\"total_times\"]) if metrics[\"total_times\"] else 0,\n",
        "                \"avg_docs\": np.mean(metrics[\"document_counts\"]) if metrics[\"document_counts\"] else 0,\n",
        "                \"avg_prompt_tokens\": np.mean(metrics[\"prompt_tokens\"]) if metrics[\"prompt_tokens\"] else 0,\n",
        "                \"avg_completion_tokens\": np.mean(metrics[\"completion_tokens\"]) if metrics[\"completion_tokens\"] else 0,\n",
        "                \"avg_cost\": np.mean(metrics[\"costs\"]) if metrics[\"costs\"] else 0\n",
        "            }\n",
        "            \n",
        "            print(\"\\n=== Running RAGAS evaluation ===\")\n",
        "            \n",
        "            # Exécuter RAGAS dans le même flux de traçage\n",
        "            @traceable(\n",
        "                run_type=\"evaluation\",\n",
        "                name=\"RAGAS Evaluation\"\n",
        "            )\n",
        "            def run_ragas_evaluation():\n",
        "                try:\n",
        "                    # Import RAGAS\n",
        "                    from ragas.llms import LangchainLLMWrapper\n",
        "                    from ragas import EvaluationDataset\n",
        "                    from ragas.metrics import (\n",
        "                        LLMContextRecall,\n",
        "                        Faithfulness,\n",
        "                        FactualCorrectness,\n",
        "                        ResponseRelevancy,\n",
        "                        ContextEntityRecall\n",
        "                    )\n",
        "                    from ragas import evaluate, RunConfig\n",
        "                    \n",
        "                    # Configuration RAGAS\n",
        "                    evaluator_llm = LangchainLLMWrapper(ChatOpenAI(model=llm_model))\n",
        "                    run_config = RunConfig(timeout=600, max_workers=2)\n",
        "                    \n",
        "                    # Métriques RAGAS\n",
        "                    metrics = [\n",
        "                        LLMContextRecall(),\n",
        "                        Faithfulness(),\n",
        "                        FactualCorrectness(),\n",
        "                        ResponseRelevancy(),\n",
        "                        ContextEntityRecall()\n",
        "                    ]\n",
        "                    \n",
        "                    # Préparation du dataset\n",
        "                    ragas_df = pd.DataFrame()\n",
        "                    df = pd.DataFrame([\n",
        "                        {\n",
        "                            \"question\": row.eval_sample.user_input,\n",
        "                            \"answer\": row.eval_sample.response,\n",
        "                            \"contexts\": row.eval_sample.retrieved_contexts\n",
        "                        }\n",
        "                        for row in testset_copy\n",
        "                    ])\n",
        "                    \n",
        "                    ragas_df['question'] = df['question']\n",
        "                    ragas_df['answer'] = df['answer']\n",
        "                    ragas_df['contexts'] = df['contexts'].apply(\n",
        "                        lambda x: x if isinstance(x, list) else [x]\n",
        "                    )\n",
        "                    ragas_df['ground_truths'] = [[] for _ in range(len(df))]\n",
        "                    \n",
        "                    # Conversion en dataset RAGAS\n",
        "                    dataset = EvaluationDataset.from_pandas(ragas_df)\n",
        "                    \n",
        "                    # Exécution de l'évaluation\n",
        "                    result = evaluate(\n",
        "                        dataset=dataset,\n",
        "                        metrics=metrics,\n",
        "                        llm=evaluator_llm,\n",
        "                        run_config=run_config\n",
        "                    )\n",
        "                    \n",
        "                    # Calcul des scores moyens\n",
        "                    ragas_scores = {}\n",
        "                    ragas_scores['llm_context_recall'] = np.mean(result.get('llm_context_recall', [0]))\n",
        "                    ragas_scores['faithfulness'] = np.mean(result.get('faithfulness', [0]))\n",
        "                    ragas_scores['factual_correctness'] = np.mean(result.get('factual_correctness(mode=f1)', [0]))\n",
        "                    ragas_scores['response_relevancy'] = np.mean(result.get('answer_relevancy', [0]))\n",
        "                    ragas_scores['context_entity_recall'] = np.mean(result.get('context_entity_recall', [0]))\n",
        "                    \n",
        "                    # Score global\n",
        "                    ragas_scores['quality_score'] = np.mean([\n",
        "                        ragas_scores['llm_context_recall'],\n",
        "                        ragas_scores['faithfulness'],\n",
        "                        ragas_scores['factual_correctness'],\n",
        "                        ragas_scores['response_relevancy'],\n",
        "                        ragas_scores['context_entity_recall']\n",
        "                    ])\n",
        "                    \n",
        "                    # Afficher les scores\n",
        "                    print(f\"RAGAS scores for {name}:\")\n",
        "                    for key, value in ragas_scores.items():\n",
        "                        print(f\"- {key}: {value:.3f}\")\n",
        "                    \n",
        "                    return ragas_scores\n",
        "                    \n",
        "                except Exception as e:\n",
        "                    print(f\"Error in RAGAS evaluation: {e}\")\n",
        "                    import traceback\n",
        "                    traceback.print_exc()\n",
        "                    return {\"quality_score\": 0.5}\n",
        "            \n",
        "            # Exécuter RAGAS\n",
        "            ragas_scores = run_ragas_evaluation()\n",
        "            \n",
        "            # Combiner les métriques et retourner\n",
        "            return {\n",
        "                \"metrics\": avg_metrics,\n",
        "                \"ragas_scores\": ragas_scores,\n",
        "                \"processed_testset\": testset_copy\n",
        "            }\n",
        "        \n",
        "        # Exécuter l'évaluation complète\n",
        "        evaluation_result = evaluate_retriever_with_ragas()\n",
        "        \n",
        "        # Extraire les résultats\n",
        "        avg_metrics = evaluation_result[\"metrics\"]\n",
        "        ragas_scores = evaluation_result[\"ragas_scores\"]\n",
        "        processed_testset = evaluation_result[\"processed_testset\"]\n",
        "        \n",
        "        # Stocker les résultats pour ce retriever\n",
        "        retriever_result = {\n",
        "            \"Retriever\": name,\n",
        "            \"Avg Time (s)\": avg_metrics[\"avg_total_time\"],\n",
        "            \"Retrieval Time (s)\": avg_metrics[\"avg_retrieval_time\"],\n",
        "            \"LLM Time (s)\": avg_metrics[\"avg_llm_time\"],\n",
        "            \"Avg Docs\": avg_metrics[\"avg_docs\"],\n",
        "            \"Avg Prompt Tokens\": avg_metrics[\"avg_prompt_tokens\"],\n",
        "            \"Avg Completion Tokens\": avg_metrics[\"avg_completion_tokens\"],\n",
        "            \"Avg Cost ($)\": avg_metrics[\"avg_cost\"],\n",
        "            \"Quality Score\": ragas_scores.get(\"quality_score\", 0.5),\n",
        "            \"LLM Context Recall\": ragas_scores.get(\"llm_context_recall\", 0),\n",
        "            \"Faithfulness\": ragas_scores.get(\"faithfulness\", 0),\n",
        "            \"Factual Correctness\": ragas_scores.get(\"factual_correctness\", 0),\n",
        "            \"Response Relevancy\": ragas_scores.get(\"response_relevancy\", 0),\n",
        "            \"Context Entity Recall\": ragas_scores.get(\"context_entity_recall\", 0),\n",
        "            \"Project\": project_name\n",
        "        }\n",
        "        \n",
        "        # Calculer les métriques d'efficacité\n",
        "        retriever_result[\"Efficiency Score\"] = retriever_result[\"Quality Score\"] / max(retriever_result[\"Avg Cost ($)\"], 0.0001)\n",
        "        retriever_result[\"Time-Efficiency\"] = retriever_result[\"Quality Score\"] / (max(retriever_result[\"Avg Cost ($)\"], 0.0001) * retriever_result[\"Avg Time (s)\"])\n",
        "        \n",
        "        # Ajouter aux résultats\n",
        "        results.append(retriever_result)\n",
        "        \n",
        "        # Afficher les résultats\n",
        "        print(f\"\\n=== Results for {name} ===\")\n",
        "        print(f\"Average time: {avg_metrics['avg_total_time']:.2f}s (Retrieval: {avg_metrics['avg_retrieval_time']:.2f}s, LLM: {avg_metrics['avg_llm_time']:.2f}s)\")\n",
        "        print(f\"Average documents: {avg_metrics['avg_docs']:.1f}\")\n",
        "        print(f\"Average tokens: {avg_metrics['avg_prompt_tokens']:.1f} in, {avg_metrics['avg_completion_tokens']:.1f} out\")\n",
        "        print(f\"Average cost: ${avg_metrics['avg_cost']:.6f}/query\")\n",
        "        print(f\"Quality Score: {ragas_scores.get('quality_score', 0.5):.3f}\")\n",
        "    \n",
        "    # Convertir en DataFrame\n",
        "    results_df = pd.DataFrame(results)\n",
        "    \n",
        "    return results_df"
      ]
    },
    {
      "cell_type": "code",
      "execution_count": 134,
      "metadata": {},
      "outputs": [
        {
          "name": "stdout",
          "output_type": "stream",
          "text": [
            "\n",
            "=== Evaluating: Naive Retriever ===\n",
            "Project: retriever-eval-naive-retriever-96786722\n",
            "Processing question 1/12: Why John Wick movie so good even tho story simple ...\n",
            "  Time: 3.57s (Retrieval: 0.63s, LLM: 2.94s)\n",
            "  Documents: 10, Cost: $0.000276\n",
            "Processing question 2/12: Could you provide an overview of the \"John Wick\" f...\n",
            "  Time: 5.51s (Retrieval: 0.73s, LLM: 4.78s)\n",
            "  Documents: 10, Cost: $0.000303\n",
            "Processing question 3/12: Who is Chad Stahelski and why he important for Joh...\n",
            "  Time: 2.34s (Retrieval: 0.28s, LLM: 2.06s)\n",
            "  Documents: 10, Cost: $0.000263\n",
            "Processing question 4/12: Can you explane the plot and action style of the m...\n",
            "  Time: 4.97s (Retrieval: 0.36s, LLM: 4.61s)\n",
            "  Documents: 10, Cost: $0.000383\n",
            "Processing question 5/12: How does the escalation of stakes in the John Wick...\n",
            "  Time: 2.72s (Retrieval: 0.30s, LLM: 2.42s)\n",
            "  Documents: 10, Cost: $0.000231\n",
            "Processing question 6/12: Is Keanu Reeves acting in John Wick: Chapter 4 pra...\n",
            "  Time: 1.50s (Retrieval: 0.21s, LLM: 1.29s)\n",
            "  Documents: 10, Cost: $0.000258\n",
            "Processing question 7/12: How does the depiction of katana swords versus bul...\n",
            "  Time: 3.40s (Retrieval: 0.67s, LLM: 2.73s)\n",
            "  Documents: 10, Cost: $0.000225\n",
            "Processing question 8/12: How do the film reviews reflect the portrayal of J...\n",
            "  Time: 3.15s (Retrieval: 0.39s, LLM: 2.76s)\n",
            "  Documents: 10, Cost: $0.000266\n",
            "Processing question 9/12: How does Ian McShane's role in John Wick contribut...\n",
            "  Time: 4.39s (Retrieval: 0.59s, LLM: 3.80s)\n",
            "  Documents: 10, Cost: $0.000271\n",
            "Processing question 10/12: Why do some action movie fans like Taken but think...\n",
            "  Time: 3.26s (Retrieval: 0.88s, LLM: 2.38s)\n",
            "  Documents: 10, Cost: $0.000271\n",
            "Processing question 11/12: How do John Wick Chapter 2 and John Wick: Chapter ...\n",
            "  Time: 4.72s (Retrieval: 0.25s, LLM: 4.47s)\n",
            "  Documents: 10, Cost: $0.000297\n",
            "Processing question 12/12: How do the reviews of John Wick 4 differ in their ...\n",
            "  Time: 5.77s (Retrieval: 0.22s, LLM: 5.55s)\n",
            "  Documents: 10, Cost: $0.000274\n",
            "\n",
            "=== Running RAGAS evaluation ===\n"
          ]
        },
        {
          "name": "stderr",
          "output_type": "stream",
          "text": [
            "/Users/jthomazo/Archives/01_Projets/02_AIM/AIE6/13_Advanced_Retrieval/.venv/lib/python3.13/site-packages/langsmith/run_helpers.py:452: UserWarning: Unrecognized run_type: evaluation. Must be one of: {'parser', 'retriever', 'prompt', 'tool', 'llm', 'chain', 'embedding'}. Did you mean @traceable(name='evaluation')?\n",
            "  warnings.warn(\n"
          ]
        },
        {
          "name": "stdout",
          "output_type": "stream",
          "text": [
            "Error in RAGAS evaluation: The metric [context_recall] that is used requires the following additional columns ['user_input', 'retrieved_contexts', 'reference'] to be present in the dataset.\n",
            "\n",
            "=== Results for Naive Retriever ===\n",
            "Average time: 3.78s (Retrieval: 0.46s, LLM: 3.32s)\n",
            "Average documents: 10.0\n",
            "Average tokens: 2028.4 in, 190.5 out\n",
            "Average cost: $0.000276/query\n",
            "Quality Score: 0.500\n",
            "\n",
            "=== Evaluating: BM25 Retriever ===\n"
          ]
        },
        {
          "name": "stderr",
          "output_type": "stream",
          "text": [
            "Traceback (most recent call last):\n",
            "  File \"/var/folders/8h/kl800c1j6hjc9xt9lm_1bhph0000gn/T/ipykernel_31838/911973947.py\", line 236, in run_ragas_evaluation\n",
            "    result = evaluate(\n",
            "        dataset=dataset,\n",
            "    ...<2 lines>...\n",
            "        run_config=run_config\n",
            "    )\n",
            "  File \"/Users/jthomazo/Archives/01_Projets/02_AIM/AIE6/13_Advanced_Retrieval/.venv/lib/python3.13/site-packages/ragas/_analytics.py\", line 227, in wrapper\n",
            "    result = func(*args, **kwargs)\n",
            "  File \"/Users/jthomazo/Archives/01_Projets/02_AIM/AIE6/13_Advanced_Retrieval/.venv/lib/python3.13/site-packages/ragas/evaluation.py\", line 176, in evaluate\n",
            "    validate_required_columns(dataset, metrics)\n",
            "    ~~~~~~~~~~~~~~~~~~~~~~~~~^^^^^^^^^^^^^^^^^^\n",
            "  File \"/Users/jthomazo/Archives/01_Projets/02_AIM/AIE6/13_Advanced_Retrieval/.venv/lib/python3.13/site-packages/ragas/validation.py\", line 63, in validate_required_columns\n",
            "    raise ValueError(\n",
            "    ...<3 lines>...\n",
            "    )\n",
            "ValueError: The metric [context_recall] that is used requires the following additional columns ['user_input', 'retrieved_contexts', 'reference'] to be present in the dataset.\n"
          ]
        },
        {
          "name": "stdout",
          "output_type": "stream",
          "text": [
            "Project: retriever-eval-bm25-retriever-4a6e189d\n",
            "Processing question 1/12: Why John Wick movie so good even tho story simple ...\n",
            "  Time: 4.59s (Retrieval: 0.00s, LLM: 4.59s)\n",
            "  Documents: 4, Cost: $0.000238\n",
            "Processing question 2/12: Could you provide an overview of the \"John Wick\" f...\n"
          ]
        },
        {
          "ename": "KeyboardInterrupt",
          "evalue": "",
          "output_type": "error",
          "traceback": [
            "\u001b[31m---------------------------------------------------------------------------\u001b[39m",
            "\u001b[31mKeyboardInterrupt\u001b[39m                         Traceback (most recent call last)",
            "\u001b[36mCell\u001b[39m\u001b[36m \u001b[39m\u001b[32mIn[134]\u001b[39m\u001b[32m, line 2\u001b[39m\n\u001b[32m      1\u001b[39m  \u001b[38;5;66;03m#Exécuter l'évaluation complète en une seule fois\u001b[39;00m\n\u001b[32m----> \u001b[39m\u001b[32m2\u001b[39m results_df = \u001b[43mevaluate_retrievers_complete\u001b[49m\u001b[43m(\u001b[49m\n\u001b[32m      3\u001b[39m \u001b[43m    \u001b[49m\u001b[43mretrievers\u001b[49m\u001b[43m,\u001b[49m\u001b[43m \u001b[49m\n\u001b[32m      4\u001b[39m \u001b[43m    \u001b[49m\u001b[43mtestset_dataset\u001b[49m\u001b[43m,\u001b[49m\n\u001b[32m      5\u001b[39m \u001b[43m    \u001b[49m\u001b[43mllm_model\u001b[49m\u001b[43m=\u001b[49m\u001b[33;43m\"\u001b[39;49m\u001b[33;43mgpt-4.1-nano\u001b[39;49m\u001b[33;43m\"\u001b[39;49m\n\u001b[32m      6\u001b[39m \u001b[43m)\u001b[49m\n\u001b[32m      8\u001b[39m \u001b[38;5;66;03m# Afficher les résultats finaux\u001b[39;00m\n\u001b[32m      9\u001b[39m \u001b[38;5;28mprint\u001b[39m(\u001b[33m\"\u001b[39m\u001b[38;5;130;01m\\n\u001b[39;00m\u001b[33m=== Final Results ===\u001b[39m\u001b[33m\"\u001b[39m)\n",
            "\u001b[36mCell\u001b[39m\u001b[36m \u001b[39m\u001b[32mIn[133]\u001b[39m\u001b[32m, line 284\u001b[39m, in \u001b[36mevaluate_retrievers_complete\u001b[39m\u001b[34m(retrievers, testset_dataset, llm_model)\u001b[39m\n\u001b[32m    277\u001b[39m     \u001b[38;5;28;01mreturn\u001b[39;00m {\n\u001b[32m    278\u001b[39m         \u001b[33m\"\u001b[39m\u001b[33mmetrics\u001b[39m\u001b[33m\"\u001b[39m: avg_metrics,\n\u001b[32m    279\u001b[39m         \u001b[33m\"\u001b[39m\u001b[33mragas_scores\u001b[39m\u001b[33m\"\u001b[39m: ragas_scores,\n\u001b[32m    280\u001b[39m         \u001b[33m\"\u001b[39m\u001b[33mprocessed_testset\u001b[39m\u001b[33m\"\u001b[39m: testset_copy\n\u001b[32m    281\u001b[39m     }\n\u001b[32m    283\u001b[39m \u001b[38;5;66;03m# Exécuter l'évaluation complète\u001b[39;00m\n\u001b[32m--> \u001b[39m\u001b[32m284\u001b[39m evaluation_result = \u001b[43mevaluate_retriever_with_ragas\u001b[49m\u001b[43m(\u001b[49m\u001b[43m)\u001b[49m\n\u001b[32m    286\u001b[39m \u001b[38;5;66;03m# Extraire les résultats\u001b[39;00m\n\u001b[32m    287\u001b[39m avg_metrics = evaluation_result[\u001b[33m\"\u001b[39m\u001b[33mmetrics\u001b[39m\u001b[33m\"\u001b[39m]\n",
            "\u001b[36mCell\u001b[39m\u001b[36m \u001b[39m\u001b[32mIn[133]\u001b[39m\u001b[32m, line 151\u001b[39m, in \u001b[36mevaluate_retrievers_complete.<locals>.evaluate_retriever_with_ragas\u001b[39m\u001b[34m()\u001b[39m\n\u001b[32m    149\u001b[39m \u001b[38;5;66;03m# Traiter la question\u001b[39;00m\n\u001b[32m    150\u001b[39m \u001b[38;5;28;01mtry\u001b[39;00m:\n\u001b[32m--> \u001b[39m\u001b[32m151\u001b[39m     result = \u001b[43mprocess_question\u001b[49m\u001b[43m(\u001b[49m\u001b[43mquestion\u001b[49m\u001b[43m)\u001b[49m\n\u001b[32m    153\u001b[39m     \u001b[38;5;66;03m# Mettre à jour le testset\u001b[39;00m\n\u001b[32m    154\u001b[39m     test_row.eval_sample.response = result[\u001b[33m\"\u001b[39m\u001b[33mresponse\u001b[39m\u001b[33m\"\u001b[39m]\n",
            "\u001b[36mCell\u001b[39m\u001b[36m \u001b[39m\u001b[32mIn[133]\u001b[39m\u001b[32m, line 113\u001b[39m, in \u001b[36mevaluate_retrievers_complete.<locals>.evaluate_retriever_with_ragas.<locals>.process_question\u001b[39m\u001b[34m(query)\u001b[39m\n\u001b[32m    111\u001b[39m \u001b[38;5;66;03m# 3. Appel LLM\u001b[39;00m\n\u001b[32m    112\u001b[39m llm_start = time.time()\n\u001b[32m--> \u001b[39m\u001b[32m113\u001b[39m llm_response = \u001b[43mopenai_client\u001b[49m\u001b[43m.\u001b[49m\u001b[43mchat\u001b[49m\u001b[43m.\u001b[49m\u001b[43mcompletions\u001b[49m\u001b[43m.\u001b[49m\u001b[43mcreate\u001b[49m\u001b[43m(\u001b[49m\n\u001b[32m    114\u001b[39m \u001b[43m    \u001b[49m\u001b[43mmodel\u001b[49m\u001b[43m=\u001b[49m\u001b[43mllm_model\u001b[49m\u001b[43m,\u001b[49m\n\u001b[32m    115\u001b[39m \u001b[43m    \u001b[49m\u001b[43mmessages\u001b[49m\u001b[43m=\u001b[49m\u001b[43m[\u001b[49m\n\u001b[32m    116\u001b[39m \u001b[43m        \u001b[49m\u001b[43m{\u001b[49m\u001b[33;43m\"\u001b[39;49m\u001b[33;43mrole\u001b[39;49m\u001b[33;43m\"\u001b[39;49m\u001b[43m:\u001b[49m\u001b[43m \u001b[49m\u001b[33;43m\"\u001b[39;49m\u001b[33;43msystem\u001b[39;49m\u001b[33;43m\"\u001b[39;49m\u001b[43m,\u001b[49m\u001b[43m \u001b[49m\u001b[33;43m\"\u001b[39;49m\u001b[33;43mcontent\u001b[39;49m\u001b[33;43m\"\u001b[39;49m\u001b[43m:\u001b[49m\u001b[43m \u001b[49m\u001b[43mformatted_prompt\u001b[49m\u001b[43m}\u001b[49m\n\u001b[32m    117\u001b[39m \u001b[43m    \u001b[49m\u001b[43m]\u001b[49m\n\u001b[32m    118\u001b[39m \u001b[43m\u001b[49m\u001b[43m)\u001b[49m\n\u001b[32m    119\u001b[39m llm_time = time.time() - llm_start\n\u001b[32m    120\u001b[39m metrics[\u001b[33m\"\u001b[39m\u001b[33mllm_times\u001b[39m\u001b[33m\"\u001b[39m].append(llm_time)\n",
            "\u001b[36mFile \u001b[39m\u001b[32m~/Archives/01_Projets/02_AIM/AIE6/13_Advanced_Retrieval/.venv/lib/python3.13/site-packages/langsmith/wrappers/_openai.py:262\u001b[39m, in \u001b[36m_get_wrapper.<locals>.create\u001b[39m\u001b[34m(*args, **kwargs)\u001b[39m\n\u001b[32m    250\u001b[39m \u001b[38;5;129m@functools\u001b[39m.wraps(original_create)\n\u001b[32m    251\u001b[39m \u001b[38;5;28;01mdef\u001b[39;00m\u001b[38;5;250m \u001b[39m\u001b[34mcreate\u001b[39m(*args, **kwargs):\n\u001b[32m    252\u001b[39m     decorator = run_helpers.traceable(\n\u001b[32m    253\u001b[39m         name=name,\n\u001b[32m    254\u001b[39m         run_type=\u001b[33m\"\u001b[39m\u001b[33mllm\u001b[39m\u001b[33m\"\u001b[39m,\n\u001b[32m   (...)\u001b[39m\u001b[32m    259\u001b[39m         **textra,\n\u001b[32m    260\u001b[39m     )\n\u001b[32m--> \u001b[39m\u001b[32m262\u001b[39m     \u001b[38;5;28;01mreturn\u001b[39;00m \u001b[43mdecorator\u001b[49m\u001b[43m(\u001b[49m\u001b[43moriginal_create\u001b[49m\u001b[43m)\u001b[49m\u001b[43m(\u001b[49m\u001b[43m*\u001b[49m\u001b[43margs\u001b[49m\u001b[43m,\u001b[49m\u001b[43m \u001b[49m\u001b[43m*\u001b[49m\u001b[43m*\u001b[49m\u001b[43mkwargs\u001b[49m\u001b[43m)\u001b[49m\n",
            "\u001b[36mFile \u001b[39m\u001b[32m~/Archives/01_Projets/02_AIM/AIE6/13_Advanced_Retrieval/.venv/lib/python3.13/site-packages/openai/_utils/_utils.py:287\u001b[39m, in \u001b[36mrequired_args.<locals>.inner.<locals>.wrapper\u001b[39m\u001b[34m(*args, **kwargs)\u001b[39m\n\u001b[32m    285\u001b[39m             msg = \u001b[33mf\u001b[39m\u001b[33m\"\u001b[39m\u001b[33mMissing required argument: \u001b[39m\u001b[38;5;132;01m{\u001b[39;00mquote(missing[\u001b[32m0\u001b[39m])\u001b[38;5;132;01m}\u001b[39;00m\u001b[33m\"\u001b[39m\n\u001b[32m    286\u001b[39m     \u001b[38;5;28;01mraise\u001b[39;00m \u001b[38;5;167;01mTypeError\u001b[39;00m(msg)\n\u001b[32m--> \u001b[39m\u001b[32m287\u001b[39m \u001b[38;5;28;01mreturn\u001b[39;00m \u001b[43mfunc\u001b[49m\u001b[43m(\u001b[49m\u001b[43m*\u001b[49m\u001b[43margs\u001b[49m\u001b[43m,\u001b[49m\u001b[43m \u001b[49m\u001b[43m*\u001b[49m\u001b[43m*\u001b[49m\u001b[43mkwargs\u001b[49m\u001b[43m)\u001b[49m\n",
            "\u001b[36mFile \u001b[39m\u001b[32m~/Archives/01_Projets/02_AIM/AIE6/13_Advanced_Retrieval/.venv/lib/python3.13/site-packages/openai/resources/chat/completions/completions.py:925\u001b[39m, in \u001b[36mCompletions.create\u001b[39m\u001b[34m(self, messages, model, audio, frequency_penalty, function_call, functions, logit_bias, logprobs, max_completion_tokens, max_tokens, metadata, modalities, n, parallel_tool_calls, prediction, presence_penalty, reasoning_effort, response_format, seed, service_tier, stop, store, stream, stream_options, temperature, tool_choice, tools, top_logprobs, top_p, user, web_search_options, extra_headers, extra_query, extra_body, timeout)\u001b[39m\n\u001b[32m    882\u001b[39m \u001b[38;5;129m@required_args\u001b[39m([\u001b[33m\"\u001b[39m\u001b[33mmessages\u001b[39m\u001b[33m\"\u001b[39m, \u001b[33m\"\u001b[39m\u001b[33mmodel\u001b[39m\u001b[33m\"\u001b[39m], [\u001b[33m\"\u001b[39m\u001b[33mmessages\u001b[39m\u001b[33m\"\u001b[39m, \u001b[33m\"\u001b[39m\u001b[33mmodel\u001b[39m\u001b[33m\"\u001b[39m, \u001b[33m\"\u001b[39m\u001b[33mstream\u001b[39m\u001b[33m\"\u001b[39m])\n\u001b[32m    883\u001b[39m \u001b[38;5;28;01mdef\u001b[39;00m\u001b[38;5;250m \u001b[39m\u001b[34mcreate\u001b[39m(\n\u001b[32m    884\u001b[39m     \u001b[38;5;28mself\u001b[39m,\n\u001b[32m   (...)\u001b[39m\u001b[32m    922\u001b[39m     timeout: \u001b[38;5;28mfloat\u001b[39m | httpx.Timeout | \u001b[38;5;28;01mNone\u001b[39;00m | NotGiven = NOT_GIVEN,\n\u001b[32m    923\u001b[39m ) -> ChatCompletion | Stream[ChatCompletionChunk]:\n\u001b[32m    924\u001b[39m     validate_response_format(response_format)\n\u001b[32m--> \u001b[39m\u001b[32m925\u001b[39m     \u001b[38;5;28;01mreturn\u001b[39;00m \u001b[38;5;28;43mself\u001b[39;49m\u001b[43m.\u001b[49m\u001b[43m_post\u001b[49m\u001b[43m(\u001b[49m\n\u001b[32m    926\u001b[39m \u001b[43m        \u001b[49m\u001b[33;43m\"\u001b[39;49m\u001b[33;43m/chat/completions\u001b[39;49m\u001b[33;43m\"\u001b[39;49m\u001b[43m,\u001b[49m\n\u001b[32m    927\u001b[39m \u001b[43m        \u001b[49m\u001b[43mbody\u001b[49m\u001b[43m=\u001b[49m\u001b[43mmaybe_transform\u001b[49m\u001b[43m(\u001b[49m\n\u001b[32m    928\u001b[39m \u001b[43m            \u001b[49m\u001b[43m{\u001b[49m\n\u001b[32m    929\u001b[39m \u001b[43m                \u001b[49m\u001b[33;43m\"\u001b[39;49m\u001b[33;43mmessages\u001b[39;49m\u001b[33;43m\"\u001b[39;49m\u001b[43m:\u001b[49m\u001b[43m \u001b[49m\u001b[43mmessages\u001b[49m\u001b[43m,\u001b[49m\n\u001b[32m    930\u001b[39m \u001b[43m                \u001b[49m\u001b[33;43m\"\u001b[39;49m\u001b[33;43mmodel\u001b[39;49m\u001b[33;43m\"\u001b[39;49m\u001b[43m:\u001b[49m\u001b[43m \u001b[49m\u001b[43mmodel\u001b[49m\u001b[43m,\u001b[49m\n\u001b[32m    931\u001b[39m \u001b[43m                \u001b[49m\u001b[33;43m\"\u001b[39;49m\u001b[33;43maudio\u001b[39;49m\u001b[33;43m\"\u001b[39;49m\u001b[43m:\u001b[49m\u001b[43m \u001b[49m\u001b[43maudio\u001b[49m\u001b[43m,\u001b[49m\n\u001b[32m    932\u001b[39m \u001b[43m                \u001b[49m\u001b[33;43m\"\u001b[39;49m\u001b[33;43mfrequency_penalty\u001b[39;49m\u001b[33;43m\"\u001b[39;49m\u001b[43m:\u001b[49m\u001b[43m \u001b[49m\u001b[43mfrequency_penalty\u001b[49m\u001b[43m,\u001b[49m\n\u001b[32m    933\u001b[39m \u001b[43m                \u001b[49m\u001b[33;43m\"\u001b[39;49m\u001b[33;43mfunction_call\u001b[39;49m\u001b[33;43m\"\u001b[39;49m\u001b[43m:\u001b[49m\u001b[43m \u001b[49m\u001b[43mfunction_call\u001b[49m\u001b[43m,\u001b[49m\n\u001b[32m    934\u001b[39m \u001b[43m                \u001b[49m\u001b[33;43m\"\u001b[39;49m\u001b[33;43mfunctions\u001b[39;49m\u001b[33;43m\"\u001b[39;49m\u001b[43m:\u001b[49m\u001b[43m \u001b[49m\u001b[43mfunctions\u001b[49m\u001b[43m,\u001b[49m\n\u001b[32m    935\u001b[39m \u001b[43m                \u001b[49m\u001b[33;43m\"\u001b[39;49m\u001b[33;43mlogit_bias\u001b[39;49m\u001b[33;43m\"\u001b[39;49m\u001b[43m:\u001b[49m\u001b[43m \u001b[49m\u001b[43mlogit_bias\u001b[49m\u001b[43m,\u001b[49m\n\u001b[32m    936\u001b[39m \u001b[43m                \u001b[49m\u001b[33;43m\"\u001b[39;49m\u001b[33;43mlogprobs\u001b[39;49m\u001b[33;43m\"\u001b[39;49m\u001b[43m:\u001b[49m\u001b[43m \u001b[49m\u001b[43mlogprobs\u001b[49m\u001b[43m,\u001b[49m\n\u001b[32m    937\u001b[39m \u001b[43m                \u001b[49m\u001b[33;43m\"\u001b[39;49m\u001b[33;43mmax_completion_tokens\u001b[39;49m\u001b[33;43m\"\u001b[39;49m\u001b[43m:\u001b[49m\u001b[43m \u001b[49m\u001b[43mmax_completion_tokens\u001b[49m\u001b[43m,\u001b[49m\n\u001b[32m    938\u001b[39m \u001b[43m                \u001b[49m\u001b[33;43m\"\u001b[39;49m\u001b[33;43mmax_tokens\u001b[39;49m\u001b[33;43m\"\u001b[39;49m\u001b[43m:\u001b[49m\u001b[43m \u001b[49m\u001b[43mmax_tokens\u001b[49m\u001b[43m,\u001b[49m\n\u001b[32m    939\u001b[39m \u001b[43m                \u001b[49m\u001b[33;43m\"\u001b[39;49m\u001b[33;43mmetadata\u001b[39;49m\u001b[33;43m\"\u001b[39;49m\u001b[43m:\u001b[49m\u001b[43m \u001b[49m\u001b[43mmetadata\u001b[49m\u001b[43m,\u001b[49m\n\u001b[32m    940\u001b[39m \u001b[43m                \u001b[49m\u001b[33;43m\"\u001b[39;49m\u001b[33;43mmodalities\u001b[39;49m\u001b[33;43m\"\u001b[39;49m\u001b[43m:\u001b[49m\u001b[43m \u001b[49m\u001b[43mmodalities\u001b[49m\u001b[43m,\u001b[49m\n\u001b[32m    941\u001b[39m \u001b[43m                \u001b[49m\u001b[33;43m\"\u001b[39;49m\u001b[33;43mn\u001b[39;49m\u001b[33;43m\"\u001b[39;49m\u001b[43m:\u001b[49m\u001b[43m \u001b[49m\u001b[43mn\u001b[49m\u001b[43m,\u001b[49m\n\u001b[32m    942\u001b[39m \u001b[43m                \u001b[49m\u001b[33;43m\"\u001b[39;49m\u001b[33;43mparallel_tool_calls\u001b[39;49m\u001b[33;43m\"\u001b[39;49m\u001b[43m:\u001b[49m\u001b[43m \u001b[49m\u001b[43mparallel_tool_calls\u001b[49m\u001b[43m,\u001b[49m\n\u001b[32m    943\u001b[39m \u001b[43m                \u001b[49m\u001b[33;43m\"\u001b[39;49m\u001b[33;43mprediction\u001b[39;49m\u001b[33;43m\"\u001b[39;49m\u001b[43m:\u001b[49m\u001b[43m \u001b[49m\u001b[43mprediction\u001b[49m\u001b[43m,\u001b[49m\n\u001b[32m    944\u001b[39m \u001b[43m                \u001b[49m\u001b[33;43m\"\u001b[39;49m\u001b[33;43mpresence_penalty\u001b[39;49m\u001b[33;43m\"\u001b[39;49m\u001b[43m:\u001b[49m\u001b[43m \u001b[49m\u001b[43mpresence_penalty\u001b[49m\u001b[43m,\u001b[49m\n\u001b[32m    945\u001b[39m \u001b[43m                \u001b[49m\u001b[33;43m\"\u001b[39;49m\u001b[33;43mreasoning_effort\u001b[39;49m\u001b[33;43m\"\u001b[39;49m\u001b[43m:\u001b[49m\u001b[43m \u001b[49m\u001b[43mreasoning_effort\u001b[49m\u001b[43m,\u001b[49m\n\u001b[32m    946\u001b[39m \u001b[43m                \u001b[49m\u001b[33;43m\"\u001b[39;49m\u001b[33;43mresponse_format\u001b[39;49m\u001b[33;43m\"\u001b[39;49m\u001b[43m:\u001b[49m\u001b[43m \u001b[49m\u001b[43mresponse_format\u001b[49m\u001b[43m,\u001b[49m\n\u001b[32m    947\u001b[39m \u001b[43m                \u001b[49m\u001b[33;43m\"\u001b[39;49m\u001b[33;43mseed\u001b[39;49m\u001b[33;43m\"\u001b[39;49m\u001b[43m:\u001b[49m\u001b[43m \u001b[49m\u001b[43mseed\u001b[49m\u001b[43m,\u001b[49m\n\u001b[32m    948\u001b[39m \u001b[43m                \u001b[49m\u001b[33;43m\"\u001b[39;49m\u001b[33;43mservice_tier\u001b[39;49m\u001b[33;43m\"\u001b[39;49m\u001b[43m:\u001b[49m\u001b[43m \u001b[49m\u001b[43mservice_tier\u001b[49m\u001b[43m,\u001b[49m\n\u001b[32m    949\u001b[39m \u001b[43m                \u001b[49m\u001b[33;43m\"\u001b[39;49m\u001b[33;43mstop\u001b[39;49m\u001b[33;43m\"\u001b[39;49m\u001b[43m:\u001b[49m\u001b[43m \u001b[49m\u001b[43mstop\u001b[49m\u001b[43m,\u001b[49m\n\u001b[32m    950\u001b[39m \u001b[43m                \u001b[49m\u001b[33;43m\"\u001b[39;49m\u001b[33;43mstore\u001b[39;49m\u001b[33;43m\"\u001b[39;49m\u001b[43m:\u001b[49m\u001b[43m \u001b[49m\u001b[43mstore\u001b[49m\u001b[43m,\u001b[49m\n\u001b[32m    951\u001b[39m \u001b[43m                \u001b[49m\u001b[33;43m\"\u001b[39;49m\u001b[33;43mstream\u001b[39;49m\u001b[33;43m\"\u001b[39;49m\u001b[43m:\u001b[49m\u001b[43m \u001b[49m\u001b[43mstream\u001b[49m\u001b[43m,\u001b[49m\n\u001b[32m    952\u001b[39m \u001b[43m                \u001b[49m\u001b[33;43m\"\u001b[39;49m\u001b[33;43mstream_options\u001b[39;49m\u001b[33;43m\"\u001b[39;49m\u001b[43m:\u001b[49m\u001b[43m \u001b[49m\u001b[43mstream_options\u001b[49m\u001b[43m,\u001b[49m\n\u001b[32m    953\u001b[39m \u001b[43m                \u001b[49m\u001b[33;43m\"\u001b[39;49m\u001b[33;43mtemperature\u001b[39;49m\u001b[33;43m\"\u001b[39;49m\u001b[43m:\u001b[49m\u001b[43m \u001b[49m\u001b[43mtemperature\u001b[49m\u001b[43m,\u001b[49m\n\u001b[32m    954\u001b[39m \u001b[43m                \u001b[49m\u001b[33;43m\"\u001b[39;49m\u001b[33;43mtool_choice\u001b[39;49m\u001b[33;43m\"\u001b[39;49m\u001b[43m:\u001b[49m\u001b[43m \u001b[49m\u001b[43mtool_choice\u001b[49m\u001b[43m,\u001b[49m\n\u001b[32m    955\u001b[39m \u001b[43m                \u001b[49m\u001b[33;43m\"\u001b[39;49m\u001b[33;43mtools\u001b[39;49m\u001b[33;43m\"\u001b[39;49m\u001b[43m:\u001b[49m\u001b[43m \u001b[49m\u001b[43mtools\u001b[49m\u001b[43m,\u001b[49m\n\u001b[32m    956\u001b[39m \u001b[43m                \u001b[49m\u001b[33;43m\"\u001b[39;49m\u001b[33;43mtop_logprobs\u001b[39;49m\u001b[33;43m\"\u001b[39;49m\u001b[43m:\u001b[49m\u001b[43m \u001b[49m\u001b[43mtop_logprobs\u001b[49m\u001b[43m,\u001b[49m\n\u001b[32m    957\u001b[39m \u001b[43m                \u001b[49m\u001b[33;43m\"\u001b[39;49m\u001b[33;43mtop_p\u001b[39;49m\u001b[33;43m\"\u001b[39;49m\u001b[43m:\u001b[49m\u001b[43m \u001b[49m\u001b[43mtop_p\u001b[49m\u001b[43m,\u001b[49m\n\u001b[32m    958\u001b[39m \u001b[43m                \u001b[49m\u001b[33;43m\"\u001b[39;49m\u001b[33;43muser\u001b[39;49m\u001b[33;43m\"\u001b[39;49m\u001b[43m:\u001b[49m\u001b[43m \u001b[49m\u001b[43muser\u001b[49m\u001b[43m,\u001b[49m\n\u001b[32m    959\u001b[39m \u001b[43m                \u001b[49m\u001b[33;43m\"\u001b[39;49m\u001b[33;43mweb_search_options\u001b[39;49m\u001b[33;43m\"\u001b[39;49m\u001b[43m:\u001b[49m\u001b[43m \u001b[49m\u001b[43mweb_search_options\u001b[49m\u001b[43m,\u001b[49m\n\u001b[32m    960\u001b[39m \u001b[43m            \u001b[49m\u001b[43m}\u001b[49m\u001b[43m,\u001b[49m\n\u001b[32m    961\u001b[39m \u001b[43m            \u001b[49m\u001b[43mcompletion_create_params\u001b[49m\u001b[43m.\u001b[49m\u001b[43mCompletionCreateParamsStreaming\u001b[49m\n\u001b[32m    962\u001b[39m \u001b[43m            \u001b[49m\u001b[38;5;28;43;01mif\u001b[39;49;00m\u001b[43m \u001b[49m\u001b[43mstream\u001b[49m\n\u001b[32m    963\u001b[39m \u001b[43m            \u001b[49m\u001b[38;5;28;43;01melse\u001b[39;49;00m\u001b[43m \u001b[49m\u001b[43mcompletion_create_params\u001b[49m\u001b[43m.\u001b[49m\u001b[43mCompletionCreateParamsNonStreaming\u001b[49m\u001b[43m,\u001b[49m\n\u001b[32m    964\u001b[39m \u001b[43m        \u001b[49m\u001b[43m)\u001b[49m\u001b[43m,\u001b[49m\n\u001b[32m    965\u001b[39m \u001b[43m        \u001b[49m\u001b[43moptions\u001b[49m\u001b[43m=\u001b[49m\u001b[43mmake_request_options\u001b[49m\u001b[43m(\u001b[49m\n\u001b[32m    966\u001b[39m \u001b[43m            \u001b[49m\u001b[43mextra_headers\u001b[49m\u001b[43m=\u001b[49m\u001b[43mextra_headers\u001b[49m\u001b[43m,\u001b[49m\u001b[43m \u001b[49m\u001b[43mextra_query\u001b[49m\u001b[43m=\u001b[49m\u001b[43mextra_query\u001b[49m\u001b[43m,\u001b[49m\u001b[43m \u001b[49m\u001b[43mextra_body\u001b[49m\u001b[43m=\u001b[49m\u001b[43mextra_body\u001b[49m\u001b[43m,\u001b[49m\u001b[43m \u001b[49m\u001b[43mtimeout\u001b[49m\u001b[43m=\u001b[49m\u001b[43mtimeout\u001b[49m\n\u001b[32m    967\u001b[39m \u001b[43m        \u001b[49m\u001b[43m)\u001b[49m\u001b[43m,\u001b[49m\n\u001b[32m    968\u001b[39m \u001b[43m        \u001b[49m\u001b[43mcast_to\u001b[49m\u001b[43m=\u001b[49m\u001b[43mChatCompletion\u001b[49m\u001b[43m,\u001b[49m\n\u001b[32m    969\u001b[39m \u001b[43m        \u001b[49m\u001b[43mstream\u001b[49m\u001b[43m=\u001b[49m\u001b[43mstream\u001b[49m\u001b[43m \u001b[49m\u001b[38;5;129;43;01mor\u001b[39;49;00m\u001b[43m \u001b[49m\u001b[38;5;28;43;01mFalse\u001b[39;49;00m\u001b[43m,\u001b[49m\n\u001b[32m    970\u001b[39m \u001b[43m        \u001b[49m\u001b[43mstream_cls\u001b[49m\u001b[43m=\u001b[49m\u001b[43mStream\u001b[49m\u001b[43m[\u001b[49m\u001b[43mChatCompletionChunk\u001b[49m\u001b[43m]\u001b[49m\u001b[43m,\u001b[49m\n\u001b[32m    971\u001b[39m \u001b[43m    \u001b[49m\u001b[43m)\u001b[49m\n",
            "\u001b[36mFile \u001b[39m\u001b[32m~/Archives/01_Projets/02_AIM/AIE6/13_Advanced_Retrieval/.venv/lib/python3.13/site-packages/openai/_base_client.py:1239\u001b[39m, in \u001b[36mSyncAPIClient.post\u001b[39m\u001b[34m(self, path, cast_to, body, options, files, stream, stream_cls)\u001b[39m\n\u001b[32m   1225\u001b[39m \u001b[38;5;28;01mdef\u001b[39;00m\u001b[38;5;250m \u001b[39m\u001b[34mpost\u001b[39m(\n\u001b[32m   1226\u001b[39m     \u001b[38;5;28mself\u001b[39m,\n\u001b[32m   1227\u001b[39m     path: \u001b[38;5;28mstr\u001b[39m,\n\u001b[32m   (...)\u001b[39m\u001b[32m   1234\u001b[39m     stream_cls: \u001b[38;5;28mtype\u001b[39m[_StreamT] | \u001b[38;5;28;01mNone\u001b[39;00m = \u001b[38;5;28;01mNone\u001b[39;00m,\n\u001b[32m   1235\u001b[39m ) -> ResponseT | _StreamT:\n\u001b[32m   1236\u001b[39m     opts = FinalRequestOptions.construct(\n\u001b[32m   1237\u001b[39m         method=\u001b[33m\"\u001b[39m\u001b[33mpost\u001b[39m\u001b[33m\"\u001b[39m, url=path, json_data=body, files=to_httpx_files(files), **options\n\u001b[32m   1238\u001b[39m     )\n\u001b[32m-> \u001b[39m\u001b[32m1239\u001b[39m     \u001b[38;5;28;01mreturn\u001b[39;00m cast(ResponseT, \u001b[38;5;28;43mself\u001b[39;49m\u001b[43m.\u001b[49m\u001b[43mrequest\u001b[49m\u001b[43m(\u001b[49m\u001b[43mcast_to\u001b[49m\u001b[43m,\u001b[49m\u001b[43m \u001b[49m\u001b[43mopts\u001b[49m\u001b[43m,\u001b[49m\u001b[43m \u001b[49m\u001b[43mstream\u001b[49m\u001b[43m=\u001b[49m\u001b[43mstream\u001b[49m\u001b[43m,\u001b[49m\u001b[43m \u001b[49m\u001b[43mstream_cls\u001b[49m\u001b[43m=\u001b[49m\u001b[43mstream_cls\u001b[49m\u001b[43m)\u001b[49m)\n",
            "\u001b[36mFile \u001b[39m\u001b[32m~/Archives/01_Projets/02_AIM/AIE6/13_Advanced_Retrieval/.venv/lib/python3.13/site-packages/openai/_base_client.py:969\u001b[39m, in \u001b[36mSyncAPIClient.request\u001b[39m\u001b[34m(self, cast_to, options, stream, stream_cls)\u001b[39m\n\u001b[32m    967\u001b[39m response = \u001b[38;5;28;01mNone\u001b[39;00m\n\u001b[32m    968\u001b[39m \u001b[38;5;28;01mtry\u001b[39;00m:\n\u001b[32m--> \u001b[39m\u001b[32m969\u001b[39m     response = \u001b[38;5;28;43mself\u001b[39;49m\u001b[43m.\u001b[49m\u001b[43m_client\u001b[49m\u001b[43m.\u001b[49m\u001b[43msend\u001b[49m\u001b[43m(\u001b[49m\n\u001b[32m    970\u001b[39m \u001b[43m        \u001b[49m\u001b[43mrequest\u001b[49m\u001b[43m,\u001b[49m\n\u001b[32m    971\u001b[39m \u001b[43m        \u001b[49m\u001b[43mstream\u001b[49m\u001b[43m=\u001b[49m\u001b[43mstream\u001b[49m\u001b[43m \u001b[49m\u001b[38;5;129;43;01mor\u001b[39;49;00m\u001b[43m \u001b[49m\u001b[38;5;28;43mself\u001b[39;49m\u001b[43m.\u001b[49m\u001b[43m_should_stream_response_body\u001b[49m\u001b[43m(\u001b[49m\u001b[43mrequest\u001b[49m\u001b[43m=\u001b[49m\u001b[43mrequest\u001b[49m\u001b[43m)\u001b[49m\u001b[43m,\u001b[49m\n\u001b[32m    972\u001b[39m \u001b[43m        \u001b[49m\u001b[43m*\u001b[49m\u001b[43m*\u001b[49m\u001b[43mkwargs\u001b[49m\u001b[43m,\u001b[49m\n\u001b[32m    973\u001b[39m \u001b[43m    \u001b[49m\u001b[43m)\u001b[49m\n\u001b[32m    974\u001b[39m \u001b[38;5;28;01mexcept\u001b[39;00m httpx.TimeoutException \u001b[38;5;28;01mas\u001b[39;00m err:\n\u001b[32m    975\u001b[39m     log.debug(\u001b[33m\"\u001b[39m\u001b[33mEncountered httpx.TimeoutException\u001b[39m\u001b[33m\"\u001b[39m, exc_info=\u001b[38;5;28;01mTrue\u001b[39;00m)\n",
            "\u001b[36mFile \u001b[39m\u001b[32m~/Archives/01_Projets/02_AIM/AIE6/13_Advanced_Retrieval/.venv/lib/python3.13/site-packages/httpx/_client.py:914\u001b[39m, in \u001b[36mClient.send\u001b[39m\u001b[34m(self, request, stream, auth, follow_redirects)\u001b[39m\n\u001b[32m    910\u001b[39m \u001b[38;5;28mself\u001b[39m._set_timeout(request)\n\u001b[32m    912\u001b[39m auth = \u001b[38;5;28mself\u001b[39m._build_request_auth(request, auth)\n\u001b[32m--> \u001b[39m\u001b[32m914\u001b[39m response = \u001b[38;5;28;43mself\u001b[39;49m\u001b[43m.\u001b[49m\u001b[43m_send_handling_auth\u001b[49m\u001b[43m(\u001b[49m\n\u001b[32m    915\u001b[39m \u001b[43m    \u001b[49m\u001b[43mrequest\u001b[49m\u001b[43m,\u001b[49m\n\u001b[32m    916\u001b[39m \u001b[43m    \u001b[49m\u001b[43mauth\u001b[49m\u001b[43m=\u001b[49m\u001b[43mauth\u001b[49m\u001b[43m,\u001b[49m\n\u001b[32m    917\u001b[39m \u001b[43m    \u001b[49m\u001b[43mfollow_redirects\u001b[49m\u001b[43m=\u001b[49m\u001b[43mfollow_redirects\u001b[49m\u001b[43m,\u001b[49m\n\u001b[32m    918\u001b[39m \u001b[43m    \u001b[49m\u001b[43mhistory\u001b[49m\u001b[43m=\u001b[49m\u001b[43m[\u001b[49m\u001b[43m]\u001b[49m\u001b[43m,\u001b[49m\n\u001b[32m    919\u001b[39m \u001b[43m\u001b[49m\u001b[43m)\u001b[49m\n\u001b[32m    920\u001b[39m \u001b[38;5;28;01mtry\u001b[39;00m:\n\u001b[32m    921\u001b[39m     \u001b[38;5;28;01mif\u001b[39;00m \u001b[38;5;129;01mnot\u001b[39;00m stream:\n",
            "\u001b[36mFile \u001b[39m\u001b[32m~/Archives/01_Projets/02_AIM/AIE6/13_Advanced_Retrieval/.venv/lib/python3.13/site-packages/httpx/_client.py:942\u001b[39m, in \u001b[36mClient._send_handling_auth\u001b[39m\u001b[34m(self, request, auth, follow_redirects, history)\u001b[39m\n\u001b[32m    939\u001b[39m request = \u001b[38;5;28mnext\u001b[39m(auth_flow)\n\u001b[32m    941\u001b[39m \u001b[38;5;28;01mwhile\u001b[39;00m \u001b[38;5;28;01mTrue\u001b[39;00m:\n\u001b[32m--> \u001b[39m\u001b[32m942\u001b[39m     response = \u001b[38;5;28;43mself\u001b[39;49m\u001b[43m.\u001b[49m\u001b[43m_send_handling_redirects\u001b[49m\u001b[43m(\u001b[49m\n\u001b[32m    943\u001b[39m \u001b[43m        \u001b[49m\u001b[43mrequest\u001b[49m\u001b[43m,\u001b[49m\n\u001b[32m    944\u001b[39m \u001b[43m        \u001b[49m\u001b[43mfollow_redirects\u001b[49m\u001b[43m=\u001b[49m\u001b[43mfollow_redirects\u001b[49m\u001b[43m,\u001b[49m\n\u001b[32m    945\u001b[39m \u001b[43m        \u001b[49m\u001b[43mhistory\u001b[49m\u001b[43m=\u001b[49m\u001b[43mhistory\u001b[49m\u001b[43m,\u001b[49m\n\u001b[32m    946\u001b[39m \u001b[43m    \u001b[49m\u001b[43m)\u001b[49m\n\u001b[32m    947\u001b[39m     \u001b[38;5;28;01mtry\u001b[39;00m:\n\u001b[32m    948\u001b[39m         \u001b[38;5;28;01mtry\u001b[39;00m:\n",
            "\u001b[36mFile \u001b[39m\u001b[32m~/Archives/01_Projets/02_AIM/AIE6/13_Advanced_Retrieval/.venv/lib/python3.13/site-packages/httpx/_client.py:979\u001b[39m, in \u001b[36mClient._send_handling_redirects\u001b[39m\u001b[34m(self, request, follow_redirects, history)\u001b[39m\n\u001b[32m    976\u001b[39m \u001b[38;5;28;01mfor\u001b[39;00m hook \u001b[38;5;129;01min\u001b[39;00m \u001b[38;5;28mself\u001b[39m._event_hooks[\u001b[33m\"\u001b[39m\u001b[33mrequest\u001b[39m\u001b[33m\"\u001b[39m]:\n\u001b[32m    977\u001b[39m     hook(request)\n\u001b[32m--> \u001b[39m\u001b[32m979\u001b[39m response = \u001b[38;5;28;43mself\u001b[39;49m\u001b[43m.\u001b[49m\u001b[43m_send_single_request\u001b[49m\u001b[43m(\u001b[49m\u001b[43mrequest\u001b[49m\u001b[43m)\u001b[49m\n\u001b[32m    980\u001b[39m \u001b[38;5;28;01mtry\u001b[39;00m:\n\u001b[32m    981\u001b[39m     \u001b[38;5;28;01mfor\u001b[39;00m hook \u001b[38;5;129;01min\u001b[39;00m \u001b[38;5;28mself\u001b[39m._event_hooks[\u001b[33m\"\u001b[39m\u001b[33mresponse\u001b[39m\u001b[33m\"\u001b[39m]:\n",
            "\u001b[36mFile \u001b[39m\u001b[32m~/Archives/01_Projets/02_AIM/AIE6/13_Advanced_Retrieval/.venv/lib/python3.13/site-packages/httpx/_client.py:1014\u001b[39m, in \u001b[36mClient._send_single_request\u001b[39m\u001b[34m(self, request)\u001b[39m\n\u001b[32m   1009\u001b[39m     \u001b[38;5;28;01mraise\u001b[39;00m \u001b[38;5;167;01mRuntimeError\u001b[39;00m(\n\u001b[32m   1010\u001b[39m         \u001b[33m\"\u001b[39m\u001b[33mAttempted to send an async request with a sync Client instance.\u001b[39m\u001b[33m\"\u001b[39m\n\u001b[32m   1011\u001b[39m     )\n\u001b[32m   1013\u001b[39m \u001b[38;5;28;01mwith\u001b[39;00m request_context(request=request):\n\u001b[32m-> \u001b[39m\u001b[32m1014\u001b[39m     response = \u001b[43mtransport\u001b[49m\u001b[43m.\u001b[49m\u001b[43mhandle_request\u001b[49m\u001b[43m(\u001b[49m\u001b[43mrequest\u001b[49m\u001b[43m)\u001b[49m\n\u001b[32m   1016\u001b[39m \u001b[38;5;28;01massert\u001b[39;00m \u001b[38;5;28misinstance\u001b[39m(response.stream, SyncByteStream)\n\u001b[32m   1018\u001b[39m response.request = request\n",
            "\u001b[36mFile \u001b[39m\u001b[32m~/Archives/01_Projets/02_AIM/AIE6/13_Advanced_Retrieval/.venv/lib/python3.13/site-packages/httpx/_transports/default.py:250\u001b[39m, in \u001b[36mHTTPTransport.handle_request\u001b[39m\u001b[34m(self, request)\u001b[39m\n\u001b[32m    237\u001b[39m req = httpcore.Request(\n\u001b[32m    238\u001b[39m     method=request.method,\n\u001b[32m    239\u001b[39m     url=httpcore.URL(\n\u001b[32m   (...)\u001b[39m\u001b[32m    247\u001b[39m     extensions=request.extensions,\n\u001b[32m    248\u001b[39m )\n\u001b[32m    249\u001b[39m \u001b[38;5;28;01mwith\u001b[39;00m map_httpcore_exceptions():\n\u001b[32m--> \u001b[39m\u001b[32m250\u001b[39m     resp = \u001b[38;5;28;43mself\u001b[39;49m\u001b[43m.\u001b[49m\u001b[43m_pool\u001b[49m\u001b[43m.\u001b[49m\u001b[43mhandle_request\u001b[49m\u001b[43m(\u001b[49m\u001b[43mreq\u001b[49m\u001b[43m)\u001b[49m\n\u001b[32m    252\u001b[39m \u001b[38;5;28;01massert\u001b[39;00m \u001b[38;5;28misinstance\u001b[39m(resp.stream, typing.Iterable)\n\u001b[32m    254\u001b[39m \u001b[38;5;28;01mreturn\u001b[39;00m Response(\n\u001b[32m    255\u001b[39m     status_code=resp.status,\n\u001b[32m    256\u001b[39m     headers=resp.headers,\n\u001b[32m    257\u001b[39m     stream=ResponseStream(resp.stream),\n\u001b[32m    258\u001b[39m     extensions=resp.extensions,\n\u001b[32m    259\u001b[39m )\n",
            "\u001b[36mFile \u001b[39m\u001b[32m~/Archives/01_Projets/02_AIM/AIE6/13_Advanced_Retrieval/.venv/lib/python3.13/site-packages/httpcore/_sync/connection_pool.py:256\u001b[39m, in \u001b[36mConnectionPool.handle_request\u001b[39m\u001b[34m(self, request)\u001b[39m\n\u001b[32m    253\u001b[39m         closing = \u001b[38;5;28mself\u001b[39m._assign_requests_to_connections()\n\u001b[32m    255\u001b[39m     \u001b[38;5;28mself\u001b[39m._close_connections(closing)\n\u001b[32m--> \u001b[39m\u001b[32m256\u001b[39m     \u001b[38;5;28;01mraise\u001b[39;00m exc \u001b[38;5;28;01mfrom\u001b[39;00m\u001b[38;5;250m \u001b[39m\u001b[38;5;28;01mNone\u001b[39;00m\n\u001b[32m    258\u001b[39m \u001b[38;5;66;03m# Return the response. Note that in this case we still have to manage\u001b[39;00m\n\u001b[32m    259\u001b[39m \u001b[38;5;66;03m# the point at which the response is closed.\u001b[39;00m\n\u001b[32m    260\u001b[39m \u001b[38;5;28;01massert\u001b[39;00m \u001b[38;5;28misinstance\u001b[39m(response.stream, typing.Iterable)\n",
            "\u001b[36mFile \u001b[39m\u001b[32m~/Archives/01_Projets/02_AIM/AIE6/13_Advanced_Retrieval/.venv/lib/python3.13/site-packages/httpcore/_sync/connection_pool.py:236\u001b[39m, in \u001b[36mConnectionPool.handle_request\u001b[39m\u001b[34m(self, request)\u001b[39m\n\u001b[32m    232\u001b[39m connection = pool_request.wait_for_connection(timeout=timeout)\n\u001b[32m    234\u001b[39m \u001b[38;5;28;01mtry\u001b[39;00m:\n\u001b[32m    235\u001b[39m     \u001b[38;5;66;03m# Send the request on the assigned connection.\u001b[39;00m\n\u001b[32m--> \u001b[39m\u001b[32m236\u001b[39m     response = \u001b[43mconnection\u001b[49m\u001b[43m.\u001b[49m\u001b[43mhandle_request\u001b[49m\u001b[43m(\u001b[49m\n\u001b[32m    237\u001b[39m \u001b[43m        \u001b[49m\u001b[43mpool_request\u001b[49m\u001b[43m.\u001b[49m\u001b[43mrequest\u001b[49m\n\u001b[32m    238\u001b[39m \u001b[43m    \u001b[49m\u001b[43m)\u001b[49m\n\u001b[32m    239\u001b[39m \u001b[38;5;28;01mexcept\u001b[39;00m ConnectionNotAvailable:\n\u001b[32m    240\u001b[39m     \u001b[38;5;66;03m# In some cases a connection may initially be available to\u001b[39;00m\n\u001b[32m    241\u001b[39m     \u001b[38;5;66;03m# handle a request, but then become unavailable.\u001b[39;00m\n\u001b[32m    242\u001b[39m     \u001b[38;5;66;03m#\u001b[39;00m\n\u001b[32m    243\u001b[39m     \u001b[38;5;66;03m# In this case we clear the connection and try again.\u001b[39;00m\n\u001b[32m    244\u001b[39m     pool_request.clear_connection()\n",
            "\u001b[36mFile \u001b[39m\u001b[32m~/Archives/01_Projets/02_AIM/AIE6/13_Advanced_Retrieval/.venv/lib/python3.13/site-packages/httpcore/_sync/connection.py:103\u001b[39m, in \u001b[36mHTTPConnection.handle_request\u001b[39m\u001b[34m(self, request)\u001b[39m\n\u001b[32m    100\u001b[39m     \u001b[38;5;28mself\u001b[39m._connect_failed = \u001b[38;5;28;01mTrue\u001b[39;00m\n\u001b[32m    101\u001b[39m     \u001b[38;5;28;01mraise\u001b[39;00m exc\n\u001b[32m--> \u001b[39m\u001b[32m103\u001b[39m \u001b[38;5;28;01mreturn\u001b[39;00m \u001b[38;5;28;43mself\u001b[39;49m\u001b[43m.\u001b[49m\u001b[43m_connection\u001b[49m\u001b[43m.\u001b[49m\u001b[43mhandle_request\u001b[49m\u001b[43m(\u001b[49m\u001b[43mrequest\u001b[49m\u001b[43m)\u001b[49m\n",
            "\u001b[36mFile \u001b[39m\u001b[32m~/Archives/01_Projets/02_AIM/AIE6/13_Advanced_Retrieval/.venv/lib/python3.13/site-packages/httpcore/_sync/http11.py:136\u001b[39m, in \u001b[36mHTTP11Connection.handle_request\u001b[39m\u001b[34m(self, request)\u001b[39m\n\u001b[32m    134\u001b[39m     \u001b[38;5;28;01mwith\u001b[39;00m Trace(\u001b[33m\"\u001b[39m\u001b[33mresponse_closed\u001b[39m\u001b[33m\"\u001b[39m, logger, request) \u001b[38;5;28;01mas\u001b[39;00m trace:\n\u001b[32m    135\u001b[39m         \u001b[38;5;28mself\u001b[39m._response_closed()\n\u001b[32m--> \u001b[39m\u001b[32m136\u001b[39m \u001b[38;5;28;01mraise\u001b[39;00m exc\n",
            "\u001b[36mFile \u001b[39m\u001b[32m~/Archives/01_Projets/02_AIM/AIE6/13_Advanced_Retrieval/.venv/lib/python3.13/site-packages/httpcore/_sync/http11.py:106\u001b[39m, in \u001b[36mHTTP11Connection.handle_request\u001b[39m\u001b[34m(self, request)\u001b[39m\n\u001b[32m     95\u001b[39m     \u001b[38;5;28;01mpass\u001b[39;00m\n\u001b[32m     97\u001b[39m \u001b[38;5;28;01mwith\u001b[39;00m Trace(\n\u001b[32m     98\u001b[39m     \u001b[33m\"\u001b[39m\u001b[33mreceive_response_headers\u001b[39m\u001b[33m\"\u001b[39m, logger, request, kwargs\n\u001b[32m     99\u001b[39m ) \u001b[38;5;28;01mas\u001b[39;00m trace:\n\u001b[32m    100\u001b[39m     (\n\u001b[32m    101\u001b[39m         http_version,\n\u001b[32m    102\u001b[39m         status,\n\u001b[32m    103\u001b[39m         reason_phrase,\n\u001b[32m    104\u001b[39m         headers,\n\u001b[32m    105\u001b[39m         trailing_data,\n\u001b[32m--> \u001b[39m\u001b[32m106\u001b[39m     ) = \u001b[38;5;28;43mself\u001b[39;49m\u001b[43m.\u001b[49m\u001b[43m_receive_response_headers\u001b[49m\u001b[43m(\u001b[49m\u001b[43m*\u001b[49m\u001b[43m*\u001b[49m\u001b[43mkwargs\u001b[49m\u001b[43m)\u001b[49m\n\u001b[32m    107\u001b[39m     trace.return_value = (\n\u001b[32m    108\u001b[39m         http_version,\n\u001b[32m    109\u001b[39m         status,\n\u001b[32m    110\u001b[39m         reason_phrase,\n\u001b[32m    111\u001b[39m         headers,\n\u001b[32m    112\u001b[39m     )\n\u001b[32m    114\u001b[39m network_stream = \u001b[38;5;28mself\u001b[39m._network_stream\n",
            "\u001b[36mFile \u001b[39m\u001b[32m~/Archives/01_Projets/02_AIM/AIE6/13_Advanced_Retrieval/.venv/lib/python3.13/site-packages/httpcore/_sync/http11.py:177\u001b[39m, in \u001b[36mHTTP11Connection._receive_response_headers\u001b[39m\u001b[34m(self, request)\u001b[39m\n\u001b[32m    174\u001b[39m timeout = timeouts.get(\u001b[33m\"\u001b[39m\u001b[33mread\u001b[39m\u001b[33m\"\u001b[39m, \u001b[38;5;28;01mNone\u001b[39;00m)\n\u001b[32m    176\u001b[39m \u001b[38;5;28;01mwhile\u001b[39;00m \u001b[38;5;28;01mTrue\u001b[39;00m:\n\u001b[32m--> \u001b[39m\u001b[32m177\u001b[39m     event = \u001b[38;5;28;43mself\u001b[39;49m\u001b[43m.\u001b[49m\u001b[43m_receive_event\u001b[49m\u001b[43m(\u001b[49m\u001b[43mtimeout\u001b[49m\u001b[43m=\u001b[49m\u001b[43mtimeout\u001b[49m\u001b[43m)\u001b[49m\n\u001b[32m    178\u001b[39m     \u001b[38;5;28;01mif\u001b[39;00m \u001b[38;5;28misinstance\u001b[39m(event, h11.Response):\n\u001b[32m    179\u001b[39m         \u001b[38;5;28;01mbreak\u001b[39;00m\n",
            "\u001b[36mFile \u001b[39m\u001b[32m~/Archives/01_Projets/02_AIM/AIE6/13_Advanced_Retrieval/.venv/lib/python3.13/site-packages/httpcore/_sync/http11.py:217\u001b[39m, in \u001b[36mHTTP11Connection._receive_event\u001b[39m\u001b[34m(self, timeout)\u001b[39m\n\u001b[32m    214\u001b[39m     event = \u001b[38;5;28mself\u001b[39m._h11_state.next_event()\n\u001b[32m    216\u001b[39m \u001b[38;5;28;01mif\u001b[39;00m event \u001b[38;5;129;01mis\u001b[39;00m h11.NEED_DATA:\n\u001b[32m--> \u001b[39m\u001b[32m217\u001b[39m     data = \u001b[38;5;28;43mself\u001b[39;49m\u001b[43m.\u001b[49m\u001b[43m_network_stream\u001b[49m\u001b[43m.\u001b[49m\u001b[43mread\u001b[49m\u001b[43m(\u001b[49m\n\u001b[32m    218\u001b[39m \u001b[43m        \u001b[49m\u001b[38;5;28;43mself\u001b[39;49m\u001b[43m.\u001b[49m\u001b[43mREAD_NUM_BYTES\u001b[49m\u001b[43m,\u001b[49m\u001b[43m \u001b[49m\u001b[43mtimeout\u001b[49m\u001b[43m=\u001b[49m\u001b[43mtimeout\u001b[49m\n\u001b[32m    219\u001b[39m \u001b[43m    \u001b[49m\u001b[43m)\u001b[49m\n\u001b[32m    221\u001b[39m     \u001b[38;5;66;03m# If we feed this case through h11 we'll raise an exception like:\u001b[39;00m\n\u001b[32m    222\u001b[39m     \u001b[38;5;66;03m#\u001b[39;00m\n\u001b[32m    223\u001b[39m     \u001b[38;5;66;03m#     httpcore.RemoteProtocolError: can't handle event type\u001b[39;00m\n\u001b[32m   (...)\u001b[39m\u001b[32m    227\u001b[39m     \u001b[38;5;66;03m# perspective. Instead we handle this case distinctly and treat\u001b[39;00m\n\u001b[32m    228\u001b[39m     \u001b[38;5;66;03m# it as a ConnectError.\u001b[39;00m\n\u001b[32m    229\u001b[39m     \u001b[38;5;28;01mif\u001b[39;00m data == \u001b[33mb\u001b[39m\u001b[33m\"\u001b[39m\u001b[33m\"\u001b[39m \u001b[38;5;129;01mand\u001b[39;00m \u001b[38;5;28mself\u001b[39m._h11_state.their_state == h11.SEND_RESPONSE:\n",
            "\u001b[36mFile \u001b[39m\u001b[32m~/Archives/01_Projets/02_AIM/AIE6/13_Advanced_Retrieval/.venv/lib/python3.13/site-packages/httpcore/_backends/sync.py:128\u001b[39m, in \u001b[36mSyncStream.read\u001b[39m\u001b[34m(self, max_bytes, timeout)\u001b[39m\n\u001b[32m    126\u001b[39m \u001b[38;5;28;01mwith\u001b[39;00m map_exceptions(exc_map):\n\u001b[32m    127\u001b[39m     \u001b[38;5;28mself\u001b[39m._sock.settimeout(timeout)\n\u001b[32m--> \u001b[39m\u001b[32m128\u001b[39m     \u001b[38;5;28;01mreturn\u001b[39;00m \u001b[38;5;28;43mself\u001b[39;49m\u001b[43m.\u001b[49m\u001b[43m_sock\u001b[49m\u001b[43m.\u001b[49m\u001b[43mrecv\u001b[49m\u001b[43m(\u001b[49m\u001b[43mmax_bytes\u001b[49m\u001b[43m)\u001b[49m\n",
            "\u001b[36mFile \u001b[39m\u001b[32m~/.local/share/uv/python/cpython-3.13.2-macos-aarch64-none/lib/python3.13/ssl.py:1285\u001b[39m, in \u001b[36mSSLSocket.recv\u001b[39m\u001b[34m(self, buflen, flags)\u001b[39m\n\u001b[32m   1281\u001b[39m     \u001b[38;5;28;01mif\u001b[39;00m flags != \u001b[32m0\u001b[39m:\n\u001b[32m   1282\u001b[39m         \u001b[38;5;28;01mraise\u001b[39;00m \u001b[38;5;167;01mValueError\u001b[39;00m(\n\u001b[32m   1283\u001b[39m             \u001b[33m\"\u001b[39m\u001b[33mnon-zero flags not allowed in calls to recv() on \u001b[39m\u001b[38;5;132;01m%s\u001b[39;00m\u001b[33m\"\u001b[39m %\n\u001b[32m   1284\u001b[39m             \u001b[38;5;28mself\u001b[39m.\u001b[34m__class__\u001b[39m)\n\u001b[32m-> \u001b[39m\u001b[32m1285\u001b[39m     \u001b[38;5;28;01mreturn\u001b[39;00m \u001b[38;5;28;43mself\u001b[39;49m\u001b[43m.\u001b[49m\u001b[43mread\u001b[49m\u001b[43m(\u001b[49m\u001b[43mbuflen\u001b[49m\u001b[43m)\u001b[49m\n\u001b[32m   1286\u001b[39m \u001b[38;5;28;01melse\u001b[39;00m:\n\u001b[32m   1287\u001b[39m     \u001b[38;5;28;01mreturn\u001b[39;00m \u001b[38;5;28msuper\u001b[39m().recv(buflen, flags)\n",
            "\u001b[36mFile \u001b[39m\u001b[32m~/.local/share/uv/python/cpython-3.13.2-macos-aarch64-none/lib/python3.13/ssl.py:1140\u001b[39m, in \u001b[36mSSLSocket.read\u001b[39m\u001b[34m(self, len, buffer)\u001b[39m\n\u001b[32m   1138\u001b[39m         \u001b[38;5;28;01mreturn\u001b[39;00m \u001b[38;5;28mself\u001b[39m._sslobj.read(\u001b[38;5;28mlen\u001b[39m, buffer)\n\u001b[32m   1139\u001b[39m     \u001b[38;5;28;01melse\u001b[39;00m:\n\u001b[32m-> \u001b[39m\u001b[32m1140\u001b[39m         \u001b[38;5;28;01mreturn\u001b[39;00m \u001b[38;5;28;43mself\u001b[39;49m\u001b[43m.\u001b[49m\u001b[43m_sslobj\u001b[49m\u001b[43m.\u001b[49m\u001b[43mread\u001b[49m\u001b[43m(\u001b[49m\u001b[38;5;28;43mlen\u001b[39;49m\u001b[43m)\u001b[49m\n\u001b[32m   1141\u001b[39m \u001b[38;5;28;01mexcept\u001b[39;00m SSLError \u001b[38;5;28;01mas\u001b[39;00m x:\n\u001b[32m   1142\u001b[39m     \u001b[38;5;28;01mif\u001b[39;00m x.args[\u001b[32m0\u001b[39m] == SSL_ERROR_EOF \u001b[38;5;129;01mand\u001b[39;00m \u001b[38;5;28mself\u001b[39m.suppress_ragged_eofs:\n",
            "\u001b[31mKeyboardInterrupt\u001b[39m: "
          ]
        }
      ],
      "source": [
        " #Exécuter l'évaluation complète en une seule fois\n",
        "results_df = evaluate_retrievers_complete(\n",
        "    retrievers, \n",
        "    testset_dataset,\n",
        "    llm_model=\"gpt-4.1-nano\"\n",
        ")\n",
        "\n",
        "# Afficher les résultats finaux\n",
        "print(\"\\n=== Final Results ===\")\n",
        "print(results_df[[\"Retriever\", \"Avg Time (s)\", \"Avg Cost ($)\", \"Quality Score\", \"Efficiency Score\"]])"
      ]
    },
    {
      "cell_type": "code",
      "execution_count": null,
      "metadata": {},
      "outputs": [],
      "source": []
    }
  ],
  "metadata": {
    "colab": {
      "provenance": [],
      "toc_visible": true
    },
    "kernelspec": {
      "display_name": ".venv",
      "language": "python",
      "name": "python3"
    },
    "language_info": {
      "codemirror_mode": {
        "name": "ipython",
        "version": 3
      },
      "file_extension": ".py",
      "mimetype": "text/x-python",
      "name": "python",
      "nbconvert_exporter": "python",
      "pygments_lexer": "ipython3",
      "version": "3.13.2"
    }
  },
  "nbformat": 4,
  "nbformat_minor": 0
}
